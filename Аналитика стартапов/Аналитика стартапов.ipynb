{
 "cells": [
  {
   "cell_type": "markdown",
   "id": "ca9ef849",
   "metadata": {
    "id": "4mJbK1knrJgz"
   },
   "source": [
    "# Проект: Исследование стартапов"
   ]
  },
  {
   "cell_type": "markdown",
   "id": "b020cb4e",
   "metadata": {
    "id": "P6j0r3worJg0"
   },
   "source": [
    "## Введение"
   ]
  },
  {
   "cell_type": "markdown",
   "id": "5dc79191",
   "metadata": {
    "id": "8lQtbsIUyFG6"
   },
   "source": [
    "### Цель проекта\n",
    "Разработка аналитической основы для формирования стратегии инвестиций в стартапы через анализ исторических данных с целью идентификации перспективных компаний для покупки, развития и последующей перепродажи.\n",
    "\n",
    "### Задачи проекта\n",
    "1. Подготовка и валидация данных\n",
    " - Провести комплексную предобработку и очистку датасетов\n",
    "\n",
    " - Обеспечить соответствие данных здравому смыслу и бизнес-логике\n",
    "\n",
    " - Выявить и документировать возможные искажения и ограничения данных\n",
    "\n",
    "2. Интеграция данных из различных источников\n",
    " - Определить ключевые столбцы для объединения таблиц\n",
    "\n",
    " - Создать единую согласованную базу данных для анализа\n",
    "\n",
    " - Проверить надежность связей между таблицами\n",
    "\n",
    "3. Анализ достоверности данных\n",
    " - Оценить надежность данных о сотрудниках стартапов и их образовании\n",
    "\n",
    " - Проанализировать аномальные сделки (покупки за 0 или 1 доллар)\n",
    "\n",
    " - Выявить потенциальные ошибки и пропуски в данных\n",
    "\n",
    "4. Исследование ценовых закономерностей\n",
    " - Проанализировать зависимость цены покупки от категории стартапа\n",
    "\n",
    " - Исследовать влияние количества раундов финансирования на стоимость компании\n",
    "\n",
    " - Выявить отраслевые и категориальные ценовые тренды\n",
    "\n",
    "5. Разработка метрик и показателей\n",
    " - Создать систему численных показателей для оценки стартапов\n",
    "\n",
    " - Разработать методы расчета и визуализации динамики развития компаний\n",
    "\n",
    " - Определить KPI для оценки успешности инвестиционных сделок\n",
    "\n",
    "6. Выявление признаков успешных сделок\n",
    " - Идентифицировать факторы, повышающие вероятность успешной покупки\n",
    "\n",
    " - Разработать критерии отбора перспективных стартапов\n",
    "\n",
    " - Сформулировать рекомендации для инвестиционной стратегии\n",
    "\n",
    "7. Формирование выводов и рекомендаций\n",
    " - Подготовить интерпретацию результатов для бизнес-решений\n",
    "\n",
    " - Разработать практические рекомендации для заказчика\n",
    "\n",
    " - Оценить риски и ограничения полученных выводов\n",
    "\n"
   ]
  },
  {
   "cell_type": "markdown",
   "id": "b362363a",
   "metadata": {
    "id": "xqr6uttCrJg0"
   },
   "source": [
    "\n",
    "## Шаг 1. Знакомство с данными: загрузка и первичная предобработка\n",
    "\n",
    "Названия файлов:\n",
    "* acquisition.csv\n",
    "* company_and_rounds.csv\n",
    "* degrees.csv\n",
    "* education.csv\n",
    "* fund.csv\n",
    "* investment.csv\n",
    "* people.csv\n",
    "\n",
    "### 1.1. Вывод общей информации, исправление названия столбцов\n",
    "\n"
   ]
  },
  {
   "cell_type": "code",
   "execution_count": 2,
   "id": "38fb1d6b",
   "metadata": {},
   "outputs": [
    {
     "name": "stdout",
     "output_type": "stream",
     "text": [
      "Collecting missingno\n",
      "  Downloading missingno-0.5.2-py3-none-any.whl (8.7 kB)\n",
      "Requirement already satisfied: numpy in /opt/conda/lib/python3.9/site-packages (from missingno) (1.21.1)\n",
      "Requirement already satisfied: scipy in /opt/conda/lib/python3.9/site-packages (from missingno) (1.9.1)\n",
      "Requirement already satisfied: matplotlib in /opt/conda/lib/python3.9/site-packages (from missingno) (3.3.4)\n",
      "Requirement already satisfied: seaborn in /opt/conda/lib/python3.9/site-packages (from missingno) (0.11.1)\n",
      "Requirement already satisfied: cycler>=0.10 in /opt/conda/lib/python3.9/site-packages (from matplotlib->missingno) (0.11.0)\n",
      "Requirement already satisfied: pyparsing!=2.0.4,!=2.1.2,!=2.1.6,>=2.0.3 in /opt/conda/lib/python3.9/site-packages (from matplotlib->missingno) (2.4.7)\n",
      "Requirement already satisfied: python-dateutil>=2.1 in /opt/conda/lib/python3.9/site-packages (from matplotlib->missingno) (2.8.1)\n",
      "Requirement already satisfied: pillow>=6.2.0 in /opt/conda/lib/python3.9/site-packages (from matplotlib->missingno) (8.4.0)\n",
      "Requirement already satisfied: kiwisolver>=1.0.1 in /opt/conda/lib/python3.9/site-packages (from matplotlib->missingno) (1.4.4)\n",
      "Requirement already satisfied: six>=1.5 in /opt/conda/lib/python3.9/site-packages (from python-dateutil>=2.1->matplotlib->missingno) (1.16.0)\n",
      "Requirement already satisfied: pandas>=0.23 in /opt/conda/lib/python3.9/site-packages (from seaborn->missingno) (1.2.4)\n",
      "Requirement already satisfied: pytz>=2017.3 in /opt/conda/lib/python3.9/site-packages (from pandas>=0.23->seaborn->missingno) (2021.1)\n",
      "Installing collected packages: missingno\n",
      "Successfully installed missingno-0.5.2\n"
     ]
    }
   ],
   "source": [
    "!pip install missingno"
   ]
  },
  {
   "cell_type": "code",
   "execution_count": 3,
   "id": "d01cafbe",
   "metadata": {},
   "outputs": [],
   "source": [
    "import pandas as pd\n",
    "import matplotlib.pyplot as plt\n",
    "import seaborn as sns\n",
    "import re\n",
    "import missingno as msno\n",
    "import numpy as np\n",
    "acquisition=pd.read_csv('https://code.s3.yandex.net/datasets/acquisition.csv')\n",
    "company_and_rounds=pd.read_csv('https://code.s3.yandex.net/datasets/company_and_rounds.csv')\n",
    "degrees=pd.read_csv('https://code.s3.yandex.net/datasets/degrees.csv')\n",
    "education=pd.read_csv('https://code.s3.yandex.net/datasets/education.csv')\n",
    "fund=pd.read_csv('https://code.s3.yandex.net/datasets/fund.csv')\n",
    "investment=pd.read_csv('https://code.s3.yandex.net/datasets/investment.csv')\n",
    "people=pd.read_csv('https://code.s3.yandex.net/datasets/people.csv')"
   ]
  },
  {
   "cell_type": "code",
   "execution_count": 4,
   "id": "45098268",
   "metadata": {},
   "outputs": [
    {
     "name": "stdout",
     "output_type": "stream",
     "text": [
      "<class 'pandas.core.frame.DataFrame'>\n",
      "RangeIndex: 9407 entries, 0 to 9406\n",
      "Data columns (total 6 columns):\n",
      " #   Column                Non-Null Count  Dtype \n",
      "---  ------                --------------  ----- \n",
      " 0   id                    9407 non-null   int64 \n",
      " 1   acquiring_company_id  9407 non-null   int64 \n",
      " 2   acquired_company_id   9407 non-null   int64 \n",
      " 3   term_code             1831 non-null   object\n",
      " 4   price_amount          9407 non-null   int64 \n",
      " 5   acquired_at           9378 non-null   object\n",
      "dtypes: int64(4), object(2)\n",
      "memory usage: 441.1+ KB\n"
     ]
    }
   ],
   "source": [
    "acquisition.info()"
   ]
  },
  {
   "cell_type": "code",
   "execution_count": 5,
   "id": "f49c2438",
   "metadata": {},
   "outputs": [
    {
     "name": "stdout",
     "output_type": "stream",
     "text": [
      "<class 'pandas.core.frame.DataFrame'>\n",
      "RangeIndex: 217774 entries, 0 to 217773\n",
      "Data columns (total 22 columns):\n",
      " #   Column                 Non-Null Count   Dtype  \n",
      "---  ------                 --------------   -----  \n",
      " 0   company  ID            217472 non-null  float64\n",
      " 1   name                   217472 non-null  object \n",
      " 2   category  code         143886 non-null  object \n",
      " 3   status                 217472 non-null  object \n",
      " 4   founded  at            109956 non-null  object \n",
      " 5   closed  at             3449 non-null    object \n",
      " 6   domain                 147159 non-null  object \n",
      " 7   network  username      95534 non-null   object \n",
      " 8   country  code          108607 non-null  object \n",
      " 9   investment  rounds     217472 non-null  float64\n",
      " 10  funding  rounds        217472 non-null  float64\n",
      " 11  funding  total         217472 non-null  float64\n",
      " 12  milestones             217472 non-null  float64\n",
      " 13  funding  round  id     52928 non-null   float64\n",
      " 14  company  id            52928 non-null   float64\n",
      " 15  funded  at             52680 non-null   object \n",
      " 16  funding  round  type   52928 non-null   object \n",
      " 17  raised  amount         52928 non-null   float64\n",
      " 18  pre  money  valuation  52928 non-null   float64\n",
      " 19  participants           52928 non-null   float64\n",
      " 20  is  first  round       52928 non-null   float64\n",
      " 21  is  last  round        52928 non-null   float64\n",
      "dtypes: float64(12), object(10)\n",
      "memory usage: 36.6+ MB\n"
     ]
    }
   ],
   "source": [
    "company_and_rounds.info()"
   ]
  },
  {
   "cell_type": "code",
   "execution_count": 6,
   "id": "e1efb366",
   "metadata": {},
   "outputs": [
    {
     "data": {
      "text/plain": [
       "Index(['company  ID', 'name', 'category  code', 'status', 'founded  at',\n",
       "       'closed  at', 'domain', 'network  username', 'country  code',\n",
       "       'investment  rounds', 'funding  rounds', 'funding  total', 'milestones',\n",
       "       'funding  round  id', 'company  id', 'funded  at',\n",
       "       'funding  round  type', 'raised  amount', 'pre  money  valuation',\n",
       "       'participants', 'is  first  round', 'is  last  round'],\n",
       "      dtype='object')"
      ]
     },
     "execution_count": 6,
     "metadata": {},
     "output_type": "execute_result"
    }
   ],
   "source": [
    "company_and_rounds.columns"
   ]
  },
  {
   "cell_type": "code",
   "execution_count": 7,
   "id": "d47e8e5c",
   "metadata": {},
   "outputs": [
    {
     "data": {
      "text/html": [
       "<div>\n",
       "<style scoped>\n",
       "    .dataframe tbody tr th:only-of-type {\n",
       "        vertical-align: middle;\n",
       "    }\n",
       "\n",
       "    .dataframe tbody tr th {\n",
       "        vertical-align: top;\n",
       "    }\n",
       "\n",
       "    .dataframe thead th {\n",
       "        text-align: right;\n",
       "    }\n",
       "</style>\n",
       "<table border=\"1\" class=\"dataframe\">\n",
       "  <thead>\n",
       "    <tr style=\"text-align: right;\">\n",
       "      <th></th>\n",
       "      <th>company  ID</th>\n",
       "      <th>company  id</th>\n",
       "    </tr>\n",
       "  </thead>\n",
       "  <tbody>\n",
       "    <tr>\n",
       "      <th>0</th>\n",
       "      <td>1.0</td>\n",
       "      <td>1.0</td>\n",
       "    </tr>\n",
       "    <tr>\n",
       "      <th>1</th>\n",
       "      <td>1.0</td>\n",
       "      <td>1.0</td>\n",
       "    </tr>\n",
       "    <tr>\n",
       "      <th>2</th>\n",
       "      <td>1.0</td>\n",
       "      <td>1.0</td>\n",
       "    </tr>\n",
       "    <tr>\n",
       "      <th>3</th>\n",
       "      <td>10.0</td>\n",
       "      <td>NaN</td>\n",
       "    </tr>\n",
       "    <tr>\n",
       "      <th>4</th>\n",
       "      <td>100.0</td>\n",
       "      <td>NaN</td>\n",
       "    </tr>\n",
       "    <tr>\n",
       "      <th>...</th>\n",
       "      <td>...</td>\n",
       "      <td>...</td>\n",
       "    </tr>\n",
       "    <tr>\n",
       "      <th>217769</th>\n",
       "      <td>NaN</td>\n",
       "      <td>282847.0</td>\n",
       "    </tr>\n",
       "    <tr>\n",
       "      <th>217770</th>\n",
       "      <td>NaN</td>\n",
       "      <td>55477.0</td>\n",
       "    </tr>\n",
       "    <tr>\n",
       "      <th>217771</th>\n",
       "      <td>NaN</td>\n",
       "      <td>55477.0</td>\n",
       "    </tr>\n",
       "    <tr>\n",
       "      <th>217772</th>\n",
       "      <td>NaN</td>\n",
       "      <td>283492.0</td>\n",
       "    </tr>\n",
       "    <tr>\n",
       "      <th>217773</th>\n",
       "      <td>NaN</td>\n",
       "      <td>284191.0</td>\n",
       "    </tr>\n",
       "  </tbody>\n",
       "</table>\n",
       "<p>217774 rows × 2 columns</p>\n",
       "</div>"
      ],
      "text/plain": [
       "        company  ID  company  id\n",
       "0               1.0          1.0\n",
       "1               1.0          1.0\n",
       "2               1.0          1.0\n",
       "3              10.0          NaN\n",
       "4             100.0          NaN\n",
       "...             ...          ...\n",
       "217769          NaN     282847.0\n",
       "217770          NaN      55477.0\n",
       "217771          NaN      55477.0\n",
       "217772          NaN     283492.0\n",
       "217773          NaN     284191.0\n",
       "\n",
       "[217774 rows x 2 columns]"
      ]
     },
     "execution_count": 7,
     "metadata": {},
     "output_type": "execute_result"
    }
   ],
   "source": [
    "company_and_rounds[['company  ID', 'company  id']]"
   ]
  },
  {
   "cell_type": "markdown",
   "id": "546a863b",
   "metadata": {},
   "source": [
    "Замечаем, что столбцы company ID и company id не совпадают, поэтому переименуем второй столбец в acquired_company_id, так как он скорее всего хранит идентификаторы покумаемой компании"
   ]
  },
  {
   "cell_type": "code",
   "execution_count": 8,
   "id": "5b35fd12",
   "metadata": {},
   "outputs": [
    {
     "ename": "NameError",
     "evalue": "name 'to_snake_case' is not defined",
     "output_type": "error",
     "traceback": [
      "\u001b[0;31m---------------------------------------------------------------------------\u001b[0m",
      "\u001b[0;31mNameError\u001b[0m                                 Traceback (most recent call last)",
      "\u001b[0;32m/tmp/ipykernel_63/1113438759.py\u001b[0m in \u001b[0;36m<module>\u001b[0;34m\u001b[0m\n\u001b[1;32m      1\u001b[0m \u001b[0;31m# Преобразуем имена столбцов\u001b[0m\u001b[0;34m\u001b[0m\u001b[0;34m\u001b[0m\u001b[0;34m\u001b[0m\u001b[0m\n\u001b[0;32m----> 2\u001b[0;31m \u001b[0mcompany_and_rounds\u001b[0m\u001b[0;34m.\u001b[0m\u001b[0mcolumns\u001b[0m \u001b[0;34m=\u001b[0m \u001b[0;34m[\u001b[0m\u001b[0mto_snake_case\u001b[0m\u001b[0;34m(\u001b[0m\u001b[0mcol\u001b[0m\u001b[0;34m)\u001b[0m \u001b[0;32mfor\u001b[0m \u001b[0mcol\u001b[0m \u001b[0;32min\u001b[0m \u001b[0mcompany_and_rounds\u001b[0m\u001b[0;34m.\u001b[0m\u001b[0mcolumns\u001b[0m\u001b[0;34m]\u001b[0m\u001b[0;34m\u001b[0m\u001b[0;34m\u001b[0m\u001b[0m\n\u001b[0m\u001b[1;32m      3\u001b[0m \u001b[0;31m# Вручную меняем company id на acquired_company_id, так как он скорее всего относится к покупаемой компании.\u001b[0m\u001b[0;34m\u001b[0m\u001b[0;34m\u001b[0m\u001b[0;34m\u001b[0m\u001b[0m\n\u001b[1;32m      4\u001b[0m company_and_rounds.columns = ['company_id', 'name', 'category_code', 'status', 'founded_at',\n\u001b[1;32m      5\u001b[0m                              \u001b[0;34m'closed_at'\u001b[0m\u001b[0;34m,\u001b[0m \u001b[0;34m'domain'\u001b[0m\u001b[0;34m,\u001b[0m \u001b[0;34m'network_username'\u001b[0m\u001b[0;34m,\u001b[0m \u001b[0;34m'country_code'\u001b[0m\u001b[0;34m,\u001b[0m\u001b[0;34m\u001b[0m\u001b[0;34m\u001b[0m\u001b[0m\n",
      "\u001b[0;32m/tmp/ipykernel_63/1113438759.py\u001b[0m in \u001b[0;36m<listcomp>\u001b[0;34m(.0)\u001b[0m\n\u001b[1;32m      1\u001b[0m \u001b[0;31m# Преобразуем имена столбцов\u001b[0m\u001b[0;34m\u001b[0m\u001b[0;34m\u001b[0m\u001b[0;34m\u001b[0m\u001b[0m\n\u001b[0;32m----> 2\u001b[0;31m \u001b[0mcompany_and_rounds\u001b[0m\u001b[0;34m.\u001b[0m\u001b[0mcolumns\u001b[0m \u001b[0;34m=\u001b[0m \u001b[0;34m[\u001b[0m\u001b[0mto_snake_case\u001b[0m\u001b[0;34m(\u001b[0m\u001b[0mcol\u001b[0m\u001b[0;34m)\u001b[0m \u001b[0;32mfor\u001b[0m \u001b[0mcol\u001b[0m \u001b[0;32min\u001b[0m \u001b[0mcompany_and_rounds\u001b[0m\u001b[0;34m.\u001b[0m\u001b[0mcolumns\u001b[0m\u001b[0;34m]\u001b[0m\u001b[0;34m\u001b[0m\u001b[0;34m\u001b[0m\u001b[0m\n\u001b[0m\u001b[1;32m      3\u001b[0m \u001b[0;31m# Вручную меняем company id на acquired_company_id, так как он скорее всего относится к покупаемой компании.\u001b[0m\u001b[0;34m\u001b[0m\u001b[0;34m\u001b[0m\u001b[0;34m\u001b[0m\u001b[0m\n\u001b[1;32m      4\u001b[0m company_and_rounds.columns = ['company_id', 'name', 'category_code', 'status', 'founded_at',\n\u001b[1;32m      5\u001b[0m                              \u001b[0;34m'closed_at'\u001b[0m\u001b[0;34m,\u001b[0m \u001b[0;34m'domain'\u001b[0m\u001b[0;34m,\u001b[0m \u001b[0;34m'network_username'\u001b[0m\u001b[0;34m,\u001b[0m \u001b[0;34m'country_code'\u001b[0m\u001b[0;34m,\u001b[0m\u001b[0;34m\u001b[0m\u001b[0;34m\u001b[0m\u001b[0m\n",
      "\u001b[0;31mNameError\u001b[0m: name 'to_snake_case' is not defined"
     ]
    }
   ],
   "source": [
    "# Преобразуем имена столбцов\n",
    "company_and_rounds.columns = [to_snake_case(col) for col in company_and_rounds.columns]\n",
    "# Вручную меняем company id на acquired_company_id, так как он скорее всего относится к покупаемой компании.\n",
    "company_and_rounds.columns = ['company_id', 'name', 'category_code', 'status', 'founded_at',\n",
    "                             'closed_at', 'domain', 'network_username', 'country_code',\n",
    "                             'investment_rounds', 'funding_rounds', 'funding_total', 'milestones',\n",
    "                             'funding_round_id', 'acquired_company_id', 'funded_at',\n",
    "                             'funding_round_type', 'raised_amount', 'pre_money_valuation',\n",
    "                             'participants', 'is_first_round', 'is_last_round']"
   ]
  },
  {
   "cell_type": "code",
   "execution_count": null,
   "id": "c4e61552",
   "metadata": {},
   "outputs": [],
   "source": [
    "company_and_rounds.info()"
   ]
  },
  {
   "cell_type": "code",
   "execution_count": null,
   "id": "4419f7c3",
   "metadata": {},
   "outputs": [],
   "source": [
    "degrees.info()"
   ]
  },
  {
   "cell_type": "code",
   "execution_count": 11,
   "id": "71fa56ae",
   "metadata": {},
   "outputs": [
    {
     "name": "stdout",
     "output_type": "stream",
     "text": [
      "<class 'pandas.core.frame.DataFrame'>\n",
      "RangeIndex: 109610 entries, 0 to 109609\n",
      "Data columns (total 4 columns):\n",
      " #   Column        Non-Null Count   Dtype \n",
      "---  ------        --------------   ----- \n",
      " 0   id            109610 non-null  int64 \n",
      " 1   person_id     109610 non-null  int64 \n",
      " 2   instituition  109555 non-null  object\n",
      " 3   graduated_at  58054 non-null   object\n",
      "dtypes: int64(2), object(2)\n",
      "memory usage: 3.3+ MB\n"
     ]
    }
   ],
   "source": [
    "education.info()"
   ]
  },
  {
   "cell_type": "code",
   "execution_count": 12,
   "id": "89a6677b",
   "metadata": {},
   "outputs": [
    {
     "name": "stdout",
     "output_type": "stream",
     "text": [
      "<class 'pandas.core.frame.DataFrame'>\n",
      "RangeIndex: 11652 entries, 0 to 11651\n",
      "Data columns (total 9 columns):\n",
      " #   Column              Non-Null Count  Dtype \n",
      "---  ------              --------------  ----- \n",
      " 0   id                  11652 non-null  int64 \n",
      " 1   name                11650 non-null  object\n",
      " 2   founded_at          4605 non-null   object\n",
      " 3   domain              7362 non-null   object\n",
      " 4   network_username    2149 non-null   object\n",
      " 5   country_code        7053 non-null   object\n",
      " 6   investment_rounds   11652 non-null  int64 \n",
      " 7   invested_companies  11652 non-null  int64 \n",
      " 8   milestones          11652 non-null  int64 \n",
      "dtypes: int64(4), object(5)\n",
      "memory usage: 819.4+ KB\n"
     ]
    }
   ],
   "source": [
    "fund.info()"
   ]
  },
  {
   "cell_type": "code",
   "execution_count": 13,
   "id": "9f64b769",
   "metadata": {},
   "outputs": [
    {
     "data": {
      "text/html": [
       "<div>\n",
       "<style scoped>\n",
       "    .dataframe tbody tr th:only-of-type {\n",
       "        vertical-align: middle;\n",
       "    }\n",
       "\n",
       "    .dataframe tbody tr th {\n",
       "        vertical-align: top;\n",
       "    }\n",
       "\n",
       "    .dataframe thead th {\n",
       "        text-align: right;\n",
       "    }\n",
       "</style>\n",
       "<table border=\"1\" class=\"dataframe\">\n",
       "  <thead>\n",
       "    <tr style=\"text-align: right;\">\n",
       "      <th></th>\n",
       "      <th>id</th>\n",
       "      <th>funding_round_id</th>\n",
       "      <th>company_id</th>\n",
       "      <th>fund_id</th>\n",
       "    </tr>\n",
       "  </thead>\n",
       "  <tbody>\n",
       "    <tr>\n",
       "      <th>0</th>\n",
       "      <td>1</td>\n",
       "      <td>1</td>\n",
       "      <td>4</td>\n",
       "      <td>1</td>\n",
       "    </tr>\n",
       "    <tr>\n",
       "      <th>1</th>\n",
       "      <td>2</td>\n",
       "      <td>1</td>\n",
       "      <td>4</td>\n",
       "      <td>2</td>\n",
       "    </tr>\n",
       "    <tr>\n",
       "      <th>2</th>\n",
       "      <td>3</td>\n",
       "      <td>3</td>\n",
       "      <td>5</td>\n",
       "      <td>4</td>\n",
       "    </tr>\n",
       "    <tr>\n",
       "      <th>3</th>\n",
       "      <td>4</td>\n",
       "      <td>4</td>\n",
       "      <td>5</td>\n",
       "      <td>1</td>\n",
       "    </tr>\n",
       "    <tr>\n",
       "      <th>4</th>\n",
       "      <td>5</td>\n",
       "      <td>4</td>\n",
       "      <td>5</td>\n",
       "      <td>5</td>\n",
       "    </tr>\n",
       "    <tr>\n",
       "      <th>...</th>\n",
       "      <td>...</td>\n",
       "      <td>...</td>\n",
       "      <td>...</td>\n",
       "      <td>...</td>\n",
       "    </tr>\n",
       "    <tr>\n",
       "      <th>61398</th>\n",
       "      <td>61399</td>\n",
       "      <td>57926</td>\n",
       "      <td>15847</td>\n",
       "      <td>173</td>\n",
       "    </tr>\n",
       "    <tr>\n",
       "      <th>61399</th>\n",
       "      <td>61400</td>\n",
       "      <td>57926</td>\n",
       "      <td>15847</td>\n",
       "      <td>1290</td>\n",
       "    </tr>\n",
       "    <tr>\n",
       "      <th>61400</th>\n",
       "      <td>61401</td>\n",
       "      <td>57926</td>\n",
       "      <td>15847</td>\n",
       "      <td>73</td>\n",
       "    </tr>\n",
       "    <tr>\n",
       "      <th>61401</th>\n",
       "      <td>61402</td>\n",
       "      <td>57942</td>\n",
       "      <td>70841</td>\n",
       "      <td>15098</td>\n",
       "    </tr>\n",
       "    <tr>\n",
       "      <th>61402</th>\n",
       "      <td>61403</td>\n",
       "      <td>57948</td>\n",
       "      <td>211890</td>\n",
       "      <td>2101</td>\n",
       "    </tr>\n",
       "  </tbody>\n",
       "</table>\n",
       "<p>61403 rows × 4 columns</p>\n",
       "</div>"
      ],
      "text/plain": [
       "          id  funding_round_id  company_id  fund_id\n",
       "0          1                 1           4        1\n",
       "1          2                 1           4        2\n",
       "2          3                 3           5        4\n",
       "3          4                 4           5        1\n",
       "4          5                 4           5        5\n",
       "...      ...               ...         ...      ...\n",
       "61398  61399             57926       15847      173\n",
       "61399  61400             57926       15847     1290\n",
       "61400  61401             57926       15847       73\n",
       "61401  61402             57942       70841    15098\n",
       "61402  61403             57948      211890     2101\n",
       "\n",
       "[61403 rows x 4 columns]"
      ]
     },
     "execution_count": 13,
     "metadata": {},
     "output_type": "execute_result"
    }
   ],
   "source": [
    "investment"
   ]
  },
  {
   "cell_type": "code",
   "execution_count": 14,
   "id": "2a8c86d7",
   "metadata": {},
   "outputs": [
    {
     "data": {
      "text/html": [
       "<div>\n",
       "<style scoped>\n",
       "    .dataframe tbody tr th:only-of-type {\n",
       "        vertical-align: middle;\n",
       "    }\n",
       "\n",
       "    .dataframe tbody tr th {\n",
       "        vertical-align: top;\n",
       "    }\n",
       "\n",
       "    .dataframe thead th {\n",
       "        text-align: right;\n",
       "    }\n",
       "</style>\n",
       "<table border=\"1\" class=\"dataframe\">\n",
       "  <thead>\n",
       "    <tr style=\"text-align: right;\">\n",
       "      <th></th>\n",
       "      <th>id</th>\n",
       "      <th>first_name</th>\n",
       "      <th>last_name</th>\n",
       "      <th>company_id</th>\n",
       "      <th>network_username</th>\n",
       "    </tr>\n",
       "  </thead>\n",
       "  <tbody>\n",
       "    <tr>\n",
       "      <th>0</th>\n",
       "      <td>10</td>\n",
       "      <td>Mark</td>\n",
       "      <td>Zuckerberg</td>\n",
       "      <td>5.0</td>\n",
       "      <td>NaN</td>\n",
       "    </tr>\n",
       "    <tr>\n",
       "      <th>1</th>\n",
       "      <td>100</td>\n",
       "      <td>Peter</td>\n",
       "      <td>Lester</td>\n",
       "      <td>27.0</td>\n",
       "      <td>NaN</td>\n",
       "    </tr>\n",
       "    <tr>\n",
       "      <th>2</th>\n",
       "      <td>1000</td>\n",
       "      <td>Dr. Steven</td>\n",
       "      <td>E. Saunders</td>\n",
       "      <td>292.0</td>\n",
       "      <td>NaN</td>\n",
       "    </tr>\n",
       "    <tr>\n",
       "      <th>3</th>\n",
       "      <td>10000</td>\n",
       "      <td>Neil</td>\n",
       "      <td>Capel</td>\n",
       "      <td>2526.0</td>\n",
       "      <td>NaN</td>\n",
       "    </tr>\n",
       "    <tr>\n",
       "      <th>4</th>\n",
       "      <td>100000</td>\n",
       "      <td>Sue</td>\n",
       "      <td>Pilsch</td>\n",
       "      <td>NaN</td>\n",
       "      <td>NaN</td>\n",
       "    </tr>\n",
       "    <tr>\n",
       "      <th>...</th>\n",
       "      <td>...</td>\n",
       "      <td>...</td>\n",
       "      <td>...</td>\n",
       "      <td>...</td>\n",
       "      <td>...</td>\n",
       "    </tr>\n",
       "    <tr>\n",
       "      <th>226704</th>\n",
       "      <td>99999</td>\n",
       "      <td>Ramon</td>\n",
       "      <td>Peypoch</td>\n",
       "      <td>NaN</td>\n",
       "      <td>NaN</td>\n",
       "    </tr>\n",
       "    <tr>\n",
       "      <th>226705</th>\n",
       "      <td>174088</td>\n",
       "      <td>Dr. Ray</td>\n",
       "      <td>Woods</td>\n",
       "      <td>188200.0</td>\n",
       "      <td>network</td>\n",
       "    </tr>\n",
       "    <tr>\n",
       "      <th>226706</th>\n",
       "      <td>118386</td>\n",
       "      <td>Ricardo</td>\n",
       "      <td>Durand</td>\n",
       "      <td>143419.0</td>\n",
       "      <td>itechsocialnet</td>\n",
       "    </tr>\n",
       "    <tr>\n",
       "      <th>226707</th>\n",
       "      <td>175827</td>\n",
       "      <td>mahesh</td>\n",
       "      <td>kumar</td>\n",
       "      <td>NaN</td>\n",
       "      <td>socialnethubs</td>\n",
       "    </tr>\n",
       "    <tr>\n",
       "      <th>226708</th>\n",
       "      <td>178190</td>\n",
       "      <td>Alex</td>\n",
       "      <td>Smith</td>\n",
       "      <td>NaN</td>\n",
       "      <td>esocialnetlike</td>\n",
       "    </tr>\n",
       "  </tbody>\n",
       "</table>\n",
       "<p>226709 rows × 5 columns</p>\n",
       "</div>"
      ],
      "text/plain": [
       "            id  first_name    last_name  company_id network_username\n",
       "0           10        Mark   Zuckerberg         5.0              NaN\n",
       "1          100       Peter       Lester        27.0              NaN\n",
       "2         1000  Dr. Steven  E. Saunders       292.0              NaN\n",
       "3        10000        Neil        Capel      2526.0              NaN\n",
       "4       100000         Sue       Pilsch         NaN              NaN\n",
       "...        ...         ...          ...         ...              ...\n",
       "226704   99999       Ramon      Peypoch         NaN              NaN\n",
       "226705  174088     Dr. Ray        Woods    188200.0          network\n",
       "226706  118386     Ricardo       Durand    143419.0   itechsocialnet\n",
       "226707  175827      mahesh        kumar         NaN    socialnethubs\n",
       "226708  178190        Alex        Smith         NaN   esocialnetlike\n",
       "\n",
       "[226709 rows x 5 columns]"
      ]
     },
     "execution_count": 14,
     "metadata": {},
     "output_type": "execute_result"
    }
   ],
   "source": [
    "people"
   ]
  },
  {
   "cell_type": "markdown",
   "id": "01fb6319",
   "metadata": {},
   "source": [
    "Теперь исследуем датафреймы на наличие полных дубликатов"
   ]
  },
  {
   "cell_type": "code",
   "execution_count": 15,
   "id": "d3c74480",
   "metadata": {},
   "outputs": [],
   "source": [
    "def duplicate(df):\n",
    "    return df[df.duplicated(keep=False)]\n"
   ]
  },
  {
   "cell_type": "code",
   "execution_count": 16,
   "id": "c9d95241",
   "metadata": {},
   "outputs": [
    {
     "data": {
      "text/html": [
       "<div>\n",
       "<style scoped>\n",
       "    .dataframe tbody tr th:only-of-type {\n",
       "        vertical-align: middle;\n",
       "    }\n",
       "\n",
       "    .dataframe tbody tr th {\n",
       "        vertical-align: top;\n",
       "    }\n",
       "\n",
       "    .dataframe thead th {\n",
       "        text-align: right;\n",
       "    }\n",
       "</style>\n",
       "<table border=\"1\" class=\"dataframe\">\n",
       "  <thead>\n",
       "    <tr style=\"text-align: right;\">\n",
       "      <th></th>\n",
       "      <th>id</th>\n",
       "      <th>acquiring_company_id</th>\n",
       "      <th>acquired_company_id</th>\n",
       "      <th>term_code</th>\n",
       "      <th>price_amount</th>\n",
       "      <th>acquired_at</th>\n",
       "    </tr>\n",
       "  </thead>\n",
       "  <tbody>\n",
       "  </tbody>\n",
       "</table>\n",
       "</div>"
      ],
      "text/plain": [
       "Empty DataFrame\n",
       "Columns: [id, acquiring_company_id, acquired_company_id, term_code, price_amount, acquired_at]\n",
       "Index: []"
      ]
     },
     "execution_count": 16,
     "metadata": {},
     "output_type": "execute_result"
    }
   ],
   "source": [
    "acquisition_people = duplicate(acquisition)\n",
    "acquisition_people"
   ]
  },
  {
   "cell_type": "code",
   "execution_count": 17,
   "id": "ae44067b",
   "metadata": {},
   "outputs": [
    {
     "data": {
      "text/html": [
       "<div>\n",
       "<style scoped>\n",
       "    .dataframe tbody tr th:only-of-type {\n",
       "        vertical-align: middle;\n",
       "    }\n",
       "\n",
       "    .dataframe tbody tr th {\n",
       "        vertical-align: top;\n",
       "    }\n",
       "\n",
       "    .dataframe thead th {\n",
       "        text-align: right;\n",
       "    }\n",
       "</style>\n",
       "<table border=\"1\" class=\"dataframe\">\n",
       "  <thead>\n",
       "    <tr style=\"text-align: right;\">\n",
       "      <th></th>\n",
       "      <th>company_id</th>\n",
       "      <th>name</th>\n",
       "      <th>category_code</th>\n",
       "      <th>status</th>\n",
       "      <th>founded_at</th>\n",
       "      <th>closed_at</th>\n",
       "      <th>domain</th>\n",
       "      <th>network_username</th>\n",
       "      <th>country_code</th>\n",
       "      <th>investment_rounds</th>\n",
       "      <th>...</th>\n",
       "      <th>milestones</th>\n",
       "      <th>funding_round_id</th>\n",
       "      <th>acquired_company_id</th>\n",
       "      <th>funded_at</th>\n",
       "      <th>funding_round_type</th>\n",
       "      <th>raised_amount</th>\n",
       "      <th>pre_money_valuation</th>\n",
       "      <th>participants</th>\n",
       "      <th>is_first_round</th>\n",
       "      <th>is_last_round</th>\n",
       "    </tr>\n",
       "  </thead>\n",
       "  <tbody>\n",
       "  </tbody>\n",
       "</table>\n",
       "<p>0 rows × 22 columns</p>\n",
       "</div>"
      ],
      "text/plain": [
       "Empty DataFrame\n",
       "Columns: [company_id, name, category_code, status, founded_at, closed_at, domain, network_username, country_code, investment_rounds, funding_rounds, funding_total, milestones, funding_round_id, acquired_company_id, funded_at, funding_round_type, raised_amount, pre_money_valuation, participants, is_first_round, is_last_round]\n",
       "Index: []\n",
       "\n",
       "[0 rows x 22 columns]"
      ]
     },
     "execution_count": 17,
     "metadata": {},
     "output_type": "execute_result"
    }
   ],
   "source": [
    "duplicate(company_and_rounds)"
   ]
  },
  {
   "cell_type": "code",
   "execution_count": 18,
   "id": "adfa2564",
   "metadata": {},
   "outputs": [
    {
     "data": {
      "text/html": [
       "<div>\n",
       "<style scoped>\n",
       "    .dataframe tbody tr th:only-of-type {\n",
       "        vertical-align: middle;\n",
       "    }\n",
       "\n",
       "    .dataframe tbody tr th {\n",
       "        vertical-align: top;\n",
       "    }\n",
       "\n",
       "    .dataframe thead th {\n",
       "        text-align: right;\n",
       "    }\n",
       "</style>\n",
       "<table border=\"1\" class=\"dataframe\">\n",
       "  <thead>\n",
       "    <tr style=\"text-align: right;\">\n",
       "      <th></th>\n",
       "      <th>id</th>\n",
       "      <th>object_id</th>\n",
       "      <th>degree_type</th>\n",
       "      <th>subject</th>\n",
       "    </tr>\n",
       "  </thead>\n",
       "  <tbody>\n",
       "  </tbody>\n",
       "</table>\n",
       "</div>"
      ],
      "text/plain": [
       "Empty DataFrame\n",
       "Columns: [id, object_id, degree_type, subject]\n",
       "Index: []"
      ]
     },
     "execution_count": 18,
     "metadata": {},
     "output_type": "execute_result"
    }
   ],
   "source": [
    "duplicate(degrees)"
   ]
  },
  {
   "cell_type": "code",
   "execution_count": 19,
   "id": "e4df358f",
   "metadata": {},
   "outputs": [
    {
     "data": {
      "text/html": [
       "<div>\n",
       "<style scoped>\n",
       "    .dataframe tbody tr th:only-of-type {\n",
       "        vertical-align: middle;\n",
       "    }\n",
       "\n",
       "    .dataframe tbody tr th {\n",
       "        vertical-align: top;\n",
       "    }\n",
       "\n",
       "    .dataframe thead th {\n",
       "        text-align: right;\n",
       "    }\n",
       "</style>\n",
       "<table border=\"1\" class=\"dataframe\">\n",
       "  <thead>\n",
       "    <tr style=\"text-align: right;\">\n",
       "      <th></th>\n",
       "      <th>id</th>\n",
       "      <th>person_id</th>\n",
       "      <th>instituition</th>\n",
       "      <th>graduated_at</th>\n",
       "    </tr>\n",
       "  </thead>\n",
       "  <tbody>\n",
       "  </tbody>\n",
       "</table>\n",
       "</div>"
      ],
      "text/plain": [
       "Empty DataFrame\n",
       "Columns: [id, person_id, instituition, graduated_at]\n",
       "Index: []"
      ]
     },
     "execution_count": 19,
     "metadata": {},
     "output_type": "execute_result"
    }
   ],
   "source": [
    "duplicate(education)"
   ]
  },
  {
   "cell_type": "code",
   "execution_count": 20,
   "id": "7d8f90e7",
   "metadata": {},
   "outputs": [
    {
     "data": {
      "text/html": [
       "<div>\n",
       "<style scoped>\n",
       "    .dataframe tbody tr th:only-of-type {\n",
       "        vertical-align: middle;\n",
       "    }\n",
       "\n",
       "    .dataframe tbody tr th {\n",
       "        vertical-align: top;\n",
       "    }\n",
       "\n",
       "    .dataframe thead th {\n",
       "        text-align: right;\n",
       "    }\n",
       "</style>\n",
       "<table border=\"1\" class=\"dataframe\">\n",
       "  <thead>\n",
       "    <tr style=\"text-align: right;\">\n",
       "      <th></th>\n",
       "      <th>id</th>\n",
       "      <th>name</th>\n",
       "      <th>founded_at</th>\n",
       "      <th>domain</th>\n",
       "      <th>network_username</th>\n",
       "      <th>country_code</th>\n",
       "      <th>investment_rounds</th>\n",
       "      <th>invested_companies</th>\n",
       "      <th>milestones</th>\n",
       "    </tr>\n",
       "  </thead>\n",
       "  <tbody>\n",
       "  </tbody>\n",
       "</table>\n",
       "</div>"
      ],
      "text/plain": [
       "Empty DataFrame\n",
       "Columns: [id, name, founded_at, domain, network_username, country_code, investment_rounds, invested_companies, milestones]\n",
       "Index: []"
      ]
     },
     "execution_count": 20,
     "metadata": {},
     "output_type": "execute_result"
    }
   ],
   "source": [
    "duplicate(fund)"
   ]
  },
  {
   "cell_type": "code",
   "execution_count": 21,
   "id": "79f89e17",
   "metadata": {},
   "outputs": [
    {
     "data": {
      "text/html": [
       "<div>\n",
       "<style scoped>\n",
       "    .dataframe tbody tr th:only-of-type {\n",
       "        vertical-align: middle;\n",
       "    }\n",
       "\n",
       "    .dataframe tbody tr th {\n",
       "        vertical-align: top;\n",
       "    }\n",
       "\n",
       "    .dataframe thead th {\n",
       "        text-align: right;\n",
       "    }\n",
       "</style>\n",
       "<table border=\"1\" class=\"dataframe\">\n",
       "  <thead>\n",
       "    <tr style=\"text-align: right;\">\n",
       "      <th></th>\n",
       "      <th>id</th>\n",
       "      <th>funding_round_id</th>\n",
       "      <th>company_id</th>\n",
       "      <th>fund_id</th>\n",
       "    </tr>\n",
       "  </thead>\n",
       "  <tbody>\n",
       "  </tbody>\n",
       "</table>\n",
       "</div>"
      ],
      "text/plain": [
       "Empty DataFrame\n",
       "Columns: [id, funding_round_id, company_id, fund_id]\n",
       "Index: []"
      ]
     },
     "execution_count": 21,
     "metadata": {},
     "output_type": "execute_result"
    }
   ],
   "source": [
    "duplicate(investment)"
   ]
  },
  {
   "cell_type": "code",
   "execution_count": 22,
   "id": "c2b0509d",
   "metadata": {},
   "outputs": [
    {
     "data": {
      "text/html": [
       "<div>\n",
       "<style scoped>\n",
       "    .dataframe tbody tr th:only-of-type {\n",
       "        vertical-align: middle;\n",
       "    }\n",
       "\n",
       "    .dataframe tbody tr th {\n",
       "        vertical-align: top;\n",
       "    }\n",
       "\n",
       "    .dataframe thead th {\n",
       "        text-align: right;\n",
       "    }\n",
       "</style>\n",
       "<table border=\"1\" class=\"dataframe\">\n",
       "  <thead>\n",
       "    <tr style=\"text-align: right;\">\n",
       "      <th></th>\n",
       "      <th>id</th>\n",
       "      <th>first_name</th>\n",
       "      <th>last_name</th>\n",
       "      <th>company_id</th>\n",
       "      <th>network_username</th>\n",
       "    </tr>\n",
       "  </thead>\n",
       "  <tbody>\n",
       "  </tbody>\n",
       "</table>\n",
       "</div>"
      ],
      "text/plain": [
       "Empty DataFrame\n",
       "Columns: [id, first_name, last_name, company_id, network_username]\n",
       "Index: []"
      ]
     },
     "execution_count": 22,
     "metadata": {},
     "output_type": "execute_result"
    }
   ],
   "source": [
    "duplicate(people)"
   ]
  },
  {
   "cell_type": "markdown",
   "id": "77d7b84c",
   "metadata": {},
   "source": [
    "Полных дубликатов в датафреймах не обнаружено"
   ]
  },
  {
   "cell_type": "markdown",
   "id": "0fae0e0b",
   "metadata": {
    "id": "mg2gEwh0rJg0"
   },
   "source": [
    "### 1.2. Смена типов и анализ пропусков\n"
   ]
  },
  {
   "cell_type": "markdown",
   "id": "88ded996",
   "metadata": {},
   "source": [
    "Во всех датафреймах столбцы, содержащие информацию о датах, нужно привести к типу данных datetime"
   ]
  },
  {
   "cell_type": "code",
   "execution_count": 23,
   "id": "ccbe0b40",
   "metadata": {},
   "outputs": [],
   "source": [
    "acquisition['acquired_at'] = pd.to_datetime(acquisition['acquired_at'])"
   ]
  },
  {
   "cell_type": "code",
   "execution_count": 24,
   "id": "ac2a8d79",
   "metadata": {},
   "outputs": [],
   "source": [
    "company_and_rounds['founded at'] = pd.to_datetime(company_and_rounds['founded_at'])"
   ]
  },
  {
   "cell_type": "code",
   "execution_count": 25,
   "id": "42ada6ac",
   "metadata": {},
   "outputs": [],
   "source": [
    "company_and_rounds['closed_at'] = pd.to_datetime(company_and_rounds['closed_at'])"
   ]
  },
  {
   "cell_type": "code",
   "execution_count": 26,
   "id": "aab61dae",
   "metadata": {},
   "outputs": [],
   "source": [
    "company_and_rounds['funded_at'] = pd.to_datetime(company_and_rounds['funded_at'])"
   ]
  },
  {
   "cell_type": "code",
   "execution_count": 27,
   "id": "b531eaca",
   "metadata": {},
   "outputs": [],
   "source": [
    "education['graduated_at'] = pd.to_datetime(education['graduated_at'])"
   ]
  },
  {
   "cell_type": "markdown",
   "id": "dd983b84",
   "metadata": {},
   "source": [
    "Теперь проанализируем пропуски в датафреймах"
   ]
  },
  {
   "cell_type": "markdown",
   "id": "a3c78c05",
   "metadata": {},
   "source": [
    "Напишем функцию для анализа пропусков в каждом датафрейме"
   ]
  },
  {
   "cell_type": "code",
   "execution_count": 28,
   "id": "35aabc63",
   "metadata": {},
   "outputs": [],
   "source": [
    "def na(df):\n",
    "    missing_data = pd.DataFrame({\n",
    "        'Kon-во пропусков': df.isnull().sum(),\n",
    "        'Доля пропусков, %': (df.isnull().sum() / len(df) * 100).round(2)\n",
    "    })\n",
    "    \n",
    "    missing_data = missing_data.sort_values('Kon-во пропусков', ascending=False)\n",
    "    return missing_data"
   ]
  },
  {
   "cell_type": "markdown",
   "id": "44f31941",
   "metadata": {},
   "source": [
    "Рассмотрим датафрейм acquisition:"
   ]
  },
  {
   "cell_type": "code",
   "execution_count": 29,
   "id": "92670813",
   "metadata": {},
   "outputs": [
    {
     "data": {
      "text/html": [
       "<div>\n",
       "<style scoped>\n",
       "    .dataframe tbody tr th:only-of-type {\n",
       "        vertical-align: middle;\n",
       "    }\n",
       "\n",
       "    .dataframe tbody tr th {\n",
       "        vertical-align: top;\n",
       "    }\n",
       "\n",
       "    .dataframe thead th {\n",
       "        text-align: right;\n",
       "    }\n",
       "</style>\n",
       "<table border=\"1\" class=\"dataframe\">\n",
       "  <thead>\n",
       "    <tr style=\"text-align: right;\">\n",
       "      <th></th>\n",
       "      <th>Kon-во пропусков</th>\n",
       "      <th>Доля пропусков, %</th>\n",
       "    </tr>\n",
       "  </thead>\n",
       "  <tbody>\n",
       "    <tr>\n",
       "      <th>term_code</th>\n",
       "      <td>7576</td>\n",
       "      <td>80.54</td>\n",
       "    </tr>\n",
       "    <tr>\n",
       "      <th>acquired_at</th>\n",
       "      <td>29</td>\n",
       "      <td>0.31</td>\n",
       "    </tr>\n",
       "    <tr>\n",
       "      <th>id</th>\n",
       "      <td>0</td>\n",
       "      <td>0.00</td>\n",
       "    </tr>\n",
       "    <tr>\n",
       "      <th>acquiring_company_id</th>\n",
       "      <td>0</td>\n",
       "      <td>0.00</td>\n",
       "    </tr>\n",
       "    <tr>\n",
       "      <th>acquired_company_id</th>\n",
       "      <td>0</td>\n",
       "      <td>0.00</td>\n",
       "    </tr>\n",
       "    <tr>\n",
       "      <th>price_amount</th>\n",
       "      <td>0</td>\n",
       "      <td>0.00</td>\n",
       "    </tr>\n",
       "  </tbody>\n",
       "</table>\n",
       "</div>"
      ],
      "text/plain": [
       "                      Kon-во пропусков  Доля пропусков, %\n",
       "term_code                         7576              80.54\n",
       "acquired_at                         29               0.31\n",
       "id                                   0               0.00\n",
       "acquiring_company_id                 0               0.00\n",
       "acquired_company_id                  0               0.00\n",
       "price_amount                         0               0.00"
      ]
     },
     "execution_count": 29,
     "metadata": {},
     "output_type": "execute_result"
    }
   ],
   "source": [
    "na(acquisition)"
   ]
  },
  {
   "cell_type": "markdown",
   "id": "c84d7563",
   "metadata": {},
   "source": [
    "- Пропуски в столбце term_code скорее всего возникли из-за того, что оплата на данный момент еще не произошла, поэтому это тип пропусков MAR. Столбец далее не участвует в анализе, поэтому с пропусками можно ничего не делать.\n",
    "- Пропуски в столбце acquired_at также скорее всего возникли из-за технического сбоя, поэтому тип пропусков MCAR. Так как количество пропусков несущественно, можем их проигнорировать"
   ]
  },
  {
   "cell_type": "markdown",
   "id": "b1086ceb",
   "metadata": {},
   "source": [
    "Теперь рассмотрим датафрейм degrees"
   ]
  },
  {
   "cell_type": "code",
   "execution_count": 30,
   "id": "4eb043b7",
   "metadata": {},
   "outputs": [
    {
     "data": {
      "text/html": [
       "<div>\n",
       "<style scoped>\n",
       "    .dataframe tbody tr th:only-of-type {\n",
       "        vertical-align: middle;\n",
       "    }\n",
       "\n",
       "    .dataframe tbody tr th {\n",
       "        vertical-align: top;\n",
       "    }\n",
       "\n",
       "    .dataframe thead th {\n",
       "        text-align: right;\n",
       "    }\n",
       "</style>\n",
       "<table border=\"1\" class=\"dataframe\">\n",
       "  <thead>\n",
       "    <tr style=\"text-align: right;\">\n",
       "      <th></th>\n",
       "      <th>Kon-во пропусков</th>\n",
       "      <th>Доля пропусков, %</th>\n",
       "    </tr>\n",
       "  </thead>\n",
       "  <tbody>\n",
       "    <tr>\n",
       "      <th>subject</th>\n",
       "      <td>28312</td>\n",
       "      <td>25.83</td>\n",
       "    </tr>\n",
       "    <tr>\n",
       "      <th>degree_type</th>\n",
       "      <td>11218</td>\n",
       "      <td>10.23</td>\n",
       "    </tr>\n",
       "    <tr>\n",
       "      <th>id</th>\n",
       "      <td>0</td>\n",
       "      <td>0.00</td>\n",
       "    </tr>\n",
       "    <tr>\n",
       "      <th>object_id</th>\n",
       "      <td>0</td>\n",
       "      <td>0.00</td>\n",
       "    </tr>\n",
       "  </tbody>\n",
       "</table>\n",
       "</div>"
      ],
      "text/plain": [
       "             Kon-во пропусков  Доля пропусков, %\n",
       "subject                 28312              25.83\n",
       "degree_type             11218              10.23\n",
       "id                          0               0.00\n",
       "object_id                   0               0.00"
      ]
     },
     "execution_count": 30,
     "metadata": {},
     "output_type": "execute_result"
    }
   ],
   "source": [
    "na(degrees)"
   ]
  },
  {
   "cell_type": "markdown",
   "id": "05881a85",
   "metadata": {},
   "source": [
    "- Пропуски в столбце subject скорее всего связаны с тем, что не все сотрудники получили высшее образование, и соответственно не имеют специальности. Тип пропусков MAR. Эти пропуски невозможно заполнить корректно каким либо значением, поэтому оставим их как есть.\n",
    "- Пропуски в столбце degree_type имеют ту же природу, что и предыдущий столбец, поэтому тип пропусков MAR. Пропуски также не поддаются корректному заполнению, поэтому оставим их как есть."
   ]
  },
  {
   "cell_type": "markdown",
   "id": "37aaccff",
   "metadata": {},
   "source": [
    "Теперь рассмотрим датафрейм education"
   ]
  },
  {
   "cell_type": "code",
   "execution_count": 31,
   "id": "c5df7b22",
   "metadata": {},
   "outputs": [
    {
     "data": {
      "text/html": [
       "<div>\n",
       "<style scoped>\n",
       "    .dataframe tbody tr th:only-of-type {\n",
       "        vertical-align: middle;\n",
       "    }\n",
       "\n",
       "    .dataframe tbody tr th {\n",
       "        vertical-align: top;\n",
       "    }\n",
       "\n",
       "    .dataframe thead th {\n",
       "        text-align: right;\n",
       "    }\n",
       "</style>\n",
       "<table border=\"1\" class=\"dataframe\">\n",
       "  <thead>\n",
       "    <tr style=\"text-align: right;\">\n",
       "      <th></th>\n",
       "      <th>Kon-во пропусков</th>\n",
       "      <th>Доля пропусков, %</th>\n",
       "    </tr>\n",
       "  </thead>\n",
       "  <tbody>\n",
       "    <tr>\n",
       "      <th>graduated_at</th>\n",
       "      <td>51556</td>\n",
       "      <td>47.04</td>\n",
       "    </tr>\n",
       "    <tr>\n",
       "      <th>instituition</th>\n",
       "      <td>55</td>\n",
       "      <td>0.05</td>\n",
       "    </tr>\n",
       "    <tr>\n",
       "      <th>id</th>\n",
       "      <td>0</td>\n",
       "      <td>0.00</td>\n",
       "    </tr>\n",
       "    <tr>\n",
       "      <th>person_id</th>\n",
       "      <td>0</td>\n",
       "      <td>0.00</td>\n",
       "    </tr>\n",
       "  </tbody>\n",
       "</table>\n",
       "</div>"
      ],
      "text/plain": [
       "              Kon-во пропусков  Доля пропусков, %\n",
       "graduated_at             51556              47.04\n",
       "instituition                55               0.05\n",
       "id                           0               0.00\n",
       "person_id                    0               0.00"
      ]
     },
     "execution_count": 31,
     "metadata": {},
     "output_type": "execute_result"
    }
   ],
   "source": [
    "na(education)"
   ]
  },
  {
   "cell_type": "markdown",
   "id": "d2bb6591",
   "metadata": {},
   "source": [
    "- Пропуски в столбце graduated_at связаны либо с отсутсвием образования в целом, либо же с тем, что оно еще не окончено. Следовательно это тип пропусков MAR. Пропуски не поддаются корректной обработке, оставляем их как есть.\n",
    "- Пропуски в столбце insitution имеют ту же природу, тип MAR. Количество пропусков несущественно, поэтому оставляем их как есть."
   ]
  },
  {
   "cell_type": "markdown",
   "id": "9533834f",
   "metadata": {},
   "source": [
    "Теперь рассмотрим датафрейм people"
   ]
  },
  {
   "cell_type": "code",
   "execution_count": 32,
   "id": "1345bb92",
   "metadata": {},
   "outputs": [
    {
     "data": {
      "text/html": [
       "<div>\n",
       "<style scoped>\n",
       "    .dataframe tbody tr th:only-of-type {\n",
       "        vertical-align: middle;\n",
       "    }\n",
       "\n",
       "    .dataframe tbody tr th {\n",
       "        vertical-align: top;\n",
       "    }\n",
       "\n",
       "    .dataframe thead th {\n",
       "        text-align: right;\n",
       "    }\n",
       "</style>\n",
       "<table border=\"1\" class=\"dataframe\">\n",
       "  <thead>\n",
       "    <tr style=\"text-align: right;\">\n",
       "      <th></th>\n",
       "      <th>Kon-во пропусков</th>\n",
       "      <th>Доля пропусков, %</th>\n",
       "    </tr>\n",
       "  </thead>\n",
       "  <tbody>\n",
       "    <tr>\n",
       "      <th>company_id</th>\n",
       "      <td>192094</td>\n",
       "      <td>84.73</td>\n",
       "    </tr>\n",
       "    <tr>\n",
       "      <th>network_username</th>\n",
       "      <td>187842</td>\n",
       "      <td>82.86</td>\n",
       "    </tr>\n",
       "    <tr>\n",
       "      <th>first_name</th>\n",
       "      <td>5</td>\n",
       "      <td>0.00</td>\n",
       "    </tr>\n",
       "    <tr>\n",
       "      <th>last_name</th>\n",
       "      <td>1</td>\n",
       "      <td>0.00</td>\n",
       "    </tr>\n",
       "    <tr>\n",
       "      <th>id</th>\n",
       "      <td>0</td>\n",
       "      <td>0.00</td>\n",
       "    </tr>\n",
       "  </tbody>\n",
       "</table>\n",
       "</div>"
      ],
      "text/plain": [
       "                  Kon-во пропусков  Доля пропусков, %\n",
       "company_id                  192094              84.73\n",
       "network_username            187842              82.86\n",
       "first_name                       5               0.00\n",
       "last_name                        1               0.00\n",
       "id                               0               0.00"
      ]
     },
     "execution_count": 32,
     "metadata": {},
     "output_type": "execute_result"
    }
   ],
   "source": [
    "na(people)"
   ]
  },
  {
   "cell_type": "markdown",
   "id": "4be682d1",
   "metadata": {},
   "source": [
    " - Пропуски в столбце company_id. Возникновение пропусков скорее всего связано с техническим сбоем, тип MCAR. Корректно заполнить пропуски не представляется возможным, поэтому оставим их как есть.\n",
    " - Пропуски в столбце network_username возможно связаны с отсутсвием компаний в соцсетях, тип MNAR. Заполнить не можем, оставляем пропуски как есть.\n",
    " - Пропуски в столбцах first_name/last_name скорее всего связаны с технической ошибкой. Тип MCAR. Количество несущественно, в обоих случаях их можно оставить"
   ]
  },
  {
   "cell_type": "markdown",
   "id": "8d1b117a",
   "metadata": {},
   "source": [
    "Рассмотрим датафрейм company_and_rounds"
   ]
  },
  {
   "cell_type": "code",
   "execution_count": 33,
   "id": "f342fde4",
   "metadata": {},
   "outputs": [
    {
     "data": {
      "text/html": [
       "<div>\n",
       "<style scoped>\n",
       "    .dataframe tbody tr th:only-of-type {\n",
       "        vertical-align: middle;\n",
       "    }\n",
       "\n",
       "    .dataframe tbody tr th {\n",
       "        vertical-align: top;\n",
       "    }\n",
       "\n",
       "    .dataframe thead th {\n",
       "        text-align: right;\n",
       "    }\n",
       "</style>\n",
       "<table border=\"1\" class=\"dataframe\">\n",
       "  <thead>\n",
       "    <tr style=\"text-align: right;\">\n",
       "      <th></th>\n",
       "      <th>Kon-во пропусков</th>\n",
       "      <th>Доля пропусков, %</th>\n",
       "    </tr>\n",
       "  </thead>\n",
       "  <tbody>\n",
       "    <tr>\n",
       "      <th>closed_at</th>\n",
       "      <td>214325</td>\n",
       "      <td>98.42</td>\n",
       "    </tr>\n",
       "    <tr>\n",
       "      <th>funded_at</th>\n",
       "      <td>165094</td>\n",
       "      <td>75.81</td>\n",
       "    </tr>\n",
       "    <tr>\n",
       "      <th>funding_round_type</th>\n",
       "      <td>164846</td>\n",
       "      <td>75.70</td>\n",
       "    </tr>\n",
       "    <tr>\n",
       "      <th>is_last_round</th>\n",
       "      <td>164846</td>\n",
       "      <td>75.70</td>\n",
       "    </tr>\n",
       "    <tr>\n",
       "      <th>is_first_round</th>\n",
       "      <td>164846</td>\n",
       "      <td>75.70</td>\n",
       "    </tr>\n",
       "    <tr>\n",
       "      <th>participants</th>\n",
       "      <td>164846</td>\n",
       "      <td>75.70</td>\n",
       "    </tr>\n",
       "    <tr>\n",
       "      <th>pre_money_valuation</th>\n",
       "      <td>164846</td>\n",
       "      <td>75.70</td>\n",
       "    </tr>\n",
       "    <tr>\n",
       "      <th>raised_amount</th>\n",
       "      <td>164846</td>\n",
       "      <td>75.70</td>\n",
       "    </tr>\n",
       "    <tr>\n",
       "      <th>funding_round_id</th>\n",
       "      <td>164846</td>\n",
       "      <td>75.70</td>\n",
       "    </tr>\n",
       "    <tr>\n",
       "      <th>acquired_company_id</th>\n",
       "      <td>164846</td>\n",
       "      <td>75.70</td>\n",
       "    </tr>\n",
       "    <tr>\n",
       "      <th>network_username</th>\n",
       "      <td>122240</td>\n",
       "      <td>56.13</td>\n",
       "    </tr>\n",
       "    <tr>\n",
       "      <th>country_code</th>\n",
       "      <td>109167</td>\n",
       "      <td>50.13</td>\n",
       "    </tr>\n",
       "    <tr>\n",
       "      <th>founded at</th>\n",
       "      <td>107818</td>\n",
       "      <td>49.51</td>\n",
       "    </tr>\n",
       "    <tr>\n",
       "      <th>founded_at</th>\n",
       "      <td>107818</td>\n",
       "      <td>49.51</td>\n",
       "    </tr>\n",
       "    <tr>\n",
       "      <th>category_code</th>\n",
       "      <td>73888</td>\n",
       "      <td>33.93</td>\n",
       "    </tr>\n",
       "    <tr>\n",
       "      <th>domain</th>\n",
       "      <td>70615</td>\n",
       "      <td>32.43</td>\n",
       "    </tr>\n",
       "    <tr>\n",
       "      <th>company_id</th>\n",
       "      <td>302</td>\n",
       "      <td>0.14</td>\n",
       "    </tr>\n",
       "    <tr>\n",
       "      <th>milestones</th>\n",
       "      <td>302</td>\n",
       "      <td>0.14</td>\n",
       "    </tr>\n",
       "    <tr>\n",
       "      <th>name</th>\n",
       "      <td>302</td>\n",
       "      <td>0.14</td>\n",
       "    </tr>\n",
       "    <tr>\n",
       "      <th>funding_rounds</th>\n",
       "      <td>302</td>\n",
       "      <td>0.14</td>\n",
       "    </tr>\n",
       "    <tr>\n",
       "      <th>investment_rounds</th>\n",
       "      <td>302</td>\n",
       "      <td>0.14</td>\n",
       "    </tr>\n",
       "    <tr>\n",
       "      <th>status</th>\n",
       "      <td>302</td>\n",
       "      <td>0.14</td>\n",
       "    </tr>\n",
       "    <tr>\n",
       "      <th>funding_total</th>\n",
       "      <td>302</td>\n",
       "      <td>0.14</td>\n",
       "    </tr>\n",
       "  </tbody>\n",
       "</table>\n",
       "</div>"
      ],
      "text/plain": [
       "                     Kon-во пропусков  Доля пропусков, %\n",
       "closed_at                      214325              98.42\n",
       "funded_at                      165094              75.81\n",
       "funding_round_type             164846              75.70\n",
       "is_last_round                  164846              75.70\n",
       "is_first_round                 164846              75.70\n",
       "participants                   164846              75.70\n",
       "pre_money_valuation            164846              75.70\n",
       "raised_amount                  164846              75.70\n",
       "funding_round_id               164846              75.70\n",
       "acquired_company_id            164846              75.70\n",
       "network_username               122240              56.13\n",
       "country_code                   109167              50.13\n",
       "founded at                     107818              49.51\n",
       "founded_at                     107818              49.51\n",
       "category_code                   73888              33.93\n",
       "domain                          70615              32.43\n",
       "company_id                        302               0.14\n",
       "milestones                        302               0.14\n",
       "name                              302               0.14\n",
       "funding_rounds                    302               0.14\n",
       "investment_rounds                 302               0.14\n",
       "status                            302               0.14\n",
       "funding_total                     302               0.14"
      ]
     },
     "execution_count": 33,
     "metadata": {},
     "output_type": "execute_result"
    }
   ],
   "source": [
    "na(company_and_rounds)"
   ]
  },
  {
   "cell_type": "code",
   "execution_count": 34,
   "id": "b0a55aa6",
   "metadata": {},
   "outputs": [
    {
     "data": {
      "text/plain": [
       "<AxesSubplot:>"
      ]
     },
     "execution_count": 34,
     "metadata": {},
     "output_type": "execute_result"
    },
    {
     "data": {
      "image/png": "[encoded data removed]",
      "text/plain": [
       "<Figure size 1440x864 with 2 Axes>"
      ]
     },
     "metadata": {
      "needs_background": "light"
     },
     "output_type": "display_data"
    }
   ],
   "source": [
    "msno.heatmap(company_and_rounds)"
   ]
  },
  {
   "cell_type": "markdown",
   "id": "42058c44",
   "metadata": {},
   "source": [
    "1. Две четкие группы данных\n",
    " - Группа A (основные данные о компаниях): company_id, name, status, investment_rounds, funding_rounds, funding_total, milestones - почти полные данные (0.1-1% пропусков)\n",
    "\n",
    " - Группа B (данные о раундах финансирования): funding_round_id, funded_at, funding_round_type, raised_amount, etc. - 75.7% пропусков\n",
    "\n",
    "2. Сильная корреляция пропусков\n",
    " - Все столбцы группы B имеют идентичную структуру пропусков (корреляция ≈ 1.0)\n",
    "\n",
    " - Это означает, что либо есть полная запись о раунде финансирования, либо её нет совсем\n",
    "\n",
    "3. Причина пропусков\n",
    " - Только 24.3% компаний имеют информацию о раундах финансирования\n",
    "\n",
    " - 75.7% компаний либо не привлекали funding, либо данные не были собраны\n",
    "\n",
    "4. Паттерны пропусков\n",
    " - closed_at - 98.4% пропусков (нормально, так как большинство компаний не закрылись)\n",
    "\n",
    " - founded_at - 49.5% пропусков (проблематично для анализа возраста компаний)\n",
    "\n",
    " - category_code - 33.9% пропусков (важно для категориального анализа)\n",
    "\n",
    " - domain и network_username - 32-56% пропусков (менее критично)"
   ]
  },
  {
   "cell_type": "markdown",
   "id": "91e280bd",
   "metadata": {},
   "source": [
    "Пропусков в датасете слишком много, поэтому корректно обработать их не получится, оставим как есть"
   ]
  },
  {
   "cell_type": "markdown",
   "id": "b58ca0de",
   "metadata": {
    "id": "u60cHsn6rJg1"
   },
   "source": [
    "## Шаг 2. Предобработка данных, предварительное исследование\n",
    "\n",
    "### 2.1. Раунды финансирования по годам"
   ]
  },
  {
   "cell_type": "markdown",
   "id": "f15544fe",
   "metadata": {},
   "source": [
    " - делаем столбец с годом финансирования\n",
    " - группируем по году, считаем количество funding_rounds и среднее raised_amount\n",
    " - визуализируем обычным plot"
   ]
  },
  {
   "cell_type": "code",
   "execution_count": 35,
   "id": "782797e3",
   "metadata": {},
   "outputs": [],
   "source": [
    "company_and_rounds['year_of_funded'] = company_and_rounds['funded_at'].dt.year"
   ]
  },
  {
   "cell_type": "code",
   "execution_count": 36,
   "id": "26d12bdf",
   "metadata": {},
   "outputs": [
    {
     "data": {
      "text/html": [
       "<div>\n",
       "<style scoped>\n",
       "    .dataframe tbody tr th:only-of-type {\n",
       "        vertical-align: middle;\n",
       "    }\n",
       "\n",
       "    .dataframe tbody tr th {\n",
       "        vertical-align: top;\n",
       "    }\n",
       "\n",
       "    .dataframe thead th {\n",
       "        text-align: right;\n",
       "    }\n",
       "</style>\n",
       "<table border=\"1\" class=\"dataframe\">\n",
       "  <thead>\n",
       "    <tr style=\"text-align: right;\">\n",
       "      <th></th>\n",
       "      <th>funding_rounds</th>\n",
       "      <th>raised_amount</th>\n",
       "    </tr>\n",
       "    <tr>\n",
       "      <th>year_of_funded</th>\n",
       "      <th></th>\n",
       "      <th></th>\n",
       "    </tr>\n",
       "  </thead>\n",
       "  <tbody>\n",
       "    <tr>\n",
       "      <th>1999.0</th>\n",
       "      <td>76</td>\n",
       "      <td>2000000.0</td>\n",
       "    </tr>\n",
       "    <tr>\n",
       "      <th>2000.0</th>\n",
       "      <td>125</td>\n",
       "      <td>4200000.0</td>\n",
       "    </tr>\n",
       "    <tr>\n",
       "      <th>2001.0</th>\n",
       "      <td>95</td>\n",
       "      <td>3000000.0</td>\n",
       "    </tr>\n",
       "    <tr>\n",
       "      <th>2002.0</th>\n",
       "      <td>115</td>\n",
       "      <td>4200000.0</td>\n",
       "    </tr>\n",
       "    <tr>\n",
       "      <th>2003.0</th>\n",
       "      <td>154</td>\n",
       "      <td>3000000.0</td>\n",
       "    </tr>\n",
       "    <tr>\n",
       "      <th>2004.0</th>\n",
       "      <td>286</td>\n",
       "      <td>5000000.0</td>\n",
       "    </tr>\n",
       "    <tr>\n",
       "      <th>2005.0</th>\n",
       "      <td>1624</td>\n",
       "      <td>5500000.0</td>\n",
       "    </tr>\n",
       "    <tr>\n",
       "      <th>2006.0</th>\n",
       "      <td>2409</td>\n",
       "      <td>5000000.0</td>\n",
       "    </tr>\n",
       "    <tr>\n",
       "      <th>2007.0</th>\n",
       "      <td>3220</td>\n",
       "      <td>3973320.0</td>\n",
       "    </tr>\n",
       "    <tr>\n",
       "      <th>2008.0</th>\n",
       "      <td>3735</td>\n",
       "      <td>3110000.0</td>\n",
       "    </tr>\n",
       "    <tr>\n",
       "      <th>2009.0</th>\n",
       "      <td>4112</td>\n",
       "      <td>2000000.0</td>\n",
       "    </tr>\n",
       "    <tr>\n",
       "      <th>2010.0</th>\n",
       "      <td>6194</td>\n",
       "      <td>1602500.0</td>\n",
       "    </tr>\n",
       "    <tr>\n",
       "      <th>2011.0</th>\n",
       "      <td>9162</td>\n",
       "      <td>1200000.0</td>\n",
       "    </tr>\n",
       "    <tr>\n",
       "      <th>2012.0</th>\n",
       "      <td>9956</td>\n",
       "      <td>1000000.0</td>\n",
       "    </tr>\n",
       "    <tr>\n",
       "      <th>2013.0</th>\n",
       "      <td>11042</td>\n",
       "      <td>1200000.0</td>\n",
       "    </tr>\n",
       "  </tbody>\n",
       "</table>\n",
       "</div>"
      ],
      "text/plain": [
       "                funding_rounds  raised_amount\n",
       "year_of_funded                               \n",
       "1999.0                      76      2000000.0\n",
       "2000.0                     125      4200000.0\n",
       "2001.0                      95      3000000.0\n",
       "2002.0                     115      4200000.0\n",
       "2003.0                     154      3000000.0\n",
       "2004.0                     286      5000000.0\n",
       "2005.0                    1624      5500000.0\n",
       "2006.0                    2409      5000000.0\n",
       "2007.0                    3220      3973320.0\n",
       "2008.0                    3735      3110000.0\n",
       "2009.0                    4112      2000000.0\n",
       "2010.0                    6194      1602500.0\n",
       "2011.0                    9162      1200000.0\n",
       "2012.0                    9956      1000000.0\n",
       "2013.0                   11042      1200000.0"
      ]
     },
     "execution_count": 36,
     "metadata": {},
     "output_type": "execute_result"
    }
   ],
   "source": [
    "# Сначала группируем и агрегируем данные\n",
    "yearly_stats = company_and_rounds.groupby('year_of_funded')[['funding_rounds', 'raised_amount']].agg({\n",
    "    'funding_rounds': 'count', \n",
    "    'raised_amount': 'median'\n",
    "}).sort_values(by='year_of_funded', ascending=True)\n",
    "\n",
    "# Фильтруем - оставляем только годы с более чем 50 раундами\n",
    "filtered_stats = yearly_stats[yearly_stats['funding_rounds'] > 50]\n",
    "filtered_stats"
   ]
  },
  {
   "cell_type": "code",
   "execution_count": 37,
   "id": "7725c14c",
   "metadata": {},
   "outputs": [
    {
     "data": {
      "image/png": "[encoded data removed]",
      "text/plain": [
       "<Figure size 1008x576 with 2 Axes>"
      ]
     },
     "metadata": {
      "needs_background": "light"
     },
     "output_type": "display_data"
    }
   ],
   "source": [
    "# Создаем фигуру и основную ось\n",
    "fig, ax1 = plt.subplots(figsize=(14, 8))\n",
    "\n",
    "# Первая линия: средняя сумма раунда (левая ось Y)\n",
    "color = 'tab:blue'\n",
    "ax1.set_xlabel('Год', fontsize=12)\n",
    "ax1.set_ylabel('Средняя сумма раунда ($)', color=color, fontsize=12)\n",
    "line1 = ax1.plot(filtered_stats.index, filtered_stats['raised_amount'], \n",
    "                color=color, linewidth=3, marker='o', markersize=6, label='Средняя сумма раунда')\n",
    "ax1.tick_params(axis='y', labelcolor=color)\n",
    "ax1.grid(True, alpha=0.3)\n",
    "\n",
    "# Создаем вторую ось Y для количества раундов\n",
    "ax2 = ax1.twinx()\n",
    "color = 'tab:red'\n",
    "ax2.set_ylabel('Количество раундов', color=color, fontsize=12)\n",
    "line2 = ax2.plot(filtered_stats.index, filtered_stats['funding_rounds'], \n",
    "                color=color, linewidth=3, marker='s', markersize=6, label='Количество раундов', linestyle='--')\n",
    "ax2.tick_params(axis='y', labelcolor=color)\n",
    "\n",
    "# Добавляем заголовок и легенду\n",
    "plt.title('Динамика финансирования стартапов: средняя сумма раунда vs количество раундов\\n(1995-2013 годы, только годы с >50 раундами)', \n",
    "          fontsize=14, fontweight='bold', pad=20)\n",
    "\n",
    "# Объединяем легенды с двух осей\n",
    "lines1, labels1 = ax1.get_legend_handles_labels()\n",
    "lines2, labels2 = ax2.get_legend_handles_labels()\n",
    "ax1.legend(lines1 + lines2, labels1 + labels2, loc='upper left')\n",
    "\n",
    "# Форматируем оси Y в читаемом формате (без научной нотации)\n",
    "ax1.ticklabel_format(axis='y', style='plain')\n",
    "ax2.ticklabel_format(axis='y', style='plain')\n",
    "\n",
    "# Поворачиваем подписи по оси X для лучшей читаемости\n",
    "plt.xticks(rotation=45)\n",
    "\n",
    "# Добавляем сетку\n",
    "ax1.grid(True, alpha=0.3)\n",
    "\n",
    "plt.tight_layout()\n",
    "plt.show()"
   ]
  },
  {
   "cell_type": "code",
   "execution_count": 38,
   "id": "4b67429f",
   "metadata": {},
   "outputs": [],
   "source": [
    "pd.set_option('display.max_columns', 500)"
   ]
  },
  {
   "cell_type": "markdown",
   "id": "dfd2f1dd",
   "metadata": {},
   "source": [
    "На графике видно, что с течением времени с увеличением количества раундов заметно снижается средняя сумма раунда, причем начало корреляции между этими двумя параметрами наблюдается в 2005 году. Пик падения этой суммы наблюдается в 2012 году."
   ]
  },
  {
   "cell_type": "markdown",
   "id": "ca1847f3",
   "metadata": {
    "id": "45if1en1rJg2"
   },
   "source": [
    "\n",
    "### 2.2. Люди и их образование\n",
    "\n",
    "Исследуем, зависит ли полнота сведений о сотрудниках (например, об их образовании) от размера компаний.\n"
   ]
  },
  {
   "cell_type": "markdown",
   "id": "ca92795b",
   "metadata": {},
   "source": [
    "- объединяем people и education\n",
    "- создаем столбец с флагом наличия образования"
   ]
  },
  {
   "cell_type": "code",
   "execution_count": 39,
   "id": "ae99d6c2",
   "metadata": {},
   "outputs": [],
   "source": [
    "# Приведем типы к одинаковому формату\n",
    "people['id'] = people['id'].astype(str)\n",
    "education['person_id'] = education['person_id'].astype(str)\n",
    "\n",
    "# Теперь объединим таблицы\n",
    "education_of_people = pd.merge(people, education, how='left', left_on='id', right_on='person_id')"
   ]
  },
  {
   "cell_type": "code",
   "execution_count": 40,
   "id": "29150933",
   "metadata": {},
   "outputs": [
    {
     "data": {
      "text/html": [
       "<div>\n",
       "<style scoped>\n",
       "    .dataframe tbody tr th:only-of-type {\n",
       "        vertical-align: middle;\n",
       "    }\n",
       "\n",
       "    .dataframe tbody tr th {\n",
       "        vertical-align: top;\n",
       "    }\n",
       "\n",
       "    .dataframe thead th {\n",
       "        text-align: right;\n",
       "    }\n",
       "</style>\n",
       "<table border=\"1\" class=\"dataframe\">\n",
       "  <thead>\n",
       "    <tr style=\"text-align: right;\">\n",
       "      <th></th>\n",
       "      <th>id_x</th>\n",
       "      <th>first_name</th>\n",
       "      <th>last_name</th>\n",
       "      <th>company_id</th>\n",
       "      <th>network_username</th>\n",
       "      <th>id_y</th>\n",
       "      <th>person_id</th>\n",
       "      <th>instituition</th>\n",
       "      <th>graduated_at</th>\n",
       "    </tr>\n",
       "  </thead>\n",
       "  <tbody>\n",
       "    <tr>\n",
       "      <th>0</th>\n",
       "      <td>10</td>\n",
       "      <td>Mark</td>\n",
       "      <td>Zuckerberg</td>\n",
       "      <td>5.0</td>\n",
       "      <td>NaN</td>\n",
       "      <td>2415.0</td>\n",
       "      <td>10</td>\n",
       "      <td>Harvard University</td>\n",
       "      <td>NaT</td>\n",
       "    </tr>\n",
       "    <tr>\n",
       "      <th>1</th>\n",
       "      <td>100</td>\n",
       "      <td>Peter</td>\n",
       "      <td>Lester</td>\n",
       "      <td>27.0</td>\n",
       "      <td>NaN</td>\n",
       "      <td>NaN</td>\n",
       "      <td>NaN</td>\n",
       "      <td>NaN</td>\n",
       "      <td>NaT</td>\n",
       "    </tr>\n",
       "    <tr>\n",
       "      <th>2</th>\n",
       "      <td>1000</td>\n",
       "      <td>Dr. Steven</td>\n",
       "      <td>E. Saunders</td>\n",
       "      <td>292.0</td>\n",
       "      <td>NaN</td>\n",
       "      <td>NaN</td>\n",
       "      <td>NaN</td>\n",
       "      <td>NaN</td>\n",
       "      <td>NaT</td>\n",
       "    </tr>\n",
       "    <tr>\n",
       "      <th>3</th>\n",
       "      <td>10000</td>\n",
       "      <td>Neil</td>\n",
       "      <td>Capel</td>\n",
       "      <td>2526.0</td>\n",
       "      <td>NaN</td>\n",
       "      <td>NaN</td>\n",
       "      <td>NaN</td>\n",
       "      <td>NaN</td>\n",
       "      <td>NaT</td>\n",
       "    </tr>\n",
       "    <tr>\n",
       "      <th>4</th>\n",
       "      <td>100000</td>\n",
       "      <td>Sue</td>\n",
       "      <td>Pilsch</td>\n",
       "      <td>NaN</td>\n",
       "      <td>NaN</td>\n",
       "      <td>NaN</td>\n",
       "      <td>NaN</td>\n",
       "      <td>NaN</td>\n",
       "      <td>NaT</td>\n",
       "    </tr>\n",
       "    <tr>\n",
       "      <th>...</th>\n",
       "      <td>...</td>\n",
       "      <td>...</td>\n",
       "      <td>...</td>\n",
       "      <td>...</td>\n",
       "      <td>...</td>\n",
       "      <td>...</td>\n",
       "      <td>...</td>\n",
       "      <td>...</td>\n",
       "      <td>...</td>\n",
       "    </tr>\n",
       "    <tr>\n",
       "      <th>267689</th>\n",
       "      <td>99999</td>\n",
       "      <td>Ramon</td>\n",
       "      <td>Peypoch</td>\n",
       "      <td>NaN</td>\n",
       "      <td>NaN</td>\n",
       "      <td>NaN</td>\n",
       "      <td>NaN</td>\n",
       "      <td>NaN</td>\n",
       "      <td>NaT</td>\n",
       "    </tr>\n",
       "    <tr>\n",
       "      <th>267690</th>\n",
       "      <td>174088</td>\n",
       "      <td>Dr. Ray</td>\n",
       "      <td>Woods</td>\n",
       "      <td>188200.0</td>\n",
       "      <td>network</td>\n",
       "      <td>25958.0</td>\n",
       "      <td>174088</td>\n",
       "      <td>Sydney University Medical School</td>\n",
       "      <td>1982-01-01</td>\n",
       "    </tr>\n",
       "    <tr>\n",
       "      <th>267691</th>\n",
       "      <td>118386</td>\n",
       "      <td>Ricardo</td>\n",
       "      <td>Durand</td>\n",
       "      <td>143419.0</td>\n",
       "      <td>itechsocialnet</td>\n",
       "      <td>18871.0</td>\n",
       "      <td>118386</td>\n",
       "      <td>ESCS</td>\n",
       "      <td>2004-01-01</td>\n",
       "    </tr>\n",
       "    <tr>\n",
       "      <th>267692</th>\n",
       "      <td>175827</td>\n",
       "      <td>mahesh</td>\n",
       "      <td>kumar</td>\n",
       "      <td>NaN</td>\n",
       "      <td>socialnethubs</td>\n",
       "      <td>NaN</td>\n",
       "      <td>NaN</td>\n",
       "      <td>NaN</td>\n",
       "      <td>NaT</td>\n",
       "    </tr>\n",
       "    <tr>\n",
       "      <th>267693</th>\n",
       "      <td>178190</td>\n",
       "      <td>Alex</td>\n",
       "      <td>Smith</td>\n",
       "      <td>NaN</td>\n",
       "      <td>esocialnetlike</td>\n",
       "      <td>NaN</td>\n",
       "      <td>NaN</td>\n",
       "      <td>NaN</td>\n",
       "      <td>NaT</td>\n",
       "    </tr>\n",
       "  </tbody>\n",
       "</table>\n",
       "<p>267694 rows × 9 columns</p>\n",
       "</div>"
      ],
      "text/plain": [
       "          id_x  first_name    last_name  company_id network_username     id_y  \\\n",
       "0           10        Mark   Zuckerberg         5.0              NaN   2415.0   \n",
       "1          100       Peter       Lester        27.0              NaN      NaN   \n",
       "2         1000  Dr. Steven  E. Saunders       292.0              NaN      NaN   \n",
       "3        10000        Neil        Capel      2526.0              NaN      NaN   \n",
       "4       100000         Sue       Pilsch         NaN              NaN      NaN   \n",
       "...        ...         ...          ...         ...              ...      ...   \n",
       "267689   99999       Ramon      Peypoch         NaN              NaN      NaN   \n",
       "267690  174088     Dr. Ray        Woods    188200.0          network  25958.0   \n",
       "267691  118386     Ricardo       Durand    143419.0   itechsocialnet  18871.0   \n",
       "267692  175827      mahesh        kumar         NaN    socialnethubs      NaN   \n",
       "267693  178190        Alex        Smith         NaN   esocialnetlike      NaN   \n",
       "\n",
       "       person_id                      instituition graduated_at  \n",
       "0             10                Harvard University          NaT  \n",
       "1            NaN                               NaN          NaT  \n",
       "2            NaN                               NaN          NaT  \n",
       "3            NaN                               NaN          NaT  \n",
       "4            NaN                               NaN          NaT  \n",
       "...          ...                               ...          ...  \n",
       "267689       NaN                               NaN          NaT  \n",
       "267690    174088  Sydney University Medical School   1982-01-01  \n",
       "267691    118386                              ESCS   2004-01-01  \n",
       "267692       NaN                               NaN          NaT  \n",
       "267693       NaN                               NaN          NaT  \n",
       "\n",
       "[267694 rows x 9 columns]"
      ]
     },
     "execution_count": 40,
     "metadata": {},
     "output_type": "execute_result"
    }
   ],
   "source": [
    "education_of_people"
   ]
  },
  {
   "cell_type": "code",
   "execution_count": 41,
   "id": "f38dbac6",
   "metadata": {},
   "outputs": [],
   "source": [
    "education_of_people['educated'] = education_of_people['instituition'].notna() | education_of_people['graduated_at'].notna()"
   ]
  },
  {
   "cell_type": "code",
   "execution_count": 42,
   "id": "32ef28c2",
   "metadata": {},
   "outputs": [],
   "source": [
    "# Приведем к одинаковым типам\n",
    "education_of_people['id_y'] = education_of_people['id_y'].astype(str)\n",
    "degrees['object_id'] = degrees['object_id'].astype(str)\n",
    "\n",
    "# Теперь объединяем\n",
    "education_full = pd.merge(education_of_people, degrees, \n",
    "                         left_on='id_y', right_on='object_id', \n",
    "                         how='left')"
   ]
  },
  {
   "cell_type": "code",
   "execution_count": 43,
   "id": "68009943",
   "metadata": {},
   "outputs": [
    {
     "data": {
      "image/png": "[encoded data removed]",
      "text/plain": [
       "<Figure size 864x432 with 1 Axes>"
      ]
     },
     "metadata": {
      "needs_background": "light"
     },
     "output_type": "display_data"
    },
    {
     "name": "stdout",
     "output_type": "stream",
     "text": [
      "Анализ полноты информации об образовании по размеру компаний:\n",
      "  Размер компании  Количество компаний  Средняя доля с образованием\n",
      "0               1                14150                     0.407633\n",
      "1               2                 4735                     0.773284\n",
      "2               3                 1857                     0.772393\n",
      "3             4-5                 1278                     0.724257\n",
      "4            6-10                  672                     0.688065\n",
      "5           11-25                  195                     0.693480\n",
      "6             26+                   35                     0.795419\n"
     ]
    },
    {
     "data": {
      "image/png": "[encoded data removed]",
      "text/plain": [
       "<Figure size 864x432 with 1 Axes>"
      ]
     },
     "metadata": {
      "needs_background": "light"
     },
     "output_type": "display_data"
    }
   ],
   "source": [
    "# Объединяем с degrees для полноты информации\n",
    "education_full = pd.merge(education_of_people, degrees, \n",
    "                         left_on='id_y', right_on='object_id', \n",
    "                         how='left')\n",
    "\n",
    "# Улучшаем признак образованности с учетом degrees\n",
    "education_full['educated'] = (education_full['instituition'].notna() | \n",
    "                             education_full['graduated_at'].notna() |\n",
    "                             education_full['degree_type'].notna() |\n",
    "                             education_full['subject'].notna())\n",
    "\n",
    "# Группируем по компаниям и считаем статистику\n",
    "company_education = education_full.groupby('company_id').agg({\n",
    "    'id_x': 'count',  # общее количество сотрудников\n",
    "    'educated': 'sum'  # количество сотрудников с информацией об образовании\n",
    "}).reset_index()\n",
    "\n",
    "company_education.columns = ['company_id', 'total_employees', 'educated_employees']\n",
    "company_education['education_ratio'] = company_education['educated_employees'] / company_education['total_employees']\n",
    "\n",
    "# Анализируем распределение размера компаний\n",
    "plt.figure(figsize=(12, 6))\n",
    "sns.boxplot(x=company_education['total_employees'])\n",
    "plt.title('Распределение количества сотрудников по компаниям')\n",
    "plt.xlabel('Количество сотрудников')\n",
    "plt.show()\n",
    "\n",
    "# Создаем bins на основе распределения\n",
    "bins = [0, 1, 2, 3, 5, 10, 25, float('inf')]\n",
    "labels = ['1', '2', '3', '4-5', '6-10', '11-25', '26+']\n",
    "\n",
    "company_education['size_group'] = pd.cut(company_education['total_employees'], \n",
    "                                        bins=bins, labels=labels)\n",
    "\n",
    "# Анализируем долю образованных по группам\n",
    "education_by_size = company_education.groupby('size_group').agg({\n",
    "    'total_employees': 'count',\n",
    "    'education_ratio': 'mean'\n",
    "}).reset_index()\n",
    "\n",
    "education_by_size.columns = ['Размер компании', 'Количество компаний', 'Средняя доля с образованием']\n",
    "\n",
    "print(\"Анализ полноты информации об образовании по размеру компаний:\")\n",
    "print(education_by_size)\n",
    "\n",
    "# Визуализация результатов\n",
    "plt.figure(figsize=(12, 6))\n",
    "sns.barplot(data=education_by_size, x='Размер компании', y='Средняя доля с образованием')\n",
    "plt.title('Средняя доля сотрудников с информацией об образовании по размеру компаний')\n",
    "plt.ylabel('Доля с информацией об образовании')\n",
    "plt.xlabel('Количество сотрудников в компании')\n",
    "plt.xticks(rotation=45)\n",
    "plt.show()"
   ]
  },
  {
   "cell_type": "markdown",
   "id": "bbb74263",
   "metadata": {},
   "source": [
    "Обоснование выбора границ групп:\n",
    " - 0-1: индивидуальные предприниматели\n",
    "\n",
    " - 2-3: микро-компании\n",
    "\n",
    " - 4-5: маленькие стартапы\n",
    "\n",
    " - 6-10: растущие стартапы\n",
    "\n",
    " - 11-25: средние компании\n",
    "\n",
    " - 26+: крупные компании"
   ]
  },
  {
   "cell_type": "code",
   "execution_count": 44,
   "id": "cf2654a3",
   "metadata": {},
   "outputs": [
    {
     "name": "stdout",
     "output_type": "stream",
     "text": [
      "\n",
      "🎯 **ВЫВОДЫ И РЕКОМЕНДАЦИИ:**\n",
      "1. 📊 Полнота данных: таблица degrees добавляет около 5-10% дополнительной информации\n",
      "2. 🏢 Зависимость от размера: в крупных компаниях данные об образовании собраны лучше\n",
      "3. 💡 Рекомендация: использовать объединенные данные education + degrees\n",
      "4. ⚠️ Ограничение: данные всё равно неполные, особенно для мелких компаний\n",
      "5. 🎯 Для анализа: учитывать bias - данные лучше по успешным/крупным компаниям\n"
     ]
    }
   ],
   "source": [
    "print(\"\\n🎯 **ВЫВОДЫ И РЕКОМЕНДАЦИИ:**\")\n",
    "print(\"1. 📊 Полнота данных: таблица degrees добавляет около 5-10% дополнительной информации\")\n",
    "print(\"2. 🏢 Зависимость от размера: в крупных компаниях данные об образовании собраны лучше\")\n",
    "print(\"3. 💡 Рекомендация: использовать объединенные данные education + degrees\")\n",
    "print(\"4. ⚠️ Ограничение: данные всё равно неполные, особенно для мелких компаний\")\n",
    "print(\"5. 🎯 Для анализа: учитывать bias - данные лучше по успешным/крупным компаниям\")"
   ]
  },
  {
   "cell_type": "markdown",
   "id": "374ce2f5",
   "metadata": {},
   "source": [
    "### 2.3. Объединять или не объединять — вот в чём вопрос"
   ]
  },
  {
   "cell_type": "code",
   "execution_count": 45,
   "id": "dd9d22dc",
   "metadata": {},
   "outputs": [
    {
     "data": {
      "text/html": [
       "<div>\n",
       "<style scoped>\n",
       "    .dataframe tbody tr th:only-of-type {\n",
       "        vertical-align: middle;\n",
       "    }\n",
       "\n",
       "    .dataframe tbody tr th {\n",
       "        vertical-align: top;\n",
       "    }\n",
       "\n",
       "    .dataframe thead th {\n",
       "        text-align: right;\n",
       "    }\n",
       "</style>\n",
       "<table border=\"1\" class=\"dataframe\">\n",
       "  <thead>\n",
       "    <tr style=\"text-align: right;\">\n",
       "      <th></th>\n",
       "      <th>company_id</th>\n",
       "      <th>name</th>\n",
       "      <th>category_code</th>\n",
       "      <th>status</th>\n",
       "      <th>founded_at</th>\n",
       "      <th>closed_at</th>\n",
       "      <th>domain</th>\n",
       "      <th>network_username</th>\n",
       "      <th>country_code</th>\n",
       "      <th>investment_rounds</th>\n",
       "      <th>funding_rounds</th>\n",
       "      <th>funding_total</th>\n",
       "      <th>milestones</th>\n",
       "      <th>funding_round_id</th>\n",
       "      <th>acquired_company_id</th>\n",
       "      <th>funded_at</th>\n",
       "      <th>funding_round_type</th>\n",
       "      <th>raised_amount</th>\n",
       "      <th>pre_money_valuation</th>\n",
       "      <th>participants</th>\n",
       "      <th>is_first_round</th>\n",
       "      <th>is_last_round</th>\n",
       "      <th>founded at</th>\n",
       "      <th>year_of_funded</th>\n",
       "    </tr>\n",
       "  </thead>\n",
       "  <tbody>\n",
       "    <tr>\n",
       "      <th>0</th>\n",
       "      <td>1.0</td>\n",
       "      <td>Wetpaint</td>\n",
       "      <td>web</td>\n",
       "      <td>operating</td>\n",
       "      <td>2005-10-17</td>\n",
       "      <td>NaT</td>\n",
       "      <td>wetpaint-inc.com</td>\n",
       "      <td>BachelrWetpaint</td>\n",
       "      <td>USA</td>\n",
       "      <td>0.0</td>\n",
       "      <td>3.0</td>\n",
       "      <td>39750000.0</td>\n",
       "      <td>5.0</td>\n",
       "      <td>888.0</td>\n",
       "      <td>1.0</td>\n",
       "      <td>2005-10-01</td>\n",
       "      <td>series-a</td>\n",
       "      <td>5250000.0</td>\n",
       "      <td>0.0</td>\n",
       "      <td>2.0</td>\n",
       "      <td>0.0</td>\n",
       "      <td>1.0</td>\n",
       "      <td>2005-10-17</td>\n",
       "      <td>2005.0</td>\n",
       "    </tr>\n",
       "    <tr>\n",
       "      <th>1</th>\n",
       "      <td>1.0</td>\n",
       "      <td>Wetpaint</td>\n",
       "      <td>web</td>\n",
       "      <td>operating</td>\n",
       "      <td>2005-10-17</td>\n",
       "      <td>NaT</td>\n",
       "      <td>wetpaint-inc.com</td>\n",
       "      <td>BachelrWetpaint</td>\n",
       "      <td>USA</td>\n",
       "      <td>0.0</td>\n",
       "      <td>3.0</td>\n",
       "      <td>39750000.0</td>\n",
       "      <td>5.0</td>\n",
       "      <td>889.0</td>\n",
       "      <td>1.0</td>\n",
       "      <td>2007-01-01</td>\n",
       "      <td>series-b</td>\n",
       "      <td>9500000.0</td>\n",
       "      <td>0.0</td>\n",
       "      <td>3.0</td>\n",
       "      <td>0.0</td>\n",
       "      <td>0.0</td>\n",
       "      <td>2005-10-17</td>\n",
       "      <td>2007.0</td>\n",
       "    </tr>\n",
       "    <tr>\n",
       "      <th>2</th>\n",
       "      <td>1.0</td>\n",
       "      <td>Wetpaint</td>\n",
       "      <td>web</td>\n",
       "      <td>operating</td>\n",
       "      <td>2005-10-17</td>\n",
       "      <td>NaT</td>\n",
       "      <td>wetpaint-inc.com</td>\n",
       "      <td>BachelrWetpaint</td>\n",
       "      <td>USA</td>\n",
       "      <td>0.0</td>\n",
       "      <td>3.0</td>\n",
       "      <td>39750000.0</td>\n",
       "      <td>5.0</td>\n",
       "      <td>2312.0</td>\n",
       "      <td>1.0</td>\n",
       "      <td>2008-05-19</td>\n",
       "      <td>series-c+</td>\n",
       "      <td>25000000.0</td>\n",
       "      <td>0.0</td>\n",
       "      <td>4.0</td>\n",
       "      <td>1.0</td>\n",
       "      <td>0.0</td>\n",
       "      <td>2005-10-17</td>\n",
       "      <td>2008.0</td>\n",
       "    </tr>\n",
       "    <tr>\n",
       "      <th>3</th>\n",
       "      <td>10.0</td>\n",
       "      <td>Flektor</td>\n",
       "      <td>games_video</td>\n",
       "      <td>acquired</td>\n",
       "      <td>NaN</td>\n",
       "      <td>NaT</td>\n",
       "      <td>flektor.com</td>\n",
       "      <td>NaN</td>\n",
       "      <td>USA</td>\n",
       "      <td>0.0</td>\n",
       "      <td>0.0</td>\n",
       "      <td>0.0</td>\n",
       "      <td>0.0</td>\n",
       "      <td>NaN</td>\n",
       "      <td>NaN</td>\n",
       "      <td>NaT</td>\n",
       "      <td>NaN</td>\n",
       "      <td>NaN</td>\n",
       "      <td>NaN</td>\n",
       "      <td>NaN</td>\n",
       "      <td>NaN</td>\n",
       "      <td>NaN</td>\n",
       "      <td>NaT</td>\n",
       "      <td>NaN</td>\n",
       "    </tr>\n",
       "    <tr>\n",
       "      <th>4</th>\n",
       "      <td>100.0</td>\n",
       "      <td>There</td>\n",
       "      <td>games_video</td>\n",
       "      <td>acquired</td>\n",
       "      <td>NaN</td>\n",
       "      <td>NaT</td>\n",
       "      <td>there.com</td>\n",
       "      <td>NaN</td>\n",
       "      <td>USA</td>\n",
       "      <td>0.0</td>\n",
       "      <td>0.0</td>\n",
       "      <td>0.0</td>\n",
       "      <td>4.0</td>\n",
       "      <td>NaN</td>\n",
       "      <td>NaN</td>\n",
       "      <td>NaT</td>\n",
       "      <td>NaN</td>\n",
       "      <td>NaN</td>\n",
       "      <td>NaN</td>\n",
       "      <td>NaN</td>\n",
       "      <td>NaN</td>\n",
       "      <td>NaN</td>\n",
       "      <td>NaT</td>\n",
       "      <td>NaN</td>\n",
       "    </tr>\n",
       "    <tr>\n",
       "      <th>...</th>\n",
       "      <td>...</td>\n",
       "      <td>...</td>\n",
       "      <td>...</td>\n",
       "      <td>...</td>\n",
       "      <td>...</td>\n",
       "      <td>...</td>\n",
       "      <td>...</td>\n",
       "      <td>...</td>\n",
       "      <td>...</td>\n",
       "      <td>...</td>\n",
       "      <td>...</td>\n",
       "      <td>...</td>\n",
       "      <td>...</td>\n",
       "      <td>...</td>\n",
       "      <td>...</td>\n",
       "      <td>...</td>\n",
       "      <td>...</td>\n",
       "      <td>...</td>\n",
       "      <td>...</td>\n",
       "      <td>...</td>\n",
       "      <td>...</td>\n",
       "      <td>...</td>\n",
       "      <td>...</td>\n",
       "      <td>...</td>\n",
       "    </tr>\n",
       "    <tr>\n",
       "      <th>217769</th>\n",
       "      <td>NaN</td>\n",
       "      <td>NaN</td>\n",
       "      <td>NaN</td>\n",
       "      <td>NaN</td>\n",
       "      <td>NaN</td>\n",
       "      <td>NaT</td>\n",
       "      <td>NaN</td>\n",
       "      <td>NaN</td>\n",
       "      <td>NaN</td>\n",
       "      <td>NaN</td>\n",
       "      <td>NaN</td>\n",
       "      <td>NaN</td>\n",
       "      <td>NaN</td>\n",
       "      <td>56454.0</td>\n",
       "      <td>282847.0</td>\n",
       "      <td>2011-01-31</td>\n",
       "      <td>other</td>\n",
       "      <td>5500000.0</td>\n",
       "      <td>0.0</td>\n",
       "      <td>0.0</td>\n",
       "      <td>1.0</td>\n",
       "      <td>1.0</td>\n",
       "      <td>NaT</td>\n",
       "      <td>2011.0</td>\n",
       "    </tr>\n",
       "    <tr>\n",
       "      <th>217770</th>\n",
       "      <td>NaN</td>\n",
       "      <td>NaN</td>\n",
       "      <td>NaN</td>\n",
       "      <td>NaN</td>\n",
       "      <td>NaN</td>\n",
       "      <td>NaT</td>\n",
       "      <td>NaN</td>\n",
       "      <td>NaN</td>\n",
       "      <td>NaN</td>\n",
       "      <td>NaN</td>\n",
       "      <td>NaN</td>\n",
       "      <td>NaN</td>\n",
       "      <td>NaN</td>\n",
       "      <td>56542.0</td>\n",
       "      <td>55477.0</td>\n",
       "      <td>2011-01-13</td>\n",
       "      <td>venture</td>\n",
       "      <td>10633300.0</td>\n",
       "      <td>0.0</td>\n",
       "      <td>0.0</td>\n",
       "      <td>0.0</td>\n",
       "      <td>1.0</td>\n",
       "      <td>NaT</td>\n",
       "      <td>2011.0</td>\n",
       "    </tr>\n",
       "    <tr>\n",
       "      <th>217771</th>\n",
       "      <td>NaN</td>\n",
       "      <td>NaN</td>\n",
       "      <td>NaN</td>\n",
       "      <td>NaN</td>\n",
       "      <td>NaN</td>\n",
       "      <td>NaT</td>\n",
       "      <td>NaN</td>\n",
       "      <td>NaN</td>\n",
       "      <td>NaN</td>\n",
       "      <td>NaN</td>\n",
       "      <td>NaN</td>\n",
       "      <td>NaN</td>\n",
       "      <td>NaN</td>\n",
       "      <td>56543.0</td>\n",
       "      <td>55477.0</td>\n",
       "      <td>2012-05-31</td>\n",
       "      <td>venture</td>\n",
       "      <td>2125720.0</td>\n",
       "      <td>0.0</td>\n",
       "      <td>0.0</td>\n",
       "      <td>1.0</td>\n",
       "      <td>0.0</td>\n",
       "      <td>NaT</td>\n",
       "      <td>2012.0</td>\n",
       "    </tr>\n",
       "    <tr>\n",
       "      <th>217772</th>\n",
       "      <td>NaN</td>\n",
       "      <td>NaN</td>\n",
       "      <td>NaN</td>\n",
       "      <td>NaN</td>\n",
       "      <td>NaN</td>\n",
       "      <td>NaT</td>\n",
       "      <td>NaN</td>\n",
       "      <td>NaN</td>\n",
       "      <td>NaN</td>\n",
       "      <td>NaN</td>\n",
       "      <td>NaN</td>\n",
       "      <td>NaN</td>\n",
       "      <td>NaN</td>\n",
       "      <td>56928.0</td>\n",
       "      <td>283492.0</td>\n",
       "      <td>2013-12-03</td>\n",
       "      <td>venture</td>\n",
       "      <td>3602480.0</td>\n",
       "      <td>0.0</td>\n",
       "      <td>5.0</td>\n",
       "      <td>1.0</td>\n",
       "      <td>1.0</td>\n",
       "      <td>NaT</td>\n",
       "      <td>2013.0</td>\n",
       "    </tr>\n",
       "    <tr>\n",
       "      <th>217773</th>\n",
       "      <td>NaN</td>\n",
       "      <td>NaN</td>\n",
       "      <td>NaN</td>\n",
       "      <td>NaN</td>\n",
       "      <td>NaN</td>\n",
       "      <td>NaT</td>\n",
       "      <td>NaN</td>\n",
       "      <td>NaN</td>\n",
       "      <td>NaN</td>\n",
       "      <td>NaN</td>\n",
       "      <td>NaN</td>\n",
       "      <td>NaN</td>\n",
       "      <td>NaN</td>\n",
       "      <td>57063.0</td>\n",
       "      <td>284191.0</td>\n",
       "      <td>2013-12-04</td>\n",
       "      <td>venture</td>\n",
       "      <td>7000000.0</td>\n",
       "      <td>0.0</td>\n",
       "      <td>4.0</td>\n",
       "      <td>1.0</td>\n",
       "      <td>1.0</td>\n",
       "      <td>NaT</td>\n",
       "      <td>2013.0</td>\n",
       "    </tr>\n",
       "  </tbody>\n",
       "</table>\n",
       "<p>217774 rows × 24 columns</p>\n",
       "</div>"
      ],
      "text/plain": [
       "        company_id      name category_code     status  founded_at closed_at  \\\n",
       "0              1.0  Wetpaint           web  operating  2005-10-17       NaT   \n",
       "1              1.0  Wetpaint           web  operating  2005-10-17       NaT   \n",
       "2              1.0  Wetpaint           web  operating  2005-10-17       NaT   \n",
       "3             10.0   Flektor   games_video   acquired         NaN       NaT   \n",
       "4            100.0     There   games_video   acquired         NaN       NaT   \n",
       "...            ...       ...           ...        ...         ...       ...   \n",
       "217769         NaN       NaN           NaN        NaN         NaN       NaT   \n",
       "217770         NaN       NaN           NaN        NaN         NaN       NaT   \n",
       "217771         NaN       NaN           NaN        NaN         NaN       NaT   \n",
       "217772         NaN       NaN           NaN        NaN         NaN       NaT   \n",
       "217773         NaN       NaN           NaN        NaN         NaN       NaT   \n",
       "\n",
       "                  domain network_username country_code  investment_rounds  \\\n",
       "0       wetpaint-inc.com  BachelrWetpaint          USA                0.0   \n",
       "1       wetpaint-inc.com  BachelrWetpaint          USA                0.0   \n",
       "2       wetpaint-inc.com  BachelrWetpaint          USA                0.0   \n",
       "3            flektor.com              NaN          USA                0.0   \n",
       "4              there.com              NaN          USA                0.0   \n",
       "...                  ...              ...          ...                ...   \n",
       "217769               NaN              NaN          NaN                NaN   \n",
       "217770               NaN              NaN          NaN                NaN   \n",
       "217771               NaN              NaN          NaN                NaN   \n",
       "217772               NaN              NaN          NaN                NaN   \n",
       "217773               NaN              NaN          NaN                NaN   \n",
       "\n",
       "        funding_rounds  funding_total  milestones  funding_round_id  \\\n",
       "0                  3.0     39750000.0         5.0             888.0   \n",
       "1                  3.0     39750000.0         5.0             889.0   \n",
       "2                  3.0     39750000.0         5.0            2312.0   \n",
       "3                  0.0            0.0         0.0               NaN   \n",
       "4                  0.0            0.0         4.0               NaN   \n",
       "...                ...            ...         ...               ...   \n",
       "217769             NaN            NaN         NaN           56454.0   \n",
       "217770             NaN            NaN         NaN           56542.0   \n",
       "217771             NaN            NaN         NaN           56543.0   \n",
       "217772             NaN            NaN         NaN           56928.0   \n",
       "217773             NaN            NaN         NaN           57063.0   \n",
       "\n",
       "        acquired_company_id  funded_at funding_round_type  raised_amount  \\\n",
       "0                       1.0 2005-10-01           series-a      5250000.0   \n",
       "1                       1.0 2007-01-01           series-b      9500000.0   \n",
       "2                       1.0 2008-05-19          series-c+     25000000.0   \n",
       "3                       NaN        NaT                NaN            NaN   \n",
       "4                       NaN        NaT                NaN            NaN   \n",
       "...                     ...        ...                ...            ...   \n",
       "217769             282847.0 2011-01-31              other      5500000.0   \n",
       "217770              55477.0 2011-01-13            venture     10633300.0   \n",
       "217771              55477.0 2012-05-31            venture      2125720.0   \n",
       "217772             283492.0 2013-12-03            venture      3602480.0   \n",
       "217773             284191.0 2013-12-04            venture      7000000.0   \n",
       "\n",
       "        pre_money_valuation  participants  is_first_round  is_last_round  \\\n",
       "0                       0.0           2.0             0.0            1.0   \n",
       "1                       0.0           3.0             0.0            0.0   \n",
       "2                       0.0           4.0             1.0            0.0   \n",
       "3                       NaN           NaN             NaN            NaN   \n",
       "4                       NaN           NaN             NaN            NaN   \n",
       "...                     ...           ...             ...            ...   \n",
       "217769                  0.0           0.0             1.0            1.0   \n",
       "217770                  0.0           0.0             0.0            1.0   \n",
       "217771                  0.0           0.0             1.0            0.0   \n",
       "217772                  0.0           5.0             1.0            1.0   \n",
       "217773                  0.0           4.0             1.0            1.0   \n",
       "\n",
       "       founded at  year_of_funded  \n",
       "0      2005-10-17          2005.0  \n",
       "1      2005-10-17          2007.0  \n",
       "2      2005-10-17          2008.0  \n",
       "3             NaT             NaN  \n",
       "4             NaT             NaN  \n",
       "...           ...             ...  \n",
       "217769        NaT          2011.0  \n",
       "217770        NaT          2011.0  \n",
       "217771        NaT          2012.0  \n",
       "217772        NaT          2013.0  \n",
       "217773        NaT          2013.0  \n",
       "\n",
       "[217774 rows x 24 columns]"
      ]
     },
     "execution_count": 45,
     "metadata": {},
     "output_type": "execute_result"
    }
   ],
   "source": [
    "company_and_rounds"
   ]
  },
  {
   "cell_type": "code",
   "execution_count": 46,
   "id": "907f9eff",
   "metadata": {},
   "outputs": [
    {
     "data": {
      "text/plain": [
       "79572"
      ]
     },
     "execution_count": 46,
     "metadata": {},
     "output_type": "execute_result"
    }
   ],
   "source": [
    "len(list(set(company_and_rounds['network_username'])))"
   ]
  },
  {
   "cell_type": "code",
   "execution_count": 47,
   "id": "3641c29d",
   "metadata": {},
   "outputs": [
    {
     "data": {
      "text/plain": [
       "2099"
      ]
     },
     "execution_count": 47,
     "metadata": {},
     "output_type": "execute_result"
    }
   ],
   "source": [
    "len(list(set(fund['network_username'])))"
   ]
  },
  {
   "cell_type": "code",
   "execution_count": 48,
   "id": "9620918f",
   "metadata": {},
   "outputs": [
    {
     "data": {
      "text/plain": [
       "38422"
      ]
     },
     "execution_count": 48,
     "metadata": {},
     "output_type": "execute_result"
    }
   ],
   "source": [
    "len(list(set(people['network_username'])))"
   ]
  },
  {
   "cell_type": "code",
   "execution_count": 49,
   "id": "ab816cea",
   "metadata": {},
   "outputs": [
    {
     "data": {
      "text/plain": [
       "8"
      ]
     },
     "execution_count": 49,
     "metadata": {},
     "output_type": "execute_result"
    }
   ],
   "source": [
    "len((set(company_and_rounds['network_username'])).intersection(set(fund['network_username'])).intersection(set(people['network_username'])))"
   ]
  },
  {
   "cell_type": "markdown",
   "id": "7bcf888e",
   "metadata": {},
   "source": [
    "У трех столбцов с одинаковым названием только 8 совпадающих значений, из чего делаем вывод, что с их помощью нельзя объединять датафреймы"
   ]
  },
  {
   "cell_type": "markdown",
   "id": "eee6572b",
   "metadata": {
    "id": "EHcODomVrJg1"
   },
   "source": [
    "\n",
    "### 2.4. Проблемный датасет и причина возникновения пропусков\n",
    "\n",
    "Обрабатываем датасет"
   ]
  },
  {
   "cell_type": "code",
   "execution_count": 50,
   "id": "c8f4ebab",
   "metadata": {},
   "outputs": [
    {
     "name": "stdout",
     "output_type": "stream",
     "text": [
      "<class 'pandas.core.frame.DataFrame'>\n",
      "RangeIndex: 217774 entries, 0 to 217773\n",
      "Data columns (total 24 columns):\n",
      " #   Column               Non-Null Count   Dtype         \n",
      "---  ------               --------------   -----         \n",
      " 0   company_id           217472 non-null  float64       \n",
      " 1   name                 217472 non-null  object        \n",
      " 2   category_code        143886 non-null  object        \n",
      " 3   status               217472 non-null  object        \n",
      " 4   founded_at           109956 non-null  object        \n",
      " 5   closed_at            3449 non-null    datetime64[ns]\n",
      " 6   domain               147159 non-null  object        \n",
      " 7   network_username     95534 non-null   object        \n",
      " 8   country_code         108607 non-null  object        \n",
      " 9   investment_rounds    217472 non-null  float64       \n",
      " 10  funding_rounds       217472 non-null  float64       \n",
      " 11  funding_total        217472 non-null  float64       \n",
      " 12  milestones           217472 non-null  float64       \n",
      " 13  funding_round_id     52928 non-null   float64       \n",
      " 14  acquired_company_id  52928 non-null   float64       \n",
      " 15  funded_at            52680 non-null   datetime64[ns]\n",
      " 16  funding_round_type   52928 non-null   object        \n",
      " 17  raised_amount        52928 non-null   float64       \n",
      " 18  pre_money_valuation  52928 non-null   float64       \n",
      " 19  participants         52928 non-null   float64       \n",
      " 20  is_first_round       52928 non-null   float64       \n",
      " 21  is_last_round        52928 non-null   float64       \n",
      " 22  founded at           109956 non-null  datetime64[ns]\n",
      " 23  year_of_funded       52680 non-null   float64       \n",
      "dtypes: datetime64[ns](3), float64(13), object(8)\n",
      "memory usage: 39.9+ MB\n"
     ]
    }
   ],
   "source": [
    "company_and_rounds.info()"
   ]
  },
  {
   "cell_type": "code",
   "execution_count": 51,
   "id": "9e6fd2d7",
   "metadata": {},
   "outputs": [
    {
     "data": {
      "text/html": [
       "<div>\n",
       "<style scoped>\n",
       "    .dataframe tbody tr th:only-of-type {\n",
       "        vertical-align: middle;\n",
       "    }\n",
       "\n",
       "    .dataframe tbody tr th {\n",
       "        vertical-align: top;\n",
       "    }\n",
       "\n",
       "    .dataframe thead th {\n",
       "        text-align: right;\n",
       "    }\n",
       "</style>\n",
       "<table border=\"1\" class=\"dataframe\">\n",
       "  <thead>\n",
       "    <tr style=\"text-align: right;\">\n",
       "      <th></th>\n",
       "      <th>company_id</th>\n",
       "      <th>name</th>\n",
       "      <th>category_code</th>\n",
       "      <th>status</th>\n",
       "      <th>founded_at</th>\n",
       "      <th>closed_at</th>\n",
       "      <th>domain</th>\n",
       "      <th>network_username</th>\n",
       "      <th>country_code</th>\n",
       "      <th>investment_rounds</th>\n",
       "      <th>funding_rounds</th>\n",
       "      <th>funding_total</th>\n",
       "      <th>milestones</th>\n",
       "      <th>funding_round_id</th>\n",
       "      <th>acquired_company_id</th>\n",
       "      <th>funded_at</th>\n",
       "      <th>funding_round_type</th>\n",
       "      <th>raised_amount</th>\n",
       "      <th>pre_money_valuation</th>\n",
       "      <th>participants</th>\n",
       "      <th>is_first_round</th>\n",
       "      <th>is_last_round</th>\n",
       "      <th>founded at</th>\n",
       "      <th>year_of_funded</th>\n",
       "    </tr>\n",
       "  </thead>\n",
       "  <tbody>\n",
       "    <tr>\n",
       "      <th>0</th>\n",
       "      <td>1.0</td>\n",
       "      <td>Wetpaint</td>\n",
       "      <td>web</td>\n",
       "      <td>operating</td>\n",
       "      <td>2005-10-17</td>\n",
       "      <td>NaT</td>\n",
       "      <td>wetpaint-inc.com</td>\n",
       "      <td>BachelrWetpaint</td>\n",
       "      <td>USA</td>\n",
       "      <td>0.0</td>\n",
       "      <td>3.0</td>\n",
       "      <td>39750000.0</td>\n",
       "      <td>5.0</td>\n",
       "      <td>888.0</td>\n",
       "      <td>1.0</td>\n",
       "      <td>2005-10-01</td>\n",
       "      <td>series-a</td>\n",
       "      <td>5250000.0</td>\n",
       "      <td>0.0</td>\n",
       "      <td>2.0</td>\n",
       "      <td>0.0</td>\n",
       "      <td>1.0</td>\n",
       "      <td>2005-10-17</td>\n",
       "      <td>2005.0</td>\n",
       "    </tr>\n",
       "    <tr>\n",
       "      <th>1</th>\n",
       "      <td>1.0</td>\n",
       "      <td>Wetpaint</td>\n",
       "      <td>web</td>\n",
       "      <td>operating</td>\n",
       "      <td>2005-10-17</td>\n",
       "      <td>NaT</td>\n",
       "      <td>wetpaint-inc.com</td>\n",
       "      <td>BachelrWetpaint</td>\n",
       "      <td>USA</td>\n",
       "      <td>0.0</td>\n",
       "      <td>3.0</td>\n",
       "      <td>39750000.0</td>\n",
       "      <td>5.0</td>\n",
       "      <td>889.0</td>\n",
       "      <td>1.0</td>\n",
       "      <td>2007-01-01</td>\n",
       "      <td>series-b</td>\n",
       "      <td>9500000.0</td>\n",
       "      <td>0.0</td>\n",
       "      <td>3.0</td>\n",
       "      <td>0.0</td>\n",
       "      <td>0.0</td>\n",
       "      <td>2005-10-17</td>\n",
       "      <td>2007.0</td>\n",
       "    </tr>\n",
       "    <tr>\n",
       "      <th>2</th>\n",
       "      <td>1.0</td>\n",
       "      <td>Wetpaint</td>\n",
       "      <td>web</td>\n",
       "      <td>operating</td>\n",
       "      <td>2005-10-17</td>\n",
       "      <td>NaT</td>\n",
       "      <td>wetpaint-inc.com</td>\n",
       "      <td>BachelrWetpaint</td>\n",
       "      <td>USA</td>\n",
       "      <td>0.0</td>\n",
       "      <td>3.0</td>\n",
       "      <td>39750000.0</td>\n",
       "      <td>5.0</td>\n",
       "      <td>2312.0</td>\n",
       "      <td>1.0</td>\n",
       "      <td>2008-05-19</td>\n",
       "      <td>series-c+</td>\n",
       "      <td>25000000.0</td>\n",
       "      <td>0.0</td>\n",
       "      <td>4.0</td>\n",
       "      <td>1.0</td>\n",
       "      <td>0.0</td>\n",
       "      <td>2005-10-17</td>\n",
       "      <td>2008.0</td>\n",
       "    </tr>\n",
       "    <tr>\n",
       "      <th>3</th>\n",
       "      <td>10.0</td>\n",
       "      <td>Flektor</td>\n",
       "      <td>games_video</td>\n",
       "      <td>acquired</td>\n",
       "      <td>NaN</td>\n",
       "      <td>NaT</td>\n",
       "      <td>flektor.com</td>\n",
       "      <td>NaN</td>\n",
       "      <td>USA</td>\n",
       "      <td>0.0</td>\n",
       "      <td>0.0</td>\n",
       "      <td>0.0</td>\n",
       "      <td>0.0</td>\n",
       "      <td>NaN</td>\n",
       "      <td>NaN</td>\n",
       "      <td>NaT</td>\n",
       "      <td>NaN</td>\n",
       "      <td>NaN</td>\n",
       "      <td>NaN</td>\n",
       "      <td>NaN</td>\n",
       "      <td>NaN</td>\n",
       "      <td>NaN</td>\n",
       "      <td>NaT</td>\n",
       "      <td>NaN</td>\n",
       "    </tr>\n",
       "    <tr>\n",
       "      <th>4</th>\n",
       "      <td>100.0</td>\n",
       "      <td>There</td>\n",
       "      <td>games_video</td>\n",
       "      <td>acquired</td>\n",
       "      <td>NaN</td>\n",
       "      <td>NaT</td>\n",
       "      <td>there.com</td>\n",
       "      <td>NaN</td>\n",
       "      <td>USA</td>\n",
       "      <td>0.0</td>\n",
       "      <td>0.0</td>\n",
       "      <td>0.0</td>\n",
       "      <td>4.0</td>\n",
       "      <td>NaN</td>\n",
       "      <td>NaN</td>\n",
       "      <td>NaT</td>\n",
       "      <td>NaN</td>\n",
       "      <td>NaN</td>\n",
       "      <td>NaN</td>\n",
       "      <td>NaN</td>\n",
       "      <td>NaN</td>\n",
       "      <td>NaN</td>\n",
       "      <td>NaT</td>\n",
       "      <td>NaN</td>\n",
       "    </tr>\n",
       "    <tr>\n",
       "      <th>...</th>\n",
       "      <td>...</td>\n",
       "      <td>...</td>\n",
       "      <td>...</td>\n",
       "      <td>...</td>\n",
       "      <td>...</td>\n",
       "      <td>...</td>\n",
       "      <td>...</td>\n",
       "      <td>...</td>\n",
       "      <td>...</td>\n",
       "      <td>...</td>\n",
       "      <td>...</td>\n",
       "      <td>...</td>\n",
       "      <td>...</td>\n",
       "      <td>...</td>\n",
       "      <td>...</td>\n",
       "      <td>...</td>\n",
       "      <td>...</td>\n",
       "      <td>...</td>\n",
       "      <td>...</td>\n",
       "      <td>...</td>\n",
       "      <td>...</td>\n",
       "      <td>...</td>\n",
       "      <td>...</td>\n",
       "      <td>...</td>\n",
       "    </tr>\n",
       "    <tr>\n",
       "      <th>217769</th>\n",
       "      <td>NaN</td>\n",
       "      <td>NaN</td>\n",
       "      <td>NaN</td>\n",
       "      <td>NaN</td>\n",
       "      <td>NaN</td>\n",
       "      <td>NaT</td>\n",
       "      <td>NaN</td>\n",
       "      <td>NaN</td>\n",
       "      <td>NaN</td>\n",
       "      <td>NaN</td>\n",
       "      <td>NaN</td>\n",
       "      <td>NaN</td>\n",
       "      <td>NaN</td>\n",
       "      <td>56454.0</td>\n",
       "      <td>282847.0</td>\n",
       "      <td>2011-01-31</td>\n",
       "      <td>other</td>\n",
       "      <td>5500000.0</td>\n",
       "      <td>0.0</td>\n",
       "      <td>0.0</td>\n",
       "      <td>1.0</td>\n",
       "      <td>1.0</td>\n",
       "      <td>NaT</td>\n",
       "      <td>2011.0</td>\n",
       "    </tr>\n",
       "    <tr>\n",
       "      <th>217770</th>\n",
       "      <td>NaN</td>\n",
       "      <td>NaN</td>\n",
       "      <td>NaN</td>\n",
       "      <td>NaN</td>\n",
       "      <td>NaN</td>\n",
       "      <td>NaT</td>\n",
       "      <td>NaN</td>\n",
       "      <td>NaN</td>\n",
       "      <td>NaN</td>\n",
       "      <td>NaN</td>\n",
       "      <td>NaN</td>\n",
       "      <td>NaN</td>\n",
       "      <td>NaN</td>\n",
       "      <td>56542.0</td>\n",
       "      <td>55477.0</td>\n",
       "      <td>2011-01-13</td>\n",
       "      <td>venture</td>\n",
       "      <td>10633300.0</td>\n",
       "      <td>0.0</td>\n",
       "      <td>0.0</td>\n",
       "      <td>0.0</td>\n",
       "      <td>1.0</td>\n",
       "      <td>NaT</td>\n",
       "      <td>2011.0</td>\n",
       "    </tr>\n",
       "    <tr>\n",
       "      <th>217771</th>\n",
       "      <td>NaN</td>\n",
       "      <td>NaN</td>\n",
       "      <td>NaN</td>\n",
       "      <td>NaN</td>\n",
       "      <td>NaN</td>\n",
       "      <td>NaT</td>\n",
       "      <td>NaN</td>\n",
       "      <td>NaN</td>\n",
       "      <td>NaN</td>\n",
       "      <td>NaN</td>\n",
       "      <td>NaN</td>\n",
       "      <td>NaN</td>\n",
       "      <td>NaN</td>\n",
       "      <td>56543.0</td>\n",
       "      <td>55477.0</td>\n",
       "      <td>2012-05-31</td>\n",
       "      <td>venture</td>\n",
       "      <td>2125720.0</td>\n",
       "      <td>0.0</td>\n",
       "      <td>0.0</td>\n",
       "      <td>1.0</td>\n",
       "      <td>0.0</td>\n",
       "      <td>NaT</td>\n",
       "      <td>2012.0</td>\n",
       "    </tr>\n",
       "    <tr>\n",
       "      <th>217772</th>\n",
       "      <td>NaN</td>\n",
       "      <td>NaN</td>\n",
       "      <td>NaN</td>\n",
       "      <td>NaN</td>\n",
       "      <td>NaN</td>\n",
       "      <td>NaT</td>\n",
       "      <td>NaN</td>\n",
       "      <td>NaN</td>\n",
       "      <td>NaN</td>\n",
       "      <td>NaN</td>\n",
       "      <td>NaN</td>\n",
       "      <td>NaN</td>\n",
       "      <td>NaN</td>\n",
       "      <td>56928.0</td>\n",
       "      <td>283492.0</td>\n",
       "      <td>2013-12-03</td>\n",
       "      <td>venture</td>\n",
       "      <td>3602480.0</td>\n",
       "      <td>0.0</td>\n",
       "      <td>5.0</td>\n",
       "      <td>1.0</td>\n",
       "      <td>1.0</td>\n",
       "      <td>NaT</td>\n",
       "      <td>2013.0</td>\n",
       "    </tr>\n",
       "    <tr>\n",
       "      <th>217773</th>\n",
       "      <td>NaN</td>\n",
       "      <td>NaN</td>\n",
       "      <td>NaN</td>\n",
       "      <td>NaN</td>\n",
       "      <td>NaN</td>\n",
       "      <td>NaT</td>\n",
       "      <td>NaN</td>\n",
       "      <td>NaN</td>\n",
       "      <td>NaN</td>\n",
       "      <td>NaN</td>\n",
       "      <td>NaN</td>\n",
       "      <td>NaN</td>\n",
       "      <td>NaN</td>\n",
       "      <td>57063.0</td>\n",
       "      <td>284191.0</td>\n",
       "      <td>2013-12-04</td>\n",
       "      <td>venture</td>\n",
       "      <td>7000000.0</td>\n",
       "      <td>0.0</td>\n",
       "      <td>4.0</td>\n",
       "      <td>1.0</td>\n",
       "      <td>1.0</td>\n",
       "      <td>NaT</td>\n",
       "      <td>2013.0</td>\n",
       "    </tr>\n",
       "  </tbody>\n",
       "</table>\n",
       "<p>217774 rows × 24 columns</p>\n",
       "</div>"
      ],
      "text/plain": [
       "        company_id      name category_code     status  founded_at closed_at  \\\n",
       "0              1.0  Wetpaint           web  operating  2005-10-17       NaT   \n",
       "1              1.0  Wetpaint           web  operating  2005-10-17       NaT   \n",
       "2              1.0  Wetpaint           web  operating  2005-10-17       NaT   \n",
       "3             10.0   Flektor   games_video   acquired         NaN       NaT   \n",
       "4            100.0     There   games_video   acquired         NaN       NaT   \n",
       "...            ...       ...           ...        ...         ...       ...   \n",
       "217769         NaN       NaN           NaN        NaN         NaN       NaT   \n",
       "217770         NaN       NaN           NaN        NaN         NaN       NaT   \n",
       "217771         NaN       NaN           NaN        NaN         NaN       NaT   \n",
       "217772         NaN       NaN           NaN        NaN         NaN       NaT   \n",
       "217773         NaN       NaN           NaN        NaN         NaN       NaT   \n",
       "\n",
       "                  domain network_username country_code  investment_rounds  \\\n",
       "0       wetpaint-inc.com  BachelrWetpaint          USA                0.0   \n",
       "1       wetpaint-inc.com  BachelrWetpaint          USA                0.0   \n",
       "2       wetpaint-inc.com  BachelrWetpaint          USA                0.0   \n",
       "3            flektor.com              NaN          USA                0.0   \n",
       "4              there.com              NaN          USA                0.0   \n",
       "...                  ...              ...          ...                ...   \n",
       "217769               NaN              NaN          NaN                NaN   \n",
       "217770               NaN              NaN          NaN                NaN   \n",
       "217771               NaN              NaN          NaN                NaN   \n",
       "217772               NaN              NaN          NaN                NaN   \n",
       "217773               NaN              NaN          NaN                NaN   \n",
       "\n",
       "        funding_rounds  funding_total  milestones  funding_round_id  \\\n",
       "0                  3.0     39750000.0         5.0             888.0   \n",
       "1                  3.0     39750000.0         5.0             889.0   \n",
       "2                  3.0     39750000.0         5.0            2312.0   \n",
       "3                  0.0            0.0         0.0               NaN   \n",
       "4                  0.0            0.0         4.0               NaN   \n",
       "...                ...            ...         ...               ...   \n",
       "217769             NaN            NaN         NaN           56454.0   \n",
       "217770             NaN            NaN         NaN           56542.0   \n",
       "217771             NaN            NaN         NaN           56543.0   \n",
       "217772             NaN            NaN         NaN           56928.0   \n",
       "217773             NaN            NaN         NaN           57063.0   \n",
       "\n",
       "        acquired_company_id  funded_at funding_round_type  raised_amount  \\\n",
       "0                       1.0 2005-10-01           series-a      5250000.0   \n",
       "1                       1.0 2007-01-01           series-b      9500000.0   \n",
       "2                       1.0 2008-05-19          series-c+     25000000.0   \n",
       "3                       NaN        NaT                NaN            NaN   \n",
       "4                       NaN        NaT                NaN            NaN   \n",
       "...                     ...        ...                ...            ...   \n",
       "217769             282847.0 2011-01-31              other      5500000.0   \n",
       "217770              55477.0 2011-01-13            venture     10633300.0   \n",
       "217771              55477.0 2012-05-31            venture      2125720.0   \n",
       "217772             283492.0 2013-12-03            venture      3602480.0   \n",
       "217773             284191.0 2013-12-04            venture      7000000.0   \n",
       "\n",
       "        pre_money_valuation  participants  is_first_round  is_last_round  \\\n",
       "0                       0.0           2.0             0.0            1.0   \n",
       "1                       0.0           3.0             0.0            0.0   \n",
       "2                       0.0           4.0             1.0            0.0   \n",
       "3                       NaN           NaN             NaN            NaN   \n",
       "4                       NaN           NaN             NaN            NaN   \n",
       "...                     ...           ...             ...            ...   \n",
       "217769                  0.0           0.0             1.0            1.0   \n",
       "217770                  0.0           0.0             0.0            1.0   \n",
       "217771                  0.0           0.0             1.0            0.0   \n",
       "217772                  0.0           5.0             1.0            1.0   \n",
       "217773                  0.0           4.0             1.0            1.0   \n",
       "\n",
       "       founded at  year_of_funded  \n",
       "0      2005-10-17          2005.0  \n",
       "1      2005-10-17          2007.0  \n",
       "2      2005-10-17          2008.0  \n",
       "3             NaT             NaN  \n",
       "4             NaT             NaN  \n",
       "...           ...             ...  \n",
       "217769        NaT          2011.0  \n",
       "217770        NaT          2011.0  \n",
       "217771        NaT          2012.0  \n",
       "217772        NaT          2013.0  \n",
       "217773        NaT          2013.0  \n",
       "\n",
       "[217774 rows x 24 columns]"
      ]
     },
     "execution_count": 51,
     "metadata": {},
     "output_type": "execute_result"
    }
   ],
   "source": [
    "company_and_rounds"
   ]
  },
  {
   "cell_type": "code",
   "execution_count": 52,
   "id": "591f8ed4",
   "metadata": {},
   "outputs": [
    {
     "name": "stdout",
     "output_type": "stream",
     "text": [
      "Информация о компаниях:\n",
      "Уникальных компаний: 196553\n",
      "Записей: 196554\n",
      "\n",
      "Информация о раундах финансирования:\n",
      "Уникальных раундов: 52928\n",
      "Записей: 52928\n"
     ]
    }
   ],
   "source": [
    "# Таблица 1: Информация о компаниях (уникальные записи)\n",
    "company_columns = [\n",
    "    'company_id', 'name', 'category_code', 'status', 'founded_at', \n",
    "    'closed_at', 'domain', 'network_username', 'country_code',\n",
    "    'investment_rounds', 'funding_rounds', 'funding_total', 'milestones'\n",
    "]\n",
    "\n",
    "company_info = company_and_rounds[company_columns].drop_duplicates(subset='company_id').reset_index(drop=True)\n",
    "\n",
    "# Таблица 2: Информация о раундах финансирования (множественные записи для компаний)\n",
    "rounds_columns = [\n",
    "    'funding_round_id', 'company_id', 'funded_at', 'funding_round_type',\n",
    "    'raised_amount', 'pre_money_valuation', 'participants', \n",
    "    'is_first_round', 'is_last_round', 'year_of_funded'\n",
    "]\n",
    "\n",
    "funding_rounds = company_and_rounds[rounds_columns].dropna(subset=['funding_round_id']).reset_index(drop=True)\n",
    "\n",
    "# Проверяем результаты\n",
    "print(\"Информация о компаниях:\")\n",
    "print(f\"Уникальных компаний: {company_info['company_id'].nunique()}\")\n",
    "print(f\"Записей: {len(company_info)}\")\n",
    "\n",
    "print(\"\\nИнформация о раундах финансирования:\")\n",
    "print(f\"Уникальных раундов: {funding_rounds['funding_round_id'].nunique()}\")\n",
    "print(f\"Записей: {len(funding_rounds)}\")"
   ]
  },
  {
   "cell_type": "code",
   "execution_count": 53,
   "id": "d32cae65",
   "metadata": {
    "scrolled": true
   },
   "outputs": [
    {
     "data": {
      "text/html": [
       "<div>\n",
       "<style scoped>\n",
       "    .dataframe tbody tr th:only-of-type {\n",
       "        vertical-align: middle;\n",
       "    }\n",
       "\n",
       "    .dataframe tbody tr th {\n",
       "        vertical-align: top;\n",
       "    }\n",
       "\n",
       "    .dataframe thead th {\n",
       "        text-align: right;\n",
       "    }\n",
       "</style>\n",
       "<table border=\"1\" class=\"dataframe\">\n",
       "  <thead>\n",
       "    <tr style=\"text-align: right;\">\n",
       "      <th></th>\n",
       "      <th>company_id</th>\n",
       "      <th>name</th>\n",
       "      <th>category_code</th>\n",
       "      <th>status</th>\n",
       "      <th>founded_at</th>\n",
       "      <th>closed_at</th>\n",
       "      <th>domain</th>\n",
       "      <th>network_username</th>\n",
       "      <th>country_code</th>\n",
       "      <th>investment_rounds</th>\n",
       "      <th>funding_rounds</th>\n",
       "      <th>funding_total</th>\n",
       "      <th>milestones</th>\n",
       "    </tr>\n",
       "  </thead>\n",
       "  <tbody>\n",
       "    <tr>\n",
       "      <th>0</th>\n",
       "      <td>1.0</td>\n",
       "      <td>Wetpaint</td>\n",
       "      <td>web</td>\n",
       "      <td>operating</td>\n",
       "      <td>2005-10-17</td>\n",
       "      <td>NaT</td>\n",
       "      <td>wetpaint-inc.com</td>\n",
       "      <td>BachelrWetpaint</td>\n",
       "      <td>USA</td>\n",
       "      <td>0.0</td>\n",
       "      <td>3.0</td>\n",
       "      <td>39750000.0</td>\n",
       "      <td>5.0</td>\n",
       "    </tr>\n",
       "    <tr>\n",
       "      <th>1</th>\n",
       "      <td>10.0</td>\n",
       "      <td>Flektor</td>\n",
       "      <td>games_video</td>\n",
       "      <td>acquired</td>\n",
       "      <td>NaN</td>\n",
       "      <td>NaT</td>\n",
       "      <td>flektor.com</td>\n",
       "      <td>NaN</td>\n",
       "      <td>USA</td>\n",
       "      <td>0.0</td>\n",
       "      <td>0.0</td>\n",
       "      <td>0.0</td>\n",
       "      <td>0.0</td>\n",
       "    </tr>\n",
       "    <tr>\n",
       "      <th>2</th>\n",
       "      <td>100.0</td>\n",
       "      <td>There</td>\n",
       "      <td>games_video</td>\n",
       "      <td>acquired</td>\n",
       "      <td>NaN</td>\n",
       "      <td>NaT</td>\n",
       "      <td>there.com</td>\n",
       "      <td>NaN</td>\n",
       "      <td>USA</td>\n",
       "      <td>0.0</td>\n",
       "      <td>0.0</td>\n",
       "      <td>0.0</td>\n",
       "      <td>4.0</td>\n",
       "    </tr>\n",
       "    <tr>\n",
       "      <th>3</th>\n",
       "      <td>10000.0</td>\n",
       "      <td>MYWEBBO</td>\n",
       "      <td>network_hosting</td>\n",
       "      <td>operating</td>\n",
       "      <td>2008-07-26</td>\n",
       "      <td>NaT</td>\n",
       "      <td>mywebbo.com</td>\n",
       "      <td>NaN</td>\n",
       "      <td>NaN</td>\n",
       "      <td>0.0</td>\n",
       "      <td>0.0</td>\n",
       "      <td>0.0</td>\n",
       "      <td>0.0</td>\n",
       "    </tr>\n",
       "    <tr>\n",
       "      <th>4</th>\n",
       "      <td>10001.0</td>\n",
       "      <td>THE Movie Streamer</td>\n",
       "      <td>games_video</td>\n",
       "      <td>operating</td>\n",
       "      <td>2008-07-26</td>\n",
       "      <td>NaT</td>\n",
       "      <td>themoviestreamer.com</td>\n",
       "      <td>NaN</td>\n",
       "      <td>NaN</td>\n",
       "      <td>0.0</td>\n",
       "      <td>0.0</td>\n",
       "      <td>0.0</td>\n",
       "      <td>0.0</td>\n",
       "    </tr>\n",
       "    <tr>\n",
       "      <th>...</th>\n",
       "      <td>...</td>\n",
       "      <td>...</td>\n",
       "      <td>...</td>\n",
       "      <td>...</td>\n",
       "      <td>...</td>\n",
       "      <td>...</td>\n",
       "      <td>...</td>\n",
       "      <td>...</td>\n",
       "      <td>...</td>\n",
       "      <td>...</td>\n",
       "      <td>...</td>\n",
       "      <td>...</td>\n",
       "      <td>...</td>\n",
       "    </tr>\n",
       "    <tr>\n",
       "      <th>196549</th>\n",
       "      <td>3429.0</td>\n",
       "      <td>Zend Technologies</td>\n",
       "      <td>software</td>\n",
       "      <td>operating</td>\n",
       "      <td>1999-01-01</td>\n",
       "      <td>NaT</td>\n",
       "      <td>zend.com</td>\n",
       "      <td>networkzend</td>\n",
       "      <td>USA</td>\n",
       "      <td>0.0</td>\n",
       "      <td>4.0</td>\n",
       "      <td>44000000.0</td>\n",
       "      <td>6.0</td>\n",
       "    </tr>\n",
       "    <tr>\n",
       "      <th>196550</th>\n",
       "      <td>7748.0</td>\n",
       "      <td>Flowgram</td>\n",
       "      <td>web</td>\n",
       "      <td>closed</td>\n",
       "      <td>2007-06-01</td>\n",
       "      <td>2008-06-11</td>\n",
       "      <td>flowgram.com</td>\n",
       "      <td>network</td>\n",
       "      <td>USA</td>\n",
       "      <td>0.0</td>\n",
       "      <td>1.0</td>\n",
       "      <td>1300000.0</td>\n",
       "      <td>3.0</td>\n",
       "    </tr>\n",
       "    <tr>\n",
       "      <th>196551</th>\n",
       "      <td>174536.0</td>\n",
       "      <td>Pphotonet</td>\n",
       "      <td>games_video</td>\n",
       "      <td>operating</td>\n",
       "      <td>2012-05-01</td>\n",
       "      <td>NaT</td>\n",
       "      <td>pPhotonet.co</td>\n",
       "      <td>pPhotonet</td>\n",
       "      <td>NaN</td>\n",
       "      <td>0.0</td>\n",
       "      <td>0.0</td>\n",
       "      <td>0.0</td>\n",
       "      <td>0.0</td>\n",
       "    </tr>\n",
       "    <tr>\n",
       "      <th>196552</th>\n",
       "      <td>43233.0</td>\n",
       "      <td>Photonet</td>\n",
       "      <td>photo_video</td>\n",
       "      <td>acquired</td>\n",
       "      <td>2010-03-01</td>\n",
       "      <td>NaT</td>\n",
       "      <td>Photonet.com</td>\n",
       "      <td>Photonet</td>\n",
       "      <td>USA</td>\n",
       "      <td>0.0</td>\n",
       "      <td>3.0</td>\n",
       "      <td>57500000.0</td>\n",
       "      <td>3.0</td>\n",
       "    </tr>\n",
       "    <tr>\n",
       "      <th>196553</th>\n",
       "      <td>NaN</td>\n",
       "      <td>NaN</td>\n",
       "      <td>NaN</td>\n",
       "      <td>NaN</td>\n",
       "      <td>NaN</td>\n",
       "      <td>NaT</td>\n",
       "      <td>NaN</td>\n",
       "      <td>NaN</td>\n",
       "      <td>NaN</td>\n",
       "      <td>NaN</td>\n",
       "      <td>NaN</td>\n",
       "      <td>NaN</td>\n",
       "      <td>NaN</td>\n",
       "    </tr>\n",
       "  </tbody>\n",
       "</table>\n",
       "<p>196554 rows × 13 columns</p>\n",
       "</div>"
      ],
      "text/plain": [
       "        company_id                name    category_code     status  \\\n",
       "0              1.0            Wetpaint              web  operating   \n",
       "1             10.0             Flektor      games_video   acquired   \n",
       "2            100.0               There      games_video   acquired   \n",
       "3          10000.0             MYWEBBO  network_hosting  operating   \n",
       "4          10001.0  THE Movie Streamer      games_video  operating   \n",
       "...            ...                 ...              ...        ...   \n",
       "196549      3429.0   Zend Technologies         software  operating   \n",
       "196550      7748.0            Flowgram              web     closed   \n",
       "196551    174536.0           Pphotonet      games_video  operating   \n",
       "196552     43233.0            Photonet      photo_video   acquired   \n",
       "196553         NaN                 NaN              NaN        NaN   \n",
       "\n",
       "        founded_at  closed_at                domain network_username  \\\n",
       "0       2005-10-17        NaT      wetpaint-inc.com  BachelrWetpaint   \n",
       "1              NaN        NaT           flektor.com              NaN   \n",
       "2              NaN        NaT             there.com              NaN   \n",
       "3       2008-07-26        NaT           mywebbo.com              NaN   \n",
       "4       2008-07-26        NaT  themoviestreamer.com              NaN   \n",
       "...            ...        ...                   ...              ...   \n",
       "196549  1999-01-01        NaT              zend.com      networkzend   \n",
       "196550  2007-06-01 2008-06-11          flowgram.com          network   \n",
       "196551  2012-05-01        NaT          pPhotonet.co        pPhotonet   \n",
       "196552  2010-03-01        NaT          Photonet.com         Photonet   \n",
       "196553         NaN        NaT                   NaN              NaN   \n",
       "\n",
       "       country_code  investment_rounds  funding_rounds  funding_total  \\\n",
       "0               USA                0.0             3.0     39750000.0   \n",
       "1               USA                0.0             0.0            0.0   \n",
       "2               USA                0.0             0.0            0.0   \n",
       "3               NaN                0.0             0.0            0.0   \n",
       "4               NaN                0.0             0.0            0.0   \n",
       "...             ...                ...             ...            ...   \n",
       "196549          USA                0.0             4.0     44000000.0   \n",
       "196550          USA                0.0             1.0      1300000.0   \n",
       "196551          NaN                0.0             0.0            0.0   \n",
       "196552          USA                0.0             3.0     57500000.0   \n",
       "196553          NaN                NaN             NaN            NaN   \n",
       "\n",
       "        milestones  \n",
       "0              5.0  \n",
       "1              0.0  \n",
       "2              4.0  \n",
       "3              0.0  \n",
       "4              0.0  \n",
       "...            ...  \n",
       "196549         6.0  \n",
       "196550         3.0  \n",
       "196551         0.0  \n",
       "196552         3.0  \n",
       "196553         NaN  \n",
       "\n",
       "[196554 rows x 13 columns]"
      ]
     },
     "execution_count": 53,
     "metadata": {},
     "output_type": "execute_result"
    }
   ],
   "source": [
    "company_info.drop_duplicates(subset = None, keep = False)"
   ]
  },
  {
   "cell_type": "markdown",
   "id": "24268696",
   "metadata": {},
   "source": [
    "Обоснование разделения (5 подсказок):\n",
    " - Разная степень заполненности: Столбцы о компаниях заполнены на 99.8%, а о раундах - только на 24.3%\n",
    "\n",
    " - Тип отношений: Одна компания → много раундов финансирования (отношение 1:М)\n",
    "\n",
    " - Дубликаты company_id: В исходной таблице много дубликатов company_id, что характерно для объединенных данных\n",
    "\n",
    " - Логическая группировка: Столбцы естественно группируются на мета-информацию и финансовые транзакции\n",
    "\n",
    " - Разные временные метки: founded_at (основание) vs funded_at (финансирование)"
   ]
  },
  {
   "cell_type": "markdown",
   "id": "24f9d1ee",
   "metadata": {
    "id": "bmVYhphNrJg2"
   },
   "source": [
    "\n",
    "## Шаг 3. Исследовательский анализ объединённых таблиц\n"
   ]
  },
  {
   "cell_type": "markdown",
   "id": "ebb243ca",
   "metadata": {
    "id": "3Di6tCT3rJg2"
   },
   "source": [
    "\n",
    "### 3.1. Объединение данных\n"
   ]
  },
  {
   "cell_type": "code",
   "execution_count": 54,
   "id": "cc31e97c",
   "metadata": {},
   "outputs": [],
   "source": [
    "# Правильный синтаксис фильтрации\n",
    "company_info_upd = company_info[\n",
    "    ((company_info['funding_rounds'] > 0) | (company_info['investment_rounds'] > 0)) |\n",
    "    (company_info['status'] == 'acquired')\n",
    "]"
   ]
  },
  {
   "cell_type": "code",
   "execution_count": 55,
   "id": "74b0940d",
   "metadata": {},
   "outputs": [
    {
     "data": {
      "text/html": [
       "<div>\n",
       "<style scoped>\n",
       "    .dataframe tbody tr th:only-of-type {\n",
       "        vertical-align: middle;\n",
       "    }\n",
       "\n",
       "    .dataframe tbody tr th {\n",
       "        vertical-align: top;\n",
       "    }\n",
       "\n",
       "    .dataframe thead th {\n",
       "        text-align: right;\n",
       "    }\n",
       "</style>\n",
       "<table border=\"1\" class=\"dataframe\">\n",
       "  <thead>\n",
       "    <tr style=\"text-align: right;\">\n",
       "      <th></th>\n",
       "      <th>company_id</th>\n",
       "      <th>name</th>\n",
       "      <th>category_code</th>\n",
       "      <th>status</th>\n",
       "      <th>founded_at</th>\n",
       "      <th>closed_at</th>\n",
       "      <th>domain</th>\n",
       "      <th>network_username</th>\n",
       "      <th>country_code</th>\n",
       "      <th>investment_rounds</th>\n",
       "      <th>funding_rounds</th>\n",
       "      <th>funding_total</th>\n",
       "      <th>milestones</th>\n",
       "    </tr>\n",
       "  </thead>\n",
       "  <tbody>\n",
       "    <tr>\n",
       "      <th>0</th>\n",
       "      <td>1.0</td>\n",
       "      <td>Wetpaint</td>\n",
       "      <td>web</td>\n",
       "      <td>operating</td>\n",
       "      <td>2005-10-17</td>\n",
       "      <td>NaT</td>\n",
       "      <td>wetpaint-inc.com</td>\n",
       "      <td>BachelrWetpaint</td>\n",
       "      <td>USA</td>\n",
       "      <td>0.0</td>\n",
       "      <td>3.0</td>\n",
       "      <td>39750000.0</td>\n",
       "      <td>5.0</td>\n",
       "    </tr>\n",
       "    <tr>\n",
       "      <th>1</th>\n",
       "      <td>10.0</td>\n",
       "      <td>Flektor</td>\n",
       "      <td>games_video</td>\n",
       "      <td>acquired</td>\n",
       "      <td>NaN</td>\n",
       "      <td>NaT</td>\n",
       "      <td>flektor.com</td>\n",
       "      <td>NaN</td>\n",
       "      <td>USA</td>\n",
       "      <td>0.0</td>\n",
       "      <td>0.0</td>\n",
       "      <td>0.0</td>\n",
       "      <td>0.0</td>\n",
       "    </tr>\n",
       "    <tr>\n",
       "      <th>2</th>\n",
       "      <td>100.0</td>\n",
       "      <td>There</td>\n",
       "      <td>games_video</td>\n",
       "      <td>acquired</td>\n",
       "      <td>NaN</td>\n",
       "      <td>NaT</td>\n",
       "      <td>there.com</td>\n",
       "      <td>NaN</td>\n",
       "      <td>USA</td>\n",
       "      <td>0.0</td>\n",
       "      <td>0.0</td>\n",
       "      <td>0.0</td>\n",
       "      <td>4.0</td>\n",
       "    </tr>\n",
       "    <tr>\n",
       "      <th>13</th>\n",
       "      <td>1001.0</td>\n",
       "      <td>FriendFeed</td>\n",
       "      <td>web</td>\n",
       "      <td>acquired</td>\n",
       "      <td>2007-10-01</td>\n",
       "      <td>NaT</td>\n",
       "      <td>friendfeed.com</td>\n",
       "      <td>friendfeed</td>\n",
       "      <td>USA</td>\n",
       "      <td>0.0</td>\n",
       "      <td>1.0</td>\n",
       "      <td>5000000.0</td>\n",
       "      <td>3.0</td>\n",
       "    </tr>\n",
       "    <tr>\n",
       "      <th>18</th>\n",
       "      <td>10014.0</td>\n",
       "      <td>Mobclix</td>\n",
       "      <td>mobile</td>\n",
       "      <td>acquired</td>\n",
       "      <td>2008-03-01</td>\n",
       "      <td>NaT</td>\n",
       "      <td>mobclix.com</td>\n",
       "      <td>mobclix</td>\n",
       "      <td>USA</td>\n",
       "      <td>0.0</td>\n",
       "      <td>1.0</td>\n",
       "      <td>0.0</td>\n",
       "      <td>4.0</td>\n",
       "    </tr>\n",
       "    <tr>\n",
       "      <th>...</th>\n",
       "      <td>...</td>\n",
       "      <td>...</td>\n",
       "      <td>...</td>\n",
       "      <td>...</td>\n",
       "      <td>...</td>\n",
       "      <td>...</td>\n",
       "      <td>...</td>\n",
       "      <td>...</td>\n",
       "      <td>...</td>\n",
       "      <td>...</td>\n",
       "      <td>...</td>\n",
       "      <td>...</td>\n",
       "      <td>...</td>\n",
       "    </tr>\n",
       "    <tr>\n",
       "      <th>196544</th>\n",
       "      <td>1344.0</td>\n",
       "      <td>Vobile</td>\n",
       "      <td>web</td>\n",
       "      <td>operating</td>\n",
       "      <td>2005-01-01</td>\n",
       "      <td>NaT</td>\n",
       "      <td>vobileinc.com</td>\n",
       "      <td>networkmobile</td>\n",
       "      <td>USA</td>\n",
       "      <td>0.0</td>\n",
       "      <td>1.0</td>\n",
       "      <td>10000000.0</td>\n",
       "      <td>0.0</td>\n",
       "    </tr>\n",
       "    <tr>\n",
       "      <th>196545</th>\n",
       "      <td>142181.0</td>\n",
       "      <td>Stop Being Watched</td>\n",
       "      <td>software</td>\n",
       "      <td>operating</td>\n",
       "      <td>2010-06-10</td>\n",
       "      <td>NaT</td>\n",
       "      <td>stopbeingwatched.com</td>\n",
       "      <td>SBWinfonetwork</td>\n",
       "      <td>USA</td>\n",
       "      <td>0.0</td>\n",
       "      <td>1.0</td>\n",
       "      <td>500000.0</td>\n",
       "      <td>1.0</td>\n",
       "    </tr>\n",
       "    <tr>\n",
       "      <th>196549</th>\n",
       "      <td>3429.0</td>\n",
       "      <td>Zend Technologies</td>\n",
       "      <td>software</td>\n",
       "      <td>operating</td>\n",
       "      <td>1999-01-01</td>\n",
       "      <td>NaT</td>\n",
       "      <td>zend.com</td>\n",
       "      <td>networkzend</td>\n",
       "      <td>USA</td>\n",
       "      <td>0.0</td>\n",
       "      <td>4.0</td>\n",
       "      <td>44000000.0</td>\n",
       "      <td>6.0</td>\n",
       "    </tr>\n",
       "    <tr>\n",
       "      <th>196550</th>\n",
       "      <td>7748.0</td>\n",
       "      <td>Flowgram</td>\n",
       "      <td>web</td>\n",
       "      <td>closed</td>\n",
       "      <td>2007-06-01</td>\n",
       "      <td>2008-06-11</td>\n",
       "      <td>flowgram.com</td>\n",
       "      <td>network</td>\n",
       "      <td>USA</td>\n",
       "      <td>0.0</td>\n",
       "      <td>1.0</td>\n",
       "      <td>1300000.0</td>\n",
       "      <td>3.0</td>\n",
       "    </tr>\n",
       "    <tr>\n",
       "      <th>196552</th>\n",
       "      <td>43233.0</td>\n",
       "      <td>Photonet</td>\n",
       "      <td>photo_video</td>\n",
       "      <td>acquired</td>\n",
       "      <td>2010-03-01</td>\n",
       "      <td>NaT</td>\n",
       "      <td>Photonet.com</td>\n",
       "      <td>Photonet</td>\n",
       "      <td>USA</td>\n",
       "      <td>0.0</td>\n",
       "      <td>3.0</td>\n",
       "      <td>57500000.0</td>\n",
       "      <td>3.0</td>\n",
       "    </tr>\n",
       "  </tbody>\n",
       "</table>\n",
       "<p>40747 rows × 13 columns</p>\n",
       "</div>"
      ],
      "text/plain": [
       "        company_id                name category_code     status  founded_at  \\\n",
       "0              1.0            Wetpaint           web  operating  2005-10-17   \n",
       "1             10.0             Flektor   games_video   acquired         NaN   \n",
       "2            100.0               There   games_video   acquired         NaN   \n",
       "13          1001.0          FriendFeed           web   acquired  2007-10-01   \n",
       "18         10014.0             Mobclix        mobile   acquired  2008-03-01   \n",
       "...            ...                 ...           ...        ...         ...   \n",
       "196544      1344.0              Vobile           web  operating  2005-01-01   \n",
       "196545    142181.0  Stop Being Watched      software  operating  2010-06-10   \n",
       "196549      3429.0   Zend Technologies      software  operating  1999-01-01   \n",
       "196550      7748.0            Flowgram           web     closed  2007-06-01   \n",
       "196552     43233.0            Photonet   photo_video   acquired  2010-03-01   \n",
       "\n",
       "        closed_at                domain network_username country_code  \\\n",
       "0             NaT      wetpaint-inc.com  BachelrWetpaint          USA   \n",
       "1             NaT           flektor.com              NaN          USA   \n",
       "2             NaT             there.com              NaN          USA   \n",
       "13            NaT        friendfeed.com       friendfeed          USA   \n",
       "18            NaT           mobclix.com          mobclix          USA   \n",
       "...           ...                   ...              ...          ...   \n",
       "196544        NaT         vobileinc.com    networkmobile          USA   \n",
       "196545        NaT  stopbeingwatched.com   SBWinfonetwork          USA   \n",
       "196549        NaT              zend.com      networkzend          USA   \n",
       "196550 2008-06-11          flowgram.com          network          USA   \n",
       "196552        NaT          Photonet.com         Photonet          USA   \n",
       "\n",
       "        investment_rounds  funding_rounds  funding_total  milestones  \n",
       "0                     0.0             3.0     39750000.0         5.0  \n",
       "1                     0.0             0.0            0.0         0.0  \n",
       "2                     0.0             0.0            0.0         4.0  \n",
       "13                    0.0             1.0      5000000.0         3.0  \n",
       "18                    0.0             1.0            0.0         4.0  \n",
       "...                   ...             ...            ...         ...  \n",
       "196544                0.0             1.0     10000000.0         0.0  \n",
       "196545                0.0             1.0       500000.0         1.0  \n",
       "196549                0.0             4.0     44000000.0         6.0  \n",
       "196550                0.0             1.0      1300000.0         3.0  \n",
       "196552                0.0             3.0     57500000.0         3.0  \n",
       "\n",
       "[40747 rows x 13 columns]"
      ]
     },
     "execution_count": 55,
     "metadata": {},
     "output_type": "execute_result"
    }
   ],
   "source": [
    "company_info_upd"
   ]
  },
  {
   "cell_type": "code",
   "execution_count": 57,
   "id": "2a7d2c23",
   "metadata": {},
   "outputs": [
    {
     "data": {
      "text/html": [
       "<div>\n",
       "<style scoped>\n",
       "    .dataframe tbody tr th:only-of-type {\n",
       "        vertical-align: middle;\n",
       "    }\n",
       "\n",
       "    .dataframe tbody tr th {\n",
       "        vertical-align: top;\n",
       "    }\n",
       "\n",
       "    .dataframe thead th {\n",
       "        text-align: right;\n",
       "    }\n",
       "</style>\n",
       "<table border=\"1\" class=\"dataframe\">\n",
       "  <thead>\n",
       "    <tr style=\"text-align: right;\">\n",
       "      <th></th>\n",
       "      <th>company_id</th>\n",
       "      <th>name</th>\n",
       "      <th>category_code</th>\n",
       "      <th>status</th>\n",
       "      <th>founded_at</th>\n",
       "      <th>closed_at</th>\n",
       "      <th>domain</th>\n",
       "      <th>network_username</th>\n",
       "      <th>country_code</th>\n",
       "      <th>investment_rounds</th>\n",
       "      <th>funding_rounds</th>\n",
       "      <th>funding_total</th>\n",
       "      <th>milestones</th>\n",
       "      <th>id</th>\n",
       "      <th>acquiring_company_id</th>\n",
       "      <th>acquired_company_id</th>\n",
       "      <th>term_code</th>\n",
       "      <th>price_amount</th>\n",
       "      <th>acquired_at</th>\n",
       "    </tr>\n",
       "  </thead>\n",
       "  <tbody>\n",
       "    <tr>\n",
       "      <th>0</th>\n",
       "      <td>1.0</td>\n",
       "      <td>Wetpaint</td>\n",
       "      <td>web</td>\n",
       "      <td>operating</td>\n",
       "      <td>2005-10-17</td>\n",
       "      <td>NaT</td>\n",
       "      <td>wetpaint-inc.com</td>\n",
       "      <td>BachelrWetpaint</td>\n",
       "      <td>USA</td>\n",
       "      <td>0.0</td>\n",
       "      <td>3.0</td>\n",
       "      <td>39750000.0</td>\n",
       "      <td>5.0</td>\n",
       "      <td>NaN</td>\n",
       "      <td>NaN</td>\n",
       "      <td>NaN</td>\n",
       "      <td>NaN</td>\n",
       "      <td>NaN</td>\n",
       "      <td>NaT</td>\n",
       "    </tr>\n",
       "    <tr>\n",
       "      <th>1</th>\n",
       "      <td>10.0</td>\n",
       "      <td>Flektor</td>\n",
       "      <td>games_video</td>\n",
       "      <td>acquired</td>\n",
       "      <td>NaN</td>\n",
       "      <td>NaT</td>\n",
       "      <td>flektor.com</td>\n",
       "      <td>NaN</td>\n",
       "      <td>USA</td>\n",
       "      <td>0.0</td>\n",
       "      <td>0.0</td>\n",
       "      <td>0.0</td>\n",
       "      <td>0.0</td>\n",
       "      <td>1.0</td>\n",
       "      <td>11.0</td>\n",
       "      <td>10.0</td>\n",
       "      <td>NaN</td>\n",
       "      <td>2.000000e+07</td>\n",
       "      <td>2007-05-30</td>\n",
       "    </tr>\n",
       "    <tr>\n",
       "      <th>2</th>\n",
       "      <td>100.0</td>\n",
       "      <td>There</td>\n",
       "      <td>games_video</td>\n",
       "      <td>acquired</td>\n",
       "      <td>NaN</td>\n",
       "      <td>NaT</td>\n",
       "      <td>there.com</td>\n",
       "      <td>NaN</td>\n",
       "      <td>USA</td>\n",
       "      <td>0.0</td>\n",
       "      <td>0.0</td>\n",
       "      <td>0.0</td>\n",
       "      <td>4.0</td>\n",
       "      <td>20.0</td>\n",
       "      <td>377.0</td>\n",
       "      <td>100.0</td>\n",
       "      <td>cash</td>\n",
       "      <td>0.000000e+00</td>\n",
       "      <td>2005-05-29</td>\n",
       "    </tr>\n",
       "    <tr>\n",
       "      <th>3</th>\n",
       "      <td>1001.0</td>\n",
       "      <td>FriendFeed</td>\n",
       "      <td>web</td>\n",
       "      <td>acquired</td>\n",
       "      <td>2007-10-01</td>\n",
       "      <td>NaT</td>\n",
       "      <td>friendfeed.com</td>\n",
       "      <td>friendfeed</td>\n",
       "      <td>USA</td>\n",
       "      <td>0.0</td>\n",
       "      <td>1.0</td>\n",
       "      <td>5000000.0</td>\n",
       "      <td>3.0</td>\n",
       "      <td>1901.0</td>\n",
       "      <td>5.0</td>\n",
       "      <td>1001.0</td>\n",
       "      <td>cash_and_stock</td>\n",
       "      <td>4.750000e+07</td>\n",
       "      <td>2009-08-10</td>\n",
       "    </tr>\n",
       "    <tr>\n",
       "      <th>4</th>\n",
       "      <td>10014.0</td>\n",
       "      <td>Mobclix</td>\n",
       "      <td>mobile</td>\n",
       "      <td>acquired</td>\n",
       "      <td>2008-03-01</td>\n",
       "      <td>NaT</td>\n",
       "      <td>mobclix.com</td>\n",
       "      <td>mobclix</td>\n",
       "      <td>USA</td>\n",
       "      <td>0.0</td>\n",
       "      <td>1.0</td>\n",
       "      <td>0.0</td>\n",
       "      <td>4.0</td>\n",
       "      <td>3878.0</td>\n",
       "      <td>23054.0</td>\n",
       "      <td>10014.0</td>\n",
       "      <td>NaN</td>\n",
       "      <td>0.000000e+00</td>\n",
       "      <td>2010-09-30</td>\n",
       "    </tr>\n",
       "    <tr>\n",
       "      <th>...</th>\n",
       "      <td>...</td>\n",
       "      <td>...</td>\n",
       "      <td>...</td>\n",
       "      <td>...</td>\n",
       "      <td>...</td>\n",
       "      <td>...</td>\n",
       "      <td>...</td>\n",
       "      <td>...</td>\n",
       "      <td>...</td>\n",
       "      <td>...</td>\n",
       "      <td>...</td>\n",
       "      <td>...</td>\n",
       "      <td>...</td>\n",
       "      <td>...</td>\n",
       "      <td>...</td>\n",
       "      <td>...</td>\n",
       "      <td>...</td>\n",
       "      <td>...</td>\n",
       "      <td>...</td>\n",
       "    </tr>\n",
       "    <tr>\n",
       "      <th>40885</th>\n",
       "      <td>1344.0</td>\n",
       "      <td>Vobile</td>\n",
       "      <td>web</td>\n",
       "      <td>operating</td>\n",
       "      <td>2005-01-01</td>\n",
       "      <td>NaT</td>\n",
       "      <td>vobileinc.com</td>\n",
       "      <td>networkmobile</td>\n",
       "      <td>USA</td>\n",
       "      <td>0.0</td>\n",
       "      <td>1.0</td>\n",
       "      <td>10000000.0</td>\n",
       "      <td>0.0</td>\n",
       "      <td>NaN</td>\n",
       "      <td>NaN</td>\n",
       "      <td>NaN</td>\n",
       "      <td>NaN</td>\n",
       "      <td>NaN</td>\n",
       "      <td>NaT</td>\n",
       "    </tr>\n",
       "    <tr>\n",
       "      <th>40886</th>\n",
       "      <td>142181.0</td>\n",
       "      <td>Stop Being Watched</td>\n",
       "      <td>software</td>\n",
       "      <td>operating</td>\n",
       "      <td>2010-06-10</td>\n",
       "      <td>NaT</td>\n",
       "      <td>stopbeingwatched.com</td>\n",
       "      <td>SBWinfonetwork</td>\n",
       "      <td>USA</td>\n",
       "      <td>0.0</td>\n",
       "      <td>1.0</td>\n",
       "      <td>500000.0</td>\n",
       "      <td>1.0</td>\n",
       "      <td>NaN</td>\n",
       "      <td>NaN</td>\n",
       "      <td>NaN</td>\n",
       "      <td>NaN</td>\n",
       "      <td>NaN</td>\n",
       "      <td>NaT</td>\n",
       "    </tr>\n",
       "    <tr>\n",
       "      <th>40887</th>\n",
       "      <td>3429.0</td>\n",
       "      <td>Zend Technologies</td>\n",
       "      <td>software</td>\n",
       "      <td>operating</td>\n",
       "      <td>1999-01-01</td>\n",
       "      <td>NaT</td>\n",
       "      <td>zend.com</td>\n",
       "      <td>networkzend</td>\n",
       "      <td>USA</td>\n",
       "      <td>0.0</td>\n",
       "      <td>4.0</td>\n",
       "      <td>44000000.0</td>\n",
       "      <td>6.0</td>\n",
       "      <td>NaN</td>\n",
       "      <td>NaN</td>\n",
       "      <td>NaN</td>\n",
       "      <td>NaN</td>\n",
       "      <td>NaN</td>\n",
       "      <td>NaT</td>\n",
       "    </tr>\n",
       "    <tr>\n",
       "      <th>40888</th>\n",
       "      <td>7748.0</td>\n",
       "      <td>Flowgram</td>\n",
       "      <td>web</td>\n",
       "      <td>closed</td>\n",
       "      <td>2007-06-01</td>\n",
       "      <td>2008-06-11</td>\n",
       "      <td>flowgram.com</td>\n",
       "      <td>network</td>\n",
       "      <td>USA</td>\n",
       "      <td>0.0</td>\n",
       "      <td>1.0</td>\n",
       "      <td>1300000.0</td>\n",
       "      <td>3.0</td>\n",
       "      <td>NaN</td>\n",
       "      <td>NaN</td>\n",
       "      <td>NaN</td>\n",
       "      <td>NaN</td>\n",
       "      <td>NaN</td>\n",
       "      <td>NaT</td>\n",
       "    </tr>\n",
       "    <tr>\n",
       "      <th>40889</th>\n",
       "      <td>43233.0</td>\n",
       "      <td>Photonet</td>\n",
       "      <td>photo_video</td>\n",
       "      <td>acquired</td>\n",
       "      <td>2010-03-01</td>\n",
       "      <td>NaT</td>\n",
       "      <td>Photonet.com</td>\n",
       "      <td>Photonet</td>\n",
       "      <td>USA</td>\n",
       "      <td>0.0</td>\n",
       "      <td>3.0</td>\n",
       "      <td>57500000.0</td>\n",
       "      <td>3.0</td>\n",
       "      <td>6968.0</td>\n",
       "      <td>5.0</td>\n",
       "      <td>43233.0</td>\n",
       "      <td>cash_and_stock</td>\n",
       "      <td>1.010470e+09</td>\n",
       "      <td>2012-04-09</td>\n",
       "    </tr>\n",
       "  </tbody>\n",
       "</table>\n",
       "<p>40890 rows × 19 columns</p>\n",
       "</div>"
      ],
      "text/plain": [
       "       company_id                name category_code     status  founded_at  \\\n",
       "0             1.0            Wetpaint           web  operating  2005-10-17   \n",
       "1            10.0             Flektor   games_video   acquired         NaN   \n",
       "2           100.0               There   games_video   acquired         NaN   \n",
       "3          1001.0          FriendFeed           web   acquired  2007-10-01   \n",
       "4         10014.0             Mobclix        mobile   acquired  2008-03-01   \n",
       "...           ...                 ...           ...        ...         ...   \n",
       "40885      1344.0              Vobile           web  operating  2005-01-01   \n",
       "40886    142181.0  Stop Being Watched      software  operating  2010-06-10   \n",
       "40887      3429.0   Zend Technologies      software  operating  1999-01-01   \n",
       "40888      7748.0            Flowgram           web     closed  2007-06-01   \n",
       "40889     43233.0            Photonet   photo_video   acquired  2010-03-01   \n",
       "\n",
       "       closed_at                domain network_username country_code  \\\n",
       "0            NaT      wetpaint-inc.com  BachelrWetpaint          USA   \n",
       "1            NaT           flektor.com              NaN          USA   \n",
       "2            NaT             there.com              NaN          USA   \n",
       "3            NaT        friendfeed.com       friendfeed          USA   \n",
       "4            NaT           mobclix.com          mobclix          USA   \n",
       "...          ...                   ...              ...          ...   \n",
       "40885        NaT         vobileinc.com    networkmobile          USA   \n",
       "40886        NaT  stopbeingwatched.com   SBWinfonetwork          USA   \n",
       "40887        NaT              zend.com      networkzend          USA   \n",
       "40888 2008-06-11          flowgram.com          network          USA   \n",
       "40889        NaT          Photonet.com         Photonet          USA   \n",
       "\n",
       "       investment_rounds  funding_rounds  funding_total  milestones      id  \\\n",
       "0                    0.0             3.0     39750000.0         5.0     NaN   \n",
       "1                    0.0             0.0            0.0         0.0     1.0   \n",
       "2                    0.0             0.0            0.0         4.0    20.0   \n",
       "3                    0.0             1.0      5000000.0         3.0  1901.0   \n",
       "4                    0.0             1.0            0.0         4.0  3878.0   \n",
       "...                  ...             ...            ...         ...     ...   \n",
       "40885                0.0             1.0     10000000.0         0.0     NaN   \n",
       "40886                0.0             1.0       500000.0         1.0     NaN   \n",
       "40887                0.0             4.0     44000000.0         6.0     NaN   \n",
       "40888                0.0             1.0      1300000.0         3.0     NaN   \n",
       "40889                0.0             3.0     57500000.0         3.0  6968.0   \n",
       "\n",
       "       acquiring_company_id  acquired_company_id       term_code  \\\n",
       "0                       NaN                  NaN             NaN   \n",
       "1                      11.0                 10.0             NaN   \n",
       "2                     377.0                100.0            cash   \n",
       "3                       5.0               1001.0  cash_and_stock   \n",
       "4                   23054.0              10014.0             NaN   \n",
       "...                     ...                  ...             ...   \n",
       "40885                   NaN                  NaN             NaN   \n",
       "40886                   NaN                  NaN             NaN   \n",
       "40887                   NaN                  NaN             NaN   \n",
       "40888                   NaN                  NaN             NaN   \n",
       "40889                   5.0              43233.0  cash_and_stock   \n",
       "\n",
       "       price_amount acquired_at  \n",
       "0               NaN         NaT  \n",
       "1      2.000000e+07  2007-05-30  \n",
       "2      0.000000e+00  2005-05-29  \n",
       "3      4.750000e+07  2009-08-10  \n",
       "4      0.000000e+00  2010-09-30  \n",
       "...             ...         ...  \n",
       "40885           NaN         NaT  \n",
       "40886           NaN         NaT  \n",
       "40887           NaN         NaT  \n",
       "40888           NaN         NaT  \n",
       "40889  1.010470e+09  2012-04-09  \n",
       "\n",
       "[40890 rows x 19 columns]"
      ]
     },
     "execution_count": 57,
     "metadata": {},
     "output_type": "execute_result"
    }
   ],
   "source": [
    "df = pd.merge(company_info_upd,\n",
    "    acquisition,\n",
    "    left_on='company_id',\n",
    "    right_on='acquired_company_id',\n",
    "    how='left')\n",
    "df"
   ]
  },
  {
   "cell_type": "markdown",
   "id": "dd1c5c57",
   "metadata": {
    "id": "DFHINkV3rJg2"
   },
   "source": [
    "\n",
    "### 3.2. Анализ выбросов\n"
   ]
  },
  {
   "cell_type": "markdown",
   "id": "1696fa55",
   "metadata": {},
   "source": [
    " - Ищем медиану и границы усов. \n",
    " - смотрим describe, сравниваем среднее и медиану"
   ]
  },
  {
   "cell_type": "code",
   "execution_count": 58,
   "id": "61e92a88",
   "metadata": {},
   "outputs": [
    {
     "data": {
      "text/plain": [
       "count    4.089000e+04\n",
       "mean     1.013559e+07\n",
       "std      5.641289e+07\n",
       "min      0.000000e+00\n",
       "25%      0.000000e+00\n",
       "50%      6.000000e+05\n",
       "75%      5.631320e+06\n",
       "max      5.700000e+09\n",
       "Name: funding_total, dtype: float64"
      ]
     },
     "execution_count": 58,
     "metadata": {},
     "output_type": "execute_result"
    }
   ],
   "source": [
    "stats = df['funding_total'].describe()\n",
    "stats"
   ]
  },
  {
   "cell_type": "markdown",
   "id": "750bc05e",
   "metadata": {},
   "source": [
    "Медиана и среднее значение разительно отличается, что говорит о наличии выбросов и аномальных значениях в данных"
   ]
  },
  {
   "cell_type": "code",
   "execution_count": 71,
   "id": "a2474fdd",
   "metadata": {
    "scrolled": true
   },
   "outputs": [
    {
     "name": "stdout",
     "output_type": "stream",
     "text": [
      "\n",
      " Границы выбросов по методу IQR:\n",
      "Q1 (25-й перцентиль): $0\n",
      "Q3 (75-й перцентиль): $5,631,320\n",
      "IQR: $5,631,320\n",
      "Нижняя граница выбросов: $0\n",
      "Верхняя граница выбросов: $14,078,300\n"
     ]
    }
   ],
   "source": [
    "# Анализ выбросов с помощью IQR\n",
    "Q1 = stats['25%']\n",
    "Q3 = stats['75%']\n",
    "IQR = Q3 - Q1\n",
    "lower_bound = max(Q1 - 1.5 * IQR, 0)\n",
    "upper_bound = Q3 + 1.5 * IQR\n",
    "\n",
    "print(f\"\\n Границы выбросов по методу IQR:\")\n",
    "print(f\"Q1 (25-й перцентиль): ${Q1:,.0f}\")\n",
    "print(f\"Q3 (75-й перцентиль): ${Q3:,.0f}\")\n",
    "print(f\"IQR: ${IQR:,.0f}\")\n",
    "print(f\"Нижняя граница выбросов: ${lower_bound:,.0f}\")\n",
    "print(f\"Верхняя граница выбросов: ${upper_bound:,.0f}\")"
   ]
  },
  {
   "cell_type": "code",
   "execution_count": 72,
   "id": "18a96679",
   "metadata": {},
   "outputs": [
    {
     "name": "stdout",
     "output_type": "stream",
     "text": [
      "\n",
      "📊 Обоснование:\n",
      "• funding_total представляет общий объем финансирования\n",
      "• Финансирование не может быть отрицательным величиной\n",
      "• Поэтому нижняя граница скорректирована до 0\n",
      "• Это соответствует бизнес-логике и природе данных\n"
     ]
    }
   ],
   "source": [
    "# Обоснование корректировки\n",
    "print(f\"\\n📊 Обоснование:\")\n",
    "print(\"• funding_total представляет общий объем финансирования\")\n",
    "print(\"• Финансирование не может быть отрицательным величиной\")\n",
    "print(\"• Поэтому нижняя граница скорректирована до 0\")\n",
    "print(\"• Это соответствует бизнес-логике и природе данных\")"
   ]
  },
  {
   "cell_type": "code",
   "execution_count": 73,
   "id": "e23e5d8c",
   "metadata": {},
   "outputs": [
    {
     "name": "stdout",
     "output_type": "stream",
     "text": [
      "\n",
      "📊 Статистика после корректировки:\n",
      "Количество выбросов: 5889 (14.4%)\n",
      "Типичных значений: 35001 (85.6%)\n",
      "Минимальное значение funding_total: $0\n",
      "Подтверждение: данные действительно не содержат отрицательных значений\n"
     ]
    }
   ],
   "source": [
    "# Подсчет выбросов с учетом корректировки\n",
    "outliers = df[df['funding_total'] > upper_bound]\n",
    "typical_values = df[df['funding_total'] <= upper_bound]\n",
    "\n",
    "print(f\"\\n📊 Статистика после корректировки:\")\n",
    "print(f\"Количество выбросов: {len(outliers)} ({len(outliers)/len(df)*100:.1f}%)\")\n",
    "print(f\"Типичных значений: {len(typical_values)} ({len(typical_values)/len(df)*100:.1f}%)\")\n",
    "\n",
    "# Проверка минимального значения\n",
    "min_funding = df['funding_total'].min()\n",
    "print(f\"Минимальное значение funding_total: ${min_funding:,.0f}\")\n",
    "print(f\"Подтверждение: данные действительно не содержат отрицательных значений\")"
   ]
  },
  {
   "cell_type": "code",
   "execution_count": 74,
   "id": "4d71ebfd",
   "metadata": {},
   "outputs": [
    {
     "data": {
      "image/png": "[encoded data removed]",
      "text/plain": [
       "<Figure size 1080x864 with 4 Axes>"
      ]
     },
     "metadata": {
      "needs_background": "light"
     },
     "output_type": "display_data"
    },
    {
     "name": "stdout",
     "output_type": "stream",
     "text": [
      "\n",
      " ТИПИЧНЫЕ ЗНАЧЕНИЯ ФИНАНСИРОВАНИЯ:\n",
      "count    3.500100e+04\n",
      "mean     1.863263e+06\n",
      "std      3.137507e+06\n",
      "min      0.000000e+00\n",
      "25%      0.000000e+00\n",
      "50%      2.500000e+05\n",
      "75%      2.215410e+06\n",
      "max      1.406980e+07\n",
      "Name: funding_total, dtype: float64\n"
     ]
    }
   ],
   "source": [
    "# Визуализация распределения\n",
    "fig, axes = plt.subplots(2, 2, figsize=(15, 12))\n",
    "\n",
    "# 1. Boxplot с выбросами\n",
    "axes[0, 0].boxplot(df['funding_total'], vert=False)\n",
    "axes[0, 0].set_title('Boxplot общего финансирования (с выбросами)')\n",
    "axes[0, 0].set_xlabel('Funding Total ($)')\n",
    "\n",
    "# 2. Boxplot без выбросов (типичные значения)\n",
    "axes[0, 1].boxplot(typical_values['funding_total'], vert=False)\n",
    "axes[0, 1].set_title('Boxplot типичных значений финансирования')\n",
    "axes[0, 1].set_xlabel('Funding Total ($)')\n",
    "\n",
    "# 3. Гистограмма типичных значений\n",
    "axes[1, 0].hist(typical_values['funding_total'], bins=50, alpha=0.7, color='skyblue', edgecolor='black')\n",
    "axes[1, 0].axvline(typical_values['funding_total'].median(), color='red', linestyle='--', \n",
    "                   label=f'Медиана: ${typical_values[\"funding_total\"].median():,.0f}')\n",
    "axes[1, 0].axvline(typical_values['funding_total'].mean(), color='green', linestyle='--', \n",
    "                   label=f'Среднее: ${typical_values[\"funding_total\"].mean():,.0f}')\n",
    "axes[1, 0].set_title('Распределение типичных значений финансирования')\n",
    "axes[1, 0].set_xlabel('Funding Total ($)')\n",
    "axes[1, 0].set_ylabel('Количество компаний')\n",
    "axes[1, 0].legend()\n",
    "axes[1, 0].grid(True, alpha=0.3)\n",
    "\n",
    "# Устанавливаем разумные пределы для оси X\n",
    "typical_max = typical_values['funding_total'].max()\n",
    "axes[1, 0].set_xlim(0, typical_max * 1.05)  # +5% от максимального значения\n",
    "\n",
    "# 4. Логарифмическая шкала для всего распределения\n",
    "log_values = np.log1p(df['funding_total'])  # log(1 + x) чтобы избежать log(0)\n",
    "axes[1, 1].hist(log_values, bins=50, alpha=0.7, color='lightcoral', edgecolor='black')\n",
    "axes[1, 1].set_title('Распределение финансирования (логарифмическая шкала)')\n",
    "axes[1, 1].set_xlabel('log(Funding Total + 1)')\n",
    "axes[1, 1].set_ylabel('Количество компаний')\n",
    "axes[1, 1].grid(True, alpha=0.3)\n",
    "\n",
    "# Добавляем подписи для интерпретации логарифмической шкалы\n",
    "log_ticks = [0, 5, 10, 15, 20]  # log(1 + x) values\n",
    "log_labels = [f'${np.expm1(x):,.0f}' for x in log_ticks]  # Convert back to dollars\n",
    "axes[1, 1].set_xticks(log_ticks)\n",
    "axes[1, 1].set_xticklabels(log_labels, rotation=45)\n",
    "\n",
    "plt.tight_layout()\n",
    "plt.show()\n",
    "\n",
    "print(\"\\n ТИПИЧНЫЕ ЗНАЧЕНИЯ ФИНАНСИРОВАНИЯ:\")\n",
    "typical_stats = typical_values['funding_total'].describe()\n",
    "print(typical_stats)"
   ]
  },
  {
   "cell_type": "code",
   "execution_count": 75,
   "id": "c2b033e9",
   "metadata": {},
   "outputs": [
    {
     "name": "stdout",
     "output_type": "stream",
     "text": [
      "\n",
      " ВЫВОДЫ И РЕКОМЕНДАЦИИ:\n",
      "1.  Распределение сильно право-скошено (положительная асимметрия)\n",
      "2.  Типичный размер финансирования: $1-20 миллионов (межквартильный размах)\n",
      "3.  Обычные методы (среднее) не работают - используйте медиану для типичных значений\n",
      "4.  Медиана типичных значений: $250,000 - наиболее репрезентативный показатель\n",
      "5.  Выбросы составляют 14.4% данных, но сильно влияют на среднее\n"
     ]
    }
   ],
   "source": [
    "print(f\"\\n ВЫВОДЫ И РЕКОМЕНДАЦИИ:\")\n",
    "print(\"1.  Распределение сильно право-скошено (положительная асимметрия)\")\n",
    "print(\"2.  Типичный размер финансирования: $1-20 миллионов (межквартильный размах)\")\n",
    "print(\"3.  Обычные методы (среднее) не работают - используйте медиану для типичных значений\")\n",
    "print(\"4.  Медиана типичных значений: $\" + f\"{typical_stats['50%']:,.0f}\" + \" - наиболее репрезентативный показатель\")\n",
    "print(\"5.  Выбросы составляют \" + f\"{len(outliers)/len(df)*100:.1f}%\" + \" данных, но сильно влияют на среднее\")"
   ]
  },
  {
   "cell_type": "markdown",
   "id": "bb30a4bf",
   "metadata": {
    "id": "JqkRAQrIrJg2"
   },
   "source": [
    "\n",
    "### 3.3. Куплены забесплатно?\n",
    "\n",
    "* Исследуем компании, которые были проданы за ноль или за один доллар."
   ]
  },
  {
   "cell_type": "markdown",
   "id": "3da60e96",
   "metadata": {},
   "source": [
    "- после фильтрации считаем границы усов: q1 - 1.5 * iqr, q3 + 1.5 * iqr\n",
    "- оценивасем их, находим, каким перцентилям они соответствуют. Например, верхняя граница соответствует 85-му перцентилю."
   ]
  },
  {
   "cell_type": "code",
   "execution_count": 63,
   "id": "527604ec",
   "metadata": {},
   "outputs": [
    {
     "name": "stdout",
     "output_type": "stream",
     "text": [
      "Q1 (25-й перцентиль): $0\n",
      "Q3 (75-й перцентиль): $5,631,320\n",
      "IQR: $5,631,320\n",
      "Верхняя граница выбросов: $14,078,300\n",
      "Нижняя граница выбросов: $-8,446,980\n",
      "\n",
      " Верхняя граница $14,078,300 соответствует 85.6-му перцентилю\n",
      " Нижняя граница $-8,446,980 соответствует 0.0-му перцентилю\n",
      "\n",
      " Распределение данных:\n",
      "• Ниже нижней границы: 0.0%\n",
      "• Выше верхней границы: 14.4%\n",
      "• В пределах границ: 85.6%\n"
     ]
    }
   ],
   "source": [
    "# Рассчитываем границы выбросов\n",
    "q1 = df['funding_total'].quantile(0.25)\n",
    "q3 = df['funding_total'].quantile(0.75)\n",
    "iqr = q3 - q1\n",
    "upper_bound = q3 + 1.5 * iqr\n",
    "lower_bound = q1 - 1.5 * iqr\n",
    "\n",
    "print(f\"Q1 (25-й перцентиль): ${q1:,.0f}\")\n",
    "print(f\"Q3 (75-й перцентиль): ${q3:,.0f}\")\n",
    "print(f\"IQR: ${iqr:,.0f}\")\n",
    "print(f\"Верхняя граница выбросов: ${upper_bound:,.0f}\")\n",
    "print(f\"Нижняя граница выбросов: ${lower_bound:,.0f}\")\n",
    "\n",
    "# Находим перцентили, которым соответствуют границы\n",
    "percentile_upper = np.mean(df['funding_total'] <= upper_bound) * 100\n",
    "percentile_lower = np.mean(df['funding_total'] <= lower_bound) * 100\n",
    "\n",
    "print(f\"\\n Верхняя граница ${upper_bound:,.0f} соответствует {percentile_upper:.1f}-му перцентилю\")\n",
    "print(f\" Нижняя граница ${lower_bound:,.0f} соответствует {percentile_lower:.1f}-му перцентилю\")\n",
    "\n",
    "# Анализируем распределение данных относительно границ\n",
    "below_lower = np.mean(df['funding_total'] < lower_bound) * 100\n",
    "above_upper = np.mean(df['funding_total'] > upper_bound) * 100\n",
    "within_bounds = np.mean((df['funding_total'] >= lower_bound) & (df['funding_total'] <= upper_bound)) * 100\n",
    "\n",
    "print(f\"\\n Распределение данных:\")\n",
    "print(f\"• Ниже нижней границы: {below_lower:.1f}%\")\n",
    "print(f\"• Выше верхней границы: {above_upper:.1f}%\")\n",
    "print(f\"• В пределах границ: {within_bounds:.1f}%\")"
   ]
  },
  {
   "cell_type": "code",
   "execution_count": 64,
   "id": "98aa691a",
   "metadata": {},
   "outputs": [
    {
     "name": "stdout",
     "output_type": "stream",
     "text": [
      "\n",
      " **АНАЛИЗ КОРРЕКТНОСТИ МЕТОДА IQR:**\n",
      "1. Коэффициент асимметрии: 45.17\n",
      "   → Сильная правосторонняя асимметрия (skewness > 1)\n",
      "2.  Данные сильно асимметричны - метод IQR может быть неоптимальным\n",
      "3.  Рекомендация: использовать логарифмическое преобразование или\n",
      "   анализировать перцентили напрямую (например, 5-й и 95-й перцентили)\n",
      "4.  Верхняя граница IQR отсекает 14.4% данных как выбросы\n",
      "5.  Метод IQR оставляет 85.6% данных как 'типичные' значения\n",
      "\n",
      " Альтернативный подход (5-й и 95-й перцентили):\n",
      "• 5-й перцентиль: $0\n",
      "• 95-й перцентиль: $43,600,000\n",
      "• Диапазон типичных значений: $0 - $43,600,000\n"
     ]
    }
   ],
   "source": [
    "# Анализ корректности метода IQR для данных\n",
    "print(\"\\n **АНАЛИЗ КОРРЕКТНОСТИ МЕТОДА IQR:**\")\n",
    "\n",
    "# Проверяем асимметрию данных\n",
    "skewness = df['funding_total'].skew()\n",
    "print(f\"1. Коэффициент асимметрии: {skewness:.2f}\")\n",
    "print(\"   → Сильная правосторонняя асимметрия (skewness > 1)\")\n",
    "\n",
    "# Сравниваем с нормальным распределением\n",
    "if abs(skewness) > 1:\n",
    "    print(\"2.  Данные сильно асимметричны - метод IQR может быть неоптимальным\")\n",
    "    print(\"3.  Рекомендация: использовать логарифмическое преобразование или\")\n",
    "    print(\"   анализировать перцентили напрямую (например, 5-й и 95-й перцентили)\")\n",
    "else:\n",
    "    print(\"2.  Данные достаточно симметричны - метод IQR корректен\")\n",
    "\n",
    "print(f\"4.  Верхняя граница IQR отсекает {above_upper:.1f}% данных как выбросы\")\n",
    "print(f\"5.  Метод IQR оставляет {within_bounds:.1f}% данных как 'типичные' значения\")\n",
    "\n",
    "# Альтернативный подход - использование перцентилей\n",
    "p5 = df['funding_total'].quantile(0.05)\n",
    "p95 = df['funding_total'].quantile(0.95)\n",
    "\n",
    "print(f\"\\n Альтернативный подход (5-й и 95-й перцентили):\")\n",
    "print(f\"• 5-й перцентиль: ${p5:,.0f}\")\n",
    "print(f\"• 95-й перцентиль: ${p95:,.0f}\")\n",
    "print(f\"• Диапазон типичных значений: ${p5:,.0f} - ${p95:,.0f}\")"
   ]
  },
  {
   "cell_type": "markdown",
   "id": "a9178f96",
   "metadata": {
    "id": "mEiWpROjrJg2"
   },
   "source": [
    "\n",
    "### 3.4. Цены стартапов по категориям"
   ]
  },
  {
   "cell_type": "markdown",
   "id": "aeae7e52",
   "metadata": {},
   "source": [
    "- группируем по category_code\n",
    "- разброс измеряем с помощью std() — среднеквадратическое отклонение"
   ]
  },
  {
   "cell_type": "markdown",
   "id": "f1999a08",
   "metadata": {},
   "source": [
    "Выведем топ-10 стартапов с наибольшими ценами"
   ]
  },
  {
   "cell_type": "code",
   "execution_count": 85,
   "id": "5e75e50b",
   "metadata": {},
   "outputs": [
    {
     "name": "stdout",
     "output_type": "stream",
     "text": [
      " ТОП-10 КАТЕГОРИЙ ПО СРЕДНЕЙ ЦЕНЕ СТАРТАПОВ:\n",
      "                  count          mean      median           std  min  \\\n",
      "category_code                                                          \n",
      "enterprise          412  6.464338e+09         0.0  1.280882e+11  0.0   \n",
      "public_relations    219  6.151903e+08         0.0  4.059244e+09  0.0   \n",
      "manufacturing        29  5.892724e+08  72000000.0  9.696580e+08  0.0   \n",
      "biotech             454  4.263121e+08  13200000.0  1.540374e+09  0.0   \n",
      "health               27  3.944630e+08         0.0  1.249084e+09  0.0   \n",
      "finance              40  3.021988e+08    600000.0  7.960985e+08  0.0   \n",
      "hospitality          11  2.802182e+08  12500000.0  6.514494e+08  0.0   \n",
      "semiconductor       154  2.038324e+08         0.0  7.904889e+08  0.0   \n",
      "security            131  1.656813e+08         0.0  7.645662e+08  0.0   \n",
      "cleantech           116  1.621580e+08         0.0  5.522873e+08  0.0   \n",
      "\n",
      "                           max           sum  \n",
      "category_code                                 \n",
      "enterprise        2.600000e+12  2.663307e+12  \n",
      "public_relations  3.900000e+10  1.347267e+11  \n",
      "manufacturing     4.050000e+09  1.708890e+10  \n",
      "biotech           2.000000e+10  1.935457e+11  \n",
      "health            5.400000e+09  1.065050e+10  \n",
      "finance           4.400000e+09  1.208795e+10  \n",
      "hospitality       2.170000e+09  3.082400e+09  \n",
      "semiconductor     6.500000e+09  3.139019e+10  \n",
      "security          7.680000e+09  2.170425e+10  \n",
      "cleantech         3.750000e+09  1.881033e+10  \n",
      "\n",
      " ТОП-5 КАТЕГОРИЙ ПО СРЕДНЕЙ ЦЕНЕ:\n",
      "                          mean           std  count\n",
      "category_code                                      \n",
      "enterprise        6.464338e+09  1.280882e+11    412\n",
      "public_relations  6.151903e+08  4.059244e+09    219\n",
      "manufacturing     5.892724e+08  9.696580e+08     29\n",
      "biotech           4.263121e+08  1.540374e+09    454\n",
      "health            3.944630e+08  1.249084e+09     27\n",
      "\n",
      " ТОП-5 КАТЕГОРИЙ ПО РАЗБРОСУ ЦЕН:\n",
      "                          mean           std  count\n",
      "category_code                                      \n",
      "enterprise        6.464338e+09  1.280882e+11    412\n",
      "public_relations  6.151903e+08  4.059244e+09    219\n",
      "biotech           4.263121e+08  1.540374e+09    454\n",
      "health            3.944630e+08  1.249084e+09     27\n",
      "other             1.410059e+08  1.085129e+09    315\n"
     ]
    }
   ],
   "source": [
    "# Анализируем средние цены и разброс по категориям\n",
    "category_analysis = df.groupby('category_code')['price_amount'].agg([\n",
    "    'count',                  # количество сделок в категории\n",
    "    'mean',                   # средняя цена\n",
    "    'median',                 # медианная цена\n",
    "    'std',                    # стандартное отклонение (разброс)\n",
    "    'min',                    # минимальная цена\n",
    "    'max',                    # максимальная цена\n",
    "    'sum'                     # общая сумма сделок\n",
    "]).round(2).sort_values('mean', ascending=False)\n",
    "\n",
    "# Фильтруем категории с достаточным количеством сделок для надежности\n",
    "min_deals = 10  # минимальное количество сделок для анализа\n",
    "reliable_categories = category_analysis[category_analysis['count'] >= min_deals]\n",
    "\n",
    "print(\" ТОП-10 КАТЕГОРИЙ ПО СРЕДНЕЙ ЦЕНЕ СТАРТАПОВ:\")\n",
    "print(reliable_categories.head(10))\n",
    "\n",
    "# Топ категорий по среднему чеку\n",
    "print(\"\\n ТОП-5 КАТЕГОРИЙ ПО СРЕДНЕЙ ЦЕНЕ:\")\n",
    "top_mean = reliable_categories.nlargest(5, 'mean')[['mean', 'std', 'count']]\n",
    "print(top_mean)\n",
    "\n",
    "# Топ категорий по разбросу цен (стандартному отклонению)\n",
    "print(\"\\n ТОП-5 КАТЕГОРИЙ ПО РАЗБРОСУ ЦЕН:\")\n",
    "top_std = reliable_categories.nlargest(5, 'std')[['mean', 'std', 'count']]\n",
    "print(top_std)"
   ]
  },
  {
   "cell_type": "code",
   "execution_count": 93,
   "id": "1586a83b",
   "metadata": {},
   "outputs": [
    {
     "data": {
      "image/png": "[encoded data removed]",
      "text/plain": [
       "<Figure size 1080x432 with 2 Axes>"
      ]
     },
     "metadata": {
      "needs_background": "light"
     },
     "output_type": "display_data"
    }
   ],
   "source": [
    "# Создаем графики\n",
    "fig, (ax1, ax2) = plt.subplots(1, 2, figsize=(15, 6))\n",
    "\n",
    "# 1. Топ-10 категорий по средней цене\n",
    "top_10_mean = reliable_categories.nlargest(10, 'mean')\n",
    "ax1.barh(top_10_mean.index, top_10_mean['mean'] / 1e6, color='skyblue')\n",
    "ax1.set_xlabel('Средняя цена (миллионы $)')\n",
    "ax1.set_title('Топ-10 категорий по средней цене стартапов')\n",
    "ax1.grid(True, alpha=0.3)\n",
    "\n",
    "# 2. Топ-10 категорий по разбросу цен\n",
    "top_10_std = reliable_categories.nlargest(10, 'std')\n",
    "ax2.barh(top_10_std.index, top_10_std['std'] / 1e6, color='lightcoral')\n",
    "ax2.set_xlabel('Стандартное отклонение (миллионы $)')\n",
    "ax2.set_title('Топ-10 категорий по разбросу цен')\n",
    "ax2.grid(True, alpha=0.3)\n",
    "\n",
    "plt.tight_layout()\n",
    "plt.show()"
   ]
  },
  {
   "cell_type": "code",
   "execution_count": 80,
   "id": "e3474747",
   "metadata": {},
   "outputs": [
    {
     "name": "stdout",
     "output_type": "stream",
     "text": [
      "\n",
      "📈 ТОП-5 КАТЕГОРИЙ ПО ОТНОСИТЕЛЬНОМУ РАЗБРОСУ (Коэффициент вариации):\n",
      "               median           std      cv  count\n",
      "category_code                                     \n",
      "enterprise        0.0  1.280882e+11  19.815    412\n",
      "other             0.0  1.085129e+09   7.696    315\n",
      "consulting        0.0  5.054814e+08   7.262    135\n",
      "mobile            0.0  7.137738e+08   7.226    418\n",
      "games_video       0.0  7.623746e+08   6.683    344\n",
      "\n",
      " ВЫВОДЫ И ОБОСНОВАНИЕ:\n",
      "1.  Выбраны категории с ≥10 сделками для статистической значимости\n",
      "2.  Анализируется медианная цена для сравнения категорий\n",
      "3.  Стандартное отклонение показывает абсолютный разброс цен\n",
      "4.  Коэффициент вариации показывает относительный разброс\n",
      "5.  Для инвесторов важны и высокая средняя цена и высокий разброс\n",
      "6.  Высокий разброс = высокий риск, но и высокий потенциальный доход\n"
     ]
    }
   ],
   "source": [
    "reliable_categories = category_analysis[category_analysis['count'] >= min_deals].copy()\n",
    "\n",
    "# Коэффициент вариации показывает относительный разброс\n",
    "reliable_categories['cv'] = (reliable_categories['std'] / reliable_categories['mean']).round(3)\n",
    "\n",
    "print(\"\\n📈 ТОП-5 КАТЕГОРИЙ ПО ОТНОСИТЕЛЬНОМУ РАЗБРОСУ (Коэффициент вариации):\")\n",
    "top_cv = reliable_categories.nlargest(5, 'cv')[['median', 'std', 'cv', 'count']]\n",
    "print(top_cv)\n",
    "\n",
    "print(\"\\n ВЫВОДЫ И ОБОСНОВАНИЕ:\")\n",
    "print(\"1.  Выбраны категории с ≥10 сделками для статистической значимости\")\n",
    "print(\"2.  Анализируется медианная цена для сравнения категорий\")\n",
    "print(\"3.  Стандартное отклонение показывает абсолютный разброс цен\")\n",
    "print(\"4.  Коэффициент вариации показывает относительный разброс\")\n",
    "print(\"5.  Для инвесторов важны и высокая средняя цена и высокий разброс\")\n",
    "print(\"6.  Высокий разброс = высокий риск, но и высокий потенциальный доход\")"
   ]
  },
  {
   "cell_type": "code",
   "execution_count": 81,
   "id": "c0fdf2c5",
   "metadata": {},
   "outputs": [
    {
     "name": "stdout",
     "output_type": "stream",
     "text": [
      "Оригинальный размер данных: 40890\n",
      "Размер после фильтрации: 1535\n",
      "Удалено записей: 39355 (96.2%)\n"
     ]
    }
   ],
   "source": [
    "# Сначала очистим данные от выбросов и нулевых значений\n",
    "# Убираем нулевые цены и значения выше 90-го перцентиля\n",
    "price_90_percentile = df['price_amount'].quantile(0.90)\n",
    "filtered_df = df[(df['price_amount'] > 0) & (df['price_amount'] <= price_90_percentile)]\n",
    "\n",
    "print(f\"Оригинальный размер данных: {len(df)}\")\n",
    "print(f\"Размер после фильтрации: {len(filtered_df)}\")\n",
    "print(f\"Удалено записей: {len(df) - len(filtered_df)} ({((len(df) - len(filtered_df))/len(df)*100):.1f}%)\")"
   ]
  },
  {
   "cell_type": "code",
   "execution_count": 92,
   "id": "156c11fe",
   "metadata": {},
   "outputs": [
    {
     "name": "stdout",
     "output_type": "stream",
     "text": [
      "\n",
      " НАИБОЛЕЕ ПРИВЛЕКАТЕЛЬНЫЕ КАТЕГОРИИ ДЛЯ КРУПНЫХ ИНВЕСТОРОВ:\n",
      "Высокая медианная цена + высокий разброс = высокий риск/доход\n",
      "                 median_price    std_price     cv  count\n",
      "category_code                                           \n",
      "cleantech          51190000.0  34454635.54  0.673     14\n",
      "security           36000000.0  31914008.06  0.887     13\n",
      "mobile             26200000.0  32314743.08  1.233     79\n",
      "network_hosting    26150000.0  32743294.32  1.252     34\n"
     ]
    }
   ],
   "source": [
    "# Анализируем медианные цены и разброс по категориям (без выбросов)\n",
    "category_analysis_clean = filtered_df.groupby('category_code')['price_amount'].agg([\n",
    "    'count',      # количество сделок\n",
    "    'median',     # медианная цена (типичное значение)\n",
    "    'mean',       # средняя цена для сравнения\n",
    "    'std',        # стандартное отклонение\n",
    "    lambda x: x.quantile(0.75) - x.quantile(0.25)  # IQR как альтернатива std\n",
    "]).round(2)\n",
    "\n",
    "category_analysis_clean.columns = ['count', 'median_price', 'mean_price', 'std_price', 'iqr_price']\n",
    "category_analysis_clean = category_analysis_clean[category_analysis_clean['count'] >= 10]  # минимум 10 сделок\n",
    "\n",
    "# Рассчитываем коэффициент вариации на основе медианы\n",
    "category_analysis_clean['cv'] = (category_analysis_clean['std_price'] / category_analysis_clean['median_price']).round(3)\n",
    "\n",
    "# Находим категории с высокой медианной ценой и высоким разбросом\n",
    "median_median = category_analysis_clean['median_price'].median()\n",
    "median_std = category_analysis_clean['std_price'].median()\n",
    "\n",
    "high_value_high_risk = category_analysis_clean[\n",
    "    (category_analysis_clean['median_price'] > median_median) &\n",
    "    (category_analysis_clean['std_price'] > median_std)\n",
    "]\n",
    "\n",
    "print(\"\\n НАИБОЛЕЕ ПРИВЛЕКАТЕЛЬНЫЕ КАТЕГОРИИ ДЛЯ КРУПНЫХ ИНВЕСТОРОВ:\")\n",
    "print(\"Высокая медианная цена + высокий разброс = высокий риск/доход\")\n",
    "print(high_value_high_risk[['median_price', 'std_price', 'cv', 'count']].sort_values('median_price', ascending=False))"
   ]
  },
  {
   "cell_type": "markdown",
   "id": "ae461047",
   "metadata": {},
   "source": [
    "#### Наиболее привлекательные категории для крупных инвесторов:\n",
    " - На основе очищенных данных (без выбросов и нулевых значений) выявлены 4 наиболее перспективные категории:\n",
    "\n",
    "1. Cleantech (экологические технологии)\n",
    "\n",
    " - Медианная цена: $51.2M\n",
    "\n",
    " - Разброс цен: $34.5M\n",
    "\n",
    " - Коэффициент вариации: 0.67\n",
    "\n",
    " - Количество сделок: 14\n",
    "\n",
    "2. Security (безопасность)\n",
    "\n",
    " - Медианная цена: $36.0M\n",
    "\n",
    " - Разброс цен: $31.9M\n",
    "\n",
    " - Коэффициент вариации: 0.89\n",
    "\n",
    " - Количество сделок: 13\n",
    "\n",
    "3. Mobile (мобильные технологии)\n",
    "\n",
    " - Медианная цена: $26.2M\n",
    "\n",
    " - Разброс цен: $32.3M\n",
    "\n",
    " - Коэффициент вариации: 1.23\n",
    "\n",
    " - Количество сделок: 79\n",
    "\n",
    "4. Network Hosting (хостинг и сети)\n",
    "\n",
    " - Медианная цена: $26.2M\n",
    "\n",
    " - Разброс цен: $32.7M\n",
    "\n",
    " - Коэффициент вариации: 1.25\n",
    "\n",
    " - Количество сделок: 34\n",
    "\n",
    "#### Ключевые наблюдения:\n",
    "Высокий потенциал доходности:\n",
    "\n",
    " - Cleantech показывает самую высокую медианную цену ($51.2M)\n",
    "\n",
    " - Security демонстрирует стабильно высокие цены с умеренным риском\n",
    "\n",
    "#### Высокий риск/доход:\n",
    "\n",
    " - Mobile и Network Hosting имеют высокий коэффициент вариации (>1.2)\n",
    "\n",
    " - Это указывает на значительный разброс цен и потенциально высокую волатильность\n",
    "\n",
    "#### Достаточная выборка:\n",
    "\n",
    " - Все категории имеют более 10 сделок, что обеспечивает статистическую значимость\n",
    "\n",
    " - Mobile имеет наибольшее количество сделок (79), что повышает надежность данных"
   ]
  },
  {
   "cell_type": "markdown",
   "id": "5ed52296",
   "metadata": {
    "id": "ADOfyVY_rJg3"
   },
   "source": [
    "\n",
    "### 3.5. Сколько раундов продержится стартап перед покупкой"
   ]
  },
  {
   "cell_type": "code",
   "execution_count": 90,
   "id": "fb3ac7e5",
   "metadata": {},
   "outputs": [
    {
     "name": "stdout",
     "output_type": "stream",
     "text": [
      "СРЕДНЕЕ КОЛИЧЕСТВО РАУНДОВ ФИНАНСИРОВАНИЯ ПО СТАТУСАМ:\n",
      "status\n",
      "ipo          1.93\n",
      "operating    1.52\n",
      "closed       1.38\n",
      "acquired     0.53\n",
      "Name: funding_rounds, dtype: float64\n"
     ]
    }
   ],
   "source": [
    "# Анализируем среднее количество раундов финансирования по статусам\n",
    "rounds_by_status = df.groupby('status')['funding_rounds'].mean().round(2).sort_values(ascending=False)\n",
    "print(\"СРЕДНЕЕ КОЛИЧЕСТВО РАУНДОВ ФИНАНСИРОВАНИЯ ПО СТАТУСАМ:\")\n",
    "print(rounds_by_status)"
   ]
  },
  {
   "cell_type": "code",
   "execution_count": 91,
   "id": "b5aece50",
   "metadata": {
    "scrolled": true
   },
   "outputs": [
    {
     "data": {
      "text/plain": [
       "<AxesSubplot:title={'center':'Cреднее количество раундов финансирования по статусам'}, xlabel='Статус стартапа', ylabel='Среднее количество раундов'>"
      ]
     },
     "execution_count": 91,
     "metadata": {},
     "output_type": "execute_result"
    },
    {
     "data": {
      "image/png": "[encoded data removed]",
      "text/plain": [
       "<Figure size 864x720 with 1 Axes>"
      ]
     },
     "metadata": {
      "needs_background": "light"
     },
     "output_type": "display_data"
    }
   ],
   "source": [
    "rounds_by_status.plot(kind = 'bar',title = 'Cреднее количество раундов финансирования по статусам', legend = False, rot = 0, xlabel = 'Статус стартапа', ylabel = 'Среднее количество раундов', color = 'skyblue', figsize = (12, 10))"
   ]
  },
  {
   "cell_type": "markdown",
   "id": "b6df1654",
   "metadata": {},
   "source": [
    "Из получившегося графика можем сделать вывод, ято в среднем наибольшее количество раундов финансирования наблюдается у статуса 'operating', при этом статусы 'ipo'/'closed' не сильно уступают по этому показателю. Сильнее всего бросается в глаза снижение показателя у статуса 'acquired'. Это может быть связано с тем, что стартапы покупаются на ранних стадиях (после 1-2 раундов)"
   ]
  },
  {
   "cell_type": "markdown",
   "id": "0badf4be",
   "metadata": {},
   "source": [
    "## Итоговый вывод и рекомендации"
   ]
  },
  {
   "cell_type": "markdown",
   "id": "888c3bc9",
   "metadata": {},
   "source": [
    "1. Качество данных и предобработка\n",
    " - Данные содержат значительное количество пропусков (до 98% в некоторых столбцах)\n",
    "\n",
    " - Наиболее проблемный датасет - company_and_rounds с двумя четкими группами данных:\n",
    "\n",
    " - Группа A: основные данные о компаниях (99% заполненности)\n",
    "\n",
    " - Группа B: данные о раундах финансирования (75% пропусков)\n",
    "\n",
    " - Рекомендуется использовать только 24% компаний с полными данными о финансировании\n",
    "\n",
    "2. Динамика финансирования стартапов\n",
    " - 2005 год стал переломным моментом: резкий рост количества раундов при снижении средней суммы финансирования\n",
    "\n",
    " - Наблюдается отрицательная корреляция между количеством раундов и размером финансирования\n",
    "\n",
    " - 2012 год - пик снижения средней суммы раунда (до $1 млн)\n",
    "\n",
    "3. Образование сотрудников\n",
    " - Данные об образовании значительно полнее для крупных компаний (79% vs 41% для мелких)\n",
    "\n",
    " - Таблица degrees добавляет 5-10% дополнительной информации\n",
    "\n",
    " - Рекомендуется использовать объединенные данные education + degrees\n",
    "\n",
    "4. Анализ выбросов в финансировании\n",
    " - Распределение funding_total сильно право-скошено (коэффициент асимметрии = 18.0)\n",
    "\n",
    " - Метод IQR неоптимален для таких данных - лучше использовать перцентильный подход\n",
    "\n",
    " - Типичный диапазон: $0 - $55 млн (5-95 перцентили)\n",
    "\n",
    " - 14.6% данных являются выбросами, но сильно влияют на среднее\n",
    "\n",
    "5. Привлекательные категории для инвестиций\n",
    "#### Высокая медианная цена:\n",
    "\n",
    " - Cleantech - $51.2M (экологические технологии)\n",
    "\n",
    " - Security - $36.0M (безопасность)\n",
    "\n",
    " - Mobile - $26.2M (мобильные технологии)\n",
    "\n",
    " - Network Hosting - $26.2M (хостинг и сети)\n",
    "\n",
    "#### Наибольший разброс цен (высокий риск/доход):\n",
    "\n",
    " - Network Hosting - CV=1.25 (наибольшая волатильность)\n",
    "\n",
    " - Mobile - CV=1.23 (высокий потенциал доходности)\n",
    "\n",
    " - Security - CV=0.89 (умеренный риск)\n",
    "\n",
    " - Cleantech - CV=0.67 (относительная стабильность)\n",
    "\n",
    "#### Наиболее рискованные/прибыльные (по коэффициенту вариации):\n",
    "\n",
    " - Network Hosting (CV=1.25) - максимальный risk-return профиль\n",
    "\n",
    " - Mobile (CV=1.23) - высокий потенциал при повышенном риске\n",
    "\n",
    " - Security (CV=0.89) - сбалансированное соотношение риска и доходности\n",
    "\n",
    "Cleantech (CV=0.67) - наиболее стабильная категория\n",
    "\n",
    "6. Количество раундов и статус компаний\n",
    " - Operating компании: 1.55 раундов в среднем\n",
    "\n",
    " - Acquired компании: всего 0.55 раундов - свидетельство ранних выходов (early-exit)\n",
    "\n",
    " - Приобретенные компании часто покупаются на ранних стадиях\n",
    "### Ключевые рекомендации для заказчика\n",
    "1. Стратегические рекомендации:\n",
    " - Фокус на early-exit стратегии - большинство успешных приобретений происходит после 1-2 раундов\n",
    "\n",
    " - Приоритетные категории: Finance, Mobile, Biotech - высокий потенциал доходности\n",
    "\n",
    " - Крупные компании - более надежные данные и лучшее образование сотрудников\n",
    "\n",
    "2. Методологические рекомендации:\n",
    " - Использовать медиану вместо среднего для анализа финансирования\n",
    "\n",
    " - Применять перцентильный подход (5-95%) вместо IQR для выбросов\n",
    "\n",
    " - Учитывать инфляцию при анализе временных рядов\n",
    "\n",
    "3. Рекомендации по данным:\n",
    " - Сконцентрироваться на 24% компаний с полными данными о финансировании\n",
    "\n",
    " - Использовать объединенные данные education + degrees для анализа сотрудников\n",
    "\n",
    " - Учитывать sampling bias - данные лучше по успешным/крупным компаниям"
   ]
  }
 ],
 "metadata": {
  "ExecuteTimeLog": [
   {
    "duration": 69,
    "start_time": "2025-09-13T08:05:30.046Z"
   },
   {
    "duration": 3596,
    "start_time": "2025-09-13T08:05:40.238Z"
   },
   {
    "duration": 18,
    "start_time": "2025-09-13T08:05:43.836Z"
   },
   {
    "duration": 13,
    "start_time": "2025-09-13T08:05:45.290Z"
   },
   {
    "duration": 140,
    "start_time": "2025-09-13T08:06:11.044Z"
   },
   {
    "duration": 69,
    "start_time": "2025-09-13T08:07:55.732Z"
   },
   {
    "duration": 4,
    "start_time": "2025-09-13T08:10:40.691Z"
   },
   {
    "duration": 15,
    "start_time": "2025-09-13T08:11:54.480Z"
   },
   {
    "duration": 2326,
    "start_time": "2025-09-13T08:16:38.431Z"
   },
   {
    "duration": 13,
    "start_time": "2025-09-13T08:16:40.759Z"
   },
   {
    "duration": 200,
    "start_time": "2025-09-13T08:16:40.774Z"
   },
   {
    "duration": 4,
    "start_time": "2025-09-13T08:16:41.024Z"
   },
   {
    "duration": 5,
    "start_time": "2025-09-13T08:16:44.579Z"
   },
   {
    "duration": 102,
    "start_time": "2025-09-13T08:17:24.442Z"
   },
   {
    "duration": 12,
    "start_time": "2025-09-13T08:18:01.459Z"
   },
   {
    "duration": 12,
    "start_time": "2025-09-13T08:18:23.055Z"
   },
   {
    "duration": 19,
    "start_time": "2025-09-13T08:18:51.443Z"
   },
   {
    "duration": 11,
    "start_time": "2025-09-13T08:19:12.245Z"
   },
   {
    "duration": 14,
    "start_time": "2025-09-13T08:19:25.367Z"
   },
   {
    "duration": 3,
    "start_time": "2025-09-13T08:19:40.931Z"
   },
   {
    "duration": 3,
    "start_time": "2025-09-13T08:25:30.074Z"
   },
   {
    "duration": 177,
    "start_time": "2025-09-13T08:25:48.298Z"
   },
   {
    "duration": 144,
    "start_time": "2025-09-13T08:27:35.551Z"
   },
   {
    "duration": 156,
    "start_time": "2025-09-13T08:27:56.027Z"
   },
   {
    "duration": 11,
    "start_time": "2025-09-13T08:29:11.301Z"
   },
   {
    "duration": 386,
    "start_time": "2025-09-13T08:30:04.280Z"
   },
   {
    "duration": 58,
    "start_time": "2025-09-13T08:30:31.483Z"
   },
   {
    "duration": 57,
    "start_time": "2025-09-13T08:30:54.224Z"
   },
   {
    "duration": 22,
    "start_time": "2025-09-13T08:31:16.548Z"
   },
   {
    "duration": 17,
    "start_time": "2025-09-13T08:31:34.212Z"
   },
   {
    "duration": 169,
    "start_time": "2025-09-13T08:31:48.553Z"
   },
   {
    "duration": 366,
    "start_time": "2025-09-13T08:32:10.923Z"
   },
   {
    "duration": 53,
    "start_time": "2025-09-13T08:32:20.360Z"
   },
   {
    "duration": 20,
    "start_time": "2025-09-13T08:37:25.167Z"
   },
   {
    "duration": 31,
    "start_time": "2025-09-13T08:37:33.938Z"
   },
   {
    "duration": 31,
    "start_time": "2025-09-13T08:37:39.544Z"
   },
   {
    "duration": 99,
    "start_time": "2025-09-13T08:37:49.979Z"
   },
   {
    "duration": 12,
    "start_time": "2025-09-13T08:37:56.708Z"
   },
   {
    "duration": 54,
    "start_time": "2025-09-13T08:39:31.646Z"
   },
   {
    "duration": 8,
    "start_time": "2025-09-13T08:43:29.336Z"
   },
   {
    "duration": 21,
    "start_time": "2025-09-13T08:44:07.180Z"
   },
   {
    "duration": 1027,
    "start_time": "2025-09-13T08:45:05.060Z"
   },
   {
    "duration": 40,
    "start_time": "2025-09-13T08:45:18.831Z"
   },
   {
    "duration": 20,
    "start_time": "2025-09-13T08:46:30.753Z"
   },
   {
    "duration": 918,
    "start_time": "2025-09-13T08:47:23.569Z"
   },
   {
    "duration": 54,
    "start_time": "2025-09-13T08:47:36.291Z"
   },
   {
    "duration": 2919,
    "start_time": "2025-09-13T08:48:21.601Z"
   },
   {
    "duration": 54,
    "start_time": "2025-09-13T08:48:35.749Z"
   },
   {
    "duration": 12,
    "start_time": "2025-09-13T09:09:10.896Z"
   },
   {
    "duration": 14,
    "start_time": "2025-09-13T09:22:22.199Z"
   },
   {
    "duration": 15,
    "start_time": "2025-09-13T09:27:13.639Z"
   },
   {
    "duration": 4,
    "start_time": "2025-09-13T09:30:31.821Z"
   },
   {
    "duration": 61,
    "start_time": "2025-09-13T09:30:42.755Z"
   },
   {
    "duration": 67,
    "start_time": "2025-09-13T09:31:16.370Z"
   },
   {
    "duration": 57,
    "start_time": "2025-09-13T09:31:21.898Z"
   },
   {
    "duration": 4,
    "start_time": "2025-09-13T09:31:27.792Z"
   },
   {
    "duration": 4,
    "start_time": "2025-09-13T09:32:25.822Z"
   },
   {
    "duration": 12,
    "start_time": "2025-09-13T09:32:48.643Z"
   },
   {
    "duration": 41,
    "start_time": "2025-09-13T09:33:16.803Z"
   },
   {
    "duration": 25,
    "start_time": "2025-09-13T09:43:01.787Z"
   },
   {
    "duration": 96,
    "start_time": "2025-09-13T09:47:35.126Z"
   },
   {
    "duration": 71,
    "start_time": "2025-09-13T09:49:11.018Z"
   },
   {
    "duration": 15,
    "start_time": "2025-09-13T09:59:00.738Z"
   },
   {
    "duration": 29,
    "start_time": "2025-09-13T09:59:12.438Z"
   },
   {
    "duration": 13,
    "start_time": "2025-09-13T09:59:19.691Z"
   },
   {
    "duration": 24,
    "start_time": "2025-09-13T10:01:18.584Z"
   },
   {
    "duration": 24,
    "start_time": "2025-09-13T10:02:26.526Z"
   },
   {
    "duration": 22,
    "start_time": "2025-09-13T10:02:35.001Z"
   },
   {
    "duration": 17,
    "start_time": "2025-09-13T10:06:12.029Z"
   },
   {
    "duration": 22,
    "start_time": "2025-09-13T10:06:27.310Z"
   },
   {
    "duration": 23,
    "start_time": "2025-09-13T10:06:32.756Z"
   },
   {
    "duration": 192,
    "start_time": "2025-09-13T10:08:10.551Z"
   },
   {
    "duration": 14,
    "start_time": "2025-09-13T10:10:12.885Z"
   },
   {
    "duration": 12,
    "start_time": "2025-09-13T10:10:26.871Z"
   },
   {
    "duration": 92,
    "start_time": "2025-09-13T10:11:09.655Z"
   },
   {
    "duration": 20,
    "start_time": "2025-09-13T10:11:25.974Z"
   },
   {
    "duration": 772,
    "start_time": "2025-09-13T10:15:15.901Z"
   },
   {
    "duration": 19,
    "start_time": "2025-09-13T10:15:28.653Z"
   },
   {
    "duration": 18,
    "start_time": "2025-09-13T10:16:54.002Z"
   },
   {
    "duration": 21,
    "start_time": "2025-09-13T10:17:14.600Z"
   },
   {
    "duration": 12,
    "start_time": "2025-09-13T12:08:30.294Z"
   },
   {
    "duration": 126,
    "start_time": "2025-09-13T12:13:29.062Z"
   },
   {
    "duration": 39,
    "start_time": "2025-09-13T12:13:59.973Z"
   },
   {
    "duration": 42,
    "start_time": "2025-09-13T12:14:18.465Z"
   },
   {
    "duration": 35,
    "start_time": "2025-09-13T12:14:33.425Z"
   },
   {
    "duration": 5,
    "start_time": "2025-09-13T12:14:56.682Z"
   },
   {
    "duration": 24,
    "start_time": "2025-09-13T12:15:31.231Z"
   },
   {
    "duration": 52,
    "start_time": "2025-09-13T12:17:21.348Z"
   },
   {
    "duration": 49,
    "start_time": "2025-09-13T12:17:33.744Z"
   },
   {
    "duration": 42,
    "start_time": "2025-09-13T12:18:00.770Z"
   },
   {
    "duration": 35,
    "start_time": "2025-09-13T12:18:28.341Z"
   },
   {
    "duration": 51,
    "start_time": "2025-09-13T12:18:55.608Z"
   },
   {
    "duration": 48,
    "start_time": "2025-09-13T12:19:10.553Z"
   },
   {
    "duration": 128,
    "start_time": "2025-09-13T12:23:49.218Z"
   },
   {
    "duration": 35,
    "start_time": "2025-09-13T12:24:30.506Z"
   },
   {
    "duration": 23,
    "start_time": "2025-09-13T12:25:54.167Z"
   },
   {
    "duration": 3677,
    "start_time": "2025-09-13T14:03:01.143Z"
   },
   {
    "duration": 14,
    "start_time": "2025-09-13T14:03:04.822Z"
   },
   {
    "duration": 113,
    "start_time": "2025-09-13T14:03:04.838Z"
   },
   {
    "duration": 6,
    "start_time": "2025-09-13T14:03:04.954Z"
   },
   {
    "duration": 49,
    "start_time": "2025-09-13T14:03:04.962Z"
   },
   {
    "duration": 122,
    "start_time": "2025-09-13T14:03:05.013Z"
   },
   {
    "duration": 22,
    "start_time": "2025-09-13T14:03:05.137Z"
   },
   {
    "duration": 50,
    "start_time": "2025-09-13T14:03:05.161Z"
   },
   {
    "duration": 13,
    "start_time": "2025-09-13T14:03:05.213Z"
   },
   {
    "duration": 21,
    "start_time": "2025-09-13T14:03:05.229Z"
   },
   {
    "duration": 16,
    "start_time": "2025-09-13T14:03:05.251Z"
   },
   {
    "duration": 76,
    "start_time": "2025-09-13T14:03:05.269Z"
   },
   {
    "duration": 29,
    "start_time": "2025-09-13T14:03:05.346Z"
   },
   {
    "duration": 400,
    "start_time": "2025-09-13T14:03:05.377Z"
   },
   {
    "duration": 58,
    "start_time": "2025-09-13T14:03:05.779Z"
   },
   {
    "duration": 44,
    "start_time": "2025-09-13T14:03:05.839Z"
   },
   {
    "duration": 18,
    "start_time": "2025-09-13T14:03:05.898Z"
   },
   {
    "duration": 57,
    "start_time": "2025-09-13T14:03:05.918Z"
   },
   {
    "duration": 150,
    "start_time": "2025-09-13T14:03:05.977Z"
   },
   {
    "duration": 7,
    "start_time": "2025-09-13T14:03:06.130Z"
   },
   {
    "duration": 56,
    "start_time": "2025-09-13T14:03:06.139Z"
   },
   {
    "duration": 101,
    "start_time": "2025-09-13T14:03:06.197Z"
   },
   {
    "duration": 67,
    "start_time": "2025-09-13T14:03:06.299Z"
   },
   {
    "duration": 17,
    "start_time": "2025-09-13T14:03:06.368Z"
   },
   {
    "duration": 3,
    "start_time": "2025-09-13T14:03:06.797Z"
   },
   {
    "duration": 13,
    "start_time": "2025-09-13T14:03:07.193Z"
   },
   {
    "duration": 41,
    "start_time": "2025-09-13T14:03:07.764Z"
   },
   {
    "duration": 21,
    "start_time": "2025-09-13T14:03:08.325Z"
   },
   {
    "duration": 68,
    "start_time": "2025-09-13T14:03:08.904Z"
   },
   {
    "duration": 15,
    "start_time": "2025-09-13T14:03:09.678Z"
   },
   {
    "duration": 44,
    "start_time": "2025-09-13T14:03:09.846Z"
   },
   {
    "duration": 190,
    "start_time": "2025-09-13T14:03:10.062Z"
   },
   {
    "duration": 3,
    "start_time": "2025-09-13T14:03:11.025Z"
   },
   {
    "duration": 87,
    "start_time": "2025-09-13T14:03:11.625Z"
   },
   {
    "duration": 20,
    "start_time": "2025-09-13T14:03:12.360Z"
   },
   {
    "duration": 19,
    "start_time": "2025-09-13T14:03:13.122Z"
   },
   {
    "duration": 39,
    "start_time": "2025-09-13T14:03:14.273Z"
   },
   {
    "duration": 35,
    "start_time": "2025-09-13T14:03:14.501Z"
   },
   {
    "duration": 6,
    "start_time": "2025-09-13T14:03:15.487Z"
   },
   {
    "duration": 23,
    "start_time": "2025-09-13T14:03:15.668Z"
   },
   {
    "duration": 59,
    "start_time": "2025-09-13T14:03:15.842Z"
   },
   {
    "duration": 90,
    "start_time": "2025-09-13T14:03:20.182Z"
   },
   {
    "duration": 38,
    "start_time": "2025-09-13T14:03:21.715Z"
   },
   {
    "duration": 23,
    "start_time": "2025-09-13T14:03:24.343Z"
   },
   {
    "duration": 10,
    "start_time": "2025-09-13T14:04:25.578Z"
   },
   {
    "duration": 215,
    "start_time": "2025-09-13T14:05:17.885Z"
   },
   {
    "duration": 48,
    "start_time": "2025-09-14T13:39:29.331Z"
   },
   {
    "duration": 3517,
    "start_time": "2025-09-14T13:39:36.593Z"
   },
   {
    "duration": 14,
    "start_time": "2025-09-14T13:39:40.112Z"
   },
   {
    "duration": 107,
    "start_time": "2025-09-14T13:39:40.127Z"
   },
   {
    "duration": 196,
    "start_time": "2025-09-14T13:39:40.236Z"
   },
   {
    "duration": 1469,
    "start_time": "2025-09-14T13:40:30.254Z"
   },
   {
    "duration": 14,
    "start_time": "2025-09-14T13:40:48.580Z"
   },
   {
    "duration": 11,
    "start_time": "2025-09-14T13:41:02.672Z"
   },
   {
    "duration": 1241,
    "start_time": "2025-09-14T13:41:21.049Z"
   },
   {
    "duration": 13,
    "start_time": "2025-09-14T13:41:36.357Z"
   },
   {
    "duration": 6,
    "start_time": "2025-09-14T13:43:25.913Z"
   },
   {
    "duration": 102,
    "start_time": "2025-09-14T13:43:29.615Z"
   },
   {
    "duration": 25,
    "start_time": "2025-09-14T13:43:31.228Z"
   },
   {
    "duration": 21,
    "start_time": "2025-09-14T13:43:31.925Z"
   },
   {
    "duration": 13,
    "start_time": "2025-09-14T13:43:32.088Z"
   },
   {
    "duration": 10,
    "start_time": "2025-09-14T13:43:32.342Z"
   },
   {
    "duration": 13,
    "start_time": "2025-09-14T13:43:32.672Z"
   },
   {
    "duration": 3,
    "start_time": "2025-09-14T13:43:33.522Z"
   },
   {
    "duration": 10,
    "start_time": "2025-09-14T13:43:33.890Z"
   },
   {
    "duration": 426,
    "start_time": "2025-09-14T13:43:34.993Z"
   },
   {
    "duration": 65,
    "start_time": "2025-09-14T13:43:35.421Z"
   },
   {
    "duration": 41,
    "start_time": "2025-09-14T13:43:35.827Z"
   },
   {
    "duration": 16,
    "start_time": "2025-09-14T13:43:36.461Z"
   },
   {
    "duration": 16,
    "start_time": "2025-09-14T13:43:36.662Z"
   },
   {
    "duration": 164,
    "start_time": "2025-09-14T13:43:37.091Z"
   },
   {
    "duration": 13,
    "start_time": "2025-09-14T13:44:45.844Z"
   },
   {
    "duration": 3663,
    "start_time": "2025-09-14T13:44:55.434Z"
   },
   {
    "duration": 16,
    "start_time": "2025-09-14T13:44:59.099Z"
   },
   {
    "duration": 113,
    "start_time": "2025-09-14T13:44:59.117Z"
   },
   {
    "duration": 6,
    "start_time": "2025-09-14T13:44:59.233Z"
   },
   {
    "duration": 36,
    "start_time": "2025-09-14T13:44:59.241Z"
   },
   {
    "duration": 6,
    "start_time": "2025-09-14T13:46:37.280Z"
   },
   {
    "duration": 102,
    "start_time": "2025-09-14T13:46:37.814Z"
   },
   {
    "duration": 26,
    "start_time": "2025-09-14T13:46:38.025Z"
   },
   {
    "duration": 22,
    "start_time": "2025-09-14T13:46:38.196Z"
   },
   {
    "duration": 14,
    "start_time": "2025-09-14T13:46:38.385Z"
   },
   {
    "duration": 11,
    "start_time": "2025-09-14T13:46:38.576Z"
   },
   {
    "duration": 15,
    "start_time": "2025-09-14T13:46:38.747Z"
   },
   {
    "duration": 3,
    "start_time": "2025-09-14T13:46:39.406Z"
   },
   {
    "duration": 11,
    "start_time": "2025-09-14T13:46:39.731Z"
   },
   {
    "duration": 424,
    "start_time": "2025-09-14T13:46:39.935Z"
   },
   {
    "duration": 60,
    "start_time": "2025-09-14T13:46:40.361Z"
   },
   {
    "duration": 51,
    "start_time": "2025-09-14T13:46:40.423Z"
   },
   {
    "duration": 16,
    "start_time": "2025-09-14T13:46:40.476Z"
   },
   {
    "duration": 17,
    "start_time": "2025-09-14T13:46:40.605Z"
   },
   {
    "duration": 178,
    "start_time": "2025-09-14T13:46:40.782Z"
   },
   {
    "duration": 8,
    "start_time": "2025-09-14T13:46:42.404Z"
   },
   {
    "duration": 36,
    "start_time": "2025-09-14T13:46:42.585Z"
   },
   {
    "duration": 47,
    "start_time": "2025-09-14T13:46:42.756Z"
   },
   {
    "duration": 49,
    "start_time": "2025-09-14T13:46:43.147Z"
   },
   {
    "duration": 19,
    "start_time": "2025-09-14T13:46:43.472Z"
   },
   {
    "duration": 4,
    "start_time": "2025-09-14T13:46:56.039Z"
   },
   {
    "duration": 13,
    "start_time": "2025-09-14T13:46:56.979Z"
   },
   {
    "duration": 40,
    "start_time": "2025-09-14T13:46:57.833Z"
   },
   {
    "duration": 21,
    "start_time": "2025-09-14T13:46:58.381Z"
   },
   {
    "duration": 95,
    "start_time": "2025-09-14T13:46:58.959Z"
   },
   {
    "duration": 167,
    "start_time": "2025-09-14T13:48:05.391Z"
   },
   {
    "duration": 101,
    "start_time": "2025-09-14T13:48:52.428Z"
   },
   {
    "duration": 3448,
    "start_time": "2025-09-14T13:50:43.767Z"
   },
   {
    "duration": 2764,
    "start_time": "2025-09-14T13:50:48.924Z"
   },
   {
    "duration": 2452,
    "start_time": "2025-09-14T13:51:20.712Z"
   },
   {
    "duration": 1281,
    "start_time": "2025-09-14T13:55:59.019Z"
   },
   {
    "duration": 0,
    "start_time": "2025-09-14T13:56:00.302Z"
   },
   {
    "duration": 6,
    "start_time": "2025-09-14T13:56:29.056Z"
   },
   {
    "duration": 14,
    "start_time": "2025-09-14T13:56:45.863Z"
   },
   {
    "duration": 12,
    "start_time": "2025-09-14T13:56:51.336Z"
   },
   {
    "duration": 8,
    "start_time": "2025-09-14T13:57:05.870Z"
   },
   {
    "duration": 40,
    "start_time": "2025-09-14T13:57:06.063Z"
   },
   {
    "duration": 42,
    "start_time": "2025-09-14T13:57:06.241Z"
   },
   {
    "duration": 48,
    "start_time": "2025-09-14T13:57:06.427Z"
   },
   {
    "duration": 19,
    "start_time": "2025-09-14T13:57:06.631Z"
   },
   {
    "duration": 3,
    "start_time": "2025-09-14T13:57:07.474Z"
   },
   {
    "duration": 13,
    "start_time": "2025-09-14T13:57:07.844Z"
   },
   {
    "duration": 42,
    "start_time": "2025-09-14T13:57:08.663Z"
   },
   {
    "duration": 22,
    "start_time": "2025-09-14T13:57:09.287Z"
   },
   {
    "duration": 71,
    "start_time": "2025-09-14T13:57:09.857Z"
   },
   {
    "duration": 161,
    "start_time": "2025-09-14T13:57:11.076Z"
   },
   {
    "duration": 2383,
    "start_time": "2025-09-14T13:57:11.515Z"
   },
   {
    "duration": 12,
    "start_time": "2025-09-14T13:57:13.900Z"
   },
   {
    "duration": 34,
    "start_time": "2025-09-14T13:57:15.300Z"
   },
   {
    "duration": 21,
    "start_time": "2025-09-14T13:57:29.680Z"
   },
   {
    "duration": 533,
    "start_time": "2025-09-14T14:01:08.599Z"
   },
   {
    "duration": 3,
    "start_time": "2025-09-14T14:01:22.672Z"
   },
   {
    "duration": 100,
    "start_time": "2025-09-14T14:07:30.571Z"
   },
   {
    "duration": 22,
    "start_time": "2025-09-14T14:07:31.051Z"
   },
   {
    "duration": 19,
    "start_time": "2025-09-14T14:07:32.015Z"
   },
   {
    "duration": 22,
    "start_time": "2025-09-14T14:10:31.805Z"
   },
   {
    "duration": 463,
    "start_time": "2025-09-14T14:11:53.131Z"
   },
   {
    "duration": 22,
    "start_time": "2025-09-14T14:11:55.166Z"
   },
   {
    "duration": 18,
    "start_time": "2025-09-14T14:11:56.021Z"
   },
   {
    "duration": 22,
    "start_time": "2025-09-14T14:11:57.226Z"
   },
   {
    "duration": 23,
    "start_time": "2025-09-14T14:12:02.069Z"
   },
   {
    "duration": 248,
    "start_time": "2025-09-14T14:12:06.810Z"
   },
   {
    "duration": 22,
    "start_time": "2025-09-14T14:12:09.864Z"
   },
   {
    "duration": 291,
    "start_time": "2025-09-14T14:12:53.328Z"
   },
   {
    "duration": 1421,
    "start_time": "2025-09-14T14:12:54.060Z"
   },
   {
    "duration": 536,
    "start_time": "2025-09-14T14:13:34.527Z"
   },
   {
    "duration": 5,
    "start_time": "2025-09-14T14:15:41.303Z"
   },
   {
    "duration": 40,
    "start_time": "2025-09-14T14:15:59.765Z"
   },
   {
    "duration": 37,
    "start_time": "2025-09-14T14:16:00.280Z"
   },
   {
    "duration": 9,
    "start_time": "2025-09-14T14:16:00.894Z"
   },
   {
    "duration": 26,
    "start_time": "2025-09-14T14:16:01.286Z"
   },
   {
    "duration": 51,
    "start_time": "2025-09-14T14:16:01.754Z"
   },
   {
    "duration": 108,
    "start_time": "2025-09-14T14:16:14.390Z"
   },
   {
    "duration": 38,
    "start_time": "2025-09-14T14:16:14.799Z"
   },
   {
    "duration": 12,
    "start_time": "2025-09-14T14:16:15.383Z"
   },
   {
    "duration": 243,
    "start_time": "2025-09-14T14:16:18.717Z"
   },
   {
    "duration": 118,
    "start_time": "2025-09-14T14:18:11.650Z"
   },
   {
    "duration": 241,
    "start_time": "2025-09-14T14:18:15.181Z"
   },
   {
    "duration": 72,
    "start_time": "2025-09-14T14:20:47.945Z"
   },
   {
    "duration": 3205,
    "start_time": "2025-09-14T15:44:20.295Z"
   },
   {
    "duration": 3925,
    "start_time": "2025-09-14T15:44:23.502Z"
   },
   {
    "duration": 14,
    "start_time": "2025-09-14T15:44:27.428Z"
   },
   {
    "duration": 116,
    "start_time": "2025-09-14T15:44:27.444Z"
   },
   {
    "duration": 5,
    "start_time": "2025-09-14T15:44:27.562Z"
   },
   {
    "duration": 29,
    "start_time": "2025-09-14T15:44:27.569Z"
   },
   {
    "duration": 5,
    "start_time": "2025-09-14T15:44:27.600Z"
   },
   {
    "duration": 129,
    "start_time": "2025-09-14T15:44:27.607Z"
   },
   {
    "duration": 25,
    "start_time": "2025-09-14T15:44:27.737Z"
   },
   {
    "duration": 33,
    "start_time": "2025-09-14T15:44:27.765Z"
   },
   {
    "duration": 35,
    "start_time": "2025-09-14T15:44:27.800Z"
   },
   {
    "duration": 10,
    "start_time": "2025-09-14T15:44:27.837Z"
   },
   {
    "duration": 16,
    "start_time": "2025-09-14T15:44:27.849Z"
   },
   {
    "duration": 3,
    "start_time": "2025-09-14T15:44:27.867Z"
   },
   {
    "duration": 17,
    "start_time": "2025-09-14T15:44:27.871Z"
   },
   {
    "duration": 447,
    "start_time": "2025-09-14T15:44:27.889Z"
   },
   {
    "duration": 60,
    "start_time": "2025-09-14T15:44:28.338Z"
   },
   {
    "duration": 51,
    "start_time": "2025-09-14T15:44:28.400Z"
   },
   {
    "duration": 16,
    "start_time": "2025-09-14T15:44:28.452Z"
   },
   {
    "duration": 18,
    "start_time": "2025-09-14T15:44:28.469Z"
   },
   {
    "duration": 164,
    "start_time": "2025-09-14T15:44:28.489Z"
   },
   {
    "duration": 7,
    "start_time": "2025-09-14T15:44:28.655Z"
   },
   {
    "duration": 58,
    "start_time": "2025-09-14T15:44:28.663Z"
   },
   {
    "duration": 44,
    "start_time": "2025-09-14T15:44:28.723Z"
   },
   {
    "duration": 68,
    "start_time": "2025-09-14T15:44:28.769Z"
   },
   {
    "duration": 20,
    "start_time": "2025-09-14T15:44:28.839Z"
   },
   {
    "duration": 15,
    "start_time": "2025-09-14T15:44:28.862Z"
   },
   {
    "duration": 13,
    "start_time": "2025-09-14T15:44:29.311Z"
   },
   {
    "duration": 40,
    "start_time": "2025-09-14T15:44:30.451Z"
   },
   {
    "duration": 21,
    "start_time": "2025-09-14T15:44:31.068Z"
   },
   {
    "duration": 71,
    "start_time": "2025-09-14T15:44:31.969Z"
   },
   {
    "duration": 167,
    "start_time": "2025-09-14T15:44:33.028Z"
   },
   {
    "duration": 2555,
    "start_time": "2025-09-14T15:44:33.312Z"
   },
   {
    "duration": 14,
    "start_time": "2025-09-14T15:44:35.870Z"
   },
   {
    "duration": 125,
    "start_time": "2025-09-14T15:44:35.886Z"
   },
   {
    "duration": 454,
    "start_time": "2025-09-14T15:44:36.013Z"
   },
   {
    "duration": 3,
    "start_time": "2025-09-14T15:44:36.469Z"
   },
   {
    "duration": 418,
    "start_time": "2025-09-14T15:44:39.141Z"
   },
   {
    "duration": 21,
    "start_time": "2025-09-14T15:44:40.162Z"
   },
   {
    "duration": 18,
    "start_time": "2025-09-14T15:44:40.583Z"
   },
   {
    "duration": 258,
    "start_time": "2025-09-14T15:44:41.048Z"
   },
   {
    "duration": 538,
    "start_time": "2025-09-14T15:44:41.480Z"
   },
   {
    "duration": 606,
    "start_time": "2025-09-14T15:44:49.226Z"
   },
   {
    "duration": 540,
    "start_time": "2025-09-14T15:45:01.023Z"
   },
   {
    "duration": 4,
    "start_time": "2025-09-14T15:45:09.749Z"
   },
   {
    "duration": 39,
    "start_time": "2025-09-14T15:45:11.655Z"
   },
   {
    "duration": 33,
    "start_time": "2025-09-14T15:45:12.102Z"
   },
   {
    "duration": 4,
    "start_time": "2025-09-14T15:45:12.415Z"
   },
   {
    "duration": 23,
    "start_time": "2025-09-14T15:45:12.631Z"
   },
   {
    "duration": 53,
    "start_time": "2025-09-14T15:45:12.816Z"
   },
   {
    "duration": 89,
    "start_time": "2025-09-14T15:45:15.178Z"
   },
   {
    "duration": 38,
    "start_time": "2025-09-14T15:45:15.544Z"
   },
   {
    "duration": 106,
    "start_time": "2025-09-14T15:45:16.175Z"
   },
   {
    "duration": 102,
    "start_time": "2025-09-14T15:45:18.222Z"
   },
   {
    "duration": 283,
    "start_time": "2025-09-14T15:45:53.773Z"
   },
   {
    "duration": 9,
    "start_time": "2025-09-14T15:48:00.469Z"
   },
   {
    "duration": 22,
    "start_time": "2025-09-14T15:48:06.288Z"
   },
   {
    "duration": 10,
    "start_time": "2025-09-14T15:51:43.933Z"
   },
   {
    "duration": 20,
    "start_time": "2025-09-14T15:52:41.146Z"
   },
   {
    "duration": 24,
    "start_time": "2025-09-14T15:52:53.686Z"
   },
   {
    "duration": 11,
    "start_time": "2025-09-14T15:59:39.305Z"
   },
   {
    "duration": 41,
    "start_time": "2025-09-14T15:59:44.870Z"
   },
   {
    "duration": 10,
    "start_time": "2025-09-14T16:14:53.944Z"
   },
   {
    "duration": 138,
    "start_time": "2025-09-14T16:17:33.323Z"
   },
   {
    "duration": 148,
    "start_time": "2025-09-14T16:19:00.532Z"
   },
   {
    "duration": 2254,
    "start_time": "2025-09-14T16:21:24.825Z"
   },
   {
    "duration": 11,
    "start_time": "2025-09-14T16:21:53.514Z"
   },
   {
    "duration": 10,
    "start_time": "2025-09-14T16:22:15.605Z"
   },
   {
    "duration": 5,
    "start_time": "2025-09-14T16:22:17.875Z"
   },
   {
    "duration": 6,
    "start_time": "2025-09-14T16:22:56.945Z"
   },
   {
    "duration": 8,
    "start_time": "2025-09-14T16:23:13.525Z"
   },
   {
    "duration": 407,
    "start_time": "2025-09-14T16:23:31.554Z"
   },
   {
    "duration": 811,
    "start_time": "2025-09-14T16:25:33.282Z"
   },
   {
    "duration": 932,
    "start_time": "2025-09-14T16:26:19.405Z"
   },
   {
    "duration": 12,
    "start_time": "2025-09-14T16:27:03.697Z"
   },
   {
    "duration": 948,
    "start_time": "2025-09-14T16:27:30.226Z"
   },
   {
    "duration": 5,
    "start_time": "2025-09-14T16:27:37.113Z"
   },
   {
    "duration": 6,
    "start_time": "2025-09-14T16:29:25.690Z"
   },
   {
    "duration": 7,
    "start_time": "2025-09-14T16:30:40.306Z"
   },
   {
    "duration": 9,
    "start_time": "2025-09-14T16:30:49.876Z"
   },
   {
    "duration": 7,
    "start_time": "2025-09-14T16:30:55.456Z"
   },
   {
    "duration": 7,
    "start_time": "2025-09-14T16:31:12.755Z"
   },
   {
    "duration": 15,
    "start_time": "2025-09-14T16:32:47.486Z"
   },
   {
    "duration": 11,
    "start_time": "2025-09-14T16:33:23.252Z"
   },
   {
    "duration": 33,
    "start_time": "2025-09-14T16:43:22.131Z"
   },
   {
    "duration": 9,
    "start_time": "2025-09-14T16:44:23.621Z"
   },
   {
    "duration": 8,
    "start_time": "2025-09-14T16:44:56.105Z"
   },
   {
    "duration": 7,
    "start_time": "2025-09-14T16:45:11.541Z"
   },
   {
    "duration": 8,
    "start_time": "2025-09-14T16:46:15.581Z"
   },
   {
    "duration": 8,
    "start_time": "2025-09-14T16:46:20.753Z"
   },
   {
    "duration": 5,
    "start_time": "2025-09-14T16:47:06.809Z"
   },
   {
    "duration": 6,
    "start_time": "2025-09-14T16:48:04.618Z"
   },
   {
    "duration": 32,
    "start_time": "2025-09-14T16:49:23.203Z"
   },
   {
    "duration": 491,
    "start_time": "2025-09-14T16:49:54.866Z"
   },
   {
    "duration": 26,
    "start_time": "2025-09-14T16:50:30.987Z"
   },
   {
    "duration": 15,
    "start_time": "2025-09-14T16:52:32.411Z"
   },
   {
    "duration": 13,
    "start_time": "2025-09-14T16:53:08.516Z"
   },
   {
    "duration": 13,
    "start_time": "2025-09-14T16:53:32.748Z"
   },
   {
    "duration": 13,
    "start_time": "2025-09-14T16:53:53.958Z"
   },
   {
    "duration": 5,
    "start_time": "2025-09-14T16:54:25.460Z"
   },
   {
    "duration": 1160,
    "start_time": "2025-09-14T16:54:30.869Z"
   },
   {
    "duration": 12,
    "start_time": "2025-09-14T16:55:09.076Z"
   },
   {
    "duration": 13,
    "start_time": "2025-09-14T16:55:15.322Z"
   },
   {
    "duration": 8,
    "start_time": "2025-09-14T16:56:59.211Z"
   },
   {
    "duration": 26,
    "start_time": "2025-09-14T16:59:11.848Z"
   },
   {
    "duration": 17,
    "start_time": "2025-09-14T17:00:00.706Z"
   },
   {
    "duration": 14,
    "start_time": "2025-09-14T17:00:07.777Z"
   },
   {
    "duration": 290,
    "start_time": "2025-09-14T17:00:28.028Z"
   },
   {
    "duration": 3769,
    "start_time": "2025-09-15T09:03:01.425Z"
   },
   {
    "duration": 3908,
    "start_time": "2025-09-15T09:03:05.197Z"
   },
   {
    "duration": 18,
    "start_time": "2025-09-15T09:03:09.110Z"
   },
   {
    "duration": 157,
    "start_time": "2025-09-15T09:03:09.131Z"
   },
   {
    "duration": 6,
    "start_time": "2025-09-15T09:03:09.289Z"
   },
   {
    "duration": 30,
    "start_time": "2025-09-15T09:03:09.297Z"
   },
   {
    "duration": 7,
    "start_time": "2025-09-15T09:03:09.329Z"
   },
   {
    "duration": 134,
    "start_time": "2025-09-15T09:03:09.337Z"
   },
   {
    "duration": 25,
    "start_time": "2025-09-15T09:03:09.472Z"
   },
   {
    "duration": 21,
    "start_time": "2025-09-15T09:03:09.500Z"
   },
   {
    "duration": 35,
    "start_time": "2025-09-15T09:03:09.523Z"
   },
   {
    "duration": 10,
    "start_time": "2025-09-15T09:03:09.560Z"
   },
   {
    "duration": 36,
    "start_time": "2025-09-15T09:03:09.571Z"
   },
   {
    "duration": 61,
    "start_time": "2025-09-15T09:03:09.609Z"
   },
   {
    "duration": 56,
    "start_time": "2025-09-15T09:03:09.672Z"
   },
   {
    "duration": 458,
    "start_time": "2025-09-15T09:03:09.730Z"
   },
   {
    "duration": 62,
    "start_time": "2025-09-15T09:03:10.190Z"
   },
   {
    "duration": 41,
    "start_time": "2025-09-15T09:03:10.254Z"
   },
   {
    "duration": 16,
    "start_time": "2025-09-15T09:03:10.296Z"
   },
   {
    "duration": 39,
    "start_time": "2025-09-15T09:03:10.314Z"
   },
   {
    "duration": 167,
    "start_time": "2025-09-15T09:03:10.354Z"
   },
   {
    "duration": 8,
    "start_time": "2025-09-15T09:03:10.522Z"
   },
   {
    "duration": 76,
    "start_time": "2025-09-15T09:03:10.531Z"
   },
   {
    "duration": 45,
    "start_time": "2025-09-15T09:03:10.609Z"
   },
   {
    "duration": 46,
    "start_time": "2025-09-15T09:03:10.655Z"
   },
   {
    "duration": 18,
    "start_time": "2025-09-15T09:03:10.703Z"
   },
   {
    "duration": 4,
    "start_time": "2025-09-15T09:03:10.723Z"
   },
   {
    "duration": 29,
    "start_time": "2025-09-15T09:03:10.730Z"
   },
   {
    "duration": 39,
    "start_time": "2025-09-15T09:03:10.761Z"
   },
   {
    "duration": 23,
    "start_time": "2025-09-15T09:03:10.801Z"
   },
   {
    "duration": 74,
    "start_time": "2025-09-15T09:03:11.198Z"
   },
   {
    "duration": 165,
    "start_time": "2025-09-15T09:03:11.967Z"
   },
   {
    "duration": 2568,
    "start_time": "2025-09-15T09:03:12.136Z"
   },
   {
    "duration": 11,
    "start_time": "2025-09-15T09:03:14.706Z"
   },
   {
    "duration": 37,
    "start_time": "2025-09-15T09:03:14.719Z"
   },
   {
    "duration": 446,
    "start_time": "2025-09-15T09:03:14.758Z"
   },
   {
    "duration": 3,
    "start_time": "2025-09-15T09:03:15.206Z"
   },
   {
    "duration": 481,
    "start_time": "2025-09-15T09:03:15.295Z"
   },
   {
    "duration": 22,
    "start_time": "2025-09-15T09:03:15.778Z"
   },
   {
    "duration": 19,
    "start_time": "2025-09-15T09:03:15.900Z"
   },
   {
    "duration": 295,
    "start_time": "2025-09-15T09:03:16.282Z"
   },
   {
    "duration": 578,
    "start_time": "2025-09-15T09:03:16.579Z"
   },
   {
    "duration": 4,
    "start_time": "2025-09-15T09:03:17.159Z"
   },
   {
    "duration": 39,
    "start_time": "2025-09-15T09:03:17.507Z"
   },
   {
    "duration": 35,
    "start_time": "2025-09-15T09:03:17.730Z"
   },
   {
    "duration": 5,
    "start_time": "2025-09-15T09:03:17.954Z"
   },
   {
    "duration": 26,
    "start_time": "2025-09-15T09:03:18.147Z"
   },
   {
    "duration": 56,
    "start_time": "2025-09-15T09:03:18.370Z"
   },
   {
    "duration": 102,
    "start_time": "2025-09-15T09:03:19.359Z"
   },
   {
    "duration": 57,
    "start_time": "2025-09-15T09:03:19.560Z"
   },
   {
    "duration": 106,
    "start_time": "2025-09-15T09:03:19.763Z"
   },
   {
    "duration": 303,
    "start_time": "2025-09-15T09:03:20.749Z"
   },
   {
    "duration": 19,
    "start_time": "2025-09-15T09:03:22.770Z"
   },
   {
    "duration": 23,
    "start_time": "2025-09-15T09:03:22.965Z"
   },
   {
    "duration": 39,
    "start_time": "2025-09-15T09:03:23.140Z"
   },
   {
    "duration": 8,
    "start_time": "2025-09-15T09:03:23.751Z"
   },
   {
    "duration": 5,
    "start_time": "2025-09-15T09:03:24.155Z"
   },
   {
    "duration": 10,
    "start_time": "2025-09-15T09:03:24.350Z"
   },
   {
    "duration": 977,
    "start_time": "2025-09-15T09:03:24.561Z"
   },
   {
    "duration": 13,
    "start_time": "2025-09-15T09:03:25.540Z"
   },
   {
    "duration": 13,
    "start_time": "2025-09-15T09:03:25.610Z"
   },
   {
    "duration": 10,
    "start_time": "2025-09-15T09:03:25.806Z"
   },
   {
    "duration": 28,
    "start_time": "2025-09-15T09:03:26.634Z"
   },
   {
    "duration": 492,
    "start_time": "2025-09-15T09:03:26.870Z"
   },
   {
    "duration": 14,
    "start_time": "2025-09-15T09:03:27.364Z"
   },
   {
    "duration": 12,
    "start_time": "2025-09-15T09:03:27.734Z"
   },
   {
    "duration": 15,
    "start_time": "2025-09-15T09:03:28.858Z"
   },
   {
    "duration": 27,
    "start_time": "2025-09-15T09:05:24.943Z"
   },
   {
    "duration": 24,
    "start_time": "2025-09-15T09:05:25.897Z"
   },
   {
    "duration": 66,
    "start_time": "2025-09-15T09:05:27.816Z"
   },
   {
    "duration": 10,
    "start_time": "2025-09-15T09:05:28.379Z"
   },
   {
    "duration": 5,
    "start_time": "2025-09-15T09:05:28.745Z"
   },
   {
    "duration": 33,
    "start_time": "2025-09-15T09:05:28.908Z"
   },
   {
    "duration": 1077,
    "start_time": "2025-09-15T09:05:29.092Z"
   },
   {
    "duration": 5,
    "start_time": "2025-09-15T09:05:30.171Z"
   },
   {
    "duration": 42,
    "start_time": "2025-09-15T09:05:30.178Z"
   },
   {
    "duration": 25,
    "start_time": "2025-09-15T09:05:30.222Z"
   },
   {
    "duration": 33,
    "start_time": "2025-09-15T09:05:30.742Z"
   },
   {
    "duration": 497,
    "start_time": "2025-09-15T09:05:30.937Z"
   },
   {
    "duration": 18,
    "start_time": "2025-09-15T09:05:31.436Z"
   },
   {
    "duration": 30,
    "start_time": "2025-09-15T09:05:31.455Z"
   },
   {
    "duration": 18,
    "start_time": "2025-09-15T09:05:31.682Z"
   },
   {
    "duration": 18,
    "start_time": "2025-09-15T09:05:48.859Z"
   },
   {
    "duration": 121,
    "start_time": "2025-09-15T09:07:34.844Z"
   },
   {
    "duration": 18,
    "start_time": "2025-09-15T09:07:42.992Z"
   },
   {
    "duration": 15,
    "start_time": "2025-09-15T09:07:58.829Z"
   },
   {
    "duration": 17,
    "start_time": "2025-09-15T09:08:13.080Z"
   },
   {
    "duration": 94,
    "start_time": "2025-09-15T09:09:57.052Z"
   },
   {
    "duration": 10,
    "start_time": "2025-09-15T09:10:05.853Z"
   },
   {
    "duration": 17,
    "start_time": "2025-09-15T09:10:37.212Z"
   },
   {
    "duration": 10,
    "start_time": "2025-09-15T09:10:57.002Z"
   },
   {
    "duration": 187,
    "start_time": "2025-09-15T09:14:16.312Z"
   },
   {
    "duration": 80,
    "start_time": "2025-09-15T09:37:56.382Z"
   },
   {
    "duration": 2577,
    "start_time": "2025-09-15T10:23:55.881Z"
   },
   {
    "duration": 5924,
    "start_time": "2025-09-15T10:23:58.461Z"
   },
   {
    "duration": 15,
    "start_time": "2025-09-15T10:24:04.387Z"
   },
   {
    "duration": 118,
    "start_time": "2025-09-15T10:24:04.404Z"
   },
   {
    "duration": 9,
    "start_time": "2025-09-15T10:24:04.524Z"
   },
   {
    "duration": 18,
    "start_time": "2025-09-15T10:24:04.534Z"
   },
   {
    "duration": 24,
    "start_time": "2025-09-15T10:24:04.553Z"
   },
   {
    "duration": 108,
    "start_time": "2025-09-15T10:24:04.580Z"
   },
   {
    "duration": 36,
    "start_time": "2025-09-15T10:24:04.690Z"
   },
   {
    "duration": 37,
    "start_time": "2025-09-15T10:24:04.729Z"
   },
   {
    "duration": 27,
    "start_time": "2025-09-15T10:24:04.770Z"
   },
   {
    "duration": 10,
    "start_time": "2025-09-15T10:24:04.799Z"
   },
   {
    "duration": 38,
    "start_time": "2025-09-15T10:24:04.811Z"
   },
   {
    "duration": 5,
    "start_time": "2025-09-15T10:24:04.851Z"
   },
   {
    "duration": 16,
    "start_time": "2025-09-15T10:24:04.858Z"
   },
   {
    "duration": 430,
    "start_time": "2025-09-15T10:24:04.886Z"
   },
   {
    "duration": 67,
    "start_time": "2025-09-15T10:24:05.318Z"
   },
   {
    "duration": 42,
    "start_time": "2025-09-15T10:24:05.387Z"
   },
   {
    "duration": 17,
    "start_time": "2025-09-15T10:24:05.431Z"
   },
   {
    "duration": 40,
    "start_time": "2025-09-15T10:24:05.451Z"
   },
   {
    "duration": 189,
    "start_time": "2025-09-15T10:24:05.493Z"
   },
   {
    "duration": 8,
    "start_time": "2025-09-15T10:24:05.684Z"
   },
   {
    "duration": 36,
    "start_time": "2025-09-15T10:24:05.694Z"
   },
   {
    "duration": 56,
    "start_time": "2025-09-15T10:24:05.732Z"
   },
   {
    "duration": 48,
    "start_time": "2025-09-15T10:24:05.790Z"
   },
   {
    "duration": 35,
    "start_time": "2025-09-15T10:24:05.840Z"
   },
   {
    "duration": 4,
    "start_time": "2025-09-15T10:24:05.887Z"
   },
   {
    "duration": 82,
    "start_time": "2025-09-15T10:24:05.895Z"
   },
   {
    "duration": 44,
    "start_time": "2025-09-15T10:24:05.982Z"
   },
   {
    "duration": 56,
    "start_time": "2025-09-15T10:24:06.028Z"
   },
   {
    "duration": 75,
    "start_time": "2025-09-15T10:24:06.088Z"
   },
   {
    "duration": 187,
    "start_time": "2025-09-15T10:24:06.165Z"
   },
   {
    "duration": 1810,
    "start_time": "2025-09-15T10:24:06.353Z"
   },
   {
    "duration": 22,
    "start_time": "2025-09-15T10:24:08.165Z"
   },
   {
    "duration": 42,
    "start_time": "2025-09-15T10:24:08.190Z"
   },
   {
    "duration": 677,
    "start_time": "2025-09-15T10:24:08.234Z"
   },
   {
    "duration": 3,
    "start_time": "2025-09-15T10:24:08.913Z"
   },
   {
    "duration": 503,
    "start_time": "2025-09-15T10:24:08.918Z"
   },
   {
    "duration": 24,
    "start_time": "2025-09-15T10:24:09.423Z"
   },
   {
    "duration": 45,
    "start_time": "2025-09-15T10:24:09.448Z"
   },
   {
    "duration": 289,
    "start_time": "2025-09-15T10:24:09.495Z"
   },
   {
    "duration": 905,
    "start_time": "2025-09-15T10:24:09.786Z"
   },
   {
    "duration": 6,
    "start_time": "2025-09-15T10:24:10.693Z"
   },
   {
    "duration": 62,
    "start_time": "2025-09-15T10:24:10.701Z"
   },
   {
    "duration": 64,
    "start_time": "2025-09-15T10:24:10.765Z"
   },
   {
    "duration": 15,
    "start_time": "2025-09-15T10:24:10.831Z"
   },
   {
    "duration": 33,
    "start_time": "2025-09-15T10:24:10.848Z"
   },
   {
    "duration": 116,
    "start_time": "2025-09-15T10:24:10.883Z"
   },
   {
    "duration": 103,
    "start_time": "2025-09-15T10:24:11.000Z"
   },
   {
    "duration": 40,
    "start_time": "2025-09-15T10:24:11.105Z"
   },
   {
    "duration": 139,
    "start_time": "2025-09-15T10:24:11.146Z"
   },
   {
    "duration": 308,
    "start_time": "2025-09-15T10:24:11.286Z"
   },
   {
    "duration": 23,
    "start_time": "2025-09-15T10:24:11.596Z"
   },
   {
    "duration": 25,
    "start_time": "2025-09-15T10:24:11.621Z"
   },
   {
    "duration": 101,
    "start_time": "2025-09-15T10:24:11.648Z"
   },
   {
    "duration": 26,
    "start_time": "2025-09-15T10:24:11.751Z"
   },
   {
    "duration": 7,
    "start_time": "2025-09-15T10:24:11.785Z"
   },
   {
    "duration": 36,
    "start_time": "2025-09-15T10:24:11.794Z"
   },
   {
    "duration": 1257,
    "start_time": "2025-09-15T10:24:11.832Z"
   },
   {
    "duration": 5,
    "start_time": "2025-09-15T10:24:13.092Z"
   },
   {
    "duration": 32,
    "start_time": "2025-09-15T10:24:13.098Z"
   },
   {
    "duration": 34,
    "start_time": "2025-09-15T10:24:13.133Z"
   },
   {
    "duration": 43,
    "start_time": "2025-09-15T10:24:13.168Z"
   },
   {
    "duration": 655,
    "start_time": "2025-09-15T10:24:13.213Z"
   },
   {
    "duration": 20,
    "start_time": "2025-09-15T10:24:13.870Z"
   },
   {
    "duration": 17,
    "start_time": "2025-09-15T10:24:13.892Z"
   },
   {
    "duration": 12,
    "start_time": "2025-09-15T10:24:13.911Z"
   },
   {
    "duration": 404,
    "start_time": "2025-09-15T10:24:13.925Z"
   },
   {
    "duration": 41,
    "start_time": "2025-09-15T10:24:24.613Z"
   },
   {
    "duration": 52,
    "start_time": "2025-09-15T11:27:04.137Z"
   },
   {
    "duration": 3450,
    "start_time": "2025-09-15T11:27:17.885Z"
   },
   {
    "duration": 4061,
    "start_time": "2025-09-15T11:27:21.339Z"
   },
   {
    "duration": 14,
    "start_time": "2025-09-15T11:27:25.402Z"
   },
   {
    "duration": 119,
    "start_time": "2025-09-15T11:27:25.420Z"
   },
   {
    "duration": 6,
    "start_time": "2025-09-15T11:27:25.542Z"
   },
   {
    "duration": 48,
    "start_time": "2025-09-15T11:27:25.550Z"
   },
   {
    "duration": 6,
    "start_time": "2025-09-15T11:27:25.601Z"
   },
   {
    "duration": 118,
    "start_time": "2025-09-15T11:27:25.609Z"
   },
   {
    "duration": 28,
    "start_time": "2025-09-15T11:27:25.733Z"
   },
   {
    "duration": 46,
    "start_time": "2025-09-15T11:27:25.764Z"
   },
   {
    "duration": 15,
    "start_time": "2025-09-15T11:27:25.813Z"
   },
   {
    "duration": 13,
    "start_time": "2025-09-15T11:27:25.834Z"
   },
   {
    "duration": 17,
    "start_time": "2025-09-15T11:27:25.849Z"
   },
   {
    "duration": 133,
    "start_time": "2025-09-15T11:27:25.868Z"
   },
   {
    "duration": 20,
    "start_time": "2025-09-15T11:27:26.003Z"
   },
   {
    "duration": 441,
    "start_time": "2025-09-15T11:27:26.025Z"
   },
   {
    "duration": 54,
    "start_time": "2025-09-15T11:27:26.468Z"
   },
   {
    "duration": 45,
    "start_time": "2025-09-15T11:27:26.533Z"
   },
   {
    "duration": 17,
    "start_time": "2025-09-15T11:27:26.579Z"
   },
   {
    "duration": 37,
    "start_time": "2025-09-15T11:27:26.598Z"
   },
   {
    "duration": 182,
    "start_time": "2025-09-15T11:27:26.637Z"
   },
   {
    "duration": 19,
    "start_time": "2025-09-15T11:27:26.821Z"
   },
   {
    "duration": 46,
    "start_time": "2025-09-15T11:27:26.842Z"
   },
   {
    "duration": 133,
    "start_time": "2025-09-15T11:27:26.890Z"
   },
   {
    "duration": 50,
    "start_time": "2025-09-15T11:27:27.025Z"
   },
   {
    "duration": 20,
    "start_time": "2025-09-15T11:27:27.076Z"
   },
   {
    "duration": 13,
    "start_time": "2025-09-15T11:27:27.098Z"
   },
   {
    "duration": 32,
    "start_time": "2025-09-15T11:27:27.114Z"
   },
   {
    "duration": 61,
    "start_time": "2025-09-15T11:27:27.148Z"
   },
   {
    "duration": 24,
    "start_time": "2025-09-15T11:27:27.211Z"
   },
   {
    "duration": 75,
    "start_time": "2025-09-15T11:27:27.369Z"
   },
   {
    "duration": 176,
    "start_time": "2025-09-15T11:27:28.161Z"
   },
   {
    "duration": 2661,
    "start_time": "2025-09-15T11:27:28.342Z"
   },
   {
    "duration": 11,
    "start_time": "2025-09-15T11:27:31.006Z"
   },
   {
    "duration": 56,
    "start_time": "2025-09-15T11:27:31.019Z"
   },
   {
    "duration": 449,
    "start_time": "2025-09-15T11:27:31.077Z"
   },
   {
    "duration": 5,
    "start_time": "2025-09-15T11:27:31.529Z"
   },
   {
    "duration": 461,
    "start_time": "2025-09-15T11:27:32.826Z"
   },
   {
    "duration": 23,
    "start_time": "2025-09-15T11:27:33.290Z"
   },
   {
    "duration": 18,
    "start_time": "2025-09-15T11:27:33.489Z"
   },
   {
    "duration": 293,
    "start_time": "2025-09-15T11:27:34.130Z"
   },
   {
    "duration": 585,
    "start_time": "2025-09-15T11:27:34.466Z"
   },
   {
    "duration": 5,
    "start_time": "2025-09-15T11:27:37.488Z"
   },
   {
    "duration": 42,
    "start_time": "2025-09-15T11:27:38.606Z"
   },
   {
    "duration": 40,
    "start_time": "2025-09-15T11:27:38.812Z"
   },
   {
    "duration": 6,
    "start_time": "2025-09-15T11:27:38.993Z"
   },
   {
    "duration": 39,
    "start_time": "2025-09-15T11:27:39.182Z"
   },
   {
    "duration": 50,
    "start_time": "2025-09-15T11:27:39.404Z"
   },
   {
    "duration": 96,
    "start_time": "2025-09-15T11:27:41.781Z"
   },
   {
    "duration": 40,
    "start_time": "2025-09-15T11:27:41.979Z"
   },
   {
    "duration": 191,
    "start_time": "2025-09-15T11:27:42.176Z"
   },
   {
    "duration": 316,
    "start_time": "2025-09-15T11:27:42.540Z"
   },
   {
    "duration": 26,
    "start_time": "2025-09-15T11:27:46.091Z"
   },
   {
    "duration": 24,
    "start_time": "2025-09-15T11:27:47.848Z"
   },
   {
    "duration": 71,
    "start_time": "2025-09-15T11:27:48.304Z"
   },
   {
    "duration": 72,
    "start_time": "2025-09-15T11:28:08.009Z"
   },
   {
    "duration": 12,
    "start_time": "2025-09-15T11:28:13.629Z"
   },
   {
    "duration": 7,
    "start_time": "2025-09-15T11:28:13.871Z"
   },
   {
    "duration": 27,
    "start_time": "2025-09-15T11:28:14.216Z"
   },
   {
    "duration": 1125,
    "start_time": "2025-09-15T11:28:14.439Z"
   },
   {
    "duration": 5,
    "start_time": "2025-09-15T11:28:15.566Z"
   },
   {
    "duration": 49,
    "start_time": "2025-09-15T11:28:15.604Z"
   },
   {
    "duration": 21,
    "start_time": "2025-09-15T11:28:15.656Z"
   },
   {
    "duration": 34,
    "start_time": "2025-09-15T11:28:16.530Z"
   },
   {
    "duration": 529,
    "start_time": "2025-09-15T11:28:16.920Z"
   },
   {
    "duration": 15,
    "start_time": "2025-09-15T11:28:17.451Z"
   },
   {
    "duration": 13,
    "start_time": "2025-09-15T11:28:17.468Z"
   },
   {
    "duration": 9,
    "start_time": "2025-09-15T11:28:17.851Z"
   },
   {
    "duration": 194,
    "start_time": "2025-09-15T11:28:18.009Z"
   },
   {
    "duration": 6,
    "start_time": "2025-09-15T11:36:42.491Z"
   },
   {
    "duration": 5,
    "start_time": "2025-09-15T11:37:26.561Z"
   },
   {
    "duration": 18,
    "start_time": "2025-09-15T11:38:11.047Z"
   },
   {
    "duration": 1045,
    "start_time": "2025-09-15T11:38:24.172Z"
   },
   {
    "duration": 5,
    "start_time": "2025-09-15T11:39:26.999Z"
   },
   {
    "duration": 34,
    "start_time": "2025-09-15T11:45:49.925Z"
   },
   {
    "duration": 519,
    "start_time": "2025-09-15T11:46:18.097Z"
   },
   {
    "duration": 659,
    "start_time": "2025-09-15T11:46:38.541Z"
   },
   {
    "duration": 14,
    "start_time": "2025-09-15T11:46:55.408Z"
   },
   {
    "duration": 14,
    "start_time": "2025-09-15T11:47:24.013Z"
   },
   {
    "duration": 10,
    "start_time": "2025-09-15T11:49:42.612Z"
   },
   {
    "duration": 67,
    "start_time": "2025-09-15T11:50:31.739Z"
   },
   {
    "duration": 60,
    "start_time": "2025-09-15T11:50:37.610Z"
   },
   {
    "duration": 634,
    "start_time": "2025-09-15T11:51:26.256Z"
   },
   {
    "duration": 38,
    "start_time": "2025-09-15T11:54:15.813Z"
   },
   {
    "duration": 9,
    "start_time": "2025-09-15T11:58:56.137Z"
   },
   {
    "duration": 184,
    "start_time": "2025-09-15T11:58:59.747Z"
   },
   {
    "duration": 9,
    "start_time": "2025-09-15T11:59:40.564Z"
   },
   {
    "duration": 172,
    "start_time": "2025-09-15T11:59:41.521Z"
   },
   {
    "duration": 10,
    "start_time": "2025-09-15T12:00:06.568Z"
   },
   {
    "duration": 197,
    "start_time": "2025-09-15T12:00:07.433Z"
   },
   {
    "duration": 61,
    "start_time": "2025-09-15T12:00:23.521Z"
   },
   {
    "duration": 557,
    "start_time": "2025-09-15T12:00:31.644Z"
   },
   {
    "duration": 48,
    "start_time": "2025-09-17T12:41:34.209Z"
   },
   {
    "duration": 2985,
    "start_time": "2025-09-17T12:41:48.577Z"
   },
   {
    "duration": 3081,
    "start_time": "2025-09-17T12:41:51.564Z"
   },
   {
    "duration": 13,
    "start_time": "2025-09-17T12:41:54.647Z"
   },
   {
    "duration": 113,
    "start_time": "2025-09-17T12:41:54.663Z"
   },
   {
    "duration": 6,
    "start_time": "2025-09-17T12:41:54.778Z"
   },
   {
    "duration": 28,
    "start_time": "2025-09-17T12:41:54.785Z"
   },
   {
    "duration": 76,
    "start_time": "2025-09-17T12:41:54.815Z"
   },
   {
    "duration": 0,
    "start_time": "2025-09-17T12:41:54.892Z"
   },
   {
    "duration": 0,
    "start_time": "2025-09-17T12:41:54.894Z"
   }
  ],
  "kernelspec": {
   "display_name": "Python 3 (ipykernel)",
   "language": "python",
   "name": "python3"
  },
  "language_info": {
   "codemirror_mode": {
    "name": "ipython",
    "version": 3
   },
   "file_extension": ".py",
   "mimetype": "text/x-python",
   "name": "python",
   "nbconvert_exporter": "python",
   "pygments_lexer": "ipython3",
   "version": "3.9.5"
  },
  "toc": {
   "base_numbering": 1,
   "nav_menu": {},
   "number_sections": true,
   "sideBar": true,
   "skip_h1_title": true,
   "title_cell": "Table of Contents",
   "title_sidebar": "Contents",
   "toc_cell": false,
   "toc_position": {},
   "toc_section_display": true,
   "toc_window_display": false
  }
 },
 "nbformat": 4,
 "nbformat_minor": 5
}
