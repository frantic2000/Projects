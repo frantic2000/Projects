{
 "cells": [
  {
   "cell_type": "markdown",
   "id": "e06910dd",
   "metadata": {
    "id": "e06910dd"
   },
   "source": [
    "# Аналитика для фонда \"Shut Up and Take My Money\"\n",
    "\n",
    "- Автор: Потапов Роман\n",
    "- Дата: 3.09.2025"
   ]
  },
  {
   "cell_type": "markdown",
   "id": "4149134c",
   "metadata": {
    "id": "4149134c"
   },
   "source": [
    "### Цели и задачи проекта\n",
    "\n",
    " - Цель проекта: Провести исследовательский анализ рынка общественного питания Москвы\n",
    " - Задачи проекта: \n",
    "         1. Категоризация объектов.\n",
    "\n",
    "            - Классифицировать представленные в dataset объекты по типам заведений (кафе, ресторан, бар и пр.).\n",
    "            - Рассчитать и визуализировать (столбчатая диаграмма) распределение количества объектов по каждой категории для оценки структуры рынка.\n",
    "\n",
    "         2. Географический анализ.\n",
    "\n",
    "            - Определить перечень административных районов Москвы, представленных в данных.\n",
    "            - Проанализировать и визуализировать (картограмма или диаграмма рассеяния) распределение общего количества заведений по районам.\n",
    "            - Выполнить отдельный анализ распределения категорий заведений в пределах Центрального административного округа (ЦАО) для выявления специфики центра города.\n",
    "\n",
    "         3. Анализ сетевого присутствия.\n",
    "\n",
    "            - Рассчитать общее соотношение сетевых и несетевых заведений по всему dataset.\n",
    "            - Исследовать распространенность сетевого формата в разрезе каждой категории заведений для определения наиболее «индустриализированных» сегментов рынка. Результаты представить в виде сгруппированных столчатых диаграмм.\n",
    "\n",
    "         4. Анализ вместимости (посадочных мест).\n",
    "\n",
    "            - Исследовать распределение признака seats (количество мест) на предмет наличия аномалий и выбросов с использованием описательной статистики и box-plot диаграмм по категориям.\n",
    "            - Для каждой категории определить наиболее типичное (медианное) количество посадочных мест.\n",
    "\n",
    "         5. Анализ рейтингов.\n",
    "\n",
    "            - Сравнить усреднённые показатели рейтингов для различных категорий заведений. Визуализировать распределение средних рейтингов (например, с помощью violin-plot или box-plot) для наглядного сравнения.\n",
    "\n",
    "         6. Корреляционный анализ.\n",
    "\n",
    "            - Построить и проанализировать матрицу корреляций для оценки силы связи между рейтингом заведения и другими параметрами (категория, район, сетевой статус, количество мест, ценовая категория, круглосуточный режим работы).\n",
    "            - Выявить параметр с наиболее сильной связью и детально проверить выявленную зависимость.\n",
    "\n",
    "         7. Выявление ключевых сетей.\n",
    "\n",
    "            - Сгруппировать данные по наименованиям для идентификации сетевых объектов.\n",
    "            - Определить топ-15 сетей по количеству заведений в Москве (популярность).\n",
    "            - Для полученного списка сетей рассчитать средний рейтинг и определить их predominant категорию. Результаты визуализировать.\n",
    "\n",
    "         8. Анализ ценового позиционирования.\n",
    "\n",
    "            - Исследовать вариацию показателя middle_avg_bill (средний чек) в зависимости от административного района.\n",
    "            - Сравнить уровень цен в ЦАО с другими округами для формулирования выводов о влиянии центральной локации на ценовую политику заведений. Использовать подходящие визуализации (например, box-plot по районам)."
   ]
  },
  {
   "cell_type": "markdown",
   "id": "283eb0f6",
   "metadata": {
    "id": "728986ea"
   },
   "source": [
    "### Описание данных\n",
    "\n",
    "  Для анализа поступили данные о клиентах банка «Метанпром». Данные состоят из двух датасетов:\n",
    "\n",
    "- `/datasets/rest_info.csv` — содержит информацию о заведениях общественного питания;\n",
    "- `/datasets/rest_price.csv` —  содержит информацию о среднем чеке в заведениях общественного питания."
   ]
  },
  {
   "cell_type": "markdown",
   "id": "4fecaf95",
   "metadata": {
    "id": "4fecaf95"
   },
   "source": [
    "### Содержимое проекта\n",
    "\n",
    "- 1. Загрузка данных и знакомство с ними\n",
    "- 2. Предобработка данных\n",
    "    - Приведение данных к корректному типу\n",
    "    - Работа с пропусками\n",
    "    - Работа с дубликатами\n",
    "- 3. Исследовательский анализ данных\n",
    "- 4. Итоговые выводы\n",
    "---"
   ]
  },
  {
   "cell_type": "markdown",
   "id": "6f7d21d6",
   "metadata": {
    "id": "6f7d21d6"
   },
   "source": [
    "## 1. Загрузка данных и знакомство с ними\n",
    "\n",
    "- Загружаем данные"
   ]
  },
  {
   "cell_type": "code",
   "execution_count": 1,
   "id": "05faf34b",
   "metadata": {
    "id": "05faf34b"
   },
   "outputs": [],
   "source": [
    "import pandas as pd"
   ]
  },
  {
   "cell_type": "code",
   "execution_count": 2,
   "id": "ce87c1db",
   "metadata": {
    "id": "ce87c1db"
   },
   "outputs": [],
   "source": [
    "import matplotlib.pyplot as plt"
   ]
  },
  {
   "cell_type": "code",
   "execution_count": 3,
   "id": "90fee493",
   "metadata": {
    "id": "90fee493"
   },
   "outputs": [],
   "source": [
    "import seaborn as sns"
   ]
  },
  {
   "cell_type": "code",
   "execution_count": 4,
   "id": "086b60b7",
   "metadata": {},
   "outputs": [
    {
     "name": "stdout",
     "output_type": "stream",
     "text": [
      "Collecting phik\n",
      "  Downloading phik-0.12.5-cp39-cp39-manylinux_2_24_x86_64.manylinux_2_28_x86_64.whl (677 kB)\n",
      "\u001b[K     |████████████████████████████████| 677 kB 2.8 MB/s eta 0:00:01\n",
      "\u001b[?25hRequirement already satisfied: matplotlib>=2.2.3 in /opt/conda/lib/python3.9/site-packages (from phik) (3.3.4)\n",
      "Requirement already satisfied: scipy>=1.5.2 in /opt/conda/lib/python3.9/site-packages (from phik) (1.9.1)\n",
      "Requirement already satisfied: pandas>=0.25.1 in /opt/conda/lib/python3.9/site-packages (from phik) (1.2.4)\n",
      "Requirement already satisfied: numpy>=1.18.0 in /opt/conda/lib/python3.9/site-packages (from phik) (1.21.1)\n",
      "Requirement already satisfied: joblib>=0.14.1 in /opt/conda/lib/python3.9/site-packages (from phik) (1.1.0)\n",
      "Requirement already satisfied: pillow>=6.2.0 in /opt/conda/lib/python3.9/site-packages (from matplotlib>=2.2.3->phik) (8.4.0)\n",
      "Requirement already satisfied: cycler>=0.10 in /opt/conda/lib/python3.9/site-packages (from matplotlib>=2.2.3->phik) (0.11.0)\n",
      "Requirement already satisfied: pyparsing!=2.0.4,!=2.1.2,!=2.1.6,>=2.0.3 in /opt/conda/lib/python3.9/site-packages (from matplotlib>=2.2.3->phik) (2.4.7)\n",
      "Requirement already satisfied: kiwisolver>=1.0.1 in /opt/conda/lib/python3.9/site-packages (from matplotlib>=2.2.3->phik) (1.4.4)\n",
      "Requirement already satisfied: python-dateutil>=2.1 in /opt/conda/lib/python3.9/site-packages (from matplotlib>=2.2.3->phik) (2.8.1)\n",
      "Requirement already satisfied: pytz>=2017.3 in /opt/conda/lib/python3.9/site-packages (from pandas>=0.25.1->phik) (2021.1)\n",
      "Requirement already satisfied: six>=1.5 in /opt/conda/lib/python3.9/site-packages (from python-dateutil>=2.1->matplotlib>=2.2.3->phik) (1.16.0)\n",
      "Installing collected packages: phik\n",
      "Successfully installed phik-0.12.5\n"
     ]
    }
   ],
   "source": [
    "!pip install phik"
   ]
  },
  {
   "cell_type": "code",
   "execution_count": 5,
   "id": "e7318876",
   "metadata": {},
   "outputs": [],
   "source": [
    "import phik\n",
    "from phik import report"
   ]
  },
  {
   "cell_type": "code",
   "execution_count": 6,
   "id": "f68a7419",
   "metadata": {
    "id": "f68a7419"
   },
   "outputs": [],
   "source": [
    "rest_info = pd.read_csv('/datasets/rest_info.csv')"
   ]
  },
  {
   "cell_type": "code",
   "execution_count": 7,
   "id": "dd415c80",
   "metadata": {
    "id": "dd415c80"
   },
   "outputs": [],
   "source": [
    "rest_price = pd.read_csv('/datasets/rest_price.csv')"
   ]
  },
  {
   "cell_type": "code",
   "execution_count": 8,
   "id": "3158ad37",
   "metadata": {
    "id": "3158ad37"
   },
   "outputs": [
    {
     "name": "stdout",
     "output_type": "stream",
     "text": [
      "<class 'pandas.core.frame.DataFrame'>\n",
      "RangeIndex: 8406 entries, 0 to 8405\n",
      "Data columns (total 9 columns):\n",
      " #   Column    Non-Null Count  Dtype  \n",
      "---  ------    --------------  -----  \n",
      " 0   id        8406 non-null   object \n",
      " 1   name      8406 non-null   object \n",
      " 2   category  8406 non-null   object \n",
      " 3   address   8406 non-null   object \n",
      " 4   district  8406 non-null   object \n",
      " 5   hours     7870 non-null   object \n",
      " 6   rating    8406 non-null   float64\n",
      " 7   chain     8406 non-null   int64  \n",
      " 8   seats     4795 non-null   float64\n",
      "dtypes: float64(2), int64(1), object(6)\n",
      "memory usage: 591.2+ KB\n"
     ]
    }
   ],
   "source": [
    "rest_info.info()"
   ]
  },
  {
   "cell_type": "code",
   "execution_count": 9,
   "id": "adc59868",
   "metadata": {},
   "outputs": [
    {
     "data": {
      "text/html": [
       "<div>\n",
       "<style scoped>\n",
       "    .dataframe tbody tr th:only-of-type {\n",
       "        vertical-align: middle;\n",
       "    }\n",
       "\n",
       "    .dataframe tbody tr th {\n",
       "        vertical-align: top;\n",
       "    }\n",
       "\n",
       "    .dataframe thead th {\n",
       "        text-align: right;\n",
       "    }\n",
       "</style>\n",
       "<table border=\"1\" class=\"dataframe\">\n",
       "  <thead>\n",
       "    <tr style=\"text-align: right;\">\n",
       "      <th></th>\n",
       "      <th>id</th>\n",
       "      <th>name</th>\n",
       "      <th>category</th>\n",
       "      <th>address</th>\n",
       "      <th>district</th>\n",
       "      <th>hours</th>\n",
       "      <th>rating</th>\n",
       "      <th>chain</th>\n",
       "      <th>seats</th>\n",
       "    </tr>\n",
       "  </thead>\n",
       "  <tbody>\n",
       "    <tr>\n",
       "      <th>0</th>\n",
       "      <td>0c3e3439a8c64ea5bf6ecd6ca6ae19f0</td>\n",
       "      <td>WoWфли</td>\n",
       "      <td>кафе</td>\n",
       "      <td>Москва, улица Дыбенко, 7/1</td>\n",
       "      <td>Северный административный округ</td>\n",
       "      <td>ежедневно, 10:00–22:00</td>\n",
       "      <td>5.0</td>\n",
       "      <td>0</td>\n",
       "      <td>NaN</td>\n",
       "    </tr>\n",
       "    <tr>\n",
       "      <th>1</th>\n",
       "      <td>045780ada3474c57a2112e505d74b633</td>\n",
       "      <td>Четыре комнаты</td>\n",
       "      <td>ресторан</td>\n",
       "      <td>Москва, улица Дыбенко, 36, корп. 1</td>\n",
       "      <td>Северный административный округ</td>\n",
       "      <td>ежедневно, 10:00–22:00</td>\n",
       "      <td>4.5</td>\n",
       "      <td>0</td>\n",
       "      <td>4.0</td>\n",
       "    </tr>\n",
       "    <tr>\n",
       "      <th>2</th>\n",
       "      <td>1070b6b59144425896c65889347fcff6</td>\n",
       "      <td>Хазри</td>\n",
       "      <td>кафе</td>\n",
       "      <td>Москва, Клязьминская улица, 15</td>\n",
       "      <td>Северный административный округ</td>\n",
       "      <td>пн-чт 11:00–02:00; пт,сб 11:00–05:00; вс 11:00...</td>\n",
       "      <td>4.6</td>\n",
       "      <td>0</td>\n",
       "      <td>45.0</td>\n",
       "    </tr>\n",
       "    <tr>\n",
       "      <th>3</th>\n",
       "      <td>03ac7cd772104f65b58b349dc59f03ee</td>\n",
       "      <td>Dormouse Coffee Shop</td>\n",
       "      <td>кофейня</td>\n",
       "      <td>Москва, улица Маршала Федоренко, 12</td>\n",
       "      <td>Северный административный округ</td>\n",
       "      <td>ежедневно, 09:00–22:00</td>\n",
       "      <td>5.0</td>\n",
       "      <td>0</td>\n",
       "      <td>NaN</td>\n",
       "    </tr>\n",
       "    <tr>\n",
       "      <th>4</th>\n",
       "      <td>a163aada139c4c7f87b0b1c0b466a50f</td>\n",
       "      <td>Иль Марко</td>\n",
       "      <td>пиццерия</td>\n",
       "      <td>Москва, Правобережная улица, 1Б</td>\n",
       "      <td>Северный административный округ</td>\n",
       "      <td>ежедневно, 10:00–22:00</td>\n",
       "      <td>5.0</td>\n",
       "      <td>1</td>\n",
       "      <td>148.0</td>\n",
       "    </tr>\n",
       "  </tbody>\n",
       "</table>\n",
       "</div>"
      ],
      "text/plain": [
       "                                 id                  name  category  \\\n",
       "0  0c3e3439a8c64ea5bf6ecd6ca6ae19f0                WoWфли      кафе   \n",
       "1  045780ada3474c57a2112e505d74b633        Четыре комнаты  ресторан   \n",
       "2  1070b6b59144425896c65889347fcff6                 Хазри      кафе   \n",
       "3  03ac7cd772104f65b58b349dc59f03ee  Dormouse Coffee Shop   кофейня   \n",
       "4  a163aada139c4c7f87b0b1c0b466a50f             Иль Марко  пиццерия   \n",
       "\n",
       "                               address                         district  \\\n",
       "0           Москва, улица Дыбенко, 7/1  Северный административный округ   \n",
       "1   Москва, улица Дыбенко, 36, корп. 1  Северный административный округ   \n",
       "2       Москва, Клязьминская улица, 15  Северный административный округ   \n",
       "3  Москва, улица Маршала Федоренко, 12  Северный административный округ   \n",
       "4      Москва, Правобережная улица, 1Б  Северный административный округ   \n",
       "\n",
       "                                               hours  rating  chain  seats  \n",
       "0                             ежедневно, 10:00–22:00     5.0      0    NaN  \n",
       "1                             ежедневно, 10:00–22:00     4.5      0    4.0  \n",
       "2  пн-чт 11:00–02:00; пт,сб 11:00–05:00; вс 11:00...     4.6      0   45.0  \n",
       "3                             ежедневно, 09:00–22:00     5.0      0    NaN  \n",
       "4                             ежедневно, 10:00–22:00     5.0      1  148.0  "
      ]
     },
     "execution_count": 9,
     "metadata": {},
     "output_type": "execute_result"
    }
   ],
   "source": [
    "rest_info.head()"
   ]
  },
  {
   "cell_type": "code",
   "execution_count": 10,
   "id": "17dc1375",
   "metadata": {},
   "outputs": [
    {
     "name": "stdout",
     "output_type": "stream",
     "text": [
      "<class 'pandas.core.frame.DataFrame'>\n",
      "RangeIndex: 4058 entries, 0 to 4057\n",
      "Data columns (total 5 columns):\n",
      " #   Column             Non-Null Count  Dtype  \n",
      "---  ------             --------------  -----  \n",
      " 0   id                 4058 non-null   object \n",
      " 1   price              3315 non-null   object \n",
      " 2   avg_bill           3816 non-null   object \n",
      " 3   middle_avg_bill    3149 non-null   float64\n",
      " 4   middle_coffee_cup  535 non-null    float64\n",
      "dtypes: float64(2), object(3)\n",
      "memory usage: 158.6+ KB\n"
     ]
    }
   ],
   "source": [
    "rest_price.info()"
   ]
  },
  {
   "cell_type": "code",
   "execution_count": 11,
   "id": "dca8ec9a",
   "metadata": {},
   "outputs": [
    {
     "data": {
      "text/html": [
       "<div>\n",
       "<style scoped>\n",
       "    .dataframe tbody tr th:only-of-type {\n",
       "        vertical-align: middle;\n",
       "    }\n",
       "\n",
       "    .dataframe tbody tr th {\n",
       "        vertical-align: top;\n",
       "    }\n",
       "\n",
       "    .dataframe thead th {\n",
       "        text-align: right;\n",
       "    }\n",
       "</style>\n",
       "<table border=\"1\" class=\"dataframe\">\n",
       "  <thead>\n",
       "    <tr style=\"text-align: right;\">\n",
       "      <th></th>\n",
       "      <th>id</th>\n",
       "      <th>price</th>\n",
       "      <th>avg_bill</th>\n",
       "      <th>middle_avg_bill</th>\n",
       "      <th>middle_coffee_cup</th>\n",
       "    </tr>\n",
       "  </thead>\n",
       "  <tbody>\n",
       "    <tr>\n",
       "      <th>0</th>\n",
       "      <td>045780ada3474c57a2112e505d74b633</td>\n",
       "      <td>выше среднего</td>\n",
       "      <td>Средний счёт:1500–1600 ₽</td>\n",
       "      <td>1550.0</td>\n",
       "      <td>NaN</td>\n",
       "    </tr>\n",
       "    <tr>\n",
       "      <th>1</th>\n",
       "      <td>1070b6b59144425896c65889347fcff6</td>\n",
       "      <td>средние</td>\n",
       "      <td>Средний счёт:от 1000 ₽</td>\n",
       "      <td>1000.0</td>\n",
       "      <td>NaN</td>\n",
       "    </tr>\n",
       "    <tr>\n",
       "      <th>2</th>\n",
       "      <td>03ac7cd772104f65b58b349dc59f03ee</td>\n",
       "      <td>NaN</td>\n",
       "      <td>Цена чашки капучино:155–185 ₽</td>\n",
       "      <td>NaN</td>\n",
       "      <td>170.0</td>\n",
       "    </tr>\n",
       "    <tr>\n",
       "      <th>3</th>\n",
       "      <td>a163aada139c4c7f87b0b1c0b466a50f</td>\n",
       "      <td>средние</td>\n",
       "      <td>Средний счёт:400–600 ₽</td>\n",
       "      <td>500.0</td>\n",
       "      <td>NaN</td>\n",
       "    </tr>\n",
       "    <tr>\n",
       "      <th>4</th>\n",
       "      <td>8a343546b24e4a499ad96eb7d0797a8a</td>\n",
       "      <td>средние</td>\n",
       "      <td>NaN</td>\n",
       "      <td>NaN</td>\n",
       "      <td>NaN</td>\n",
       "    </tr>\n",
       "  </tbody>\n",
       "</table>\n",
       "</div>"
      ],
      "text/plain": [
       "                                 id          price  \\\n",
       "0  045780ada3474c57a2112e505d74b633  выше среднего   \n",
       "1  1070b6b59144425896c65889347fcff6        средние   \n",
       "2  03ac7cd772104f65b58b349dc59f03ee            NaN   \n",
       "3  a163aada139c4c7f87b0b1c0b466a50f        средние   \n",
       "4  8a343546b24e4a499ad96eb7d0797a8a        средние   \n",
       "\n",
       "                        avg_bill  middle_avg_bill  middle_coffee_cup  \n",
       "0       Средний счёт:1500–1600 ₽           1550.0                NaN  \n",
       "1         Средний счёт:от 1000 ₽           1000.0                NaN  \n",
       "2  Цена чашки капучино:155–185 ₽              NaN              170.0  \n",
       "3         Средний счёт:400–600 ₽            500.0                NaN  \n",
       "4                            NaN              NaN                NaN  "
      ]
     },
     "execution_count": 11,
     "metadata": {},
     "output_type": "execute_result"
    }
   ],
   "source": [
    "rest_price.head()"
   ]
  },
  {
   "cell_type": "markdown",
   "id": "2c614a62",
   "metadata": {
    "id": "2c614a62"
   },
   "source": [
    "---\n",
    "\n",
    "### Промежуточный вывод\n"
   ]
  },
  {
   "cell_type": "markdown",
   "id": "1cf35d06",
   "metadata": {
    "id": "3593b7d5"
   },
   "source": [
    "Рассмотрим датафрейм rest_info:\n",
    "   - Столбец 'seats' разумнее привести к типу данных 'int64', так как столбец, содержащий данные о количестве посадочных мест не может содержать нецелочисленных значений\n",
    "   - Пропуски содержаться только в столбцах 'hours' и 'seats'. Если в первом случае количество пропусков от общего количества строк невелико и их можно удалить, то во втором случае количество пропусков значительно и требует отдельного анализа на предмет возникновения."
   ]
  },
  {
   "cell_type": "markdown",
   "id": "29d6ee7d",
   "metadata": {
    "id": "c2cc7f38"
   },
   "source": [
    "Рассмотрим датафрейм rest_price:\n",
    "   - Во всех столбцах приведены корректные типы данных\n",
    "   - Пропуски содержаться только в столбце 'middle_coffee_cup' и их количество значительно, поэтому столбец требует дополнительной обработки "
   ]
  },
  {
   "cell_type": "markdown",
   "id": "8a8d1491",
   "metadata": {
    "id": "8a8d1491"
   },
   "source": [
    "### Подготовка единого датафрейма\n",
    "\n",
    "- Объедините данные двух датасетов в один, с которым вы и продолжите работу."
   ]
  },
  {
   "cell_type": "code",
   "execution_count": 12,
   "id": "3408e303",
   "metadata": {
    "id": "3408e303"
   },
   "outputs": [],
   "source": [
    "df = pd.merge(rest_info, rest_price, on = 'id', how = 'left')"
   ]
  },
  {
   "cell_type": "code",
   "execution_count": 13,
   "id": "5695950b",
   "metadata": {
    "id": "5695950b"
   },
   "outputs": [
    {
     "name": "stdout",
     "output_type": "stream",
     "text": [
      "<class 'pandas.core.frame.DataFrame'>\n",
      "Int64Index: 8406 entries, 0 to 8405\n",
      "Data columns (total 13 columns):\n",
      " #   Column             Non-Null Count  Dtype  \n",
      "---  ------             --------------  -----  \n",
      " 0   id                 8406 non-null   object \n",
      " 1   name               8406 non-null   object \n",
      " 2   category           8406 non-null   object \n",
      " 3   address            8406 non-null   object \n",
      " 4   district           8406 non-null   object \n",
      " 5   hours              7870 non-null   object \n",
      " 6   rating             8406 non-null   float64\n",
      " 7   chain              8406 non-null   int64  \n",
      " 8   seats              4795 non-null   float64\n",
      " 9   price              3315 non-null   object \n",
      " 10  avg_bill           3816 non-null   object \n",
      " 11  middle_avg_bill    3149 non-null   float64\n",
      " 12  middle_coffee_cup  535 non-null    float64\n",
      "dtypes: float64(4), int64(1), object(8)\n",
      "memory usage: 919.4+ KB\n"
     ]
    }
   ],
   "source": [
    "df.info()"
   ]
  },
  {
   "cell_type": "code",
   "execution_count": 14,
   "id": "6577c71c",
   "metadata": {
    "id": "6577c71c"
   },
   "outputs": [
    {
     "data": {
      "text/html": [
       "<div>\n",
       "<style scoped>\n",
       "    .dataframe tbody tr th:only-of-type {\n",
       "        vertical-align: middle;\n",
       "    }\n",
       "\n",
       "    .dataframe tbody tr th {\n",
       "        vertical-align: top;\n",
       "    }\n",
       "\n",
       "    .dataframe thead th {\n",
       "        text-align: right;\n",
       "    }\n",
       "</style>\n",
       "<table border=\"1\" class=\"dataframe\">\n",
       "  <thead>\n",
       "    <tr style=\"text-align: right;\">\n",
       "      <th></th>\n",
       "      <th>id</th>\n",
       "      <th>name</th>\n",
       "      <th>category</th>\n",
       "      <th>address</th>\n",
       "      <th>district</th>\n",
       "      <th>hours</th>\n",
       "      <th>rating</th>\n",
       "      <th>chain</th>\n",
       "      <th>seats</th>\n",
       "      <th>price</th>\n",
       "      <th>avg_bill</th>\n",
       "      <th>middle_avg_bill</th>\n",
       "      <th>middle_coffee_cup</th>\n",
       "    </tr>\n",
       "  </thead>\n",
       "  <tbody>\n",
       "    <tr>\n",
       "      <th>0</th>\n",
       "      <td>0c3e3439a8c64ea5bf6ecd6ca6ae19f0</td>\n",
       "      <td>WoWфли</td>\n",
       "      <td>кафе</td>\n",
       "      <td>Москва, улица Дыбенко, 7/1</td>\n",
       "      <td>Северный административный округ</td>\n",
       "      <td>ежедневно, 10:00–22:00</td>\n",
       "      <td>5.0</td>\n",
       "      <td>0</td>\n",
       "      <td>NaN</td>\n",
       "      <td>NaN</td>\n",
       "      <td>NaN</td>\n",
       "      <td>NaN</td>\n",
       "      <td>NaN</td>\n",
       "    </tr>\n",
       "    <tr>\n",
       "      <th>1</th>\n",
       "      <td>045780ada3474c57a2112e505d74b633</td>\n",
       "      <td>Четыре комнаты</td>\n",
       "      <td>ресторан</td>\n",
       "      <td>Москва, улица Дыбенко, 36, корп. 1</td>\n",
       "      <td>Северный административный округ</td>\n",
       "      <td>ежедневно, 10:00–22:00</td>\n",
       "      <td>4.5</td>\n",
       "      <td>0</td>\n",
       "      <td>4.0</td>\n",
       "      <td>выше среднего</td>\n",
       "      <td>Средний счёт:1500–1600 ₽</td>\n",
       "      <td>1550.0</td>\n",
       "      <td>NaN</td>\n",
       "    </tr>\n",
       "    <tr>\n",
       "      <th>2</th>\n",
       "      <td>1070b6b59144425896c65889347fcff6</td>\n",
       "      <td>Хазри</td>\n",
       "      <td>кафе</td>\n",
       "      <td>Москва, Клязьминская улица, 15</td>\n",
       "      <td>Северный административный округ</td>\n",
       "      <td>пн-чт 11:00–02:00; пт,сб 11:00–05:00; вс 11:00...</td>\n",
       "      <td>4.6</td>\n",
       "      <td>0</td>\n",
       "      <td>45.0</td>\n",
       "      <td>средние</td>\n",
       "      <td>Средний счёт:от 1000 ₽</td>\n",
       "      <td>1000.0</td>\n",
       "      <td>NaN</td>\n",
       "    </tr>\n",
       "    <tr>\n",
       "      <th>3</th>\n",
       "      <td>03ac7cd772104f65b58b349dc59f03ee</td>\n",
       "      <td>Dormouse Coffee Shop</td>\n",
       "      <td>кофейня</td>\n",
       "      <td>Москва, улица Маршала Федоренко, 12</td>\n",
       "      <td>Северный административный округ</td>\n",
       "      <td>ежедневно, 09:00–22:00</td>\n",
       "      <td>5.0</td>\n",
       "      <td>0</td>\n",
       "      <td>NaN</td>\n",
       "      <td>NaN</td>\n",
       "      <td>Цена чашки капучино:155–185 ₽</td>\n",
       "      <td>NaN</td>\n",
       "      <td>170.0</td>\n",
       "    </tr>\n",
       "    <tr>\n",
       "      <th>4</th>\n",
       "      <td>a163aada139c4c7f87b0b1c0b466a50f</td>\n",
       "      <td>Иль Марко</td>\n",
       "      <td>пиццерия</td>\n",
       "      <td>Москва, Правобережная улица, 1Б</td>\n",
       "      <td>Северный административный округ</td>\n",
       "      <td>ежедневно, 10:00–22:00</td>\n",
       "      <td>5.0</td>\n",
       "      <td>1</td>\n",
       "      <td>148.0</td>\n",
       "      <td>средние</td>\n",
       "      <td>Средний счёт:400–600 ₽</td>\n",
       "      <td>500.0</td>\n",
       "      <td>NaN</td>\n",
       "    </tr>\n",
       "  </tbody>\n",
       "</table>\n",
       "</div>"
      ],
      "text/plain": [
       "                                 id                  name  category  \\\n",
       "0  0c3e3439a8c64ea5bf6ecd6ca6ae19f0                WoWфли      кафе   \n",
       "1  045780ada3474c57a2112e505d74b633        Четыре комнаты  ресторан   \n",
       "2  1070b6b59144425896c65889347fcff6                 Хазри      кафе   \n",
       "3  03ac7cd772104f65b58b349dc59f03ee  Dormouse Coffee Shop   кофейня   \n",
       "4  a163aada139c4c7f87b0b1c0b466a50f             Иль Марко  пиццерия   \n",
       "\n",
       "                               address                         district  \\\n",
       "0           Москва, улица Дыбенко, 7/1  Северный административный округ   \n",
       "1   Москва, улица Дыбенко, 36, корп. 1  Северный административный округ   \n",
       "2       Москва, Клязьминская улица, 15  Северный административный округ   \n",
       "3  Москва, улица Маршала Федоренко, 12  Северный административный округ   \n",
       "4      Москва, Правобережная улица, 1Б  Северный административный округ   \n",
       "\n",
       "                                               hours  rating  chain  seats  \\\n",
       "0                             ежедневно, 10:00–22:00     5.0      0    NaN   \n",
       "1                             ежедневно, 10:00–22:00     4.5      0    4.0   \n",
       "2  пн-чт 11:00–02:00; пт,сб 11:00–05:00; вс 11:00...     4.6      0   45.0   \n",
       "3                             ежедневно, 09:00–22:00     5.0      0    NaN   \n",
       "4                             ежедневно, 10:00–22:00     5.0      1  148.0   \n",
       "\n",
       "           price                       avg_bill  middle_avg_bill  \\\n",
       "0            NaN                            NaN              NaN   \n",
       "1  выше среднего       Средний счёт:1500–1600 ₽           1550.0   \n",
       "2        средние         Средний счёт:от 1000 ₽           1000.0   \n",
       "3            NaN  Цена чашки капучино:155–185 ₽              NaN   \n",
       "4        средние         Средний счёт:400–600 ₽            500.0   \n",
       "\n",
       "   middle_coffee_cup  \n",
       "0                NaN  \n",
       "1                NaN  \n",
       "2                NaN  \n",
       "3              170.0  \n",
       "4                NaN  "
      ]
     },
     "execution_count": 14,
     "metadata": {},
     "output_type": "execute_result"
    }
   ],
   "source": [
    "df.head()"
   ]
  },
  {
   "cell_type": "markdown",
   "id": "956e82e2",
   "metadata": {
    "id": "956e82e2"
   },
   "source": [
    "## 2. Предобработка данных\n",
    "\n",
    "Подготовьте данные к исследовательскому анализу:\n",
    "\n",
    "- Изучите корректность типов данных и при необходимости проведите их преобразование."
   ]
  },
  {
   "cell_type": "markdown",
   "id": "cc186e26",
   "metadata": {
    "id": "67956690"
   },
   "source": [
    "Приведем столбец 'seats' к корректному типу данных"
   ]
  },
  {
   "cell_type": "code",
   "execution_count": 15,
   "id": "b5f2a94d",
   "metadata": {
    "id": "b5f2a94d"
   },
   "outputs": [],
   "source": [
    "df['seats'] = pd.to_numeric(df['seats'], errors='coerce')"
   ]
  },
  {
   "cell_type": "code",
   "execution_count": 16,
   "id": "da07b21d",
   "metadata": {},
   "outputs": [
    {
     "data": {
      "text/html": [
       "<div>\n",
       "<style scoped>\n",
       "    .dataframe tbody tr th:only-of-type {\n",
       "        vertical-align: middle;\n",
       "    }\n",
       "\n",
       "    .dataframe tbody tr th {\n",
       "        vertical-align: top;\n",
       "    }\n",
       "\n",
       "    .dataframe thead th {\n",
       "        text-align: right;\n",
       "    }\n",
       "</style>\n",
       "<table border=\"1\" class=\"dataframe\">\n",
       "  <thead>\n",
       "    <tr style=\"text-align: right;\">\n",
       "      <th></th>\n",
       "      <th>Кол-во пропусков</th>\n",
       "      <th>Доля пропусков, %</th>\n",
       "    </tr>\n",
       "  </thead>\n",
       "  <tbody>\n",
       "    <tr>\n",
       "      <th>middle_coffee_cup</th>\n",
       "      <td>7871</td>\n",
       "      <td>93.64</td>\n",
       "    </tr>\n",
       "    <tr>\n",
       "      <th>middle_avg_bill</th>\n",
       "      <td>5257</td>\n",
       "      <td>62.54</td>\n",
       "    </tr>\n",
       "    <tr>\n",
       "      <th>price</th>\n",
       "      <td>5091</td>\n",
       "      <td>60.56</td>\n",
       "    </tr>\n",
       "    <tr>\n",
       "      <th>avg_bill</th>\n",
       "      <td>4590</td>\n",
       "      <td>54.60</td>\n",
       "    </tr>\n",
       "    <tr>\n",
       "      <th>seats</th>\n",
       "      <td>3611</td>\n",
       "      <td>42.96</td>\n",
       "    </tr>\n",
       "    <tr>\n",
       "      <th>hours</th>\n",
       "      <td>536</td>\n",
       "      <td>6.38</td>\n",
       "    </tr>\n",
       "    <tr>\n",
       "      <th>id</th>\n",
       "      <td>0</td>\n",
       "      <td>0.00</td>\n",
       "    </tr>\n",
       "    <tr>\n",
       "      <th>name</th>\n",
       "      <td>0</td>\n",
       "      <td>0.00</td>\n",
       "    </tr>\n",
       "    <tr>\n",
       "      <th>category</th>\n",
       "      <td>0</td>\n",
       "      <td>0.00</td>\n",
       "    </tr>\n",
       "    <tr>\n",
       "      <th>address</th>\n",
       "      <td>0</td>\n",
       "      <td>0.00</td>\n",
       "    </tr>\n",
       "    <tr>\n",
       "      <th>district</th>\n",
       "      <td>0</td>\n",
       "      <td>0.00</td>\n",
       "    </tr>\n",
       "    <tr>\n",
       "      <th>rating</th>\n",
       "      <td>0</td>\n",
       "      <td>0.00</td>\n",
       "    </tr>\n",
       "    <tr>\n",
       "      <th>chain</th>\n",
       "      <td>0</td>\n",
       "      <td>0.00</td>\n",
       "    </tr>\n",
       "  </tbody>\n",
       "</table>\n",
       "</div>"
      ],
      "text/plain": [
       "                   Кол-во пропусков  Доля пропусков, %\n",
       "middle_coffee_cup              7871              93.64\n",
       "middle_avg_bill                5257              62.54\n",
       "price                          5091              60.56\n",
       "avg_bill                       4590              54.60\n",
       "seats                          3611              42.96\n",
       "hours                           536               6.38\n",
       "id                                0               0.00\n",
       "name                              0               0.00\n",
       "category                          0               0.00\n",
       "address                           0               0.00\n",
       "district                          0               0.00\n",
       "rating                            0               0.00\n",
       "chain                             0               0.00"
      ]
     },
     "execution_count": 16,
     "metadata": {},
     "output_type": "execute_result"
    }
   ],
   "source": [
    "missing_data = pd.DataFrame({\n",
    "    'Кол-во пропусков': df.isnull().sum(),\n",
    "    'Доля пропусков, %': (df.isnull().sum() / len(df) * 100).round(2)\n",
    "})\n",
    "missing_data.sort_values('Кол-во пропусков', ascending=False)"
   ]
  },
  {
   "cell_type": "markdown",
   "id": "95082698",
   "metadata": {},
   "source": [
    "Проанализируем пропуски в датасете:\n",
    "   - Наибольшее количество пропусков в столбце middle_coffee_cup, в процентном соотношении их больше 93 процентов от общего числа строк. Причина появления пропусков заключается в том, что столбец заполняется только когда значение в столбце avg_bill начинается с \"Цена одной чашки капучино\". Следовательно, в остальных случаях в этом столбце будет пропуск. Поэтому это пропуск типа MNAR. Так как этот столбец не участвует в анализе, с пропусками можно ничего не делать.\n",
    "   - Пропуски в middle_avg_bill\tв процентном соотношении составляют более 62 процентов от общего числа строк, что существенно. Причина появления пропусков: значения заполняются только если в avg_bill есть строка, начинающаяся с \"Средний счёт\". Тип пропуска - MNAR. Корректно заполнить эти пропуски не удастся, так как это повлияет на матрицу корреляции, поэтому оставим пропуски как есть.\n",
    "   - Пропуски в столбце price составляют более 60 процентов. Возможная причина: категория цен заполняется, вероятно, вручную или на основе анализа avg_bill. Следовательно, это тип пропусков MAR. Пропуски невозможно заполнить корректно из-за их количества, поэтому оставим их.\n",
    "   - Пропуски в стоблце avg_bill составляют более 54 процентов. Тип пропусков - MAR, так как наблюдается систематическое присутствие пропусков. Возможная причина - заведения не сознательно не делятся своей ценовой политикой либо же она слишком сложная.Здесь пропуски также не поддаются обработке, поэтому оставим их.\n",
    "   - Пропуски в столбце seats составляют более 42 процентов, тип пропусков - MAR, так как вероятность пропуска зависит от категории заведения. Заведепия с выносным форматом подачи блюд реже указывают количество посадочных мест. Аналогичная ситуация, с пропусками ничего не делаем.\n",
    "   - Пропуски в столбце hours составляют чуть более 6 процентов. Тип пропусков - MCAR. Вероятно, пропуски появились в результате технического сбоя. Так как количество пропусков невелико - их иожно проигнорировать."
   ]
  },
  {
   "cell_type": "markdown",
   "id": "c4d5f04d",
   "metadata": {
    "id": "c4d5f04d"
   },
   "source": [
    "Проверяем данные на явные и неявные дубликаты"
   ]
  },
  {
   "cell_type": "code",
   "execution_count": 17,
   "id": "4495e342",
   "metadata": {},
   "outputs": [
    {
     "data": {
      "text/html": [
       "<div>\n",
       "<style scoped>\n",
       "    .dataframe tbody tr th:only-of-type {\n",
       "        vertical-align: middle;\n",
       "    }\n",
       "\n",
       "    .dataframe tbody tr th {\n",
       "        vertical-align: top;\n",
       "    }\n",
       "\n",
       "    .dataframe thead th {\n",
       "        text-align: right;\n",
       "    }\n",
       "</style>\n",
       "<table border=\"1\" class=\"dataframe\">\n",
       "  <thead>\n",
       "    <tr style=\"text-align: right;\">\n",
       "      <th></th>\n",
       "      <th>id</th>\n",
       "      <th>name</th>\n",
       "      <th>category</th>\n",
       "      <th>address</th>\n",
       "      <th>district</th>\n",
       "      <th>hours</th>\n",
       "      <th>rating</th>\n",
       "      <th>chain</th>\n",
       "      <th>seats</th>\n",
       "      <th>price</th>\n",
       "      <th>avg_bill</th>\n",
       "      <th>middle_avg_bill</th>\n",
       "      <th>middle_coffee_cup</th>\n",
       "    </tr>\n",
       "  </thead>\n",
       "  <tbody>\n",
       "  </tbody>\n",
       "</table>\n",
       "</div>"
      ],
      "text/plain": [
       "Empty DataFrame\n",
       "Columns: [id, name, category, address, district, hours, rating, chain, seats, price, avg_bill, middle_avg_bill, middle_coffee_cup]\n",
       "Index: []"
      ]
     },
     "execution_count": 17,
     "metadata": {},
     "output_type": "execute_result"
    }
   ],
   "source": [
    "df[df.duplicated(keep=False)]"
   ]
  },
  {
   "cell_type": "code",
   "execution_count": 18,
   "id": "3b65b1fd",
   "metadata": {},
   "outputs": [
    {
     "data": {
      "text/html": [
       "<div>\n",
       "<style scoped>\n",
       "    .dataframe tbody tr th:only-of-type {\n",
       "        vertical-align: middle;\n",
       "    }\n",
       "\n",
       "    .dataframe tbody tr th {\n",
       "        vertical-align: top;\n",
       "    }\n",
       "\n",
       "    .dataframe thead th {\n",
       "        text-align: right;\n",
       "    }\n",
       "</style>\n",
       "<table border=\"1\" class=\"dataframe\">\n",
       "  <thead>\n",
       "    <tr style=\"text-align: right;\">\n",
       "      <th></th>\n",
       "      <th>id</th>\n",
       "      <th>name</th>\n",
       "      <th>category</th>\n",
       "      <th>address</th>\n",
       "      <th>district</th>\n",
       "      <th>hours</th>\n",
       "      <th>rating</th>\n",
       "      <th>chain</th>\n",
       "      <th>seats</th>\n",
       "      <th>price</th>\n",
       "      <th>avg_bill</th>\n",
       "      <th>middle_avg_bill</th>\n",
       "      <th>middle_coffee_cup</th>\n",
       "      <th>name_normalized</th>\n",
       "      <th>address_normalized</th>\n",
       "    </tr>\n",
       "  </thead>\n",
       "  <tbody>\n",
       "    <tr>\n",
       "      <th>189</th>\n",
       "      <td>072032ce16dc47bfbc63b672c75bd371</td>\n",
       "      <td>Кафе</td>\n",
       "      <td>кафе</td>\n",
       "      <td>Москва, парк Ангарские Пруды</td>\n",
       "      <td>Северный административный округ</td>\n",
       "      <td>ежедневно, 09:00–23:00</td>\n",
       "      <td>3.2</td>\n",
       "      <td>0</td>\n",
       "      <td>NaN</td>\n",
       "      <td>NaN</td>\n",
       "      <td>NaN</td>\n",
       "      <td>NaN</td>\n",
       "      <td>NaN</td>\n",
       "      <td>кафе</td>\n",
       "      <td>москва, парк ангарские пруды</td>\n",
       "    </tr>\n",
       "    <tr>\n",
       "      <th>215</th>\n",
       "      <td>897ddbc6746c4388b19dc8a9fcdbb488</td>\n",
       "      <td>Кафе</td>\n",
       "      <td>кафе</td>\n",
       "      <td>Москва, парк Ангарские пруды</td>\n",
       "      <td>Северный административный округ</td>\n",
       "      <td>ежедневно, 10:00–22:00</td>\n",
       "      <td>3.2</td>\n",
       "      <td>0</td>\n",
       "      <td>NaN</td>\n",
       "      <td>NaN</td>\n",
       "      <td>NaN</td>\n",
       "      <td>NaN</td>\n",
       "      <td>NaN</td>\n",
       "      <td>кафе</td>\n",
       "      <td>москва, парк ангарские пруды</td>\n",
       "    </tr>\n",
       "    <tr>\n",
       "      <th>1430</th>\n",
       "      <td>62608690e9cc464fbcd980cfd552e334</td>\n",
       "      <td>More poke</td>\n",
       "      <td>ресторан</td>\n",
       "      <td>Москва, Волоколамское шоссе, 11, стр. 2</td>\n",
       "      <td>Северный административный округ</td>\n",
       "      <td>ежедневно, 09:00–21:00</td>\n",
       "      <td>4.2</td>\n",
       "      <td>0</td>\n",
       "      <td>188.0</td>\n",
       "      <td>NaN</td>\n",
       "      <td>NaN</td>\n",
       "      <td>NaN</td>\n",
       "      <td>NaN</td>\n",
       "      <td>more poke</td>\n",
       "      <td>москва, волоколамское шоссе, 11, стр. 2</td>\n",
       "    </tr>\n",
       "    <tr>\n",
       "      <th>1511</th>\n",
       "      <td>a69f018d5c064873a3b491b0121bc1b4</td>\n",
       "      <td>More Poke</td>\n",
       "      <td>ресторан</td>\n",
       "      <td>Москва, Волоколамское шоссе, 11, стр. 2</td>\n",
       "      <td>Северный административный округ</td>\n",
       "      <td>пн-чт 09:00–18:00; пт,сб 09:00–21:00; вс 09:00...</td>\n",
       "      <td>4.2</td>\n",
       "      <td>1</td>\n",
       "      <td>188.0</td>\n",
       "      <td>NaN</td>\n",
       "      <td>NaN</td>\n",
       "      <td>NaN</td>\n",
       "      <td>NaN</td>\n",
       "      <td>more poke</td>\n",
       "      <td>москва, волоколамское шоссе, 11, стр. 2</td>\n",
       "    </tr>\n",
       "    <tr>\n",
       "      <th>2211</th>\n",
       "      <td>c6ef39ae8a8c483d8f9a6531bc386a2c</td>\n",
       "      <td>Раковарня Клешни и Хвосты</td>\n",
       "      <td>ресторан</td>\n",
       "      <td>Москва, проспект Мира, 118</td>\n",
       "      <td>Северо-Восточный административный округ</td>\n",
       "      <td>ежедневно, 12:00–00:00</td>\n",
       "      <td>4.4</td>\n",
       "      <td>0</td>\n",
       "      <td>150.0</td>\n",
       "      <td>NaN</td>\n",
       "      <td>NaN</td>\n",
       "      <td>NaN</td>\n",
       "      <td>NaN</td>\n",
       "      <td>раковарня клешни и хвосты</td>\n",
       "      <td>москва, проспект мира, 118</td>\n",
       "    </tr>\n",
       "    <tr>\n",
       "      <th>2420</th>\n",
       "      <td>aba1de7ad7d64ac0a3f8684bda29d905</td>\n",
       "      <td>Раковарня Клешни и хвосты</td>\n",
       "      <td>бар,паб</td>\n",
       "      <td>Москва, проспект Мира, 118</td>\n",
       "      <td>Северо-Восточный административный округ</td>\n",
       "      <td>пн-чт 12:00–00:00; пт,сб 12:00–01:00; вс 12:00...</td>\n",
       "      <td>4.4</td>\n",
       "      <td>1</td>\n",
       "      <td>150.0</td>\n",
       "      <td>NaN</td>\n",
       "      <td>NaN</td>\n",
       "      <td>NaN</td>\n",
       "      <td>NaN</td>\n",
       "      <td>раковарня клешни и хвосты</td>\n",
       "      <td>москва, проспект мира, 118</td>\n",
       "    </tr>\n",
       "    <tr>\n",
       "      <th>3091</th>\n",
       "      <td>3c2a73ea79a04be48858fab3685f2f37</td>\n",
       "      <td>Хлеб да Выпечка</td>\n",
       "      <td>булочная</td>\n",
       "      <td>Москва, Ярцевская улица, 19</td>\n",
       "      <td>Западный административный округ</td>\n",
       "      <td>ежедневно, 09:00–22:00</td>\n",
       "      <td>4.1</td>\n",
       "      <td>1</td>\n",
       "      <td>276.0</td>\n",
       "      <td>NaN</td>\n",
       "      <td>NaN</td>\n",
       "      <td>NaN</td>\n",
       "      <td>NaN</td>\n",
       "      <td>хлеб да выпечка</td>\n",
       "      <td>москва, ярцевская улица, 19</td>\n",
       "    </tr>\n",
       "    <tr>\n",
       "      <th>3109</th>\n",
       "      <td>d3116844e4e048f99614eb30be3214e0</td>\n",
       "      <td>Хлеб да выпечка</td>\n",
       "      <td>кафе</td>\n",
       "      <td>Москва, Ярцевская улица, 19</td>\n",
       "      <td>Западный административный округ</td>\n",
       "      <td>NaN</td>\n",
       "      <td>4.1</td>\n",
       "      <td>0</td>\n",
       "      <td>276.0</td>\n",
       "      <td>NaN</td>\n",
       "      <td>NaN</td>\n",
       "      <td>NaN</td>\n",
       "      <td>NaN</td>\n",
       "      <td>хлеб да выпечка</td>\n",
       "      <td>москва, ярцевская улица, 19</td>\n",
       "    </tr>\n",
       "  </tbody>\n",
       "</table>\n",
       "</div>"
      ],
      "text/plain": [
       "                                    id                       name  category  \\\n",
       "189   072032ce16dc47bfbc63b672c75bd371                       Кафе      кафе   \n",
       "215   897ddbc6746c4388b19dc8a9fcdbb488                       Кафе      кафе   \n",
       "1430  62608690e9cc464fbcd980cfd552e334                  More poke  ресторан   \n",
       "1511  a69f018d5c064873a3b491b0121bc1b4                  More Poke  ресторан   \n",
       "2211  c6ef39ae8a8c483d8f9a6531bc386a2c  Раковарня Клешни и Хвосты  ресторан   \n",
       "2420  aba1de7ad7d64ac0a3f8684bda29d905  Раковарня Клешни и хвосты   бар,паб   \n",
       "3091  3c2a73ea79a04be48858fab3685f2f37            Хлеб да Выпечка  булочная   \n",
       "3109  d3116844e4e048f99614eb30be3214e0            Хлеб да выпечка      кафе   \n",
       "\n",
       "                                      address  \\\n",
       "189              Москва, парк Ангарские Пруды   \n",
       "215              Москва, парк Ангарские пруды   \n",
       "1430  Москва, Волоколамское шоссе, 11, стр. 2   \n",
       "1511  Москва, Волоколамское шоссе, 11, стр. 2   \n",
       "2211               Москва, проспект Мира, 118   \n",
       "2420               Москва, проспект Мира, 118   \n",
       "3091              Москва, Ярцевская улица, 19   \n",
       "3109              Москва, Ярцевская улица, 19   \n",
       "\n",
       "                                     district  \\\n",
       "189           Северный административный округ   \n",
       "215           Северный административный округ   \n",
       "1430          Северный административный округ   \n",
       "1511          Северный административный округ   \n",
       "2211  Северо-Восточный административный округ   \n",
       "2420  Северо-Восточный административный округ   \n",
       "3091          Западный административный округ   \n",
       "3109          Западный административный округ   \n",
       "\n",
       "                                                  hours  rating  chain  seats  \\\n",
       "189                              ежедневно, 09:00–23:00     3.2      0    NaN   \n",
       "215                              ежедневно, 10:00–22:00     3.2      0    NaN   \n",
       "1430                             ежедневно, 09:00–21:00     4.2      0  188.0   \n",
       "1511  пн-чт 09:00–18:00; пт,сб 09:00–21:00; вс 09:00...     4.2      1  188.0   \n",
       "2211                             ежедневно, 12:00–00:00     4.4      0  150.0   \n",
       "2420  пн-чт 12:00–00:00; пт,сб 12:00–01:00; вс 12:00...     4.4      1  150.0   \n",
       "3091                             ежедневно, 09:00–22:00     4.1      1  276.0   \n",
       "3109                                                NaN     4.1      0  276.0   \n",
       "\n",
       "     price avg_bill  middle_avg_bill  middle_coffee_cup  \\\n",
       "189    NaN      NaN              NaN                NaN   \n",
       "215    NaN      NaN              NaN                NaN   \n",
       "1430   NaN      NaN              NaN                NaN   \n",
       "1511   NaN      NaN              NaN                NaN   \n",
       "2211   NaN      NaN              NaN                NaN   \n",
       "2420   NaN      NaN              NaN                NaN   \n",
       "3091   NaN      NaN              NaN                NaN   \n",
       "3109   NaN      NaN              NaN                NaN   \n",
       "\n",
       "                name_normalized                       address_normalized  \n",
       "189                        кафе             москва, парк ангарские пруды  \n",
       "215                        кафе             москва, парк ангарские пруды  \n",
       "1430                  more poke  москва, волоколамское шоссе, 11, стр. 2  \n",
       "1511                  more poke  москва, волоколамское шоссе, 11, стр. 2  \n",
       "2211  раковарня клешни и хвосты               москва, проспект мира, 118  \n",
       "2420  раковарня клешни и хвосты               москва, проспект мира, 118  \n",
       "3091            хлеб да выпечка              москва, ярцевская улица, 19  \n",
       "3109            хлеб да выпечка              москва, ярцевская улица, 19  "
      ]
     },
     "metadata": {},
     "output_type": "display_data"
    }
   ],
   "source": [
    "df_clean = df.copy()\n",
    "df_clean['name_normalized'] = df_clean['name'].str.lower().str.strip()\n",
    "df_clean['address_normalized'] = df_clean['address'].str.lower().str.strip()\n",
    "\n",
    "\n",
    "duplicates = df_clean[df_clean.duplicated(\n",
    "    subset=['name_normalized', 'address_normalized'], \n",
    "    keep=False  # помечает все дубликаты, не только первые\n",
    ")]\n",
    "\n",
    "\n",
    "duplicates.sort_values(\n",
    "    ['name_normalized', 'address_normalized']\n",
    ").groupby(['name_normalized', 'address_normalized'])\n",
    "display(duplicates)"
   ]
  },
  {
   "cell_type": "code",
   "execution_count": 19,
   "id": "dfca4a39",
   "metadata": {},
   "outputs": [
    {
     "name": "stdout",
     "output_type": "stream",
     "text": [
      "Найдено 8 потенциальных дубликатов\n"
     ]
    }
   ],
   "source": [
    "print(f\"Найдено {len(duplicates)} потенциальных дубликатов\")"
   ]
  },
  {
   "cell_type": "code",
   "execution_count": 20,
   "id": "64d1c065",
   "metadata": {},
   "outputs": [
    {
     "name": "stdout",
     "output_type": "stream",
     "text": [
      "Явных дубликатов (полное совпадение): 0 записей\n",
      "Неявных дубликатов (название+адрес): 8 записей\n"
     ]
    },
    {
     "data": {
      "text/html": [
       "<div>\n",
       "<style scoped>\n",
       "    .dataframe tbody tr th:only-of-type {\n",
       "        vertical-align: middle;\n",
       "    }\n",
       "\n",
       "    .dataframe tbody tr th {\n",
       "        vertical-align: top;\n",
       "    }\n",
       "\n",
       "    .dataframe thead th {\n",
       "        text-align: right;\n",
       "    }\n",
       "</style>\n",
       "<table border=\"1\" class=\"dataframe\">\n",
       "  <thead>\n",
       "    <tr style=\"text-align: right;\">\n",
       "      <th></th>\n",
       "      <th>id</th>\n",
       "      <th>name</th>\n",
       "      <th>category</th>\n",
       "      <th>address</th>\n",
       "      <th>district</th>\n",
       "      <th>hours</th>\n",
       "      <th>rating</th>\n",
       "      <th>chain</th>\n",
       "      <th>seats</th>\n",
       "      <th>price</th>\n",
       "      <th>avg_bill</th>\n",
       "      <th>middle_avg_bill</th>\n",
       "      <th>middle_coffee_cup</th>\n",
       "    </tr>\n",
       "  </thead>\n",
       "  <tbody>\n",
       "    <tr>\n",
       "      <th>0</th>\n",
       "      <td>0c3e3439a8c64ea5bf6ecd6ca6ae19f0</td>\n",
       "      <td>WoWфли</td>\n",
       "      <td>кафе</td>\n",
       "      <td>Москва, улица Дыбенко, 7/1</td>\n",
       "      <td>Северный административный округ</td>\n",
       "      <td>ежедневно, 10:00–22:00</td>\n",
       "      <td>5.0</td>\n",
       "      <td>0</td>\n",
       "      <td>NaN</td>\n",
       "      <td>NaN</td>\n",
       "      <td>NaN</td>\n",
       "      <td>NaN</td>\n",
       "      <td>NaN</td>\n",
       "    </tr>\n",
       "    <tr>\n",
       "      <th>1</th>\n",
       "      <td>045780ada3474c57a2112e505d74b633</td>\n",
       "      <td>Четыре комнаты</td>\n",
       "      <td>ресторан</td>\n",
       "      <td>Москва, улица Дыбенко, 36, корп. 1</td>\n",
       "      <td>Северный административный округ</td>\n",
       "      <td>ежедневно, 10:00–22:00</td>\n",
       "      <td>4.5</td>\n",
       "      <td>0</td>\n",
       "      <td>4.0</td>\n",
       "      <td>выше среднего</td>\n",
       "      <td>Средний счёт:1500–1600 ₽</td>\n",
       "      <td>1550.0</td>\n",
       "      <td>NaN</td>\n",
       "    </tr>\n",
       "    <tr>\n",
       "      <th>2</th>\n",
       "      <td>1070b6b59144425896c65889347fcff6</td>\n",
       "      <td>Хазри</td>\n",
       "      <td>кафе</td>\n",
       "      <td>Москва, Клязьминская улица, 15</td>\n",
       "      <td>Северный административный округ</td>\n",
       "      <td>пн-чт 11:00–02:00; пт,сб 11:00–05:00; вс 11:00...</td>\n",
       "      <td>4.6</td>\n",
       "      <td>0</td>\n",
       "      <td>45.0</td>\n",
       "      <td>средние</td>\n",
       "      <td>Средний счёт:от 1000 ₽</td>\n",
       "      <td>1000.0</td>\n",
       "      <td>NaN</td>\n",
       "    </tr>\n",
       "    <tr>\n",
       "      <th>3</th>\n",
       "      <td>03ac7cd772104f65b58b349dc59f03ee</td>\n",
       "      <td>Dormouse Coffee Shop</td>\n",
       "      <td>кофейня</td>\n",
       "      <td>Москва, улица Маршала Федоренко, 12</td>\n",
       "      <td>Северный административный округ</td>\n",
       "      <td>ежедневно, 09:00–22:00</td>\n",
       "      <td>5.0</td>\n",
       "      <td>0</td>\n",
       "      <td>NaN</td>\n",
       "      <td>NaN</td>\n",
       "      <td>Цена чашки капучино:155–185 ₽</td>\n",
       "      <td>NaN</td>\n",
       "      <td>170.0</td>\n",
       "    </tr>\n",
       "    <tr>\n",
       "      <th>4</th>\n",
       "      <td>a163aada139c4c7f87b0b1c0b466a50f</td>\n",
       "      <td>Иль Марко</td>\n",
       "      <td>пиццерия</td>\n",
       "      <td>Москва, Правобережная улица, 1Б</td>\n",
       "      <td>Северный административный округ</td>\n",
       "      <td>ежедневно, 10:00–22:00</td>\n",
       "      <td>5.0</td>\n",
       "      <td>1</td>\n",
       "      <td>148.0</td>\n",
       "      <td>средние</td>\n",
       "      <td>Средний счёт:400–600 ₽</td>\n",
       "      <td>500.0</td>\n",
       "      <td>NaN</td>\n",
       "    </tr>\n",
       "    <tr>\n",
       "      <th>...</th>\n",
       "      <td>...</td>\n",
       "      <td>...</td>\n",
       "      <td>...</td>\n",
       "      <td>...</td>\n",
       "      <td>...</td>\n",
       "      <td>...</td>\n",
       "      <td>...</td>\n",
       "      <td>...</td>\n",
       "      <td>...</td>\n",
       "      <td>...</td>\n",
       "      <td>...</td>\n",
       "      <td>...</td>\n",
       "      <td>...</td>\n",
       "    </tr>\n",
       "    <tr>\n",
       "      <th>8401</th>\n",
       "      <td>0342ad1a45ed41ba89dcba246a8267e5</td>\n",
       "      <td>Суши Мания</td>\n",
       "      <td>кафе</td>\n",
       "      <td>Москва, Профсоюзная улица, 56</td>\n",
       "      <td>Юго-Западный административный округ</td>\n",
       "      <td>ежедневно, 09:00–02:00</td>\n",
       "      <td>4.4</td>\n",
       "      <td>0</td>\n",
       "      <td>86.0</td>\n",
       "      <td>NaN</td>\n",
       "      <td>NaN</td>\n",
       "      <td>NaN</td>\n",
       "      <td>NaN</td>\n",
       "    </tr>\n",
       "    <tr>\n",
       "      <th>8402</th>\n",
       "      <td>ee6bb7c3650e47bd8186fca08eda1091</td>\n",
       "      <td>Миславнес</td>\n",
       "      <td>кафе</td>\n",
       "      <td>Москва, Пролетарский проспект, 19, корп. 1</td>\n",
       "      <td>Южный административный округ</td>\n",
       "      <td>ежедневно, 08:00–22:00</td>\n",
       "      <td>4.8</td>\n",
       "      <td>0</td>\n",
       "      <td>150.0</td>\n",
       "      <td>NaN</td>\n",
       "      <td>NaN</td>\n",
       "      <td>NaN</td>\n",
       "      <td>NaN</td>\n",
       "    </tr>\n",
       "    <tr>\n",
       "      <th>8403</th>\n",
       "      <td>62e8c64d4c89467aba608e39ef87616b</td>\n",
       "      <td>Самовар</td>\n",
       "      <td>кафе</td>\n",
       "      <td>Москва, Люблинская улица, 112А, стр. 1</td>\n",
       "      <td>Юго-Восточный административный округ</td>\n",
       "      <td>ежедневно, круглосуточно</td>\n",
       "      <td>3.9</td>\n",
       "      <td>0</td>\n",
       "      <td>150.0</td>\n",
       "      <td>NaN</td>\n",
       "      <td>Средний счёт:от 150 ₽</td>\n",
       "      <td>150.0</td>\n",
       "      <td>NaN</td>\n",
       "    </tr>\n",
       "    <tr>\n",
       "      <th>8404</th>\n",
       "      <td>06a0db5ecd4842d48cd6350aa923e297</td>\n",
       "      <td>Чайхана Sabr</td>\n",
       "      <td>кафе</td>\n",
       "      <td>Москва, Люблинская улица, 112А, стр. 1</td>\n",
       "      <td>Юго-Восточный административный округ</td>\n",
       "      <td>ежедневно, круглосуточно</td>\n",
       "      <td>4.2</td>\n",
       "      <td>1</td>\n",
       "      <td>150.0</td>\n",
       "      <td>NaN</td>\n",
       "      <td>NaN</td>\n",
       "      <td>NaN</td>\n",
       "      <td>NaN</td>\n",
       "    </tr>\n",
       "    <tr>\n",
       "      <th>8405</th>\n",
       "      <td>9d56f8f7a7f74df1a925bc0fd2de8aae</td>\n",
       "      <td>Kebab Time</td>\n",
       "      <td>кафе</td>\n",
       "      <td>Москва, Россошанский проезд, 6</td>\n",
       "      <td>Южный административный округ</td>\n",
       "      <td>ежедневно, круглосуточно</td>\n",
       "      <td>3.9</td>\n",
       "      <td>0</td>\n",
       "      <td>12.0</td>\n",
       "      <td>NaN</td>\n",
       "      <td>NaN</td>\n",
       "      <td>NaN</td>\n",
       "      <td>NaN</td>\n",
       "    </tr>\n",
       "  </tbody>\n",
       "</table>\n",
       "<p>8402 rows × 13 columns</p>\n",
       "</div>"
      ],
      "text/plain": [
       "                                    id                  name  category  \\\n",
       "0     0c3e3439a8c64ea5bf6ecd6ca6ae19f0                WoWфли      кафе   \n",
       "1     045780ada3474c57a2112e505d74b633        Четыре комнаты  ресторан   \n",
       "2     1070b6b59144425896c65889347fcff6                 Хазри      кафе   \n",
       "3     03ac7cd772104f65b58b349dc59f03ee  Dormouse Coffee Shop   кофейня   \n",
       "4     a163aada139c4c7f87b0b1c0b466a50f             Иль Марко  пиццерия   \n",
       "...                                ...                   ...       ...   \n",
       "8401  0342ad1a45ed41ba89dcba246a8267e5            Суши Мания      кафе   \n",
       "8402  ee6bb7c3650e47bd8186fca08eda1091             Миславнес      кафе   \n",
       "8403  62e8c64d4c89467aba608e39ef87616b               Самовар      кафе   \n",
       "8404  06a0db5ecd4842d48cd6350aa923e297          Чайхана Sabr      кафе   \n",
       "8405  9d56f8f7a7f74df1a925bc0fd2de8aae            Kebab Time      кафе   \n",
       "\n",
       "                                         address  \\\n",
       "0                     Москва, улица Дыбенко, 7/1   \n",
       "1             Москва, улица Дыбенко, 36, корп. 1   \n",
       "2                 Москва, Клязьминская улица, 15   \n",
       "3            Москва, улица Маршала Федоренко, 12   \n",
       "4                Москва, Правобережная улица, 1Б   \n",
       "...                                          ...   \n",
       "8401               Москва, Профсоюзная улица, 56   \n",
       "8402  Москва, Пролетарский проспект, 19, корп. 1   \n",
       "8403      Москва, Люблинская улица, 112А, стр. 1   \n",
       "8404      Москва, Люблинская улица, 112А, стр. 1   \n",
       "8405              Москва, Россошанский проезд, 6   \n",
       "\n",
       "                                  district  \\\n",
       "0          Северный административный округ   \n",
       "1          Северный административный округ   \n",
       "2          Северный административный округ   \n",
       "3          Северный административный округ   \n",
       "4          Северный административный округ   \n",
       "...                                    ...   \n",
       "8401   Юго-Западный административный округ   \n",
       "8402          Южный административный округ   \n",
       "8403  Юго-Восточный административный округ   \n",
       "8404  Юго-Восточный административный округ   \n",
       "8405          Южный административный округ   \n",
       "\n",
       "                                                  hours  rating  chain  seats  \\\n",
       "0                                ежедневно, 10:00–22:00     5.0      0    NaN   \n",
       "1                                ежедневно, 10:00–22:00     4.5      0    4.0   \n",
       "2     пн-чт 11:00–02:00; пт,сб 11:00–05:00; вс 11:00...     4.6      0   45.0   \n",
       "3                                ежедневно, 09:00–22:00     5.0      0    NaN   \n",
       "4                                ежедневно, 10:00–22:00     5.0      1  148.0   \n",
       "...                                                 ...     ...    ...    ...   \n",
       "8401                             ежедневно, 09:00–02:00     4.4      0   86.0   \n",
       "8402                             ежедневно, 08:00–22:00     4.8      0  150.0   \n",
       "8403                           ежедневно, круглосуточно     3.9      0  150.0   \n",
       "8404                           ежедневно, круглосуточно     4.2      1  150.0   \n",
       "8405                           ежедневно, круглосуточно     3.9      0   12.0   \n",
       "\n",
       "              price                       avg_bill  middle_avg_bill  \\\n",
       "0               NaN                            NaN              NaN   \n",
       "1     выше среднего       Средний счёт:1500–1600 ₽           1550.0   \n",
       "2           средние         Средний счёт:от 1000 ₽           1000.0   \n",
       "3               NaN  Цена чашки капучино:155–185 ₽              NaN   \n",
       "4           средние         Средний счёт:400–600 ₽            500.0   \n",
       "...             ...                            ...              ...   \n",
       "8401            NaN                            NaN              NaN   \n",
       "8402            NaN                            NaN              NaN   \n",
       "8403            NaN          Средний счёт:от 150 ₽            150.0   \n",
       "8404            NaN                            NaN              NaN   \n",
       "8405            NaN                            NaN              NaN   \n",
       "\n",
       "      middle_coffee_cup  \n",
       "0                   NaN  \n",
       "1                   NaN  \n",
       "2                   NaN  \n",
       "3                 170.0  \n",
       "4                   NaN  \n",
       "...                 ...  \n",
       "8401                NaN  \n",
       "8402                NaN  \n",
       "8403                NaN  \n",
       "8404                NaN  \n",
       "8405                NaN  \n",
       "\n",
       "[8402 rows x 13 columns]"
      ]
     },
     "execution_count": 20,
     "metadata": {},
     "output_type": "execute_result"
    }
   ],
   "source": [
    "# 1. ЯВНЫЕ дубликаты (полное совпадение всех столбцов)\n",
    "duplicates_full = df[df.duplicated(keep=False)]\n",
    "print(f\"Явных дубликатов (полное совпадение): {len(duplicates_full)} записей\")\n",
    "\n",
    "# 2. НЕЯВНЫЕ дубликаты (совпадение по названию и адресу)\n",
    "df['name_clean'] = df['name'].str.lower().str.strip()\n",
    "df['address_clean'] = df['address'].str.lower().str.strip()\n",
    "\n",
    "duplicates_partial = df[df.duplicated(['name_clean', 'address_clean'], keep=False)]\n",
    "print(f\"Неявных дубликатов (название+адрес): {len(duplicates_partial)} записей\")\n",
    "\n",
    "# УДАЛЕНИЕ ДУБЛИКАТОВ\n",
    "initial_count = len(df)\n",
    "\n",
    "# Удаляем все типы дубликатов\n",
    "df = df.drop_duplicates()  # явные дубликаты\n",
    "df = df.drop_duplicates(subset=['name_clean', 'address_clean'], keep='first')  # неявные\n",
    "\n",
    "# Удаляем временные столбцы\n",
    "df.drop(['name_clean', 'address_clean'], axis=1)"
   ]
  },
  {
   "cell_type": "markdown",
   "id": "4c0563f2",
   "metadata": {
    "id": "4c0563f2"
   },
   "source": [
    " - Создаем столбец `is_24_7` с обозначением того, что заведение работает ежедневно и круглосуточно, то есть 24/7:\n",
    "  - логическое значение `True` — если заведение работает ежедневно и круглосуточно;\n",
    "  - логическое значение `False` — в противоположном случае."
   ]
  },
  {
   "cell_type": "code",
   "execution_count": 21,
   "id": "42d1e685",
   "metadata": {
    "id": "42d1e685"
   },
   "outputs": [],
   "source": [
    "def is_24_7(x):\n",
    "    if pd.isna(x):\n",
    "        return False\n",
    "    if 'ежедневно' in x and 'круглосуточно' in x:\n",
    "        return True\n",
    "    elif 'ежедневно' in x and ('00:00' in x and '24:00' in x):\n",
    "        return True\n",
    "    else: \n",
    "        return False\n",
    "\n",
    "\n",
    "#Применим функцию к столбцу\n",
    "df['is_24_7'] = df['hours'].apply(is_24_7)"
   ]
  },
  {
   "cell_type": "markdown",
   "id": "562f30ab",
   "metadata": {
    "id": "562f30ab"
   },
   "source": [
    "---\n",
    "\n",
    "### Промежуточный вывод"
   ]
  },
  {
   "cell_type": "markdown",
   "id": "e981c889",
   "metadata": {
    "id": "4e587ce1"
   },
   "source": [
    "Столбцы были приведены к корректному типу данных, также заменены на подходящие значения пропуски:\n",
    "   - Количество строк до обработки: 8406\n",
    "   - Количество строк после обработки: 8406"
   ]
  },
  {
   "cell_type": "markdown",
   "id": "8b4b0a81",
   "metadata": {},
   "source": [
    "Обработаны пропуски:\n",
    " - middle_coffee_cup (93.6% пропусков) - сохранены как есть, так как данные отсутствуют систематически у заведений без кофейного меню\n",
    "\n",
    " - middle_avg_bill (62.5% пропусков) - сохранены как есть, так как заполняются только при наличии фразы \"Средний счёт\"\n",
    "\n",
    " - seats (43% пропусков) - оставлены как есть\n",
    "\n",
    "Остальные пропуски проанализированы и задокументированы\n",
    "\n",
    "Удалены дубликаты:\n",
    " - Проверены и удалены явные дубликаты (полное совпадение строк)\n",
    "\n",
    " - Проверены и удалены неявные дубликаты (совпадение по названию и адресу)\n",
    "\n",
    " - Сохранены первые уникальные записи\n",
    "\n",
    "Результат:\n",
    " - Данные полностью подготовлены для исследовательского анализа. Учтена природа пропусков (MNAR, MAR, MCAR), удалены все дубликаты, сохранена целостность dataset."
   ]
  },
  {
   "cell_type": "markdown",
   "id": "6953e84c",
   "metadata": {
    "id": "6953e84c"
   },
   "source": [
    "## 3. Исследовательский анализ данных\n"
   ]
  },
  {
   "cell_type": "markdown",
   "id": "8555d840",
   "metadata": {
    "id": "8555d840"
   },
   "source": [
    "---\n",
    "\n",
    "### Задача 1\n",
    "\n",
    "Исследуем количество объектов общественного питания по каждой категории"
   ]
  },
  {
   "cell_type": "code",
   "execution_count": 22,
   "id": "101dd490",
   "metadata": {},
   "outputs": [
    {
     "name": "stdout",
     "output_type": "stream",
     "text": [
      "Распределение заведений по категориям:\n",
      "       category  count  proportion\n",
      "           кафе   2376    0.282790\n",
      "       ресторан   2042    0.243037\n",
      "        кофейня   1413    0.168174\n",
      "        бар,паб    764    0.090931\n",
      "       пиццерия    633    0.075339\n",
      "быстрое питание    603    0.071769\n",
      "       столовая    315    0.037491\n",
      "       булочная    256    0.030469\n"
     ]
    }
   ],
   "source": [
    "category_stats = df['category'].value_counts().reset_index()\n",
    "category_stats.columns = ['category', 'count']\n",
    "category_stats['proportion'] = (category_stats['count'] / len(df)).round(6)\n",
    "\n",
    "# Красивое отображение таблицы\n",
    "print(\"Распределение заведений по категориям:\")\n",
    "print(category_stats.to_string(index=False))"
   ]
  },
  {
   "cell_type": "code",
   "execution_count": 23,
   "id": "03c703d1",
   "metadata": {},
   "outputs": [
    {
     "data": {
      "image/png": "[encoded data removed]",
      "text/plain": [
       "<Figure size 1080x432 with 1 Axes>"
      ]
     },
     "metadata": {
      "needs_background": "light"
     },
     "output_type": "display_data"
    }
   ],
   "source": [
    "category_count = df.groupby('category')['id'].agg('count').sort_values(ascending=False)\n",
    "category_count.plot(kind = 'bar',\n",
    "        title = 'Количество заведений в разрезе по категориям',\n",
    "        xlabel = 'category',\n",
    "        ylabel = 'category_count',\n",
    "        rot = 0,\n",
    "        figsize = (15, 6),\n",
    "        color = 'skyblue',\n",
    "        legend = False\n",
    ")\n",
    "plt.xlabel('Категория заведения', fontsize=12)\n",
    "plt.ylabel('Количество заведений', fontsize=12)\n",
    "plt.show()"
   ]
  },
  {
   "cell_type": "markdown",
   "id": "81f75e2d",
   "metadata": {},
   "source": [
    "Из полученного графика можем сделать вывод, что наибольшее количество заведений находится в категории \"кафе\". При этом меньше всего заведений находится в категории \"булочная\"."
   ]
  },
  {
   "cell_type": "markdown",
   "id": "6821e1d0",
   "metadata": {
    "id": "6821e1d0"
   },
   "source": [
    "---\n",
    "\n",
    "### Задача 2\n",
    "\n",
    "Исследуем распределение количества заведений по административным районам Москвы, а также отдельно распределение заведений каждой категории в Центральном административном округе Москвы"
   ]
  },
  {
   "cell_type": "code",
   "execution_count": 24,
   "id": "9a155692",
   "metadata": {},
   "outputs": [
    {
     "name": "stdout",
     "output_type": "stream",
     "text": [
      "Распределение заведений по округам:\n",
      "                               district  count  proportion\n",
      "     Центральный административный округ   2242    0.266841\n",
      "        Северный административный округ    898    0.106879\n",
      "           Южный административный округ    892    0.106165\n",
      "Северо-Восточный административный округ    890    0.105927\n",
      "        Западный административный округ    850    0.101166\n",
      "       Восточный административный округ    798    0.094977\n",
      "   Юго-Восточный административный округ    714    0.084980\n",
      "    Юго-Западный административный округ    709    0.084385\n",
      " Северо-Западный административный округ    409    0.048679\n"
     ]
    }
   ],
   "source": [
    "district_stats = df['district'].value_counts().reset_index()\n",
    "district_stats.columns = ['district', 'count']\n",
    "district_stats['proportion'] = (district_stats['count'] / len(df)).round(6)\n",
    "\n",
    "# Красивое отображение таблицы\n",
    "print(\"Распределение заведений по округам:\")\n",
    "print(district_stats.to_string(index=False))"
   ]
  },
  {
   "cell_type": "code",
   "execution_count": 25,
   "id": "e62f31be",
   "metadata": {
    "id": "e62f31be"
   },
   "outputs": [
    {
     "data": {
      "image/png": "[encoded data removed]",
      "text/plain": [
       "<Figure size 1080x432 with 1 Axes>"
      ]
     },
     "metadata": {
      "needs_background": "light"
     },
     "output_type": "display_data"
    }
   ],
   "source": [
    "location_count = df.groupby('district')['id'].agg('count').sort_values(ascending = False)\n",
    "location_count.plot(kind = 'barh',\n",
    "        title = 'Количество заведений в разрезе по административным районам',\n",
    "        xlabel = 'district',\n",
    "        ylabel = 'location_count',\n",
    "        rot = 0,\n",
    "        figsize = (15, 6),\n",
    "        color = 'skyblue',\n",
    "        legend = False\n",
    ")\n",
    "plt.xlabel('Административный округ', fontsize=12)\n",
    "plt.ylabel('Количество заведений', fontsize=12)\n",
    "plt.show()"
   ]
  },
  {
   "cell_type": "markdown",
   "id": "23f90950",
   "metadata": {},
   "source": [
    "Анализ показывает неравномерное распределение заведений общественного питания по административным округам Москвы. \n",
    " - Наибольшая концентрация заведений наблюдается в Центральном административном округе, что объясняется его историческим статусом, туристической привлекательностью и высокой деловой активностью.\n",
    " - Южный и Юго-Западный округа также демонстрируют значительное количество заведений, что связано с высокой плотностью населения и развитой инфраструктурой этих районов.\n",
    " - Северные и Восточные округа имеют относительно меньшее количество заведений, что может быть обусловлено меньшей плотностью застройки и особенностями планировочной структуры этих районов."
   ]
  },
  {
   "cell_type": "code",
   "execution_count": 26,
   "id": "54c566be",
   "metadata": {},
   "outputs": [
    {
     "name": "stdout",
     "output_type": "stream",
     "text": [
      "Распределение заведений по Центральному округу:\n",
      "       category  count  proportion\n",
      "       ресторан    670    0.079743\n",
      "           кафе    464    0.055225\n",
      "        кофейня    428    0.050940\n",
      "        бар,паб    364    0.043323\n",
      "       пиццерия    113    0.013449\n",
      "быстрое питание     87    0.010355\n",
      "       столовая     66    0.007855\n",
      "       булочная     50    0.005951\n"
     ]
    }
   ],
   "source": [
    "cao_data = df[df['district'] == 'Центральный административный округ'].copy()\n",
    "category_stats = cao_data['category'].value_counts().reset_index()\n",
    "category_stats.columns = ['category', 'count']\n",
    "category_stats['proportion'] = (category_stats['count'] / len(df)).round(6)\n",
    "\n",
    "# Красивое отображение таблицы\n",
    "print(\"Распределение заведений по Центральному округу:\")\n",
    "print(category_stats.to_string(index=False))"
   ]
  },
  {
   "cell_type": "code",
   "execution_count": 27,
   "id": "0a290cd1",
   "metadata": {
    "id": "0a290cd1"
   },
   "outputs": [
    {
     "data": {
      "image/png": "[encoded data removed]",
      "text/plain": [
       "<Figure size 1080x432 with 1 Axes>"
      ]
     },
     "metadata": {
      "needs_background": "light"
     },
     "output_type": "display_data"
    }
   ],
   "source": [
    "cao_data = df[df['district'] == 'Центральный административный округ'].copy()\n",
    "cao_category_count = cao_data.groupby('category')['id'].agg('count').sort_values(ascending = False)\n",
    "cao_category_count.plot(kind = 'bar',\n",
    "        title = 'Количество заведений в разрезе по категориям',\n",
    "        xlabel = 'category',\n",
    "        ylabel = 'cao_category_count',\n",
    "        rot = 0,\n",
    "        figsize = (15, 6),\n",
    "        color = 'skyblue',\n",
    "        legend = False\n",
    ")\n",
    "plt.xlabel('Категория заведения', fontsize=12)\n",
    "plt.ylabel('Количество заведений', fontsize=12)\n",
    "plt.show()\n"
   ]
  },
  {
   "cell_type": "markdown",
   "id": "d74c3187",
   "metadata": {},
   "source": [
    " - Центральный округ демонстрирует премиальную структуру заведений общественного питания. Доминируют рестораны (8%), что отражает высокий уровень ценовой политики и ориентированность на туристический и бизнес-трафик.\n",
    "\n",
    " - Значительную долю занимают кафе (5.5%) и кофейни (5.1%), что соответствует современным трендам питания в центре города. Высокая доля баров и пабов (4.3%) подчеркивает развитую ночную жизнь и развлекательную инфраструктуру округа.\n",
    "\n",
    " - Бюджетные форматы (столовые - 0.8%, булочные - 0.6%) представлены минимально, что подтверждает элитный характер гастрономического рынка в центре Москвы."
   ]
  },
  {
   "cell_type": "markdown",
   "id": "7c824f58",
   "metadata": {
    "id": "7c824f58"
   },
   "source": [
    "---\n",
    "\n",
    "### Задача 3\n",
    "\n",
    "Изучаем соотношение сетевых и несетевых заведений в целом по всем данным и в разрезе категорий заведения"
   ]
  },
  {
   "cell_type": "code",
   "execution_count": 28,
   "id": "ef442d1a",
   "metadata": {
    "id": "ef442d1a"
   },
   "outputs": [
    {
     "data": {
      "text/plain": [
       "([<matplotlib.axis.XTick at 0x7f35b231a1c0>,\n",
       "  <matplotlib.axis.XTick at 0x7f35b231a190>],\n",
       " [Text(0, 0, 'Несетевые'), Text(1, 0, 'Сетевые')])"
      ]
     },
     "execution_count": 28,
     "metadata": {},
     "output_type": "execute_result"
    },
    {
     "data": {
      "image/png": "[encoded data removed]",
      "text/plain": [
       "<Figure size 576x432 with 1 Axes>"
      ]
     },
     "metadata": {
      "needs_background": "light"
     },
     "output_type": "display_data"
    }
   ],
   "source": [
    "chain_proportions = df['chain'].value_counts(normalize=True)\n",
    "\n",
    "plt.figure(figsize=(8, 6))\n",
    "chain_proportions.plot(kind='bar', \n",
    "                      color=['lightblue', 'lightcoral'],\n",
    "                      edgecolor='black')\n",
    "\n",
    "plt.title('Соотношение сетевых и несетевых заведений', fontsize=14, pad=20)\n",
    "plt.xlabel('Тип заведения', fontsize=12)\n",
    "plt.ylabel('Доля заведений', fontsize=12)\n",
    "plt.xticks([0, 1], ['Несетевые', 'Сетевые'], rotation=0)"
   ]
  },
  {
   "cell_type": "code",
   "execution_count": 29,
   "id": "0de29fa2",
   "metadata": {
    "id": "0de29fa2"
   },
   "outputs": [
    {
     "data": {
      "text/plain": [
       "(array([0, 1, 2, 3, 4, 5, 6, 7]),\n",
       " [Text(0, 0, 'булочная'),\n",
       "  Text(1, 0, 'пиццерия'),\n",
       "  Text(2, 0, 'кофейня'),\n",
       "  Text(3, 0, 'быстрое питание'),\n",
       "  Text(4, 0, 'ресторан'),\n",
       "  Text(5, 0, 'кафе'),\n",
       "  Text(6, 0, 'столовая'),\n",
       "  Text(7, 0, 'бар,паб')])"
      ]
     },
     "execution_count": 29,
     "metadata": {},
     "output_type": "execute_result"
    },
    {
     "data": {
      "image/png": "[encoded data removed]",
      "text/plain": [
       "<Figure size 864x432 with 1 Axes>"
      ]
     },
     "metadata": {
      "needs_background": "light"
     },
     "output_type": "display_data"
    }
   ],
   "source": [
    "chain_by_category = df.groupby('category')['chain'].mean().sort_values(ascending=False)\n",
    "\n",
    "plt.figure(figsize=(12, 6))\n",
    "chain_by_category.plot(kind='bar', color='lightblue')\n",
    "\n",
    "plt.title('Распределение доли сетевых заведений по категориям', fontsize=14, pad=20)\n",
    "plt.xlabel('Категория заведения', fontsize=12)\n",
    "plt.ylabel('Доля сетевых заведений', fontsize=12)\n",
    "plt.xticks(rotation=45, ha='right')"
   ]
  },
  {
   "cell_type": "markdown",
   "id": "9ad10576",
   "metadata": {},
   "source": [
    " - Наибольшая доля сетевых заведений наблюдается в категориях \"кофейня\" и \"пиццерия\" (около 50-60%), что свидетельствует о высокой степени стандартизации и масштабируемости этих форматов.\n",
    "\n",
    " - Категории \"ресторан\" и \"кафе\" демонстрируют средние показатели (30-40%), отражая смешанную структуру рынка с присутствием как сетевых, так и независимых заведений.\n",
    "\n",
    " - Наименьшая доля сетевого формата характерна для \"столовых\" и \"булочных\" (менее 20%), что объясняется локальным характером этих заведений и меньшими возможностями для масштабирования."
   ]
  },
  {
   "cell_type": "markdown",
   "id": "5913c3e3",
   "metadata": {
    "id": "5913c3e3"
   },
   "source": [
    "---\n",
    "\n",
    "### Задача 4\n",
    "\n",
    "Исследуем количество посадочных мест в заведениях\n"
   ]
  },
  {
   "cell_type": "code",
   "execution_count": 30,
   "id": "6cb238d2",
   "metadata": {
    "id": "6cb238d2"
   },
   "outputs": [
    {
     "data": {
      "image/png": "[encoded data removed]",
      "text/plain": [
       "<Figure size 864x360 with 1 Axes>"
      ]
     },
     "metadata": {
      "needs_background": "light"
     },
     "output_type": "display_data"
    }
   ],
   "source": [
    "plt.figure(figsize=(12, 5))\n",
    "\n",
    "plt.subplot(1, 2, 1)\n",
    "plt.hist(df['seats'].dropna(), bins=20, color='lightblue', alpha=0.7)\n",
    "plt.title('Распределение количества посадочных мест')\n",
    "plt.xlabel('Количество мест')\n",
    "plt.ylabel('Частота')\n",
    "plt.grid(alpha=0.3)"
   ]
  },
  {
   "cell_type": "code",
   "execution_count": 31,
   "id": "b6a4a50c",
   "metadata": {},
   "outputs": [
    {
     "data": {
      "text/plain": [
       "<Figure size 864x1080 with 0 Axes>"
      ]
     },
     "execution_count": 31,
     "metadata": {},
     "output_type": "execute_result"
    },
    {
     "data": {
      "image/png": "[encoded data removed]",
      "text/plain": [
       "<Figure size 432x288 with 1 Axes>"
      ]
     },
     "metadata": {
      "needs_background": "light"
     },
     "output_type": "display_data"
    },
    {
     "data": {
      "text/plain": [
       "<Figure size 864x1080 with 0 Axes>"
      ]
     },
     "metadata": {},
     "output_type": "display_data"
    }
   ],
   "source": [
    "plt.subplot(1, 2, 2)\n",
    "plt.boxplot(df['seats'].dropna(), vert=False)\n",
    "plt.title('Диаграмма размаха посадочных мест')\n",
    "plt.xlabel('Количество мест')\n",
    "plt.grid(axis='x', alpha=0.3)\n",
    "plt.figure(figsize=(12, 15))"
   ]
  },
  {
   "cell_type": "code",
   "execution_count": 32,
   "id": "062b55d8",
   "metadata": {
    "id": "062b55d8"
   },
   "outputs": [
    {
     "data": {
      "text/plain": [
       "Text(0, 0.5, 'Количество посадочных мест')"
      ]
     },
     "execution_count": 32,
     "metadata": {},
     "output_type": "execute_result"
    },
    {
     "data": {
      "image/png": "[encoded data removed]",
      "text/plain": [
       "<Figure size 1080x720 with 1 Axes>"
      ]
     },
     "metadata": {
      "needs_background": "light"
     },
     "output_type": "display_data"
    }
   ],
   "source": [
    "typical_seats = df.groupby('category')['seats'].median().sort_values(ascending=False)\n",
    "typical_seats.plot(kind = 'bar',\n",
    "                    title = 'Наиболее типичное количество посадочных мест в разрезе по категориям',\n",
    "                   legend = False,\n",
    "                   rot = 0,\n",
    "                   xlabel = 'category',\n",
    "                   ylabel = 'typical_seart',\n",
    "                   figsize = (15, 10),\n",
    "                   color = 'skyblue'\n",
    "                  )\n",
    "plt.xlabel('Категория заведения')\n",
    "plt.ylabel('Количество посадочных мест')"
   ]
  },
  {
   "cell_type": "code",
   "execution_count": 33,
   "id": "ceadf25b",
   "metadata": {
    "id": "ceadf25b"
   },
   "outputs": [
    {
     "name": "stdout",
     "output_type": "stream",
     "text": [
      "Выбросы по категориям:\n",
      "кафе: 98 выбросов\n",
      "ресторан: 77 выбросов\n",
      "кофейня: 40 выбросов\n",
      "пиццерия: 27 выбросов\n",
      "бар,паб: 44 выбросов\n",
      "быстрое питание: 14 выбросов\n",
      "булочная: 11 выбросов\n",
      "столовая: 13 выбросов\n"
     ]
    }
   ],
   "source": [
    "def detect_outliers_iqr(data):\n",
    "    Q1 = data.quantile(0.25)\n",
    "    Q3 = data.quantile(0.75)\n",
    "    IQR = Q3 - Q1\n",
    "    lower_bound = Q1 - 1.5 * IQR\n",
    "    upper_bound = Q3 + 1.5 * IQR\n",
    "    return data[(data < lower_bound) | (data > upper_bound)]\n",
    "outliers_by_category = {}\n",
    "for category in df['category'].unique():\n",
    "    category_data = df[df['category'] == category]['seats'].dropna()\n",
    "    outliers = detect_outliers_iqr(category_data)\n",
    "    if not outliers.empty:\n",
    "        outliers_by_category[category] = outliers\n",
    "\n",
    "print(\"Выбросы по категориям:\")\n",
    "for category, outliers in outliers_by_category.items():\n",
    "    print(f\"{category}: {len(outliers)} выбросов\")"
   ]
  },
  {
   "cell_type": "markdown",
   "id": "a90ef703",
   "metadata": {},
   "source": [
    "Выбросы встречаются во всех категориях заведений, однако их количество существенно разнится:\n",
    "   - Больше всего выбросов встречается в категории \"ресторан\". Это может быть связано с размерами заведений и особенностями интерьера.\n",
    "   - Остальные категории показывают схожую картину, причина возникновений выбросов у них вероятно такая же."
   ]
  },
  {
   "cell_type": "markdown",
   "id": "8ed065ea",
   "metadata": {
    "id": "8ed065ea"
   },
   "source": [
    "---\n",
    "\n",
    "### Задача 5\n",
    "\n",
    "Исследуем рейтинг заведений."
   ]
  },
  {
   "cell_type": "code",
   "execution_count": 34,
   "id": "b2d384e8",
   "metadata": {},
   "outputs": [
    {
     "data": {
      "text/plain": [
       "count    8402.000000\n",
       "mean        4.230017\n",
       "std         0.470320\n",
       "min         1.000000\n",
       "25%         4.100000\n",
       "50%         4.300000\n",
       "75%         4.400000\n",
       "max         5.000000\n",
       "Name: rating, dtype: float64"
      ]
     },
     "execution_count": 34,
     "metadata": {},
     "output_type": "execute_result"
    }
   ],
   "source": [
    "df['rating'].describe()"
   ]
  },
  {
   "cell_type": "code",
   "execution_count": 35,
   "id": "d9ec175f",
   "metadata": {},
   "outputs": [
    {
     "data": {
      "text/html": [
       "<div>\n",
       "<style scoped>\n",
       "    .dataframe tbody tr th:only-of-type {\n",
       "        vertical-align: middle;\n",
       "    }\n",
       "\n",
       "    .dataframe tbody tr th {\n",
       "        vertical-align: top;\n",
       "    }\n",
       "\n",
       "    .dataframe thead th {\n",
       "        text-align: right;\n",
       "    }\n",
       "</style>\n",
       "<table border=\"1\" class=\"dataframe\">\n",
       "  <thead>\n",
       "    <tr style=\"text-align: right;\">\n",
       "      <th></th>\n",
       "      <th>count</th>\n",
       "      <th>mean</th>\n",
       "      <th>std</th>\n",
       "      <th>min</th>\n",
       "      <th>25%</th>\n",
       "      <th>50%</th>\n",
       "      <th>75%</th>\n",
       "      <th>max</th>\n",
       "    </tr>\n",
       "    <tr>\n",
       "      <th>category</th>\n",
       "      <th></th>\n",
       "      <th></th>\n",
       "      <th></th>\n",
       "      <th></th>\n",
       "      <th></th>\n",
       "      <th></th>\n",
       "      <th></th>\n",
       "      <th></th>\n",
       "    </tr>\n",
       "  </thead>\n",
       "  <tbody>\n",
       "    <tr>\n",
       "      <th>столовая</th>\n",
       "      <td>315.0</td>\n",
       "      <td>4.211429</td>\n",
       "      <td>0.454205</td>\n",
       "      <td>1.0</td>\n",
       "      <td>4.1</td>\n",
       "      <td>4.3</td>\n",
       "      <td>4.4</td>\n",
       "      <td>5.0</td>\n",
       "    </tr>\n",
       "    <tr>\n",
       "      <th>ресторан</th>\n",
       "      <td>2042.0</td>\n",
       "      <td>4.290402</td>\n",
       "      <td>0.413143</td>\n",
       "      <td>1.0</td>\n",
       "      <td>4.2</td>\n",
       "      <td>4.3</td>\n",
       "      <td>4.5</td>\n",
       "      <td>5.0</td>\n",
       "    </tr>\n",
       "    <tr>\n",
       "      <th>пиццерия</th>\n",
       "      <td>633.0</td>\n",
       "      <td>4.301264</td>\n",
       "      <td>0.336162</td>\n",
       "      <td>1.0</td>\n",
       "      <td>4.2</td>\n",
       "      <td>4.3</td>\n",
       "      <td>4.4</td>\n",
       "      <td>5.0</td>\n",
       "    </tr>\n",
       "    <tr>\n",
       "      <th>кофейня</th>\n",
       "      <td>1413.0</td>\n",
       "      <td>4.277282</td>\n",
       "      <td>0.372250</td>\n",
       "      <td>1.4</td>\n",
       "      <td>4.1</td>\n",
       "      <td>4.3</td>\n",
       "      <td>4.4</td>\n",
       "      <td>5.0</td>\n",
       "    </tr>\n",
       "    <tr>\n",
       "      <th>кафе</th>\n",
       "      <td>2376.0</td>\n",
       "      <td>4.124285</td>\n",
       "      <td>0.566001</td>\n",
       "      <td>1.0</td>\n",
       "      <td>4.0</td>\n",
       "      <td>4.2</td>\n",
       "      <td>4.4</td>\n",
       "      <td>5.0</td>\n",
       "    </tr>\n",
       "    <tr>\n",
       "      <th>быстрое питание</th>\n",
       "      <td>603.0</td>\n",
       "      <td>4.050249</td>\n",
       "      <td>0.560949</td>\n",
       "      <td>1.1</td>\n",
       "      <td>3.9</td>\n",
       "      <td>4.2</td>\n",
       "      <td>4.3</td>\n",
       "      <td>5.0</td>\n",
       "    </tr>\n",
       "    <tr>\n",
       "      <th>булочная</th>\n",
       "      <td>256.0</td>\n",
       "      <td>4.268359</td>\n",
       "      <td>0.386303</td>\n",
       "      <td>1.3</td>\n",
       "      <td>4.2</td>\n",
       "      <td>4.3</td>\n",
       "      <td>4.4</td>\n",
       "      <td>5.0</td>\n",
       "    </tr>\n",
       "    <tr>\n",
       "      <th>бар,паб</th>\n",
       "      <td>764.0</td>\n",
       "      <td>4.387696</td>\n",
       "      <td>0.380392</td>\n",
       "      <td>1.1</td>\n",
       "      <td>4.3</td>\n",
       "      <td>4.4</td>\n",
       "      <td>4.6</td>\n",
       "      <td>5.0</td>\n",
       "    </tr>\n",
       "  </tbody>\n",
       "</table>\n",
       "</div>"
      ],
      "text/plain": [
       "                  count      mean       std  min  25%  50%  75%  max\n",
       "category                                                            \n",
       "столовая          315.0  4.211429  0.454205  1.0  4.1  4.3  4.4  5.0\n",
       "ресторан         2042.0  4.290402  0.413143  1.0  4.2  4.3  4.5  5.0\n",
       "пиццерия          633.0  4.301264  0.336162  1.0  4.2  4.3  4.4  5.0\n",
       "кофейня          1413.0  4.277282  0.372250  1.4  4.1  4.3  4.4  5.0\n",
       "кафе             2376.0  4.124285  0.566001  1.0  4.0  4.2  4.4  5.0\n",
       "быстрое питание   603.0  4.050249  0.560949  1.1  3.9  4.2  4.3  5.0\n",
       "булочная          256.0  4.268359  0.386303  1.3  4.2  4.3  4.4  5.0\n",
       "бар,паб           764.0  4.387696  0.380392  1.1  4.3  4.4  4.6  5.0"
      ]
     },
     "execution_count": 35,
     "metadata": {},
     "output_type": "execute_result"
    }
   ],
   "source": [
    "df.groupby('category')['rating'].agg('describe').sort_values(by = 'category', ascending = False)"
   ]
  },
  {
   "cell_type": "code",
   "execution_count": 36,
   "id": "cc5206f8",
   "metadata": {
    "id": "cc5206f8"
   },
   "outputs": [
    {
     "data": {
      "text/plain": [
       "Text(0, 0.5, 'Усредненный рейтинг')"
      ]
     },
     "execution_count": 36,
     "metadata": {},
     "output_type": "execute_result"
    },
    {
     "data": {
      "image/png": "[encoded data removed]",
      "text/plain": [
       "<Figure size 864x720 with 1 Axes>"
      ]
     },
     "metadata": {
      "needs_background": "light"
     },
     "output_type": "display_data"
    }
   ],
   "source": [
    "category_rating = df.groupby('category')['rating'].agg('mean')\n",
    "category_rating.plot(kind = 'bar',\n",
    "                    title = 'Распределение средних рейтингов по категориям заведений',\n",
    "                    legend = False,\n",
    "                    rot = 0,\n",
    "                     xlabel = 'category',\n",
    "                     ylabel = 'category_rating',\n",
    "                     figsize = (12, 10),\n",
    "                     color = 'skyblue'\n",
    ")\n",
    "plt.xlabel('Категория заведений')\n",
    "plt.ylabel('Усредненный рейтинг')"
   ]
  },
  {
   "cell_type": "markdown",
   "id": "c5a8ffd3",
   "metadata": {
    "id": "3e0ec5d7"
   },
   "source": [
    "В целом, усредненные рейтинги в разрере по категориям показывают примерно равные значения для каждого типа заведения"
   ]
  },
  {
   "cell_type": "markdown",
   "id": "dd9702d9",
   "metadata": {
    "id": "dd9702d9"
   },
   "source": [
    "---\n",
    "\n",
    "### Задача 6\n",
    "\n",
    "Изучаем, с какими данными показывают самую сильную корреляцию рейтинги заведений?"
   ]
  },
  {
   "cell_type": "code",
   "execution_count": 37,
   "id": "15400eb9",
   "metadata": {
    "id": "15400eb9"
   },
   "outputs": [
    {
     "name": "stdout",
     "output_type": "stream",
     "text": [
      "interval columns not set, guessing: ['rating', 'chain', 'seats']\n"
     ]
    },
    {
     "data": {
      "image/png": "[encoded data removed]",
      "text/plain": [
       "<Figure size 864x576 with 2 Axes>"
      ]
     },
     "metadata": {
      "needs_background": "light"
     },
     "output_type": "display_data"
    }
   ],
   "source": [
    "columns_to_analyze = ['category', 'district', 'rating', 'chain', 'seats', 'price', 'is_24_7']\n",
    "df_phik = df[columns_to_analyze].copy()\n",
    "\n",
    "# Вычисляем матрицу корреляции phi_k\n",
    "phik_matrix = df_phik.phik_matrix()\n",
    "\n",
    "# Визуализация матрицы корреляции\n",
    "plt.figure(figsize=(12, 8))\n",
    "sns.heatmap(phik_matrix, \n",
    "            annot=True, \n",
    "            fmt='.3f', \n",
    "            cmap='coolwarm', \n",
    "            center=0,\n",
    "            square=True,\n",
    "            linewidths=0.5,\n",
    "            cbar_kws={'label': 'Phi_k coefficient'})\n",
    "\n",
    "plt.title('Матрица корреляции Phi_k между признаками', fontsize=16, pad=20)\n",
    "plt.tight_layout()"
   ]
  },
  {
   "cell_type": "code",
   "execution_count": 38,
   "id": "a29eb4b9",
   "metadata": {},
   "outputs": [
    {
     "name": "stdout",
     "output_type": "stream",
     "text": [
      "interval columns not set, guessing: ['rating', 'chain', 'seats']\n"
     ]
    },
    {
     "data": {
      "text/html": [
       "<div>\n",
       "<style scoped>\n",
       "    .dataframe tbody tr th:only-of-type {\n",
       "        vertical-align: middle;\n",
       "    }\n",
       "\n",
       "    .dataframe tbody tr th {\n",
       "        vertical-align: top;\n",
       "    }\n",
       "\n",
       "    .dataframe thead th {\n",
       "        text-align: right;\n",
       "    }\n",
       "</style>\n",
       "<table border=\"1\" class=\"dataframe\">\n",
       "  <thead>\n",
       "    <tr style=\"text-align: right;\">\n",
       "      <th></th>\n",
       "      <th>Признак</th>\n",
       "      <th>Корреляция с рейтингом</th>\n",
       "    </tr>\n",
       "  </thead>\n",
       "  <tbody>\n",
       "    <tr>\n",
       "      <th>0</th>\n",
       "      <td>price</td>\n",
       "      <td>0.220295</td>\n",
       "    </tr>\n",
       "    <tr>\n",
       "      <th>1</th>\n",
       "      <td>district</td>\n",
       "      <td>0.200761</td>\n",
       "    </tr>\n",
       "    <tr>\n",
       "      <th>2</th>\n",
       "      <td>category</td>\n",
       "      <td>0.189716</td>\n",
       "    </tr>\n",
       "    <tr>\n",
       "      <th>3</th>\n",
       "      <td>is_24_7</td>\n",
       "      <td>0.150365</td>\n",
       "    </tr>\n",
       "    <tr>\n",
       "      <th>4</th>\n",
       "      <td>chain</td>\n",
       "      <td>0.107833</td>\n",
       "    </tr>\n",
       "    <tr>\n",
       "      <th>5</th>\n",
       "      <td>seats</td>\n",
       "      <td>0.000000</td>\n",
       "    </tr>\n",
       "  </tbody>\n",
       "</table>\n",
       "</div>"
      ],
      "text/plain": [
       "    Признак  Корреляция с рейтингом\n",
       "0     price                0.220295\n",
       "1  district                0.200761\n",
       "2  category                0.189716\n",
       "3   is_24_7                0.150365\n",
       "4     chain                0.107833\n",
       "5     seats                0.000000"
      ]
     },
     "metadata": {},
     "output_type": "display_data"
    }
   ],
   "source": [
    "correlation_columns = ['rating', 'price', 'category', 'district', 'is_24_7', 'chain', 'seats']\n",
    "\n",
    "phik_matrix = df[correlation_columns].phik_matrix()\n",
    "\n",
    "rating_correlations = phik_matrix['rating'].drop('rating').sort_values(ascending=False)\n",
    "\n",
    "correlation_table = pd.DataFrame({\n",
    "    'Признак': rating_correlations.index,\n",
    "    'Корреляция с рейтингом': rating_correlations.values\n",
    "}).reset_index(drop=True)\n",
    "display(correlation_table)"
   ]
  },
  {
   "cell_type": "code",
   "execution_count": 39,
   "id": "0e0f1fd2",
   "metadata": {},
   "outputs": [
    {
     "data": {
      "text/plain": [
       "price\n",
       "низкие           4.173077\n",
       "средние          4.297874\n",
       "выше среднего    4.386348\n",
       "высокие          4.436611\n",
       "Name: rating, dtype: float64"
      ]
     },
     "execution_count": 39,
     "metadata": {},
     "output_type": "execute_result"
    }
   ],
   "source": [
    "df.groupby('price')['rating'].agg('mean').sort_values(ascending = True)"
   ]
  },
  {
   "cell_type": "code",
   "execution_count": 40,
   "id": "8f0379af",
   "metadata": {
    "id": "8f0379af"
   },
   "outputs": [
    {
     "data": {
      "text/plain": [
       "Text(0, 0.5, 'Рейтинг')"
      ]
     },
     "execution_count": 40,
     "metadata": {},
     "output_type": "execute_result"
    },
    {
     "data": {
      "image/png": "[encoded data removed]",
      "text/plain": [
       "<Figure size 432x288 with 1 Axes>"
      ]
     },
     "metadata": {
      "needs_background": "light"
     },
     "output_type": "display_data"
    }
   ],
   "source": [
    "sns.scatterplot(data=df, x='price', y='rating', alpha=0.6)\n",
    "plt.title('Распределение рейтинга по ценовым группам', fontsize=14)\n",
    "plt.xlabel('Ценовая группа по среднему чеку')\n",
    "plt.ylabel('Рейтинг')"
   ]
  },
  {
   "cell_type": "code",
   "execution_count": 41,
   "id": "b614be77",
   "metadata": {},
   "outputs": [
    {
     "data": {
      "text/html": [
       "<div>\n",
       "<style scoped>\n",
       "    .dataframe tbody tr th:only-of-type {\n",
       "        vertical-align: middle;\n",
       "    }\n",
       "\n",
       "    .dataframe tbody tr th {\n",
       "        vertical-align: top;\n",
       "    }\n",
       "\n",
       "    .dataframe thead th {\n",
       "        text-align: right;\n",
       "    }\n",
       "</style>\n",
       "<table border=\"1\" class=\"dataframe\">\n",
       "  <thead>\n",
       "    <tr style=\"text-align: right;\">\n",
       "      <th></th>\n",
       "      <th>mean</th>\n",
       "      <th>count</th>\n",
       "      <th>std</th>\n",
       "    </tr>\n",
       "    <tr>\n",
       "      <th>price</th>\n",
       "      <th></th>\n",
       "      <th></th>\n",
       "      <th></th>\n",
       "    </tr>\n",
       "  </thead>\n",
       "  <tbody>\n",
       "    <tr>\n",
       "      <th>низкие</th>\n",
       "      <td>4.173</td>\n",
       "      <td>156</td>\n",
       "      <td>0.373</td>\n",
       "    </tr>\n",
       "    <tr>\n",
       "      <th>средние</th>\n",
       "      <td>4.298</td>\n",
       "      <td>2117</td>\n",
       "      <td>0.296</td>\n",
       "    </tr>\n",
       "    <tr>\n",
       "      <th>выше среднего</th>\n",
       "      <td>4.386</td>\n",
       "      <td>564</td>\n",
       "      <td>0.224</td>\n",
       "    </tr>\n",
       "    <tr>\n",
       "      <th>высокие</th>\n",
       "      <td>4.437</td>\n",
       "      <td>478</td>\n",
       "      <td>0.314</td>\n",
       "    </tr>\n",
       "  </tbody>\n",
       "</table>\n",
       "</div>"
      ],
      "text/plain": [
       "                mean  count    std\n",
       "price                             \n",
       "низкие         4.173    156  0.373\n",
       "средние        4.298   2117  0.296\n",
       "выше среднего  4.386    564  0.224\n",
       "высокие        4.437    478  0.314"
      ]
     },
     "metadata": {},
     "output_type": "display_data"
    }
   ],
   "source": [
    "price_rating_stats = df.groupby('price')['rating'].agg(['mean', 'count', 'std']).round(3).sort_values('mean', ascending=True)\n",
    "display(price_rating_stats)"
   ]
  },
  {
   "cell_type": "code",
   "execution_count": 42,
   "id": "ec2595e9",
   "metadata": {},
   "outputs": [
    {
     "data": {
      "image/png": "[encoded data removed]",
      "text/plain": [
       "<Figure size 720x432 with 1 Axes>"
      ]
     },
     "metadata": {
      "needs_background": "light"
     },
     "output_type": "display_data"
    }
   ],
   "source": [
    "plt.figure(figsize=(10, 6))\n",
    "bars = plt.bar(price_rating_stats.index, price_rating_stats['mean'], \n",
    "               color=['lightcoral', 'lightblue', 'lightgreen', 'orange'],\n",
    "               alpha=0.8, edgecolor='black')\n",
    "plt.xlabel('Ценовая категория заведения')\n",
    "plt.ylabel('Средний рейтинг')\n",
    "plt.title('Распределение среднего рейтинга в зависимости от ценовой категории')\n",
    "plt.show()"
   ]
  },
  {
   "cell_type": "markdown",
   "id": "75e8f48f",
   "metadata": {
    "id": "1a65a84d"
   },
   "source": [
    "Анализ выявил устойчивую положительную корреляцию между ценовой категорией заведений и их рейтингом (коэффициент корреляции 0,220). Наблюдается четкая тенденция: чем выше ценовая категория заведения, тем выше средний рейтинг.\n",
    "\n",
    "Ключевые закономерности:\n",
    "\n",
    " - Заведения с высокими ценами демонстрируют наивысший средний рейтинг (4,437)\n",
    "\n",
    " - Заведения категории \"выше среднего\" следуют за ними с показателем 4,386\n",
    "\n",
    " - Средний ценовой сегмент показывает рейтинг 4,298\n",
    "\n",
    " - Заведения с низкими ценами имеют наименьший средний рейтинг (4,173)"
   ]
  },
  {
   "cell_type": "markdown",
   "id": "370de703",
   "metadata": {
    "id": "370de703"
   },
   "source": [
    "---\n",
    "\n",
    "### Задача 7\n",
    "\n",
    "Топ-15 популярных сетевых заведений Москвы"
   ]
  },
  {
   "cell_type": "code",
   "execution_count": 43,
   "id": "5d828a9a",
   "metadata": {
    "id": "5d828a9a"
   },
   "outputs": [
    {
     "data": {
      "text/html": [
       "<div>\n",
       "<style scoped>\n",
       "    .dataframe tbody tr th:only-of-type {\n",
       "        vertical-align: middle;\n",
       "    }\n",
       "\n",
       "    .dataframe tbody tr th {\n",
       "        vertical-align: top;\n",
       "    }\n",
       "\n",
       "    .dataframe thead th {\n",
       "        text-align: right;\n",
       "    }\n",
       "</style>\n",
       "<table border=\"1\" class=\"dataframe\">\n",
       "  <thead>\n",
       "    <tr style=\"text-align: right;\">\n",
       "      <th></th>\n",
       "      <th>name</th>\n",
       "      <th>category</th>\n",
       "      <th>chain_count</th>\n",
       "      <th>avg_rating</th>\n",
       "    </tr>\n",
       "  </thead>\n",
       "  <tbody>\n",
       "    <tr>\n",
       "      <th>1142</th>\n",
       "      <td>Шоколадница</td>\n",
       "      <td>кофейня</td>\n",
       "      <td>119</td>\n",
       "      <td>4.178151</td>\n",
       "    </tr>\n",
       "    <tr>\n",
       "      <th>504</th>\n",
       "      <td>Домино'с Пицца</td>\n",
       "      <td>пиццерия</td>\n",
       "      <td>76</td>\n",
       "      <td>4.169737</td>\n",
       "    </tr>\n",
       "    <tr>\n",
       "      <th>497</th>\n",
       "      <td>Додо Пицца</td>\n",
       "      <td>пиццерия</td>\n",
       "      <td>74</td>\n",
       "      <td>4.286486</td>\n",
       "    </tr>\n",
       "    <tr>\n",
       "      <th>206</th>\n",
       "      <td>One Price Coffee</td>\n",
       "      <td>кофейня</td>\n",
       "      <td>71</td>\n",
       "      <td>4.064789</td>\n",
       "    </tr>\n",
       "    <tr>\n",
       "      <th>1158</th>\n",
       "      <td>Яндекс Лавка</td>\n",
       "      <td>ресторан</td>\n",
       "      <td>69</td>\n",
       "      <td>3.872464</td>\n",
       "    </tr>\n",
       "    <tr>\n",
       "      <th>73</th>\n",
       "      <td>Cofix</td>\n",
       "      <td>кофейня</td>\n",
       "      <td>65</td>\n",
       "      <td>4.075385</td>\n",
       "    </tr>\n",
       "    <tr>\n",
       "      <th>242</th>\n",
       "      <td>Prime</td>\n",
       "      <td>ресторан</td>\n",
       "      <td>49</td>\n",
       "      <td>4.114286</td>\n",
       "    </tr>\n",
       "    <tr>\n",
       "      <th>558</th>\n",
       "      <td>КОФЕПОРТ</td>\n",
       "      <td>кофейня</td>\n",
       "      <td>42</td>\n",
       "      <td>4.147619</td>\n",
       "    </tr>\n",
       "    <tr>\n",
       "      <th>644</th>\n",
       "      <td>Кулинарная лавка братьев Караваевых</td>\n",
       "      <td>кафе</td>\n",
       "      <td>39</td>\n",
       "      <td>4.394872</td>\n",
       "    </tr>\n",
       "    <tr>\n",
       "      <th>978</th>\n",
       "      <td>Теремок</td>\n",
       "      <td>ресторан</td>\n",
       "      <td>36</td>\n",
       "      <td>4.105556</td>\n",
       "    </tr>\n",
       "    <tr>\n",
       "      <th>51</th>\n",
       "      <td>CofeFest</td>\n",
       "      <td>кофейня</td>\n",
       "      <td>31</td>\n",
       "      <td>3.977419</td>\n",
       "    </tr>\n",
       "    <tr>\n",
       "      <th>1065</th>\n",
       "      <td>Чайхана</td>\n",
       "      <td>кафе</td>\n",
       "      <td>26</td>\n",
       "      <td>3.946154</td>\n",
       "    </tr>\n",
       "    <tr>\n",
       "      <th>389</th>\n",
       "      <td>Буханка</td>\n",
       "      <td>булочная</td>\n",
       "      <td>25</td>\n",
       "      <td>4.416000</td>\n",
       "    </tr>\n",
       "    <tr>\n",
       "      <th>90</th>\n",
       "      <td>Drive Café</td>\n",
       "      <td>кафе</td>\n",
       "      <td>24</td>\n",
       "      <td>4.025000</td>\n",
       "    </tr>\n",
       "    <tr>\n",
       "      <th>629</th>\n",
       "      <td>Кофемания</td>\n",
       "      <td>кофейня</td>\n",
       "      <td>22</td>\n",
       "      <td>4.463636</td>\n",
       "    </tr>\n",
       "  </tbody>\n",
       "</table>\n",
       "</div>"
      ],
      "text/plain": [
       "                                     name  category  chain_count  avg_rating\n",
       "1142                          Шоколадница   кофейня          119    4.178151\n",
       "504                        Домино'с Пицца  пиццерия           76    4.169737\n",
       "497                            Додо Пицца  пиццерия           74    4.286486\n",
       "206                      One Price Coffee   кофейня           71    4.064789\n",
       "1158                         Яндекс Лавка  ресторан           69    3.872464\n",
       "73                                  Cofix   кофейня           65    4.075385\n",
       "242                                 Prime  ресторан           49    4.114286\n",
       "558                              КОФЕПОРТ   кофейня           42    4.147619\n",
       "644   Кулинарная лавка братьев Караваевых      кафе           39    4.394872\n",
       "978                               Теремок  ресторан           36    4.105556\n",
       "51                               CofeFest   кофейня           31    3.977419\n",
       "1065                              Чайхана      кафе           26    3.946154\n",
       "389                               Буханка  булочная           25    4.416000\n",
       "90                             Drive Café      кафе           24    4.025000\n",
       "629                             Кофемания   кофейня           22    4.463636"
      ]
     },
     "metadata": {},
     "output_type": "display_data"
    }
   ],
   "source": [
    "chain_df = df[df['chain'] == 1].copy()\n",
    "\n",
    "# 2. Группируем по названию и категории, считаем количество заведений и средний рейтинг\n",
    "top_chains = chain_df.groupby(['name', 'category']).agg(\n",
    "    chain_count=('chain', 'count'),      # количество заведений сети\n",
    "    avg_rating=('rating', 'mean')        # средний рейтинг\n",
    ").reset_index()\n",
    "top_15_chains = top_chains.nlargest(15, 'chain_count')\n",
    "display(top_15_chains)"
   ]
  },
  {
   "cell_type": "code",
   "execution_count": 44,
   "id": "b4e8dfb9",
   "metadata": {},
   "outputs": [
    {
     "data": {
      "text/plain": [
       "<BarContainer object of 15 artists>"
      ]
     },
     "metadata": {},
     "output_type": "display_data"
    },
    {
     "data": {
      "image/png": "[encoded data removed]",
      "text/plain": [
       "<Figure size 1008x576 with 1 Axes>"
      ]
     },
     "metadata": {
      "needs_background": "light"
     },
     "output_type": "display_data"
    }
   ],
   "source": [
    "plt.figure(figsize=(14, 8))\n",
    "\n",
    "# Создаем горизонтальный барплот\n",
    "bars = plt.barh(top_15_chains['name'], top_15_chains['chain_count'], \n",
    "                color='lightblue')\n",
    "\n",
    "plt.title('Топ-15 сетевых заведений Москвы по количеству заведений', fontsize=16, pad=20)\n",
    "plt.xlabel('Количество заведений', fontsize=12)\n",
    "plt.ylabel('Название сети', fontsize=12)\n",
    "display(bars)"
   ]
  },
  {
   "cell_type": "code",
   "execution_count": 45,
   "id": "cb7b2300",
   "metadata": {},
   "outputs": [
    {
     "data": {
      "text/plain": [
       "Text(0, 0.5, 'Название сети')"
      ]
     },
     "execution_count": 45,
     "metadata": {},
     "output_type": "execute_result"
    },
    {
     "data": {
      "image/png": "[encoded data removed]",
      "text/plain": [
       "<Figure size 1008x576 with 1 Axes>"
      ]
     },
     "metadata": {
      "needs_background": "light"
     },
     "output_type": "display_data"
    }
   ],
   "source": [
    "plt.figure(figsize=(14, 8))\n",
    "top_15_sorted = top_15_chains.sort_values('avg_rating', ascending=True)\n",
    "# Создаем горизонтальный барплот\n",
    "bars = plt.barh(top_15_sorted['name'], top_15_sorted['avg_rating'], \n",
    "                color='lightblue')\n",
    "\n",
    "plt.title('Топ-15 сетевых заведений Москвы по среднему рейтингу', fontsize=16, pad=20)\n",
    "plt.xlabel('Средний рейтинг', fontsize=12)\n",
    "plt.ylabel('Название сети', fontsize=12)"
   ]
  },
  {
   "cell_type": "markdown",
   "id": "f5036c21",
   "metadata": {},
   "source": [
    " - Лидеры по количеству заведений: Крупнейшими сетевыми компаниями являются кофейни «Шоколадница» (119) и пиццерии «Домино'с Пицца» (76) и «Додо Пицца» (74).\n",
    "\n",
    " - Самые высокие рейтинги: Наивысший средний рейтинг у булочной «Буханка» (4.416) и кофейни «Кофемания» (4.464). При этом «Кофемания» имеет значительно меньше точек, чем лидеры рынка.\n",
    "\n",
    " - Кофейни доминируют: Кофейни представлены наибольшим количеством сетей в топ-15, что указывает на высокую конкуренцию и популярность этого формата.\n",
    "\n",
    " - Зависимость рейтинга от размера сети: Крупнейшие сети («Шоколадница», «Домино'с», «Яндекс Лавка») демонстрируют средний рейтинг, в то время как более мелкие сети часто показывают более высокие оценки («Буханка», «Кофемания», «Кулинарная лавка»). Это может говорить о том, что поддерживать высокое качество при массовом масштабировании сложнее."
   ]
  },
  {
   "cell_type": "markdown",
   "id": "85a90a94",
   "metadata": {
    "id": "85a90a94"
   },
   "source": [
    "---\n",
    "\n",
    "### Задача 8\n",
    "\n",
    "Изучаем вариацию среднего чека заведения"
   ]
  },
  {
   "cell_type": "code",
   "execution_count": 46,
   "id": "48d043b2",
   "metadata": {},
   "outputs": [
    {
     "data": {
      "image/png": "[encoded data removed]",
      "text/plain": [
       "<Figure size 1080x432 with 2 Axes>"
      ]
     },
     "metadata": {
      "needs_background": "light"
     },
     "output_type": "display_data"
    }
   ],
   "source": [
    "fig, axes = plt.subplots(1, 2, figsize=(15, 6))\n",
    "\n",
    "# Первая гистограмма - полное распределение\n",
    "axes[0].hist(df['middle_avg_bill'], bins=50, edgecolor='black', alpha=0.7, color='skyblue')\n",
    "axes[0].set_title('Распределение значений среднего чека', fontsize=14)\n",
    "axes[0].set_xlabel('Средний чек', fontsize=12)\n",
    "axes[0].set_ylabel('Количество заведений', fontsize=12)\n",
    "axes[0].grid(True, alpha=0.3)\n",
    "\n",
    "# Вторая гистограмма - увеличенный вид основного диапазона цен\n",
    "# Фильтруем данные для отображения основного диапазона (исключаем крайние выбросы)\n",
    "main_range_data = df[(df['middle_avg_bill'] >= 0) & \n",
    "                                (df['middle_avg_bill'] <= 3500)]\n",
    "\n",
    "axes[1].hist(main_range_data['middle_avg_bill'], bins=50, edgecolor='black', alpha=0.7, color='lightcoral')\n",
    "axes[1].set_title('Распределение значений среднего чека\\n(основной диапазон)', fontsize=14)\n",
    "axes[1].set_xlabel('Средний чек', fontsize=12)\n",
    "axes[1].set_ylabel('Количество заведений', fontsize=12)\n",
    "axes[1].grid(True, alpha=0.3)\n",
    "\n",
    "# Настраиваем layout и отображаем графики\n",
    "plt.tight_layout()\n",
    "plt.show()"
   ]
  },
  {
   "cell_type": "code",
   "execution_count": 47,
   "id": "5fb4ffc6",
   "metadata": {
    "id": "5fb4ffc6"
   },
   "outputs": [
    {
     "data": {
      "image/png": "[encoded data removed]",
      "text/plain": [
       "<Figure size 720x432 with 1 Axes>"
      ]
     },
     "metadata": {
      "needs_background": "light"
     },
     "output_type": "display_data"
    }
   ],
   "source": [
    "plt.figure(figsize=(10, 6))\n",
    "df[df['middle_avg_bill']!= -1].boxplot(column='middle_avg_bill',vert=False)\n",
    "plt.xlabel('Средний чек заведения')\n",
    "plt.title('Распределение значений среднего чека заведения')\n",
    "plt.show()"
   ]
  },
  {
   "cell_type": "code",
   "execution_count": 48,
   "id": "d5f34bcc",
   "metadata": {},
   "outputs": [
    {
     "data": {
      "text/html": [
       "<div>\n",
       "<style scoped>\n",
       "    .dataframe tbody tr th:only-of-type {\n",
       "        vertical-align: middle;\n",
       "    }\n",
       "\n",
       "    .dataframe tbody tr th {\n",
       "        vertical-align: top;\n",
       "    }\n",
       "\n",
       "    .dataframe thead th {\n",
       "        text-align: right;\n",
       "    }\n",
       "</style>\n",
       "<table border=\"1\" class=\"dataframe\">\n",
       "  <thead>\n",
       "    <tr style=\"text-align: right;\">\n",
       "      <th></th>\n",
       "      <th>median</th>\n",
       "      <th>mean</th>\n",
       "    </tr>\n",
       "    <tr>\n",
       "      <th>district</th>\n",
       "      <th></th>\n",
       "      <th></th>\n",
       "    </tr>\n",
       "  </thead>\n",
       "  <tbody>\n",
       "    <tr>\n",
       "      <th>Восточный административный округ</th>\n",
       "      <td>575.0</td>\n",
       "      <td>820.626923</td>\n",
       "    </tr>\n",
       "    <tr>\n",
       "      <th>Западный административный округ</th>\n",
       "      <td>1000.0</td>\n",
       "      <td>1053.225490</td>\n",
       "    </tr>\n",
       "    <tr>\n",
       "      <th>Северный административный округ</th>\n",
       "      <td>650.0</td>\n",
       "      <td>927.959627</td>\n",
       "    </tr>\n",
       "    <tr>\n",
       "      <th>Северо-Восточный административный округ</th>\n",
       "      <td>500.0</td>\n",
       "      <td>716.611296</td>\n",
       "    </tr>\n",
       "    <tr>\n",
       "      <th>Северо-Западный административный округ</th>\n",
       "      <td>700.0</td>\n",
       "      <td>822.222930</td>\n",
       "    </tr>\n",
       "    <tr>\n",
       "      <th>Центральный административный округ</th>\n",
       "      <td>1000.0</td>\n",
       "      <td>1191.057547</td>\n",
       "    </tr>\n",
       "    <tr>\n",
       "      <th>Юго-Восточный административный округ</th>\n",
       "      <td>450.0</td>\n",
       "      <td>654.097938</td>\n",
       "    </tr>\n",
       "    <tr>\n",
       "      <th>Юго-Западный административный округ</th>\n",
       "      <td>600.0</td>\n",
       "      <td>792.561702</td>\n",
       "    </tr>\n",
       "    <tr>\n",
       "      <th>Южный административный округ</th>\n",
       "      <td>500.0</td>\n",
       "      <td>834.398089</td>\n",
       "    </tr>\n",
       "  </tbody>\n",
       "</table>\n",
       "</div>"
      ],
      "text/plain": [
       "                                         median         mean\n",
       "district                                                    \n",
       "Восточный административный округ          575.0   820.626923\n",
       "Западный административный округ          1000.0  1053.225490\n",
       "Северный административный округ           650.0   927.959627\n",
       "Северо-Восточный административный округ   500.0   716.611296\n",
       "Северо-Западный административный округ    700.0   822.222930\n",
       "Центральный административный округ       1000.0  1191.057547\n",
       "Юго-Восточный административный округ      450.0   654.097938\n",
       "Юго-Западный административный округ       600.0   792.561702\n",
       "Южный административный округ              500.0   834.398089"
      ]
     },
     "execution_count": 48,
     "metadata": {},
     "output_type": "execute_result"
    }
   ],
   "source": [
    "df.groupby('district')['middle_avg_bill'].agg(['median', 'mean'])"
   ]
  },
  {
   "cell_type": "code",
   "execution_count": 49,
   "id": "f398568e",
   "metadata": {},
   "outputs": [
    {
     "data": {
      "image/png": "[encoded data removed]",
      "text/plain": [
       "<Figure size 720x432 with 1 Axes>"
      ]
     },
     "metadata": {
      "needs_background": "light"
     },
     "output_type": "display_data"
    }
   ],
   "source": [
    "df.groupby('district').agg( median_bill=('middle_avg_bill', 'median'),mean_bill=('middle_avg_bill', 'mean')).plot(kind='barh',rot=0,edgecolor='black',\n",
    "                                   title='Средний чек и медиана по округам',\n",
    "                                   ylabel='Средний чек, медиана',\n",
    "                                   xlabel='Округ',\n",
    "                                   grid=True,\n",
    "                                   figsize=(10,6))\n",
    "plt.show()"
   ]
  },
  {
   "cell_type": "markdown",
   "id": "6931c5c0",
   "metadata": {
    "id": "9b5e00a5"
   },
   "source": [
    "Исходя из графиков можно сделать вывод, что медианный средний чек в большинстве округов заметно ниже, нежели в Центральном административным округом"
   ]
  },
  {
   "cell_type": "markdown",
   "id": "4fc25f73",
   "metadata": {},
   "source": [
    " - Центральный административный округ: Высокие значения среднего чека могут быть связаны с большим количеством премиальных заведений.\n",
    " - Западный административный округ: Также имеет высокие значения среднего чека, что может быть связано с развитой инфраструктурой и высоким уровнем жизни.\n",
    " - Южный административный округ: Низкие значения среднего чека могут быть связаны с меньшей концентрацией премиальных заведений и более демократичными ценами.\n",
    " - В некоторых округах, таких как Восточный административный округ, Северный административный округ, Южный административный округ заметна большая разница между средним значением и медианой, что говорит о выбросах и подтверждается построенным \"ящиком с усами\"."
   ]
  },
  {
   "cell_type": "markdown",
   "id": "c150bd4f",
   "metadata": {
    "id": "c150bd4f"
   },
   "source": [
    "---\n"
   ]
  },
  {
   "cell_type": "markdown",
   "id": "f2c54e9a",
   "metadata": {
    "id": "f2c54e9a"
   },
   "source": [
    "---\n",
    "\n",
    "### Промежуточный вывод\n",
    "\n",
    "Обобщите полученные результаты, выделив, по вашему мнению, самые важные."
   ]
  },
  {
   "cell_type": "markdown",
   "id": "d368f32a",
   "metadata": {
    "id": "c8869609"
   },
   "source": [
    "1. Распределение заведений по категориям и округам\n",
    "\n",
    " - Категории заведений: Наибольшее количество заведений приходится на категории \"ресторан\", \"бар/паб\" и \"кофейня\". Это подтверждается как табличными данными, так и графиками распределения.\n",
    " - Округа: Центральный административный округ лидирует по количеству заведений, что логично с точки зрения туристической и деловой активности.\n",
    "\n",
    "2. Посадочные места\n",
    "\n",
    " - Типичное количество посадочных мест: Рестораны имеют наибольшее количество посадочных мест, а булочные — наименьшее. Это соответствует специфике форматов заведений.\n",
    " - Распределение: Большинство заведений имеют от 0 до 200 посадочных мест, что характерно для небольших кафе и кофеен.\n",
    "\n",
    "3. Рейтинги заведений\n",
    "\n",
    " - Средние рейтинги: Заведения категорий \"бар/паб\" и \"кофейня\" имеют наивысшие средние рейтинги, что может быть связано с высокой конкуренцией и качеством обслуживания.\n",
    " - Топ сетевых заведений по рейтингу: Сети \"Буханка\", \"Кулинария лавка братьев Караваевых\" и \"Кофемания\" имеют одни из самых высоких средних рейтингов.\n",
    "\n",
    "4. Средний чек\n",
    "\n",
    " - Распределение значений среднего чека: Большинство значений среднего чека сосредоточены в диапазоне от 0 до 5000 рублей, с основным диапазоном от 500 до 1500 рублей.\n",
    " - Основной диапазон: На графике распределения значений среднего чека видно, что основная масса заведений имеет средний чек в пределах 500-1500 рублей.\n",
    " - Выбросы: На графике с усами (boxplot) видны значительные выбросы, что может свидетельствовать о наличии премиальных заведений с высоким средним чеком.\n",
    "\n",
    "5. Корреляция признаков\n",
    "\n",
    " - Матрица корреляции: Выявлена статистически значимая положительная корреляция между ценовой категорией и рейтингом (0,220)\n",
    "\n",
    "6. Сравнение медианы и среднего чека по округам\n",
    "\n",
    " - Центральный административный округ: Имеет самое высокое значение среднего чека, что может быть связано с высокой концентрацией премиальных заведений.\n",
    " - Южный административный округ: Имеет наименьшие значения среднего чека, что может быть связано с меньшей концентрацией премиальных заведений и более демократичными ценами.\n",
    "\n",
    "7. Топ сетевых заведений\n",
    "\n",
    " - Количество заведений: \"Шоколадница\" является крупнейшей сетью с более чем 110 заведениями.\n",
    " - Рейтинг: Сети \"Буханка\" и \"Кофемания\" имеют одни из самых высоких средних рейтингов."
   ]
  },
  {
   "cell_type": "markdown",
   "id": "480f3422",
   "metadata": {
    "id": "480f3422"
   },
   "source": [
    "## 4. Итоговый вывод и рекомендации\n",
    "\n",
    "### Цели и задачи проекта\n",
    "Проведен комплексный исследовательский анализ рынка общественного питания Москвы для определения перспективных направлений инвестирования. Основные задачи включали изучение категорийной структуры заведений, географического распределения, сетевого присутствия, анализа посадочных мест, рейтинговой системы и ценовой политики.\n",
    "\n",
    "### Основные результаты исследования\n",
    "1. Структура рынка\n",
    " - Категорийное распределение: Доминируют кафе (28,3%), рестораны (24,3%) и кофейни (16,8%), что свидетельствует о разнообразии форматов питания в городе\n",
    "\n",
    " - Географическая концентрация: Центральный административный округ лидирует по количеству заведений (26,7%), что объясняется высокой деловой активностью и туристической привлекательностью\n",
    "\n",
    " 2. Сетевое присутствие\n",
    " - Соотношение форматов: 60% заведений являются несетевыми, 40% - сетевыми\n",
    "\n",
    " - Наиболее \"индустриализированные\" категории: Кофейни и пиццерии демонстрируют наибольшую долю сетевых заведений (50-60%), что указывает на хорошую масштабируемость этих форматов\n",
    "\n",
    " 3. Анализ вместимости\n",
    " - Типичная вместимость: Рестораны имеют наибольшее количество посадочных мест (медиана - 60 мест), булочные - наименьшее (медиана - 10 мест)\n",
    "\n",
    " - Выбросы: Обнаружены во всех категориях, наиболее значительные - в категории \"ресторан\", что может быть связано с заведениями в крупных торгово-развлекательных комплексах\n",
    "\n",
    " 4. Рейтинги заведений\n",
    " - Средние показатели: Общий средний рейтинг по Москве составляет 4,23 из 5,0\n",
    "\n",
    " - Лидеры по категориям: Бары/пабы (4,39) и пиццерии (4,30) демонстрируют наивысшие средние рейтинги\n",
    "\n",
    " - Корреляционный анализ: Выявлена статистически значимая положительная корреляция между ценовой категорией и рейтингом (0,220)\n",
    "\n",
    " - Ценовая зависимость: Заведения с высокими ценами показывают наивысший рейтинг (4,437), низкие цены ассоциированы с более низкими оценками (4,173)\n",
    "\n",
    " 5. Ценовой анализ\n",
    " - Средний чек: Основная масса заведений имеет средний чек в диапазоне 500-1500 рублей\n",
    "\n",
    " - Географическая дифференциация: Центральный округ показывает значительно более высокие ценовые показатели (медиана - 1000 рублей) по сравнению с периферийными округами\n",
    "\n",
    " - Ценовые outliers: Обнаружены премиальные заведения с чеком свыше 5000 рублей, преимущественно в ЦАО\n",
    "\n",
    "6. Топ сетевых заведений\n",
    " - По количеству: Шоколадница (119 заведений), Домино'с Пицца (76), Додо Пицца (74)\n",
    "\n",
    " - По рейтингу: Буханка (4,42), Кофемания (4,46), Кулинарная лавка братьев Караваевых (4,39)\n",
    "\n",
    "### Влияние предобработки данных на результаты\n",
    " - Проведенная предобработка, включая обработку пропусков (42% в данных о посадочных местах) и удаление дубликатов, обеспечила достоверность результатов. Учтена природа пропусков (MNAR, MAR), что позволило сохранить репрезентативность данных для анализа.\n",
    "\n",
    "### Рекомендации для инвесторов\n",
    " - Приоритетный формат: Сетевая кофейня - оптимальное сочетание масштабируемости и потребительского спроса\n",
    "\n",
    " - Локация: ЦАО - для премиального позиционирования, другие округа - для демократичного формата\n",
    "\n",
    " - Ценовой сегмент: 400-500 рублей в ЦАО заполнит нишу между премиумом и бюджетными вариантами\n",
    "\n",
    " - Ценовая стратегия: Установление цен выше среднего может способствовать более высоким рейтингам\n",
    "\n",
    " - Операционная модель: Акцент на технологичность обслуживания для повышения рейтингов"
   ]
  }
 ],
 "metadata": {
  "ExecuteTimeLog": [
   {
    "duration": 62,
    "start_time": "2025-09-03T08:34:39.732Z"
   },
   {
    "duration": 48,
    "start_time": "2025-09-03T09:01:31.540Z"
   },
   {
    "duration": 389,
    "start_time": "2025-09-03T09:01:37.948Z"
   },
   {
    "duration": 430,
    "start_time": "2025-09-03T09:01:38.597Z"
   },
   {
    "duration": 469,
    "start_time": "2025-09-03T09:01:39.207Z"
   },
   {
    "duration": 54,
    "start_time": "2025-09-03T09:01:41.564Z"
   },
   {
    "duration": 24,
    "start_time": "2025-09-03T09:02:18.457Z"
   },
   {
    "duration": 14,
    "start_time": "2025-09-03T09:02:33.537Z"
   },
   {
    "duration": 10,
    "start_time": "2025-09-03T09:02:57.200Z"
   },
   {
    "duration": 14,
    "start_time": "2025-09-03T09:03:47.890Z"
   },
   {
    "duration": 9,
    "start_time": "2025-09-03T09:04:06.187Z"
   },
   {
    "duration": 83,
    "start_time": "2025-09-03T09:12:43.316Z"
   },
   {
    "duration": 11,
    "start_time": "2025-09-03T09:18:49.327Z"
   },
   {
    "duration": 14,
    "start_time": "2025-09-03T09:18:56.380Z"
   },
   {
    "duration": 12,
    "start_time": "2025-09-03T09:21:16.530Z"
   },
   {
    "duration": 15,
    "start_time": "2025-09-03T09:21:18.332Z"
   },
   {
    "duration": 14,
    "start_time": "2025-09-03T09:22:40.093Z"
   },
   {
    "duration": 67,
    "start_time": "2025-09-03T09:26:43.544Z"
   },
   {
    "duration": 6,
    "start_time": "2025-09-03T09:26:56.016Z"
   },
   {
    "duration": 13,
    "start_time": "2025-09-03T09:27:04.851Z"
   },
   {
    "duration": 5,
    "start_time": "2025-09-03T09:31:35.880Z"
   },
   {
    "duration": 5,
    "start_time": "2025-09-03T09:32:11.428Z"
   },
   {
    "duration": 4,
    "start_time": "2025-09-03T09:32:33.044Z"
   },
   {
    "duration": 4,
    "start_time": "2025-09-03T09:32:50.745Z"
   },
   {
    "duration": 5,
    "start_time": "2025-09-03T09:33:41.343Z"
   },
   {
    "duration": 5,
    "start_time": "2025-09-03T09:34:10.907Z"
   },
   {
    "duration": 4,
    "start_time": "2025-09-03T09:34:17.543Z"
   },
   {
    "duration": 4,
    "start_time": "2025-09-03T09:35:02.182Z"
   },
   {
    "duration": 5,
    "start_time": "2025-09-03T09:35:23.670Z"
   },
   {
    "duration": 4,
    "start_time": "2025-09-03T09:38:07.347Z"
   },
   {
    "duration": 4,
    "start_time": "2025-09-03T09:38:59.528Z"
   },
   {
    "duration": 4,
    "start_time": "2025-09-03T09:39:29.302Z"
   },
   {
    "duration": 6,
    "start_time": "2025-09-03T09:42:22.372Z"
   },
   {
    "duration": 15,
    "start_time": "2025-09-03T09:43:17.597Z"
   },
   {
    "duration": 9,
    "start_time": "2025-09-03T09:43:43.969Z"
   },
   {
    "duration": 11,
    "start_time": "2025-09-03T10:29:39.101Z"
   },
   {
    "duration": 62,
    "start_time": "2025-09-03T10:30:51.585Z"
   },
   {
    "duration": 10,
    "start_time": "2025-09-03T10:31:00.683Z"
   },
   {
    "duration": 23,
    "start_time": "2025-09-03T10:36:48.704Z"
   },
   {
    "duration": 13,
    "start_time": "2025-09-03T10:37:59.462Z"
   },
   {
    "duration": 11,
    "start_time": "2025-09-03T10:39:08.237Z"
   },
   {
    "duration": 8,
    "start_time": "2025-09-03T10:41:49.509Z"
   },
   {
    "duration": 11,
    "start_time": "2025-09-03T10:42:13.317Z"
   },
   {
    "duration": 4,
    "start_time": "2025-09-03T10:44:46.085Z"
   },
   {
    "duration": 5,
    "start_time": "2025-09-03T10:45:04.686Z"
   },
   {
    "duration": 20,
    "start_time": "2025-09-03T10:45:11.369Z"
   },
   {
    "duration": 11,
    "start_time": "2025-09-03T10:45:40.155Z"
   },
   {
    "duration": 5,
    "start_time": "2025-09-03T10:46:41.818Z"
   },
   {
    "duration": 7,
    "start_time": "2025-09-03T10:52:13.279Z"
   },
   {
    "duration": 4,
    "start_time": "2025-09-03T10:52:14.076Z"
   },
   {
    "duration": 5,
    "start_time": "2025-09-03T10:52:19.757Z"
   },
   {
    "duration": 7,
    "start_time": "2025-09-03T10:52:24.749Z"
   },
   {
    "duration": 64,
    "start_time": "2025-09-03T10:55:22.336Z"
   },
   {
    "duration": 69,
    "start_time": "2025-09-03T10:56:58.142Z"
   },
   {
    "duration": 14,
    "start_time": "2025-09-03T11:37:15.158Z"
   },
   {
    "duration": 22,
    "start_time": "2025-09-03T11:39:18.046Z"
   },
   {
    "duration": 5,
    "start_time": "2025-09-03T11:40:35.200Z"
   },
   {
    "duration": 5,
    "start_time": "2025-09-03T11:42:47.578Z"
   },
   {
    "duration": 5,
    "start_time": "2025-09-03T11:43:20.902Z"
   },
   {
    "duration": 13,
    "start_time": "2025-09-03T11:43:37.983Z"
   },
   {
    "duration": 5,
    "start_time": "2025-09-03T11:43:58.915Z"
   },
   {
    "duration": 5,
    "start_time": "2025-09-03T11:44:07.262Z"
   },
   {
    "duration": 4,
    "start_time": "2025-09-03T11:49:20.420Z"
   },
   {
    "duration": 5,
    "start_time": "2025-09-03T11:50:00.548Z"
   },
   {
    "duration": 8,
    "start_time": "2025-09-03T11:52:14.890Z"
   },
   {
    "duration": 5,
    "start_time": "2025-09-03T11:53:06.941Z"
   },
   {
    "duration": 5,
    "start_time": "2025-09-03T11:53:23.130Z"
   },
   {
    "duration": 11,
    "start_time": "2025-09-03T11:53:44.210Z"
   },
   {
    "duration": 844,
    "start_time": "2025-09-03T11:54:35.170Z"
   },
   {
    "duration": 6,
    "start_time": "2025-09-03T11:54:50.299Z"
   },
   {
    "duration": 5,
    "start_time": "2025-09-03T11:55:43.038Z"
   },
   {
    "duration": 12,
    "start_time": "2025-09-03T11:55:51.075Z"
   },
   {
    "duration": 5,
    "start_time": "2025-09-03T11:56:32.162Z"
   },
   {
    "duration": 9,
    "start_time": "2025-09-03T12:11:10.461Z"
   },
   {
    "duration": 11,
    "start_time": "2025-09-03T12:11:19.194Z"
   },
   {
    "duration": 15,
    "start_time": "2025-09-03T12:11:27.709Z"
   },
   {
    "duration": 11,
    "start_time": "2025-09-03T12:19:03.639Z"
   },
   {
    "duration": 3,
    "start_time": "2025-09-03T12:19:42.119Z"
   },
   {
    "duration": 3,
    "start_time": "2025-09-03T12:20:06.428Z"
   },
   {
    "duration": 410,
    "start_time": "2025-09-04T20:17:04.058Z"
   },
   {
    "duration": 223,
    "start_time": "2025-09-04T20:17:04.471Z"
   },
   {
    "duration": 457,
    "start_time": "2025-09-04T20:17:04.696Z"
   },
   {
    "duration": 63,
    "start_time": "2025-09-04T20:17:05.204Z"
   },
   {
    "duration": 27,
    "start_time": "2025-09-04T20:17:05.650Z"
   },
   {
    "duration": 28,
    "start_time": "2025-09-04T20:17:05.866Z"
   },
   {
    "duration": 19,
    "start_time": "2025-09-04T20:17:06.206Z"
   },
   {
    "duration": 10,
    "start_time": "2025-09-04T20:17:07.136Z"
   },
   {
    "duration": 8,
    "start_time": "2025-09-04T20:17:07.535Z"
   },
   {
    "duration": 9,
    "start_time": "2025-09-04T20:17:09.139Z"
   },
   {
    "duration": 22,
    "start_time": "2025-09-04T20:17:09.474Z"
   },
   {
    "duration": 13,
    "start_time": "2025-09-04T20:17:09.800Z"
   },
   {
    "duration": 7,
    "start_time": "2025-09-04T20:17:10.438Z"
   },
   {
    "duration": 5,
    "start_time": "2025-09-04T20:17:11.036Z"
   },
   {
    "duration": 5,
    "start_time": "2025-09-04T20:17:11.235Z"
   },
   {
    "duration": 6,
    "start_time": "2025-09-04T20:17:11.653Z"
   },
   {
    "duration": 4,
    "start_time": "2025-09-04T20:17:12.064Z"
   },
   {
    "duration": 8,
    "start_time": "2025-09-04T20:17:12.275Z"
   },
   {
    "duration": 11,
    "start_time": "2025-09-04T20:17:12.690Z"
   },
   {
    "duration": 4,
    "start_time": "2025-09-04T20:17:13.130Z"
   },
   {
    "duration": 5,
    "start_time": "2025-09-04T20:17:13.343Z"
   },
   {
    "duration": 10,
    "start_time": "2025-09-04T20:17:13.747Z"
   },
   {
    "duration": 10,
    "start_time": "2025-09-04T20:17:14.170Z"
   },
   {
    "duration": 6,
    "start_time": "2025-09-04T20:17:14.389Z"
   },
   {
    "duration": 6,
    "start_time": "2025-09-04T20:17:14.798Z"
   },
   {
    "duration": 4,
    "start_time": "2025-09-04T20:17:15.217Z"
   },
   {
    "duration": 4,
    "start_time": "2025-09-04T20:17:15.426Z"
   },
   {
    "duration": 21,
    "start_time": "2025-09-04T20:17:15.850Z"
   },
   {
    "duration": 51,
    "start_time": "2025-09-04T20:17:16.052Z"
   },
   {
    "duration": 4,
    "start_time": "2025-09-04T20:17:16.263Z"
   },
   {
    "duration": 4,
    "start_time": "2025-09-04T20:17:16.465Z"
   },
   {
    "duration": 5,
    "start_time": "2025-09-04T20:17:17.097Z"
   },
   {
    "duration": 7,
    "start_time": "2025-09-04T20:17:17.318Z"
   },
   {
    "duration": 5,
    "start_time": "2025-09-04T20:17:17.554Z"
   },
   {
    "duration": 5,
    "start_time": "2025-09-04T20:17:17.814Z"
   },
   {
    "duration": 9,
    "start_time": "2025-09-04T20:17:18.085Z"
   },
   {
    "duration": 9,
    "start_time": "2025-09-04T20:17:18.535Z"
   },
   {
    "duration": 13,
    "start_time": "2025-09-04T20:17:18.768Z"
   },
   {
    "duration": 10,
    "start_time": "2025-09-04T20:17:30.314Z"
   },
   {
    "duration": 52,
    "start_time": "2025-09-04T20:18:25.860Z"
   },
   {
    "duration": 4,
    "start_time": "2025-09-04T20:18:39.303Z"
   },
   {
    "duration": 6,
    "start_time": "2025-09-04T20:18:41.688Z"
   },
   {
    "duration": 7,
    "start_time": "2025-09-04T20:18:47.583Z"
   },
   {
    "duration": 399,
    "start_time": "2025-09-05T15:40:53.969Z"
   },
   {
    "duration": 428,
    "start_time": "2025-09-05T15:40:54.370Z"
   },
   {
    "duration": 613,
    "start_time": "2025-09-05T15:40:54.800Z"
   },
   {
    "duration": 60,
    "start_time": "2025-09-05T15:40:55.415Z"
   },
   {
    "duration": 25,
    "start_time": "2025-09-05T15:40:55.477Z"
   },
   {
    "duration": 58,
    "start_time": "2025-09-05T15:40:55.504Z"
   },
   {
    "duration": 68,
    "start_time": "2025-09-05T15:40:55.564Z"
   },
   {
    "duration": 12,
    "start_time": "2025-09-05T15:40:55.821Z"
   },
   {
    "duration": 10,
    "start_time": "2025-09-05T15:40:56.758Z"
   },
   {
    "duration": 12,
    "start_time": "2025-09-05T15:40:58.545Z"
   },
   {
    "duration": 15,
    "start_time": "2025-09-05T15:40:58.762Z"
   },
   {
    "duration": 16,
    "start_time": "2025-09-05T15:40:58.986Z"
   },
   {
    "duration": 9,
    "start_time": "2025-09-05T15:40:59.890Z"
   },
   {
    "duration": 5,
    "start_time": "2025-09-05T15:41:00.467Z"
   },
   {
    "duration": 5,
    "start_time": "2025-09-05T15:41:00.663Z"
   },
   {
    "duration": 9,
    "start_time": "2025-09-05T15:41:01.051Z"
   },
   {
    "duration": 6,
    "start_time": "2025-09-05T15:41:01.485Z"
   },
   {
    "duration": 7,
    "start_time": "2025-09-05T15:41:01.664Z"
   },
   {
    "duration": 10,
    "start_time": "2025-09-05T15:41:02.101Z"
   },
   {
    "duration": 5,
    "start_time": "2025-09-05T15:41:02.481Z"
   },
   {
    "duration": 6,
    "start_time": "2025-09-05T15:41:02.681Z"
   },
   {
    "duration": 13,
    "start_time": "2025-09-05T15:41:03.086Z"
   },
   {
    "duration": 6,
    "start_time": "2025-09-05T15:41:03.501Z"
   },
   {
    "duration": 5,
    "start_time": "2025-09-05T15:41:03.719Z"
   },
   {
    "duration": 7,
    "start_time": "2025-09-05T15:41:04.122Z"
   },
   {
    "duration": 5,
    "start_time": "2025-09-05T15:41:04.583Z"
   },
   {
    "duration": 5,
    "start_time": "2025-09-05T15:41:04.776Z"
   },
   {
    "duration": 25,
    "start_time": "2025-09-05T15:41:06.173Z"
   },
   {
    "duration": 5,
    "start_time": "2025-09-05T15:41:23.792Z"
   },
   {
    "duration": 5,
    "start_time": "2025-09-05T15:41:24.485Z"
   },
   {
    "duration": 5,
    "start_time": "2025-09-05T15:41:27.778Z"
   },
   {
    "duration": 7,
    "start_time": "2025-09-05T15:41:28.000Z"
   },
   {
    "duration": 6,
    "start_time": "2025-09-05T15:41:30.676Z"
   },
   {
    "duration": 5,
    "start_time": "2025-09-05T15:41:31.077Z"
   },
   {
    "duration": 6,
    "start_time": "2025-09-05T15:41:31.300Z"
   },
   {
    "duration": 10,
    "start_time": "2025-09-05T15:41:35.082Z"
   },
   {
    "duration": 14,
    "start_time": "2025-09-05T15:41:35.681Z"
   },
   {
    "duration": 13,
    "start_time": "2025-09-05T15:41:43.154Z"
   },
   {
    "duration": 51,
    "start_time": "2025-09-05T15:41:46.620Z"
   },
   {
    "duration": 12,
    "start_time": "2025-09-05T15:43:21.478Z"
   },
   {
    "duration": 412,
    "start_time": "2025-09-05T15:45:29.697Z"
   },
   {
    "duration": 259,
    "start_time": "2025-09-05T15:45:30.112Z"
   },
   {
    "duration": 545,
    "start_time": "2025-09-05T15:45:30.373Z"
   },
   {
    "duration": 61,
    "start_time": "2025-09-05T15:45:32.880Z"
   },
   {
    "duration": 26,
    "start_time": "2025-09-05T15:45:33.330Z"
   },
   {
    "duration": 16,
    "start_time": "2025-09-05T15:45:33.572Z"
   },
   {
    "duration": 16,
    "start_time": "2025-09-05T15:45:33.830Z"
   },
   {
    "duration": 12,
    "start_time": "2025-09-05T15:45:34.038Z"
   },
   {
    "duration": 11,
    "start_time": "2025-09-05T15:45:34.265Z"
   },
   {
    "duration": 11,
    "start_time": "2025-09-05T15:45:38.131Z"
   },
   {
    "duration": 15,
    "start_time": "2025-09-05T15:45:38.342Z"
   },
   {
    "duration": 16,
    "start_time": "2025-09-05T15:45:38.564Z"
   },
   {
    "duration": 8,
    "start_time": "2025-09-05T15:45:39.212Z"
   },
   {
    "duration": 6,
    "start_time": "2025-09-05T15:45:39.844Z"
   },
   {
    "duration": 5,
    "start_time": "2025-09-05T15:45:40.032Z"
   },
   {
    "duration": 8,
    "start_time": "2025-09-05T15:45:40.406Z"
   },
   {
    "duration": 5,
    "start_time": "2025-09-05T15:45:40.836Z"
   },
   {
    "duration": 5,
    "start_time": "2025-09-05T15:45:41.059Z"
   },
   {
    "duration": 10,
    "start_time": "2025-09-05T15:45:41.522Z"
   },
   {
    "duration": 5,
    "start_time": "2025-09-05T15:45:41.917Z"
   },
   {
    "duration": 6,
    "start_time": "2025-09-05T15:45:42.106Z"
   },
   {
    "duration": 19,
    "start_time": "2025-09-05T15:45:42.488Z"
   },
   {
    "duration": 5,
    "start_time": "2025-09-05T15:45:42.887Z"
   },
   {
    "duration": 5,
    "start_time": "2025-09-05T15:45:43.131Z"
   },
   {
    "duration": 7,
    "start_time": "2025-09-05T15:45:43.747Z"
   },
   {
    "duration": 5,
    "start_time": "2025-09-05T15:45:44.334Z"
   },
   {
    "duration": 5,
    "start_time": "2025-09-05T15:45:44.541Z"
   },
   {
    "duration": 25,
    "start_time": "2025-09-05T15:45:45.022Z"
   },
   {
    "duration": 6,
    "start_time": "2025-09-05T15:45:45.321Z"
   },
   {
    "duration": 7,
    "start_time": "2025-09-05T15:45:45.598Z"
   },
   {
    "duration": 6,
    "start_time": "2025-09-05T15:45:46.254Z"
   },
   {
    "duration": 9,
    "start_time": "2025-09-05T15:45:46.468Z"
   },
   {
    "duration": 8,
    "start_time": "2025-09-05T15:45:46.670Z"
   },
   {
    "duration": 6,
    "start_time": "2025-09-05T15:45:46.884Z"
   },
   {
    "duration": 7,
    "start_time": "2025-09-05T15:45:47.133Z"
   },
   {
    "duration": 11,
    "start_time": "2025-09-05T15:45:47.547Z"
   },
   {
    "duration": 13,
    "start_time": "2025-09-05T15:45:50.330Z"
   },
   {
    "duration": 24,
    "start_time": "2025-09-05T15:45:54.541Z"
   },
   {
    "duration": 18,
    "start_time": "2025-09-05T15:46:39.745Z"
   },
   {
    "duration": 28,
    "start_time": "2025-09-05T15:48:08.326Z"
   },
   {
    "duration": 0,
    "start_time": "2025-09-05T15:49:05.064Z"
   },
   {
    "duration": 0,
    "start_time": "2025-09-05T15:49:05.066Z"
   },
   {
    "duration": 4,
    "start_time": "2025-09-05T15:49:07.863Z"
   },
   {
    "duration": 14,
    "start_time": "2025-09-05T15:49:25.471Z"
   },
   {
    "duration": 0,
    "start_time": "2025-09-05T15:51:04.864Z"
   },
   {
    "duration": 0,
    "start_time": "2025-09-05T15:51:19.874Z"
   },
   {
    "duration": 53,
    "start_time": "2025-09-05T15:51:29.972Z"
   },
   {
    "duration": 394,
    "start_time": "2025-09-05T15:51:38.402Z"
   },
   {
    "duration": 265,
    "start_time": "2025-09-05T15:51:38.798Z"
   },
   {
    "duration": 553,
    "start_time": "2025-09-05T15:51:39.065Z"
   },
   {
    "duration": 64,
    "start_time": "2025-09-05T15:51:39.620Z"
   },
   {
    "duration": 26,
    "start_time": "2025-09-05T15:51:39.685Z"
   },
   {
    "duration": 27,
    "start_time": "2025-09-05T15:51:39.714Z"
   },
   {
    "duration": 24,
    "start_time": "2025-09-05T15:51:39.744Z"
   },
   {
    "duration": 14,
    "start_time": "2025-09-05T15:51:39.895Z"
   },
   {
    "duration": 10,
    "start_time": "2025-09-05T15:51:40.101Z"
   },
   {
    "duration": 11,
    "start_time": "2025-09-05T15:51:41.083Z"
   },
   {
    "duration": 13,
    "start_time": "2025-09-05T15:51:41.286Z"
   },
   {
    "duration": 16,
    "start_time": "2025-09-05T15:51:43.682Z"
   },
   {
    "duration": 8,
    "start_time": "2025-09-05T15:51:44.230Z"
   },
   {
    "duration": 5,
    "start_time": "2025-09-05T15:51:44.799Z"
   },
   {
    "duration": 8,
    "start_time": "2025-09-05T15:51:44.971Z"
   },
   {
    "duration": 11,
    "start_time": "2025-09-05T15:51:45.336Z"
   },
   {
    "duration": 6,
    "start_time": "2025-09-05T15:51:45.686Z"
   },
   {
    "duration": 5,
    "start_time": "2025-09-05T15:51:45.871Z"
   },
   {
    "duration": 13,
    "start_time": "2025-09-05T15:51:46.240Z"
   },
   {
    "duration": 5,
    "start_time": "2025-09-05T15:51:46.596Z"
   },
   {
    "duration": 5,
    "start_time": "2025-09-05T15:51:46.782Z"
   },
   {
    "duration": 13,
    "start_time": "2025-09-05T15:51:47.154Z"
   },
   {
    "duration": 6,
    "start_time": "2025-09-05T15:51:47.506Z"
   },
   {
    "duration": 5,
    "start_time": "2025-09-05T15:51:47.684Z"
   },
   {
    "duration": 7,
    "start_time": "2025-09-05T15:51:48.055Z"
   },
   {
    "duration": 5,
    "start_time": "2025-09-05T15:51:48.599Z"
   },
   {
    "duration": 5,
    "start_time": "2025-09-05T15:51:48.781Z"
   },
   {
    "duration": 26,
    "start_time": "2025-09-05T15:51:49.174Z"
   },
   {
    "duration": 5,
    "start_time": "2025-09-05T15:51:49.596Z"
   },
   {
    "duration": 5,
    "start_time": "2025-09-05T15:51:49.779Z"
   },
   {
    "duration": 6,
    "start_time": "2025-09-05T15:51:50.404Z"
   },
   {
    "duration": 9,
    "start_time": "2025-09-05T15:51:50.593Z"
   },
   {
    "duration": 7,
    "start_time": "2025-09-05T15:51:50.785Z"
   },
   {
    "duration": 6,
    "start_time": "2025-09-05T15:51:50.986Z"
   },
   {
    "duration": 7,
    "start_time": "2025-09-05T15:51:51.173Z"
   },
   {
    "duration": 11,
    "start_time": "2025-09-05T15:51:51.568Z"
   },
   {
    "duration": 14,
    "start_time": "2025-09-05T15:51:51.748Z"
   },
   {
    "duration": 12,
    "start_time": "2025-09-05T15:51:53.618Z"
   },
   {
    "duration": 43954,
    "start_time": "2025-09-05T15:51:54.107Z"
   },
   {
    "duration": 44317,
    "start_time": "2025-09-05T15:53:32.849Z"
   },
   {
    "duration": 190,
    "start_time": "2025-09-05T15:56:37.044Z"
   },
   {
    "duration": 197,
    "start_time": "2025-09-05T15:56:54.756Z"
   },
   {
    "duration": 237,
    "start_time": "2025-09-05T16:00:36.545Z"
   },
   {
    "duration": 281,
    "start_time": "2025-09-05T16:00:44.513Z"
   },
   {
    "duration": 306,
    "start_time": "2025-09-05T16:00:59.547Z"
   },
   {
    "duration": 292,
    "start_time": "2025-09-05T16:01:13.510Z"
   },
   {
    "duration": 1364,
    "start_time": "2025-09-05T16:04:06.111Z"
   },
   {
    "duration": 143,
    "start_time": "2025-09-05T16:09:51.483Z"
   },
   {
    "duration": 58,
    "start_time": "2025-09-05T16:10:52.215Z"
   },
   {
    "duration": 164,
    "start_time": "2025-09-05T16:10:56.055Z"
   },
   {
    "duration": 145,
    "start_time": "2025-09-05T16:11:16.576Z"
   },
   {
    "duration": 151,
    "start_time": "2025-09-05T16:14:16.594Z"
   },
   {
    "duration": 140,
    "start_time": "2025-09-05T16:14:56.281Z"
   },
   {
    "duration": 141,
    "start_time": "2025-09-05T16:15:13.858Z"
   },
   {
    "duration": 221,
    "start_time": "2025-09-05T16:16:13.370Z"
   },
   {
    "duration": 260,
    "start_time": "2025-09-05T16:16:36.128Z"
   },
   {
    "duration": 256,
    "start_time": "2025-09-05T16:16:45.581Z"
   },
   {
    "duration": 275,
    "start_time": "2025-09-05T16:16:59.476Z"
   },
   {
    "duration": 406,
    "start_time": "2025-09-05T16:17:23.091Z"
   },
   {
    "duration": 321,
    "start_time": "2025-09-05T16:19:54.825Z"
   },
   {
    "duration": 323,
    "start_time": "2025-09-05T16:20:47.258Z"
   },
   {
    "duration": 316,
    "start_time": "2025-09-05T16:21:09.321Z"
   },
   {
    "duration": 162,
    "start_time": "2025-09-05T16:22:01.568Z"
   },
   {
    "duration": 163,
    "start_time": "2025-09-05T16:23:01.033Z"
   },
   {
    "duration": 176,
    "start_time": "2025-09-05T16:23:34.051Z"
   },
   {
    "duration": 177,
    "start_time": "2025-09-05T16:23:47.857Z"
   },
   {
    "duration": 252,
    "start_time": "2025-09-05T16:24:14.710Z"
   },
   {
    "duration": 192,
    "start_time": "2025-09-05T16:24:29.227Z"
   },
   {
    "duration": 130,
    "start_time": "2025-09-05T16:38:40.176Z"
   },
   {
    "duration": 249,
    "start_time": "2025-09-05T16:39:16.888Z"
   },
   {
    "duration": 55,
    "start_time": "2025-09-05T16:52:38.924Z"
   },
   {
    "duration": 312,
    "start_time": "2025-09-05T16:52:44.658Z"
   },
   {
    "duration": 213,
    "start_time": "2025-09-05T16:53:53.158Z"
   },
   {
    "duration": 56,
    "start_time": "2025-09-05T16:54:12.223Z"
   },
   {
    "duration": 210,
    "start_time": "2025-09-05T16:54:16.090Z"
   },
   {
    "duration": 402,
    "start_time": "2025-09-06T10:27:36.303Z"
   },
   {
    "duration": 420,
    "start_time": "2025-09-06T10:27:36.707Z"
   },
   {
    "duration": 535,
    "start_time": "2025-09-06T10:27:37.129Z"
   },
   {
    "duration": 67,
    "start_time": "2025-09-06T10:27:37.670Z"
   },
   {
    "duration": 23,
    "start_time": "2025-09-06T10:27:37.738Z"
   },
   {
    "duration": 19,
    "start_time": "2025-09-06T10:27:37.763Z"
   },
   {
    "duration": 25,
    "start_time": "2025-09-06T10:27:37.784Z"
   },
   {
    "duration": 12,
    "start_time": "2025-09-06T10:27:37.811Z"
   },
   {
    "duration": 9,
    "start_time": "2025-09-06T10:27:37.951Z"
   },
   {
    "duration": 13,
    "start_time": "2025-09-06T10:27:39.087Z"
   },
   {
    "duration": 15,
    "start_time": "2025-09-06T10:27:39.295Z"
   },
   {
    "duration": 25,
    "start_time": "2025-09-06T10:27:39.471Z"
   },
   {
    "duration": 8,
    "start_time": "2025-09-06T10:27:40.063Z"
   },
   {
    "duration": 7,
    "start_time": "2025-09-06T10:27:40.670Z"
   },
   {
    "duration": 7,
    "start_time": "2025-09-06T10:27:40.836Z"
   },
   {
    "duration": 7,
    "start_time": "2025-09-06T10:27:41.219Z"
   },
   {
    "duration": 4,
    "start_time": "2025-09-06T10:27:41.625Z"
   },
   {
    "duration": 4,
    "start_time": "2025-09-06T10:27:41.826Z"
   },
   {
    "duration": 8,
    "start_time": "2025-09-06T10:27:42.223Z"
   },
   {
    "duration": 4,
    "start_time": "2025-09-06T10:27:42.623Z"
   },
   {
    "duration": 7,
    "start_time": "2025-09-06T10:27:42.873Z"
   },
   {
    "duration": 18,
    "start_time": "2025-09-06T10:27:43.281Z"
   },
   {
    "duration": 4,
    "start_time": "2025-09-06T10:27:43.665Z"
   },
   {
    "duration": 7,
    "start_time": "2025-09-06T10:27:43.873Z"
   },
   {
    "duration": 8,
    "start_time": "2025-09-06T10:27:44.282Z"
   },
   {
    "duration": 6,
    "start_time": "2025-09-06T10:27:44.691Z"
   },
   {
    "duration": 5,
    "start_time": "2025-09-06T10:27:44.866Z"
   },
   {
    "duration": 21,
    "start_time": "2025-09-06T10:27:45.221Z"
   },
   {
    "duration": 4,
    "start_time": "2025-09-06T10:27:45.629Z"
   },
   {
    "duration": 5,
    "start_time": "2025-09-06T10:27:45.833Z"
   },
   {
    "duration": 5,
    "start_time": "2025-09-06T10:27:46.414Z"
   },
   {
    "duration": 7,
    "start_time": "2025-09-06T10:27:46.608Z"
   },
   {
    "duration": 5,
    "start_time": "2025-09-06T10:27:46.819Z"
   },
   {
    "duration": 6,
    "start_time": "2025-09-06T10:27:47.017Z"
   },
   {
    "duration": 6,
    "start_time": "2025-09-06T10:27:47.204Z"
   },
   {
    "duration": 9,
    "start_time": "2025-09-06T10:27:47.616Z"
   },
   {
    "duration": 12,
    "start_time": "2025-09-06T10:27:48.156Z"
   },
   {
    "duration": 177,
    "start_time": "2025-09-06T10:27:50.919Z"
   },
   {
    "duration": 247,
    "start_time": "2025-09-06T10:27:52.583Z"
   },
   {
    "duration": 157,
    "start_time": "2025-09-06T10:27:52.932Z"
   },
   {
    "duration": 130,
    "start_time": "2025-09-06T10:27:53.683Z"
   },
   {
    "duration": 340,
    "start_time": "2025-09-06T10:27:56.027Z"
   },
   {
    "duration": 224,
    "start_time": "2025-09-06T10:27:58.576Z"
   },
   {
    "duration": 186,
    "start_time": "2025-09-06T10:27:59.257Z"
   },
   {
    "duration": 286,
    "start_time": "2025-09-06T10:38:31.584Z"
   },
   {
    "duration": 32,
    "start_time": "2025-09-06T10:44:35.582Z"
   },
   {
    "duration": 7,
    "start_time": "2025-09-06T10:50:49.918Z"
   },
   {
    "duration": 153,
    "start_time": "2025-09-06T10:54:24.289Z"
   },
   {
    "duration": 53,
    "start_time": "2025-09-06T10:54:38.741Z"
   },
   {
    "duration": 171,
    "start_time": "2025-09-06T10:54:47.683Z"
   },
   {
    "duration": 2990,
    "start_time": "2025-09-06T10:57:53.479Z"
   },
   {
    "duration": 97,
    "start_time": "2025-09-06T10:59:38.012Z"
   },
   {
    "duration": 11,
    "start_time": "2025-09-06T11:02:28.227Z"
   },
   {
    "duration": 485,
    "start_time": "2025-09-06T11:03:44.075Z"
   },
   {
    "duration": 499,
    "start_time": "2025-09-06T11:04:16.027Z"
   },
   {
    "duration": 479,
    "start_time": "2025-09-06T11:04:45.060Z"
   },
   {
    "duration": 493,
    "start_time": "2025-09-06T11:04:52.957Z"
   },
   {
    "duration": 475,
    "start_time": "2025-09-06T11:07:27.134Z"
   },
   {
    "duration": 731,
    "start_time": "2025-09-06T11:08:00.445Z"
   },
   {
    "duration": 493,
    "start_time": "2025-09-06T11:08:53.662Z"
   },
   {
    "duration": 144,
    "start_time": "2025-09-06T11:10:42.733Z"
   },
   {
    "duration": 155,
    "start_time": "2025-09-06T11:11:14.420Z"
   },
   {
    "duration": 139,
    "start_time": "2025-09-06T11:13:53.291Z"
   },
   {
    "duration": 152,
    "start_time": "2025-09-06T11:16:33.393Z"
   },
   {
    "duration": 340,
    "start_time": "2025-09-06T12:03:48.816Z"
   },
   {
    "duration": 211,
    "start_time": "2025-09-06T12:03:49.158Z"
   },
   {
    "duration": 487,
    "start_time": "2025-09-06T12:03:49.371Z"
   },
   {
    "duration": 2151,
    "start_time": "2025-09-06T12:03:49.970Z"
   },
   {
    "duration": 64,
    "start_time": "2025-09-06T12:03:53.408Z"
   },
   {
    "duration": 23,
    "start_time": "2025-09-06T12:03:53.750Z"
   },
   {
    "duration": 15,
    "start_time": "2025-09-06T12:03:53.980Z"
   },
   {
    "duration": 15,
    "start_time": "2025-09-06T12:03:55.391Z"
   },
   {
    "duration": 11,
    "start_time": "2025-09-06T12:03:56.632Z"
   },
   {
    "duration": 9,
    "start_time": "2025-09-06T12:03:57.897Z"
   },
   {
    "duration": 9,
    "start_time": "2025-09-06T12:04:03.371Z"
   },
   {
    "duration": 5,
    "start_time": "2025-09-06T12:04:17.609Z"
   },
   {
    "duration": 13,
    "start_time": "2025-09-06T12:04:28.427Z"
   },
   {
    "duration": 7,
    "start_time": "2025-09-06T12:04:28.993Z"
   },
   {
    "duration": 5,
    "start_time": "2025-09-06T12:04:29.534Z"
   },
   {
    "duration": 5,
    "start_time": "2025-09-06T12:04:29.714Z"
   },
   {
    "duration": 7,
    "start_time": "2025-09-06T12:04:30.067Z"
   },
   {
    "duration": 4,
    "start_time": "2025-09-06T12:04:30.445Z"
   },
   {
    "duration": 4,
    "start_time": "2025-09-06T12:04:30.621Z"
   },
   {
    "duration": 8,
    "start_time": "2025-09-06T12:04:31.000Z"
   },
   {
    "duration": 5,
    "start_time": "2025-09-06T12:04:31.398Z"
   },
   {
    "duration": 4,
    "start_time": "2025-09-06T12:04:31.598Z"
   },
   {
    "duration": 11,
    "start_time": "2025-09-06T12:04:31.954Z"
   },
   {
    "duration": 5,
    "start_time": "2025-09-06T12:04:32.333Z"
   },
   {
    "duration": 4,
    "start_time": "2025-09-06T12:04:32.527Z"
   },
   {
    "duration": 6,
    "start_time": "2025-09-06T12:04:32.939Z"
   },
   {
    "duration": 4,
    "start_time": "2025-09-06T12:04:33.327Z"
   },
   {
    "duration": 4,
    "start_time": "2025-09-06T12:04:33.536Z"
   },
   {
    "duration": 23,
    "start_time": "2025-09-06T12:04:33.942Z"
   },
   {
    "duration": 4,
    "start_time": "2025-09-06T12:04:34.344Z"
   },
   {
    "duration": 5,
    "start_time": "2025-09-06T12:04:34.527Z"
   },
   {
    "duration": 5,
    "start_time": "2025-09-06T12:04:35.136Z"
   },
   {
    "duration": 7,
    "start_time": "2025-09-06T12:04:35.317Z"
   },
   {
    "duration": 6,
    "start_time": "2025-09-06T12:04:35.531Z"
   },
   {
    "duration": 5,
    "start_time": "2025-09-06T12:04:35.731Z"
   },
   {
    "duration": 6,
    "start_time": "2025-09-06T12:04:35.916Z"
   },
   {
    "duration": 13,
    "start_time": "2025-09-06T12:04:36.310Z"
   },
   {
    "duration": 12,
    "start_time": "2025-09-06T12:04:36.512Z"
   },
   {
    "duration": 171,
    "start_time": "2025-09-06T12:04:37.523Z"
   },
   {
    "duration": 215,
    "start_time": "2025-09-06T12:04:38.211Z"
   },
   {
    "duration": 148,
    "start_time": "2025-09-06T12:04:38.457Z"
   },
   {
    "duration": 131,
    "start_time": "2025-09-06T12:04:38.873Z"
   },
   {
    "duration": 294,
    "start_time": "2025-09-06T12:04:40.501Z"
   },
   {
    "duration": 206,
    "start_time": "2025-09-06T12:04:41.511Z"
   },
   {
    "duration": 175,
    "start_time": "2025-09-06T12:04:41.900Z"
   },
   {
    "duration": 99,
    "start_time": "2025-09-06T12:04:42.322Z"
   },
   {
    "duration": 149,
    "start_time": "2025-09-06T12:04:44.803Z"
   },
   {
    "duration": 522,
    "start_time": "2025-09-06T12:04:47.137Z"
   },
   {
    "duration": 155,
    "start_time": "2025-09-06T12:04:48.746Z"
   },
   {
    "duration": 900,
    "start_time": "2025-09-06T12:07:06.437Z"
   },
   {
    "duration": 17,
    "start_time": "2025-09-06T12:08:26.584Z"
   },
   {
    "duration": 16,
    "start_time": "2025-09-06T12:08:39.436Z"
   },
   {
    "duration": 16,
    "start_time": "2025-09-06T12:09:06.172Z"
   },
   {
    "duration": 19,
    "start_time": "2025-09-06T12:10:51.719Z"
   },
   {
    "duration": 2,
    "start_time": "2025-09-06T12:11:05.017Z"
   },
   {
    "duration": 2,
    "start_time": "2025-09-06T12:11:05.201Z"
   },
   {
    "duration": 2,
    "start_time": "2025-09-06T12:11:05.386Z"
   },
   {
    "duration": 2174,
    "start_time": "2025-09-06T12:11:05.603Z"
   },
   {
    "duration": 54,
    "start_time": "2025-09-06T12:11:07.780Z"
   },
   {
    "duration": 24,
    "start_time": "2025-09-06T12:11:07.836Z"
   },
   {
    "duration": 13,
    "start_time": "2025-09-06T12:11:07.862Z"
   },
   {
    "duration": 21,
    "start_time": "2025-09-06T12:11:07.877Z"
   },
   {
    "duration": 11,
    "start_time": "2025-09-06T12:11:07.900Z"
   },
   {
    "duration": 8,
    "start_time": "2025-09-06T12:11:07.913Z"
   },
   {
    "duration": 9,
    "start_time": "2025-09-06T12:11:07.924Z"
   },
   {
    "duration": 12,
    "start_time": "2025-09-06T12:11:08.110Z"
   },
   {
    "duration": 14,
    "start_time": "2025-09-06T12:11:08.307Z"
   },
   {
    "duration": 6,
    "start_time": "2025-09-06T12:11:08.917Z"
   },
   {
    "duration": 5,
    "start_time": "2025-09-06T12:11:09.516Z"
   },
   {
    "duration": 5,
    "start_time": "2025-09-06T12:11:09.694Z"
   },
   {
    "duration": 6,
    "start_time": "2025-09-06T12:11:10.080Z"
   },
   {
    "duration": 4,
    "start_time": "2025-09-06T12:11:10.479Z"
   },
   {
    "duration": 4,
    "start_time": "2025-09-06T12:11:10.669Z"
   },
   {
    "duration": 9,
    "start_time": "2025-09-06T12:11:11.119Z"
   },
   {
    "duration": 5,
    "start_time": "2025-09-06T12:11:11.500Z"
   },
   {
    "duration": 4,
    "start_time": "2025-09-06T12:11:11.715Z"
   },
   {
    "duration": 12,
    "start_time": "2025-09-06T12:11:12.102Z"
   },
   {
    "duration": 5,
    "start_time": "2025-09-06T12:11:12.537Z"
   },
   {
    "duration": 5,
    "start_time": "2025-09-06T12:11:12.749Z"
   },
   {
    "duration": 6,
    "start_time": "2025-09-06T12:11:13.143Z"
   },
   {
    "duration": 4,
    "start_time": "2025-09-06T12:11:13.540Z"
   },
   {
    "duration": 4,
    "start_time": "2025-09-06T12:11:13.752Z"
   },
   {
    "duration": 22,
    "start_time": "2025-09-06T12:11:14.154Z"
   },
   {
    "duration": 4,
    "start_time": "2025-09-06T12:11:14.561Z"
   },
   {
    "duration": 5,
    "start_time": "2025-09-06T12:11:14.746Z"
   },
   {
    "duration": 6,
    "start_time": "2025-09-06T12:11:15.352Z"
   },
   {
    "duration": 8,
    "start_time": "2025-09-06T12:11:15.710Z"
   },
   {
    "duration": 7,
    "start_time": "2025-09-06T12:11:15.918Z"
   },
   {
    "duration": 6,
    "start_time": "2025-09-06T12:11:16.146Z"
   },
   {
    "duration": 7,
    "start_time": "2025-09-06T12:11:16.346Z"
   },
   {
    "duration": 11,
    "start_time": "2025-09-06T12:11:16.810Z"
   },
   {
    "duration": 13,
    "start_time": "2025-09-06T12:11:17.022Z"
   },
   {
    "duration": 163,
    "start_time": "2025-09-06T12:11:18.110Z"
   },
   {
    "duration": 231,
    "start_time": "2025-09-06T12:11:18.716Z"
   },
   {
    "duration": 158,
    "start_time": "2025-09-06T12:11:18.950Z"
   },
   {
    "duration": 126,
    "start_time": "2025-09-06T12:11:19.333Z"
   },
   {
    "duration": 279,
    "start_time": "2025-09-06T12:11:19.539Z"
   },
   {
    "duration": 207,
    "start_time": "2025-09-06T12:11:20.176Z"
   },
   {
    "duration": 265,
    "start_time": "2025-09-06T12:11:20.394Z"
   },
   {
    "duration": 33,
    "start_time": "2025-09-06T12:11:20.661Z"
   },
   {
    "duration": 153,
    "start_time": "2025-09-06T12:11:21.250Z"
   },
   {
    "duration": 463,
    "start_time": "2025-09-06T12:11:21.995Z"
   },
   {
    "duration": 140,
    "start_time": "2025-09-06T12:11:22.459Z"
   },
   {
    "duration": 16,
    "start_time": "2025-09-06T12:11:23.686Z"
   },
   {
    "duration": 16,
    "start_time": "2025-09-06T12:12:42.208Z"
   },
   {
    "duration": 42,
    "start_time": "2025-09-06T12:13:26.433Z"
   },
   {
    "duration": 17,
    "start_time": "2025-09-06T12:14:21.794Z"
   },
   {
    "duration": 20,
    "start_time": "2025-09-06T12:14:57.877Z"
   },
   {
    "duration": 21,
    "start_time": "2025-09-06T12:15:17.067Z"
   },
   {
    "duration": 19,
    "start_time": "2025-09-06T12:16:01.099Z"
   },
   {
    "duration": 18,
    "start_time": "2025-09-06T12:16:42.185Z"
   },
   {
    "duration": 14,
    "start_time": "2025-09-06T12:18:39.936Z"
   },
   {
    "duration": 14,
    "start_time": "2025-09-06T12:18:45.775Z"
   },
   {
    "duration": 21,
    "start_time": "2025-09-06T12:19:02.776Z"
   },
   {
    "duration": 21,
    "start_time": "2025-09-06T12:19:25.828Z"
   },
   {
    "duration": 21,
    "start_time": "2025-09-06T12:19:52.312Z"
   },
   {
    "duration": 385,
    "start_time": "2025-09-06T12:20:04.278Z"
   },
   {
    "duration": 211,
    "start_time": "2025-09-06T12:20:04.666Z"
   },
   {
    "duration": 487,
    "start_time": "2025-09-06T12:20:04.878Z"
   },
   {
    "duration": 2213,
    "start_time": "2025-09-06T12:20:05.366Z"
   },
   {
    "duration": 57,
    "start_time": "2025-09-06T12:20:07.583Z"
   },
   {
    "duration": 23,
    "start_time": "2025-09-06T12:20:07.641Z"
   },
   {
    "duration": 14,
    "start_time": "2025-09-06T12:20:07.666Z"
   },
   {
    "duration": 14,
    "start_time": "2025-09-06T12:20:07.681Z"
   },
   {
    "duration": 10,
    "start_time": "2025-09-06T12:20:07.696Z"
   },
   {
    "duration": 8,
    "start_time": "2025-09-06T12:20:07.708Z"
   },
   {
    "duration": 12,
    "start_time": "2025-09-06T12:20:07.717Z"
   },
   {
    "duration": 16,
    "start_time": "2025-09-06T12:20:07.755Z"
   },
   {
    "duration": 13,
    "start_time": "2025-09-06T12:20:08.006Z"
   },
   {
    "duration": 7,
    "start_time": "2025-09-06T12:20:08.980Z"
   },
   {
    "duration": 5,
    "start_time": "2025-09-06T12:20:10.602Z"
   },
   {
    "duration": 342,
    "start_time": "2025-09-06T12:20:27.220Z"
   },
   {
    "duration": 200,
    "start_time": "2025-09-06T12:20:27.563Z"
   },
   {
    "duration": 477,
    "start_time": "2025-09-06T12:20:27.765Z"
   },
   {
    "duration": 2250,
    "start_time": "2025-09-06T12:20:28.243Z"
   },
   {
    "duration": 54,
    "start_time": "2025-09-06T12:20:30.495Z"
   },
   {
    "duration": 24,
    "start_time": "2025-09-06T12:20:30.551Z"
   },
   {
    "duration": 14,
    "start_time": "2025-09-06T12:20:30.576Z"
   },
   {
    "duration": 43,
    "start_time": "2025-09-06T12:20:30.591Z"
   },
   {
    "duration": 58,
    "start_time": "2025-09-06T12:20:30.636Z"
   },
   {
    "duration": 10,
    "start_time": "2025-09-06T12:20:33.658Z"
   },
   {
    "duration": 10,
    "start_time": "2025-09-06T12:20:35.792Z"
   },
   {
    "duration": 13,
    "start_time": "2025-09-06T12:20:36.240Z"
   },
   {
    "duration": 13,
    "start_time": "2025-09-06T12:20:37.022Z"
   },
   {
    "duration": 51,
    "start_time": "2025-09-06T12:20:58.039Z"
   },
   {
    "duration": 7,
    "start_time": "2025-09-06T12:21:09.536Z"
   },
   {
    "duration": 5,
    "start_time": "2025-09-06T12:21:10.563Z"
   },
   {
    "duration": 5,
    "start_time": "2025-09-06T12:21:10.761Z"
   },
   {
    "duration": 7,
    "start_time": "2025-09-06T12:21:11.183Z"
   },
   {
    "duration": 4,
    "start_time": "2025-09-06T12:21:11.634Z"
   },
   {
    "duration": 4,
    "start_time": "2025-09-06T12:21:11.829Z"
   },
   {
    "duration": 9,
    "start_time": "2025-09-06T12:21:12.306Z"
   },
   {
    "duration": 4,
    "start_time": "2025-09-06T12:21:12.742Z"
   },
   {
    "duration": 5,
    "start_time": "2025-09-06T12:21:12.957Z"
   },
   {
    "duration": 11,
    "start_time": "2025-09-06T12:21:13.390Z"
   },
   {
    "duration": 5,
    "start_time": "2025-09-06T12:21:13.847Z"
   },
   {
    "duration": 4,
    "start_time": "2025-09-06T12:21:14.074Z"
   },
   {
    "duration": 6,
    "start_time": "2025-09-06T12:21:14.492Z"
   },
   {
    "duration": 4,
    "start_time": "2025-09-06T12:21:14.895Z"
   },
   {
    "duration": 5,
    "start_time": "2025-09-06T12:21:15.080Z"
   },
   {
    "duration": 22,
    "start_time": "2025-09-06T12:21:15.520Z"
   },
   {
    "duration": 4,
    "start_time": "2025-09-06T12:21:15.970Z"
   },
   {
    "duration": 4,
    "start_time": "2025-09-06T12:21:16.184Z"
   },
   {
    "duration": 5,
    "start_time": "2025-09-06T12:21:16.834Z"
   },
   {
    "duration": 7,
    "start_time": "2025-09-06T12:21:17.028Z"
   },
   {
    "duration": 6,
    "start_time": "2025-09-06T12:21:17.242Z"
   },
   {
    "duration": 5,
    "start_time": "2025-09-06T12:21:17.441Z"
   },
   {
    "duration": 6,
    "start_time": "2025-09-06T12:21:17.642Z"
   },
   {
    "duration": 9,
    "start_time": "2025-09-06T12:21:18.060Z"
   },
   {
    "duration": 11,
    "start_time": "2025-09-06T12:21:18.259Z"
   },
   {
    "duration": 174,
    "start_time": "2025-09-06T12:21:19.236Z"
   },
   {
    "duration": 217,
    "start_time": "2025-09-06T12:21:19.647Z"
   },
   {
    "duration": 156,
    "start_time": "2025-09-06T12:21:19.871Z"
   },
   {
    "duration": 129,
    "start_time": "2025-09-06T12:21:20.261Z"
   },
   {
    "duration": 297,
    "start_time": "2025-09-06T12:21:20.486Z"
   },
   {
    "duration": 210,
    "start_time": "2025-09-06T12:21:21.412Z"
   },
   {
    "duration": 173,
    "start_time": "2025-09-06T12:21:21.880Z"
   },
   {
    "duration": 98,
    "start_time": "2025-09-06T12:21:22.119Z"
   },
   {
    "duration": 148,
    "start_time": "2025-09-06T12:21:23.195Z"
   },
   {
    "duration": 511,
    "start_time": "2025-09-06T12:21:24.135Z"
   },
   {
    "duration": 145,
    "start_time": "2025-09-06T12:21:24.647Z"
   },
   {
    "duration": 20,
    "start_time": "2025-09-06T12:21:26.527Z"
   },
   {
    "duration": 20,
    "start_time": "2025-09-06T12:21:30.728Z"
   },
   {
    "duration": 21,
    "start_time": "2025-09-06T12:21:41.130Z"
   },
   {
    "duration": 23,
    "start_time": "2025-09-06T12:22:04.271Z"
   },
   {
    "duration": 22,
    "start_time": "2025-09-06T12:22:15.873Z"
   },
   {
    "duration": 23,
    "start_time": "2025-09-06T12:23:39.796Z"
   },
   {
    "duration": 17,
    "start_time": "2025-09-06T12:28:32.555Z"
   },
   {
    "duration": 20,
    "start_time": "2025-09-06T12:31:01.476Z"
   },
   {
    "duration": 20,
    "start_time": "2025-09-06T12:32:36.330Z"
   },
   {
    "duration": 20,
    "start_time": "2025-09-06T12:33:19.559Z"
   },
   {
    "duration": 19,
    "start_time": "2025-09-06T12:34:10.434Z"
   },
   {
    "duration": 24,
    "start_time": "2025-09-06T12:34:49.326Z"
   },
   {
    "duration": 21,
    "start_time": "2025-09-06T12:35:01.758Z"
   },
   {
    "duration": 20,
    "start_time": "2025-09-06T12:36:07.495Z"
   },
   {
    "duration": 389,
    "start_time": "2025-09-06T13:47:38.007Z"
   },
   {
    "duration": 233,
    "start_time": "2025-09-06T13:47:38.398Z"
   },
   {
    "duration": 533,
    "start_time": "2025-09-06T13:47:38.633Z"
   },
   {
    "duration": 2339,
    "start_time": "2025-09-06T13:47:39.172Z"
   },
   {
    "duration": 56,
    "start_time": "2025-09-06T13:47:41.513Z"
   },
   {
    "duration": 29,
    "start_time": "2025-09-06T13:47:41.571Z"
   },
   {
    "duration": 13,
    "start_time": "2025-09-06T13:47:41.602Z"
   },
   {
    "duration": 14,
    "start_time": "2025-09-06T13:47:41.910Z"
   },
   {
    "duration": 14,
    "start_time": "2025-09-06T13:47:42.486Z"
   },
   {
    "duration": 16,
    "start_time": "2025-09-06T13:47:43.287Z"
   },
   {
    "duration": 15,
    "start_time": "2025-09-06T13:47:56.074Z"
   },
   {
    "duration": 24,
    "start_time": "2025-09-06T13:47:57.772Z"
   },
   {
    "duration": 14,
    "start_time": "2025-09-06T13:47:58.237Z"
   },
   {
    "duration": 9,
    "start_time": "2025-09-06T13:47:58.853Z"
   },
   {
    "duration": 5,
    "start_time": "2025-09-06T13:47:59.451Z"
   },
   {
    "duration": 5,
    "start_time": "2025-09-06T13:47:59.653Z"
   },
   {
    "duration": 9,
    "start_time": "2025-09-06T13:48:00.037Z"
   },
   {
    "duration": 4,
    "start_time": "2025-09-06T13:48:00.424Z"
   },
   {
    "duration": 4,
    "start_time": "2025-09-06T13:48:00.621Z"
   },
   {
    "duration": 120,
    "start_time": "2025-09-06T13:48:01.050Z"
   },
   {
    "duration": 4,
    "start_time": "2025-09-06T13:48:01.461Z"
   },
   {
    "duration": 8,
    "start_time": "2025-09-06T13:48:01.675Z"
   },
   {
    "duration": 16,
    "start_time": "2025-09-06T13:48:02.083Z"
   },
   {
    "duration": 7,
    "start_time": "2025-09-06T13:48:02.480Z"
   },
   {
    "duration": 7,
    "start_time": "2025-09-06T13:48:02.678Z"
   },
   {
    "duration": 6,
    "start_time": "2025-09-06T13:48:03.101Z"
   },
   {
    "duration": 5,
    "start_time": "2025-09-06T13:48:03.504Z"
   },
   {
    "duration": 4,
    "start_time": "2025-09-06T13:48:03.721Z"
   },
   {
    "duration": 23,
    "start_time": "2025-09-06T13:48:04.150Z"
   },
   {
    "duration": 7,
    "start_time": "2025-09-06T13:48:04.575Z"
   },
   {
    "duration": 4,
    "start_time": "2025-09-06T13:48:04.794Z"
   },
   {
    "duration": 5,
    "start_time": "2025-09-06T13:48:05.434Z"
   },
   {
    "duration": 7,
    "start_time": "2025-09-06T13:48:05.639Z"
   },
   {
    "duration": 6,
    "start_time": "2025-09-06T13:48:05.862Z"
   },
   {
    "duration": 7,
    "start_time": "2025-09-06T13:48:06.072Z"
   },
   {
    "duration": 8,
    "start_time": "2025-09-06T13:48:06.281Z"
   },
   {
    "duration": 9,
    "start_time": "2025-09-06T13:48:06.736Z"
   },
   {
    "duration": 12,
    "start_time": "2025-09-06T13:48:07.157Z"
   },
   {
    "duration": 194,
    "start_time": "2025-09-06T13:48:09.934Z"
   },
   {
    "duration": 255,
    "start_time": "2025-09-06T13:48:16.642Z"
   },
   {
    "duration": 171,
    "start_time": "2025-09-06T13:48:16.928Z"
   },
   {
    "duration": 138,
    "start_time": "2025-09-06T13:48:17.388Z"
   },
   {
    "duration": 302,
    "start_time": "2025-09-06T13:48:17.597Z"
   },
   {
    "duration": 235,
    "start_time": "2025-09-06T13:48:20.388Z"
   },
   {
    "duration": 201,
    "start_time": "2025-09-06T13:48:24.120Z"
   },
   {
    "duration": 108,
    "start_time": "2025-09-06T13:48:25.499Z"
   },
   {
    "duration": 170,
    "start_time": "2025-09-06T13:48:31.706Z"
   },
   {
    "duration": 467,
    "start_time": "2025-09-06T13:48:33.707Z"
   },
   {
    "duration": 139,
    "start_time": "2025-09-06T13:48:41.403Z"
   },
   {
    "duration": 28,
    "start_time": "2025-09-06T13:48:46.220Z"
   },
   {
    "duration": 20,
    "start_time": "2025-09-06T13:48:50.694Z"
   },
   {
    "duration": 15,
    "start_time": "2025-09-06T13:49:10.785Z"
   },
   {
    "duration": 14,
    "start_time": "2025-09-06T13:50:02.190Z"
   },
   {
    "duration": 9,
    "start_time": "2025-09-06T13:50:08.800Z"
   },
   {
    "duration": 4,
    "start_time": "2025-09-06T13:50:09.992Z"
   },
   {
    "duration": 4,
    "start_time": "2025-09-06T13:50:10.447Z"
   },
   {
    "duration": 17,
    "start_time": "2025-09-06T13:50:11.081Z"
   },
   {
    "duration": 4,
    "start_time": "2025-09-06T13:50:11.498Z"
   },
   {
    "duration": 5,
    "start_time": "2025-09-06T13:50:11.695Z"
   },
   {
    "duration": 8,
    "start_time": "2025-09-06T13:50:12.082Z"
   },
   {
    "duration": 4,
    "start_time": "2025-09-06T13:50:12.462Z"
   },
   {
    "duration": 4,
    "start_time": "2025-09-06T13:50:12.660Z"
   },
   {
    "duration": 23,
    "start_time": "2025-09-06T13:50:13.056Z"
   },
   {
    "duration": 5,
    "start_time": "2025-09-06T13:50:15.562Z"
   },
   {
    "duration": 5,
    "start_time": "2025-09-06T13:50:15.768Z"
   },
   {
    "duration": 6,
    "start_time": "2025-09-06T13:50:16.373Z"
   },
   {
    "duration": 11,
    "start_time": "2025-09-06T13:50:16.571Z"
   },
   {
    "duration": 10,
    "start_time": "2025-09-06T13:50:16.777Z"
   },
   {
    "duration": 7,
    "start_time": "2025-09-06T13:50:16.990Z"
   },
   {
    "duration": 7,
    "start_time": "2025-09-06T13:50:17.193Z"
   },
   {
    "duration": 8,
    "start_time": "2025-09-06T13:50:17.608Z"
   },
   {
    "duration": 12,
    "start_time": "2025-09-06T13:50:19.041Z"
   },
   {
    "duration": 156,
    "start_time": "2025-09-06T13:50:20.160Z"
   },
   {
    "duration": 236,
    "start_time": "2025-09-06T13:50:21.119Z"
   },
   {
    "duration": 162,
    "start_time": "2025-09-06T13:50:21.511Z"
   },
   {
    "duration": 136,
    "start_time": "2025-09-06T13:50:22.472Z"
   },
   {
    "duration": 305,
    "start_time": "2025-09-06T13:50:23.413Z"
   },
   {
    "duration": 224,
    "start_time": "2025-09-06T13:50:25.510Z"
   },
   {
    "duration": 265,
    "start_time": "2025-09-06T13:50:26.515Z"
   },
   {
    "duration": 29,
    "start_time": "2025-09-06T13:50:27.498Z"
   },
   {
    "duration": 154,
    "start_time": "2025-09-06T13:50:29.295Z"
   },
   {
    "duration": 480,
    "start_time": "2025-09-06T13:50:30.421Z"
   },
   {
    "duration": 162,
    "start_time": "2025-09-06T13:50:31.045Z"
   },
   {
    "duration": 22,
    "start_time": "2025-09-06T13:50:33.219Z"
   },
   {
    "duration": 18,
    "start_time": "2025-09-06T13:50:34.205Z"
   },
   {
    "duration": 11,
    "start_time": "2025-09-06T13:50:39.689Z"
   },
   {
    "duration": 12,
    "start_time": "2025-09-06T13:50:43.443Z"
   },
   {
    "duration": 8,
    "start_time": "2025-09-06T13:50:56.009Z"
   },
   {
    "duration": 12,
    "start_time": "2025-09-06T13:51:13.901Z"
   },
   {
    "duration": 5,
    "start_time": "2025-09-06T13:52:21.718Z"
   },
   {
    "duration": 4,
    "start_time": "2025-09-06T13:52:24.142Z"
   },
   {
    "duration": 8,
    "start_time": "2025-09-06T13:52:30.105Z"
   },
   {
    "duration": 6,
    "start_time": "2025-09-06T13:52:34.677Z"
   },
   {
    "duration": 3,
    "start_time": "2025-09-06T13:52:35.443Z"
   },
   {
    "duration": 8,
    "start_time": "2025-09-06T13:52:36.551Z"
   },
   {
    "duration": 4,
    "start_time": "2025-09-06T13:52:56.119Z"
   },
   {
    "duration": 5,
    "start_time": "2025-09-06T13:52:58.510Z"
   },
   {
    "duration": 8,
    "start_time": "2025-09-06T13:53:00.553Z"
   },
   {
    "duration": 65,
    "start_time": "2025-09-06T13:53:46.738Z"
   },
   {
    "duration": 45,
    "start_time": "2025-09-06T13:54:05.757Z"
   },
   {
    "duration": 58,
    "start_time": "2025-09-06T13:54:18.719Z"
   },
   {
    "duration": 11,
    "start_time": "2025-09-06T13:54:26.366Z"
   },
   {
    "duration": 4,
    "start_time": "2025-09-06T13:54:42.360Z"
   },
   {
    "duration": 21,
    "start_time": "2025-09-06T13:55:58.479Z"
   },
   {
    "duration": 24,
    "start_time": "2025-09-06T13:56:01.028Z"
   },
   {
    "duration": 14,
    "start_time": "2025-09-06T13:56:59.582Z"
   },
   {
    "duration": 8,
    "start_time": "2025-09-06T13:57:01.634Z"
   },
   {
    "duration": 11,
    "start_time": "2025-09-06T13:57:19.197Z"
   },
   {
    "duration": 19,
    "start_time": "2025-09-06T13:59:11.808Z"
   },
   {
    "duration": 6,
    "start_time": "2025-09-06T14:00:00.016Z"
   },
   {
    "duration": 15,
    "start_time": "2025-09-06T14:00:02.290Z"
   },
   {
    "duration": 19,
    "start_time": "2025-09-06T14:00:04.367Z"
   },
   {
    "duration": 4,
    "start_time": "2025-09-06T14:00:04.700Z"
   },
   {
    "duration": 9,
    "start_time": "2025-09-06T14:00:04.874Z"
   },
   {
    "duration": 11,
    "start_time": "2025-09-06T14:00:05.201Z"
   },
   {
    "duration": 5,
    "start_time": "2025-09-06T14:00:05.541Z"
   },
   {
    "duration": 4,
    "start_time": "2025-09-06T14:00:05.709Z"
   },
   {
    "duration": 6,
    "start_time": "2025-09-06T14:00:06.056Z"
   },
   {
    "duration": 5,
    "start_time": "2025-09-06T14:00:06.424Z"
   },
   {
    "duration": 4,
    "start_time": "2025-09-06T14:00:06.600Z"
   },
   {
    "duration": 32,
    "start_time": "2025-09-06T14:00:06.962Z"
   },
   {
    "duration": 5,
    "start_time": "2025-09-06T14:00:07.351Z"
   },
   {
    "duration": 4,
    "start_time": "2025-09-06T14:00:07.541Z"
   },
   {
    "duration": 5,
    "start_time": "2025-09-06T14:00:08.123Z"
   },
   {
    "duration": 6,
    "start_time": "2025-09-06T14:00:08.308Z"
   },
   {
    "duration": 5,
    "start_time": "2025-09-06T14:00:08.501Z"
   },
   {
    "duration": 9,
    "start_time": "2025-09-06T14:00:08.687Z"
   },
   {
    "duration": 10,
    "start_time": "2025-09-06T14:00:08.873Z"
   },
   {
    "duration": 8,
    "start_time": "2025-09-06T14:00:09.235Z"
   },
   {
    "duration": 11,
    "start_time": "2025-09-06T14:00:09.444Z"
   },
   {
    "duration": 160,
    "start_time": "2025-09-06T14:00:10.381Z"
   },
   {
    "duration": 247,
    "start_time": "2025-09-06T14:00:10.781Z"
   },
   {
    "duration": 181,
    "start_time": "2025-09-06T14:00:11.031Z"
   },
   {
    "duration": 139,
    "start_time": "2025-09-06T14:00:11.393Z"
   },
   {
    "duration": 313,
    "start_time": "2025-09-06T14:00:11.590Z"
   },
   {
    "duration": 248,
    "start_time": "2025-09-06T14:00:12.169Z"
   },
   {
    "duration": 288,
    "start_time": "2025-09-06T14:00:12.419Z"
   },
   {
    "duration": 28,
    "start_time": "2025-09-06T14:00:12.709Z"
   },
   {
    "duration": 165,
    "start_time": "2025-09-06T14:00:13.181Z"
   },
   {
    "duration": 509,
    "start_time": "2025-09-06T14:00:13.756Z"
   },
   {
    "duration": 156,
    "start_time": "2025-09-06T14:00:14.270Z"
   },
   {
    "duration": 24,
    "start_time": "2025-09-06T14:00:15.346Z"
   },
   {
    "duration": 20,
    "start_time": "2025-09-06T14:00:15.545Z"
   },
   {
    "duration": 22,
    "start_time": "2025-09-06T14:00:16.101Z"
   },
   {
    "duration": 10,
    "start_time": "2025-09-06T14:06:51.063Z"
   },
   {
    "duration": 13,
    "start_time": "2025-09-06T14:06:51.707Z"
   },
   {
    "duration": 57,
    "start_time": "2025-09-06T14:27:20.743Z"
   },
   {
    "duration": 7,
    "start_time": "2025-09-06T14:27:21.146Z"
   },
   {
    "duration": 404,
    "start_time": "2025-09-06T14:27:27.187Z"
   },
   {
    "duration": 212,
    "start_time": "2025-09-06T14:27:27.594Z"
   },
   {
    "duration": 519,
    "start_time": "2025-09-06T14:27:27.808Z"
   },
   {
    "duration": 2324,
    "start_time": "2025-09-06T14:27:28.328Z"
   },
   {
    "duration": 74,
    "start_time": "2025-09-06T14:27:30.654Z"
   },
   {
    "duration": 24,
    "start_time": "2025-09-06T14:27:30.729Z"
   },
   {
    "duration": 13,
    "start_time": "2025-09-06T14:27:30.755Z"
   },
   {
    "duration": 21,
    "start_time": "2025-09-06T14:27:30.770Z"
   },
   {
    "duration": 11,
    "start_time": "2025-09-06T14:27:30.792Z"
   },
   {
    "duration": 16,
    "start_time": "2025-09-06T14:27:30.804Z"
   },
   {
    "duration": 12,
    "start_time": "2025-09-06T14:27:30.822Z"
   },
   {
    "duration": 18,
    "start_time": "2025-09-06T14:27:30.835Z"
   },
   {
    "duration": 22,
    "start_time": "2025-09-06T14:27:30.855Z"
   },
   {
    "duration": 10,
    "start_time": "2025-09-06T14:27:33.190Z"
   },
   {
    "duration": 5,
    "start_time": "2025-09-06T14:27:34.006Z"
   },
   {
    "duration": 5,
    "start_time": "2025-09-06T14:27:34.012Z"
   },
   {
    "duration": 8,
    "start_time": "2025-09-06T14:27:34.295Z"
   },
   {
    "duration": 6,
    "start_time": "2025-09-06T14:27:34.985Z"
   },
   {
    "duration": 4,
    "start_time": "2025-09-06T14:27:35.258Z"
   },
   {
    "duration": 78,
    "start_time": "2025-09-06T14:27:36.689Z"
   },
   {
    "duration": 13,
    "start_time": "2025-09-06T14:27:39.533Z"
   },
   {
    "duration": 4,
    "start_time": "2025-09-06T14:27:42.298Z"
   },
   {
    "duration": 7,
    "start_time": "2025-09-06T14:27:43.077Z"
   },
   {
    "duration": 13,
    "start_time": "2025-09-06T14:27:44.056Z"
   },
   {
    "duration": 4,
    "start_time": "2025-09-06T14:27:44.522Z"
   },
   {
    "duration": 4,
    "start_time": "2025-09-06T14:27:44.737Z"
   },
   {
    "duration": 6,
    "start_time": "2025-09-06T14:27:45.697Z"
   },
   {
    "duration": 5,
    "start_time": "2025-09-06T14:27:46.356Z"
   },
   {
    "duration": 4,
    "start_time": "2025-09-06T14:27:46.819Z"
   },
   {
    "duration": 25,
    "start_time": "2025-09-06T14:27:48.812Z"
   },
   {
    "duration": 5,
    "start_time": "2025-09-06T14:27:49.318Z"
   },
   {
    "duration": 4,
    "start_time": "2025-09-06T14:27:49.532Z"
   },
   {
    "duration": 9,
    "start_time": "2025-09-06T14:27:50.171Z"
   },
   {
    "duration": 13,
    "start_time": "2025-09-06T14:27:50.381Z"
   },
   {
    "duration": 6,
    "start_time": "2025-09-06T14:27:51.998Z"
   },
   {
    "duration": 8,
    "start_time": "2025-09-06T14:27:53.190Z"
   },
   {
    "duration": 5,
    "start_time": "2025-09-06T14:27:56.258Z"
   },
   {
    "duration": 21,
    "start_time": "2025-09-06T14:28:10.276Z"
   },
   {
    "duration": 3,
    "start_time": "2025-09-06T14:31:22.374Z"
   },
   {
    "duration": 11,
    "start_time": "2025-09-06T14:31:24.430Z"
   },
   {
    "duration": 2,
    "start_time": "2025-09-06T14:31:27.526Z"
   },
   {
    "duration": 3,
    "start_time": "2025-09-06T14:31:28.958Z"
   },
   {
    "duration": 450,
    "start_time": "2025-09-06T14:31:37.054Z"
   },
   {
    "duration": 228,
    "start_time": "2025-09-06T14:31:37.505Z"
   },
   {
    "duration": 516,
    "start_time": "2025-09-06T14:31:37.734Z"
   },
   {
    "duration": 2307,
    "start_time": "2025-09-06T14:31:38.252Z"
   },
   {
    "duration": 57,
    "start_time": "2025-09-06T14:31:40.561Z"
   },
   {
    "duration": 23,
    "start_time": "2025-09-06T14:31:40.620Z"
   },
   {
    "duration": 24,
    "start_time": "2025-09-06T14:31:40.645Z"
   },
   {
    "duration": 21,
    "start_time": "2025-09-06T14:31:40.670Z"
   },
   {
    "duration": 10,
    "start_time": "2025-09-06T14:31:40.693Z"
   },
   {
    "duration": 8,
    "start_time": "2025-09-06T14:31:40.704Z"
   },
   {
    "duration": 10,
    "start_time": "2025-09-06T14:31:40.713Z"
   },
   {
    "duration": 12,
    "start_time": "2025-09-06T14:31:40.724Z"
   },
   {
    "duration": 48,
    "start_time": "2025-09-06T14:31:40.738Z"
   },
   {
    "duration": 9,
    "start_time": "2025-09-06T14:31:40.977Z"
   },
   {
    "duration": 7,
    "start_time": "2025-09-06T14:31:42.688Z"
   },
   {
    "duration": 5,
    "start_time": "2025-09-06T14:31:42.915Z"
   },
   {
    "duration": 11,
    "start_time": "2025-09-06T14:31:43.332Z"
   },
   {
    "duration": 4,
    "start_time": "2025-09-06T14:31:43.749Z"
   },
   {
    "duration": 7,
    "start_time": "2025-09-06T14:31:43.972Z"
   },
   {
    "duration": 129,
    "start_time": "2025-09-06T14:31:44.352Z"
   },
   {
    "duration": 13,
    "start_time": "2025-09-06T14:31:45.296Z"
   },
   {
    "duration": 4,
    "start_time": "2025-09-06T14:31:45.752Z"
   },
   {
    "duration": 5,
    "start_time": "2025-09-06T14:31:46.620Z"
   },
   {
    "duration": 13,
    "start_time": "2025-09-06T14:31:47.014Z"
   },
   {
    "duration": 6,
    "start_time": "2025-09-06T14:31:47.419Z"
   },
   {
    "duration": 5,
    "start_time": "2025-09-06T14:31:47.605Z"
   },
   {
    "duration": 6,
    "start_time": "2025-09-06T14:31:47.993Z"
   },
   {
    "duration": 4,
    "start_time": "2025-09-06T14:31:48.442Z"
   },
   {
    "duration": 5,
    "start_time": "2025-09-06T14:31:48.903Z"
   },
   {
    "duration": 25,
    "start_time": "2025-09-06T14:31:49.689Z"
   },
   {
    "duration": 4,
    "start_time": "2025-09-06T14:31:50.159Z"
   },
   {
    "duration": 11,
    "start_time": "2025-09-06T14:31:50.369Z"
   },
   {
    "duration": 7,
    "start_time": "2025-09-06T14:31:50.988Z"
   },
   {
    "duration": 8,
    "start_time": "2025-09-06T14:31:51.209Z"
   },
   {
    "duration": 7,
    "start_time": "2025-09-06T14:31:51.636Z"
   },
   {
    "duration": 9,
    "start_time": "2025-09-06T14:31:52.185Z"
   },
   {
    "duration": 6,
    "start_time": "2025-09-06T14:31:52.446Z"
   },
   {
    "duration": 16,
    "start_time": "2025-09-06T14:31:52.684Z"
   },
   {
    "duration": 3,
    "start_time": "2025-09-06T14:31:53.729Z"
   },
   {
    "duration": 11,
    "start_time": "2025-09-06T14:31:53.918Z"
   },
   {
    "duration": 5,
    "start_time": "2025-09-06T14:32:00.909Z"
   },
   {
    "duration": 13,
    "start_time": "2025-09-06T14:32:05.239Z"
   },
   {
    "duration": 3,
    "start_time": "2025-09-06T14:40:30.210Z"
   },
   {
    "duration": 3,
    "start_time": "2025-09-06T14:40:30.386Z"
   },
   {
    "duration": 3,
    "start_time": "2025-09-06T14:40:30.569Z"
   },
   {
    "duration": 399,
    "start_time": "2025-09-06T14:40:36.993Z"
   },
   {
    "duration": 230,
    "start_time": "2025-09-06T14:40:37.394Z"
   },
   {
    "duration": 498,
    "start_time": "2025-09-06T14:40:37.626Z"
   },
   {
    "duration": 2424,
    "start_time": "2025-09-06T14:40:38.126Z"
   },
   {
    "duration": 64,
    "start_time": "2025-09-06T14:40:40.551Z"
   },
   {
    "duration": 23,
    "start_time": "2025-09-06T14:40:40.616Z"
   },
   {
    "duration": 13,
    "start_time": "2025-09-06T14:40:40.642Z"
   },
   {
    "duration": 15,
    "start_time": "2025-09-06T14:40:40.656Z"
   },
   {
    "duration": 18,
    "start_time": "2025-09-06T14:40:40.673Z"
   },
   {
    "duration": 8,
    "start_time": "2025-09-06T14:40:40.694Z"
   },
   {
    "duration": 10,
    "start_time": "2025-09-06T14:40:40.704Z"
   },
   {
    "duration": 12,
    "start_time": "2025-09-06T14:40:40.715Z"
   },
   {
    "duration": 43,
    "start_time": "2025-09-06T14:40:40.729Z"
   },
   {
    "duration": 10,
    "start_time": "2025-09-06T14:40:40.774Z"
   },
   {
    "duration": 5,
    "start_time": "2025-09-06T14:40:41.350Z"
   },
   {
    "duration": 4,
    "start_time": "2025-09-06T14:40:41.544Z"
   },
   {
    "duration": 5,
    "start_time": "2025-09-06T14:40:42.143Z"
   },
   {
    "duration": 5,
    "start_time": "2025-09-06T14:40:42.338Z"
   },
   {
    "duration": 119,
    "start_time": "2025-09-06T14:40:42.732Z"
   },
   {
    "duration": 13,
    "start_time": "2025-09-06T14:40:42.937Z"
   },
   {
    "duration": 4,
    "start_time": "2025-09-06T14:40:43.366Z"
   },
   {
    "duration": 7,
    "start_time": "2025-09-06T14:40:43.585Z"
   },
   {
    "duration": 12,
    "start_time": "2025-09-06T14:40:44.016Z"
   },
   {
    "duration": 4,
    "start_time": "2025-09-06T14:40:44.423Z"
   },
   {
    "duration": 4,
    "start_time": "2025-09-06T14:40:44.617Z"
   },
   {
    "duration": 4,
    "start_time": "2025-09-06T14:40:45.229Z"
   },
   {
    "duration": 5,
    "start_time": "2025-09-06T14:40:46.555Z"
   },
   {
    "duration": 31,
    "start_time": "2025-09-06T14:40:46.956Z"
   },
   {
    "duration": 7,
    "start_time": "2025-09-06T14:40:47.382Z"
   },
   {
    "duration": 4,
    "start_time": "2025-09-06T14:40:47.597Z"
   },
   {
    "duration": 6,
    "start_time": "2025-09-06T14:40:48.253Z"
   },
   {
    "duration": 8,
    "start_time": "2025-09-06T14:40:48.442Z"
   },
   {
    "duration": 6,
    "start_time": "2025-09-06T14:40:48.635Z"
   },
   {
    "duration": 7,
    "start_time": "2025-09-06T14:40:48.842Z"
   },
   {
    "duration": 7,
    "start_time": "2025-09-06T14:40:49.042Z"
   },
   {
    "duration": 12,
    "start_time": "2025-09-06T14:40:49.238Z"
   },
   {
    "duration": 3,
    "start_time": "2025-09-06T14:40:49.643Z"
   },
   {
    "duration": 13,
    "start_time": "2025-09-06T14:40:49.846Z"
   },
   {
    "duration": 178,
    "start_time": "2025-09-06T14:40:50.824Z"
   },
   {
    "duration": 233,
    "start_time": "2025-09-06T14:40:51.280Z"
   },
   {
    "duration": 185,
    "start_time": "2025-09-06T14:40:51.515Z"
   },
   {
    "duration": 132,
    "start_time": "2025-09-06T14:40:51.924Z"
   },
   {
    "duration": 298,
    "start_time": "2025-09-06T14:40:52.613Z"
   },
   {
    "duration": 207,
    "start_time": "2025-09-06T14:40:53.429Z"
   },
   {
    "duration": 180,
    "start_time": "2025-09-06T14:40:54.238Z"
   },
   {
    "duration": 110,
    "start_time": "2025-09-06T14:40:54.961Z"
   },
   {
    "duration": 160,
    "start_time": "2025-09-06T14:40:57.700Z"
   },
   {
    "duration": 411,
    "start_time": "2025-09-06T14:40:58.960Z"
   },
   {
    "duration": 167,
    "start_time": "2025-09-06T14:41:10.059Z"
   },
   {
    "duration": 24,
    "start_time": "2025-09-06T14:41:12.846Z"
   },
   {
    "duration": 22,
    "start_time": "2025-09-06T14:41:13.982Z"
   },
   {
    "duration": 20,
    "start_time": "2025-09-06T14:41:15.536Z"
   },
   {
    "duration": 33,
    "start_time": "2025-09-06T14:41:59.575Z"
   },
   {
    "duration": 16,
    "start_time": "2025-09-06T14:42:54.488Z"
   },
   {
    "duration": 7,
    "start_time": "2025-09-06T14:43:39.800Z"
   },
   {
    "duration": 12,
    "start_time": "2025-09-06T14:43:47.841Z"
   },
   {
    "duration": 16,
    "start_time": "2025-09-06T14:44:50.378Z"
   },
   {
    "duration": 391,
    "start_time": "2025-09-06T14:45:09.141Z"
   },
   {
    "duration": 226,
    "start_time": "2025-09-06T14:45:09.534Z"
   },
   {
    "duration": 555,
    "start_time": "2025-09-06T14:45:09.761Z"
   },
   {
    "duration": 2293,
    "start_time": "2025-09-06T14:45:10.318Z"
   },
   {
    "duration": 56,
    "start_time": "2025-09-06T14:45:12.612Z"
   },
   {
    "duration": 26,
    "start_time": "2025-09-06T14:45:12.670Z"
   },
   {
    "duration": 14,
    "start_time": "2025-09-06T14:45:12.698Z"
   },
   {
    "duration": 15,
    "start_time": "2025-09-06T14:45:12.714Z"
   },
   {
    "duration": 10,
    "start_time": "2025-09-06T14:45:12.730Z"
   },
   {
    "duration": 9,
    "start_time": "2025-09-06T14:45:12.741Z"
   },
   {
    "duration": 12,
    "start_time": "2025-09-06T14:45:12.770Z"
   },
   {
    "duration": 15,
    "start_time": "2025-09-06T14:45:12.784Z"
   },
   {
    "duration": 14,
    "start_time": "2025-09-06T14:45:12.801Z"
   },
   {
    "duration": 10,
    "start_time": "2025-09-06T14:45:13.783Z"
   },
   {
    "duration": 5,
    "start_time": "2025-09-06T14:45:14.544Z"
   },
   {
    "duration": 4,
    "start_time": "2025-09-06T14:45:14.741Z"
   },
   {
    "duration": 4,
    "start_time": "2025-09-06T14:45:15.364Z"
   },
   {
    "duration": 4,
    "start_time": "2025-09-06T14:45:15.593Z"
   },
   {
    "duration": 109,
    "start_time": "2025-09-06T14:45:16.313Z"
   },
   {
    "duration": 14,
    "start_time": "2025-09-06T14:45:16.527Z"
   },
   {
    "duration": 7,
    "start_time": "2025-09-06T14:45:16.967Z"
   },
   {
    "duration": 4,
    "start_time": "2025-09-06T14:45:17.202Z"
   },
   {
    "duration": 13,
    "start_time": "2025-09-06T14:45:17.604Z"
   },
   {
    "duration": 6,
    "start_time": "2025-09-06T14:45:18.070Z"
   },
   {
    "duration": 5,
    "start_time": "2025-09-06T14:45:18.319Z"
   },
   {
    "duration": 5,
    "start_time": "2025-09-06T14:45:18.953Z"
   },
   {
    "duration": 5,
    "start_time": "2025-09-06T14:45:19.172Z"
   },
   {
    "duration": 23,
    "start_time": "2025-09-06T14:45:19.579Z"
   },
   {
    "duration": 4,
    "start_time": "2025-09-06T14:45:20.008Z"
   },
   {
    "duration": 4,
    "start_time": "2025-09-06T14:45:20.218Z"
   },
   {
    "duration": 7,
    "start_time": "2025-09-06T14:45:20.899Z"
   },
   {
    "duration": 9,
    "start_time": "2025-09-06T14:45:21.130Z"
   },
   {
    "duration": 6,
    "start_time": "2025-09-06T14:45:21.355Z"
   },
   {
    "duration": 10,
    "start_time": "2025-09-06T14:45:21.575Z"
   },
   {
    "duration": 7,
    "start_time": "2025-09-06T14:45:21.821Z"
   },
   {
    "duration": 12,
    "start_time": "2025-09-06T14:45:22.030Z"
   },
   {
    "duration": 3,
    "start_time": "2025-09-06T14:45:22.823Z"
   },
   {
    "duration": 15,
    "start_time": "2025-09-06T14:45:23.064Z"
   },
   {
    "duration": 196,
    "start_time": "2025-09-06T14:45:25.748Z"
   },
   {
    "duration": 239,
    "start_time": "2025-09-06T14:45:26.186Z"
   },
   {
    "duration": 192,
    "start_time": "2025-09-06T14:45:26.428Z"
   },
   {
    "duration": 137,
    "start_time": "2025-09-06T14:45:26.880Z"
   },
   {
    "duration": 320,
    "start_time": "2025-09-06T14:45:27.295Z"
   },
   {
    "duration": 225,
    "start_time": "2025-09-06T14:45:27.993Z"
   },
   {
    "duration": 185,
    "start_time": "2025-09-06T14:45:28.262Z"
   },
   {
    "duration": 106,
    "start_time": "2025-09-06T14:45:28.575Z"
   },
   {
    "duration": 175,
    "start_time": "2025-09-06T14:45:29.856Z"
   },
   {
    "duration": 397,
    "start_time": "2025-09-06T14:45:31.112Z"
   },
   {
    "duration": 188,
    "start_time": "2025-09-06T14:45:31.511Z"
   },
   {
    "duration": 12,
    "start_time": "2025-09-06T14:45:32.208Z"
   },
   {
    "duration": 25,
    "start_time": "2025-09-06T14:45:51.726Z"
   },
   {
    "duration": 392,
    "start_time": "2025-09-06T14:46:42.104Z"
   },
   {
    "duration": 216,
    "start_time": "2025-09-06T14:46:42.497Z"
   },
   {
    "duration": 459,
    "start_time": "2025-09-06T14:46:42.714Z"
   },
   {
    "duration": 2215,
    "start_time": "2025-09-06T14:46:43.176Z"
   },
   {
    "duration": 65,
    "start_time": "2025-09-06T14:46:45.394Z"
   },
   {
    "duration": 33,
    "start_time": "2025-09-06T14:46:45.460Z"
   },
   {
    "duration": 23,
    "start_time": "2025-09-06T14:46:45.495Z"
   },
   {
    "duration": 15,
    "start_time": "2025-09-06T14:46:45.519Z"
   },
   {
    "duration": 22,
    "start_time": "2025-09-06T14:46:45.536Z"
   },
   {
    "duration": 41,
    "start_time": "2025-09-06T14:46:45.560Z"
   },
   {
    "duration": 10,
    "start_time": "2025-09-06T14:46:45.603Z"
   },
   {
    "duration": 42,
    "start_time": "2025-09-06T14:46:45.614Z"
   },
   {
    "duration": 13,
    "start_time": "2025-09-06T14:46:45.657Z"
   },
   {
    "duration": 7,
    "start_time": "2025-09-06T14:46:47.595Z"
   },
   {
    "duration": 10,
    "start_time": "2025-09-06T14:46:51.476Z"
   },
   {
    "duration": 8,
    "start_time": "2025-09-06T14:46:51.976Z"
   },
   {
    "duration": 4,
    "start_time": "2025-09-06T14:46:55.726Z"
   },
   {
    "duration": 6,
    "start_time": "2025-09-06T14:46:56.202Z"
   },
   {
    "duration": 120,
    "start_time": "2025-09-06T14:46:57.313Z"
   },
   {
    "duration": 14,
    "start_time": "2025-09-06T14:46:58.352Z"
   },
   {
    "duration": 4,
    "start_time": "2025-09-06T14:47:05.825Z"
   },
   {
    "duration": 5,
    "start_time": "2025-09-06T14:47:11.455Z"
   },
   {
    "duration": 22,
    "start_time": "2025-09-06T14:47:12.976Z"
   },
   {
    "duration": 13,
    "start_time": "2025-09-06T14:47:21.344Z"
   },
   {
    "duration": 7,
    "start_time": "2025-09-06T14:47:27.275Z"
   },
   {
    "duration": 7,
    "start_time": "2025-09-06T14:47:28.290Z"
   },
   {
    "duration": 24,
    "start_time": "2025-09-06T14:47:38.770Z"
   },
   {
    "duration": 5,
    "start_time": "2025-09-06T14:47:47.807Z"
   },
   {
    "duration": 4,
    "start_time": "2025-09-06T14:47:48.412Z"
   },
   {
    "duration": 29,
    "start_time": "2025-09-06T14:47:51.779Z"
   },
   {
    "duration": 17,
    "start_time": "2025-09-06T14:48:02.888Z"
   },
   {
    "duration": 7,
    "start_time": "2025-09-06T14:48:06.876Z"
   },
   {
    "duration": 6,
    "start_time": "2025-09-06T14:48:08.878Z"
   },
   {
    "duration": 12,
    "start_time": "2025-09-06T14:48:21.246Z"
   },
   {
    "duration": 6,
    "start_time": "2025-09-06T14:48:29.795Z"
   },
   {
    "duration": 9,
    "start_time": "2025-09-06T14:48:32.860Z"
   },
   {
    "duration": 11,
    "start_time": "2025-09-06T14:48:45.387Z"
   },
   {
    "duration": 11,
    "start_time": "2025-09-06T14:48:46.289Z"
   },
   {
    "duration": 14,
    "start_time": "2025-09-06T14:48:54.189Z"
   },
   {
    "duration": 5,
    "start_time": "2025-09-06T14:49:34.455Z"
   },
   {
    "duration": 14,
    "start_time": "2025-09-06T14:49:36.177Z"
   },
   {
    "duration": 13,
    "start_time": "2025-09-06T14:49:37.014Z"
   },
   {
    "duration": 408,
    "start_time": "2025-09-06T14:50:07.842Z"
   },
   {
    "duration": 257,
    "start_time": "2025-09-06T14:50:08.252Z"
   },
   {
    "duration": 542,
    "start_time": "2025-09-06T14:50:08.511Z"
   },
   {
    "duration": 2337,
    "start_time": "2025-09-06T14:50:09.054Z"
   },
   {
    "duration": 66,
    "start_time": "2025-09-06T14:50:11.395Z"
   },
   {
    "duration": 33,
    "start_time": "2025-09-06T14:50:11.462Z"
   },
   {
    "duration": 42,
    "start_time": "2025-09-06T14:50:11.497Z"
   },
   {
    "duration": 15,
    "start_time": "2025-09-06T14:50:11.540Z"
   },
   {
    "duration": 55,
    "start_time": "2025-09-06T14:50:11.556Z"
   },
   {
    "duration": 8,
    "start_time": "2025-09-06T14:50:11.613Z"
   },
   {
    "duration": 11,
    "start_time": "2025-09-06T14:50:12.439Z"
   },
   {
    "duration": 14,
    "start_time": "2025-09-06T14:50:12.628Z"
   },
   {
    "duration": 25,
    "start_time": "2025-09-06T14:50:13.567Z"
   },
   {
    "duration": 8,
    "start_time": "2025-09-06T14:50:14.135Z"
   },
   {
    "duration": 4,
    "start_time": "2025-09-06T14:50:14.705Z"
   },
   {
    "duration": 4,
    "start_time": "2025-09-06T14:50:14.901Z"
   },
   {
    "duration": 6,
    "start_time": "2025-09-06T14:50:15.467Z"
   },
   {
    "duration": 6,
    "start_time": "2025-09-06T14:50:15.668Z"
   },
   {
    "duration": 130,
    "start_time": "2025-09-06T14:50:16.080Z"
   },
   {
    "duration": 11,
    "start_time": "2025-09-06T14:50:16.420Z"
   },
   {
    "duration": 4,
    "start_time": "2025-09-06T14:50:16.802Z"
   },
   {
    "duration": 5,
    "start_time": "2025-09-06T14:50:17.003Z"
   },
   {
    "duration": 13,
    "start_time": "2025-09-06T14:50:17.415Z"
   },
   {
    "duration": 14,
    "start_time": "2025-09-06T14:50:17.657Z"
   },
   {
    "duration": 5,
    "start_time": "2025-09-06T14:50:18.047Z"
   },
   {
    "duration": 5,
    "start_time": "2025-09-06T14:50:18.267Z"
   },
   {
    "duration": 16,
    "start_time": "2025-09-06T14:50:18.687Z"
   },
   {
    "duration": 6,
    "start_time": "2025-09-06T14:50:19.184Z"
   },
   {
    "duration": 4,
    "start_time": "2025-09-06T14:50:19.406Z"
   },
   {
    "duration": 22,
    "start_time": "2025-09-06T14:50:20.050Z"
   },
   {
    "duration": 12,
    "start_time": "2025-09-06T14:50:20.449Z"
   },
   {
    "duration": 4,
    "start_time": "2025-09-06T14:50:21.224Z"
   },
   {
    "duration": 5,
    "start_time": "2025-09-06T14:50:21.427Z"
   },
   {
    "duration": 12,
    "start_time": "2025-09-06T14:50:21.817Z"
   },
   {
    "duration": 7,
    "start_time": "2025-09-06T14:50:22.256Z"
   },
   {
    "duration": 12,
    "start_time": "2025-09-06T14:50:22.464Z"
   },
   {
    "duration": 18,
    "start_time": "2025-09-06T14:50:22.685Z"
   },
   {
    "duration": 6,
    "start_time": "2025-09-06T14:50:23.065Z"
   },
   {
    "duration": 6,
    "start_time": "2025-09-06T14:50:24.932Z"
   },
   {
    "duration": 12,
    "start_time": "2025-09-06T14:50:26.254Z"
   },
   {
    "duration": 436,
    "start_time": "2025-09-06T14:54:27.769Z"
   },
   {
    "duration": 239,
    "start_time": "2025-09-06T14:54:28.207Z"
   },
   {
    "duration": 534,
    "start_time": "2025-09-06T14:54:28.448Z"
   },
   {
    "duration": 2314,
    "start_time": "2025-09-06T14:54:28.985Z"
   },
   {
    "duration": 55,
    "start_time": "2025-09-06T14:54:31.302Z"
   },
   {
    "duration": 33,
    "start_time": "2025-09-06T14:54:31.359Z"
   },
   {
    "duration": 17,
    "start_time": "2025-09-06T14:54:31.394Z"
   },
   {
    "duration": 43,
    "start_time": "2025-09-06T14:54:31.413Z"
   },
   {
    "duration": 135,
    "start_time": "2025-09-06T14:54:31.458Z"
   },
   {
    "duration": 34,
    "start_time": "2025-09-06T14:54:31.595Z"
   },
   {
    "duration": 10,
    "start_time": "2025-09-06T14:54:31.660Z"
   },
   {
    "duration": 13,
    "start_time": "2025-09-06T14:54:31.850Z"
   },
   {
    "duration": 15,
    "start_time": "2025-09-06T14:54:32.027Z"
   },
   {
    "duration": 13,
    "start_time": "2025-09-06T14:54:32.574Z"
   },
   {
    "duration": 5,
    "start_time": "2025-09-06T14:54:33.213Z"
   },
   {
    "duration": 5,
    "start_time": "2025-09-06T14:54:33.414Z"
   },
   {
    "duration": 4,
    "start_time": "2025-09-06T14:54:33.952Z"
   },
   {
    "duration": 5,
    "start_time": "2025-09-06T14:54:34.130Z"
   },
   {
    "duration": 110,
    "start_time": "2025-09-06T14:54:34.511Z"
   },
   {
    "duration": 13,
    "start_time": "2025-09-06T14:54:34.699Z"
   },
   {
    "duration": 5,
    "start_time": "2025-09-06T14:54:35.082Z"
   },
   {
    "duration": 5,
    "start_time": "2025-09-06T14:54:35.261Z"
   },
   {
    "duration": 18,
    "start_time": "2025-09-06T14:54:36.806Z"
   },
   {
    "duration": 19,
    "start_time": "2025-09-06T14:54:37.043Z"
   },
   {
    "duration": 5,
    "start_time": "2025-09-06T14:54:37.446Z"
   },
   {
    "duration": 6,
    "start_time": "2025-09-06T14:54:37.650Z"
   },
   {
    "duration": 18,
    "start_time": "2025-09-06T14:54:38.043Z"
   },
   {
    "duration": 5,
    "start_time": "2025-09-06T14:54:38.398Z"
   },
   {
    "duration": 13,
    "start_time": "2025-09-06T14:54:38.581Z"
   },
   {
    "duration": 35,
    "start_time": "2025-09-06T14:54:38.969Z"
   },
   {
    "duration": 22,
    "start_time": "2025-09-06T14:54:39.176Z"
   },
   {
    "duration": 6,
    "start_time": "2025-09-06T14:54:39.587Z"
   },
   {
    "duration": 6,
    "start_time": "2025-09-06T14:54:39.786Z"
   },
   {
    "duration": 12,
    "start_time": "2025-09-06T14:54:40.211Z"
   },
   {
    "duration": 9,
    "start_time": "2025-09-06T14:54:40.673Z"
   },
   {
    "duration": 9,
    "start_time": "2025-09-06T14:54:40.907Z"
   },
   {
    "duration": 12,
    "start_time": "2025-09-06T14:54:41.115Z"
   },
   {
    "duration": 6,
    "start_time": "2025-09-06T14:54:41.323Z"
   },
   {
    "duration": 13,
    "start_time": "2025-09-06T14:54:41.538Z"
   },
   {
    "duration": 3,
    "start_time": "2025-09-06T14:54:41.966Z"
   },
   {
    "duration": 18,
    "start_time": "2025-09-06T14:54:42.188Z"
   },
   {
    "duration": 191,
    "start_time": "2025-09-06T14:54:43.300Z"
   },
   {
    "duration": 227,
    "start_time": "2025-09-06T14:54:43.952Z"
   },
   {
    "duration": 156,
    "start_time": "2025-09-06T14:54:44.638Z"
   },
   {
    "duration": 136,
    "start_time": "2025-09-06T14:54:46.137Z"
   },
   {
    "duration": 354,
    "start_time": "2025-09-06T14:54:46.711Z"
   },
   {
    "duration": 234,
    "start_time": "2025-09-06T14:54:48.126Z"
   },
   {
    "duration": 193,
    "start_time": "2025-09-06T14:54:48.362Z"
   },
   {
    "duration": 117,
    "start_time": "2025-09-06T14:54:49.396Z"
   },
   {
    "duration": 164,
    "start_time": "2025-09-06T14:54:54.070Z"
   },
   {
    "duration": 408,
    "start_time": "2025-09-06T14:54:56.947Z"
   },
   {
    "duration": 172,
    "start_time": "2025-09-06T14:54:58.127Z"
   },
   {
    "duration": 12,
    "start_time": "2025-09-06T14:54:59.750Z"
   },
   {
    "duration": 40,
    "start_time": "2025-09-06T14:55:03.254Z"
   },
   {
    "duration": 396,
    "start_time": "2025-09-06T15:02:14.850Z"
   },
   {
    "duration": 334,
    "start_time": "2025-09-06T15:02:53.866Z"
   },
   {
    "duration": 367,
    "start_time": "2025-09-06T15:03:05.784Z"
   },
   {
    "duration": 357,
    "start_time": "2025-09-06T15:03:13.347Z"
   },
   {
    "duration": 375,
    "start_time": "2025-09-06T15:11:11.310Z"
   },
   {
    "duration": 222,
    "start_time": "2025-09-06T15:12:36.800Z"
   },
   {
    "duration": 8,
    "start_time": "2025-09-06T15:18:21.188Z"
   },
   {
    "duration": 5,
    "start_time": "2025-09-06T15:18:25.695Z"
   },
   {
    "duration": 5,
    "start_time": "2025-09-06T15:18:25.890Z"
   },
   {
    "duration": 7,
    "start_time": "2025-09-06T15:18:26.585Z"
   },
   {
    "duration": 10,
    "start_time": "2025-09-06T15:18:26.779Z"
   },
   {
    "duration": 23,
    "start_time": "2025-09-06T15:18:27.190Z"
   },
   {
    "duration": 12,
    "start_time": "2025-09-06T15:18:27.410Z"
   },
   {
    "duration": 21,
    "start_time": "2025-09-06T15:18:40.785Z"
   },
   {
    "duration": 7,
    "start_time": "2025-09-06T15:18:48.996Z"
   },
   {
    "duration": 19,
    "start_time": "2025-09-06T15:20:13.147Z"
   },
   {
    "duration": 94,
    "start_time": "2025-09-06T15:20:24.404Z"
   },
   {
    "duration": 21,
    "start_time": "2025-09-06T15:20:27.905Z"
   },
   {
    "duration": 20,
    "start_time": "2025-09-06T15:21:25.523Z"
   },
   {
    "duration": 4,
    "start_time": "2025-09-06T15:22:48.606Z"
   },
   {
    "duration": 5,
    "start_time": "2025-09-06T15:22:49.864Z"
   },
   {
    "duration": 5,
    "start_time": "2025-09-06T15:22:50.049Z"
   },
   {
    "duration": 5,
    "start_time": "2025-09-06T15:22:50.824Z"
   },
   {
    "duration": 4,
    "start_time": "2025-09-06T15:22:51.056Z"
   },
   {
    "duration": 21,
    "start_time": "2025-09-06T15:22:52.051Z"
   },
   {
    "duration": 20,
    "start_time": "2025-09-06T15:22:55.030Z"
   },
   {
    "duration": 19,
    "start_time": "2025-09-06T15:23:19.596Z"
   },
   {
    "duration": 442,
    "start_time": "2025-09-07T21:35:53.258Z"
   },
   {
    "duration": 423,
    "start_time": "2025-09-07T21:35:53.702Z"
   },
   {
    "duration": 574,
    "start_time": "2025-09-07T21:35:54.127Z"
   },
   {
    "duration": 3372,
    "start_time": "2025-09-07T21:35:54.703Z"
   },
   {
    "duration": 68,
    "start_time": "2025-09-07T21:35:58.077Z"
   },
   {
    "duration": 25,
    "start_time": "2025-09-07T21:35:58.147Z"
   },
   {
    "duration": 15,
    "start_time": "2025-09-07T21:35:58.174Z"
   },
   {
    "duration": 17,
    "start_time": "2025-09-07T21:35:58.191Z"
   },
   {
    "duration": 11,
    "start_time": "2025-09-07T21:35:58.209Z"
   },
   {
    "duration": 9,
    "start_time": "2025-09-07T21:35:58.221Z"
   },
   {
    "duration": 13,
    "start_time": "2025-09-07T21:35:58.510Z"
   },
   {
    "duration": 16,
    "start_time": "2025-09-07T21:35:58.761Z"
   },
   {
    "duration": 16,
    "start_time": "2025-09-07T21:35:59.024Z"
   },
   {
    "duration": 4,
    "start_time": "2025-09-07T21:36:00.099Z"
   },
   {
    "duration": 5,
    "start_time": "2025-09-07T21:36:00.828Z"
   },
   {
    "duration": 6,
    "start_time": "2025-09-07T21:36:01.288Z"
   },
   {
    "duration": 4,
    "start_time": "2025-09-07T21:36:02.003Z"
   },
   {
    "duration": 7,
    "start_time": "2025-09-07T21:36:02.235Z"
   },
   {
    "duration": 7,
    "start_time": "2025-09-07T21:36:04.084Z"
   },
   {
    "duration": 16,
    "start_time": "2025-09-07T21:36:11.802Z"
   },
   {
    "duration": 7,
    "start_time": "2025-09-07T21:36:12.268Z"
   },
   {
    "duration": 5,
    "start_time": "2025-09-07T21:36:12.489Z"
   },
   {
    "duration": 13,
    "start_time": "2025-09-07T21:36:12.983Z"
   },
   {
    "duration": 15,
    "start_time": "2025-09-07T21:36:13.237Z"
   },
   {
    "duration": 6,
    "start_time": "2025-09-07T21:36:13.688Z"
   },
   {
    "duration": 5,
    "start_time": "2025-09-07T21:36:13.920Z"
   },
   {
    "duration": 15,
    "start_time": "2025-09-07T21:36:14.425Z"
   },
   {
    "duration": 5,
    "start_time": "2025-09-07T21:36:14.908Z"
   },
   {
    "duration": 5,
    "start_time": "2025-09-07T21:36:15.222Z"
   },
   {
    "duration": 26,
    "start_time": "2025-09-07T21:36:15.704Z"
   },
   {
    "duration": 15,
    "start_time": "2025-09-07T21:36:15.937Z"
   },
   {
    "duration": 4,
    "start_time": "2025-09-07T21:36:16.794Z"
   },
   {
    "duration": 5,
    "start_time": "2025-09-07T21:36:17.064Z"
   },
   {
    "duration": 14,
    "start_time": "2025-09-07T21:36:17.536Z"
   },
   {
    "duration": 6,
    "start_time": "2025-09-07T21:36:18.005Z"
   },
   {
    "duration": 10,
    "start_time": "2025-09-07T21:36:18.263Z"
   },
   {
    "duration": 14,
    "start_time": "2025-09-07T21:36:18.465Z"
   },
   {
    "duration": 7,
    "start_time": "2025-09-07T21:36:18.689Z"
   },
   {
    "duration": 14,
    "start_time": "2025-09-07T21:36:18.900Z"
   },
   {
    "duration": 3,
    "start_time": "2025-09-07T21:36:19.348Z"
   },
   {
    "duration": 14,
    "start_time": "2025-09-07T21:36:19.591Z"
   },
   {
    "duration": 185,
    "start_time": "2025-09-07T21:36:21.407Z"
   },
   {
    "duration": 237,
    "start_time": "2025-09-07T21:36:21.892Z"
   },
   {
    "duration": 228,
    "start_time": "2025-09-07T21:36:22.131Z"
   },
   {
    "duration": 136,
    "start_time": "2025-09-07T21:36:22.574Z"
   },
   {
    "duration": 344,
    "start_time": "2025-09-07T21:36:22.772Z"
   },
   {
    "duration": 261,
    "start_time": "2025-09-07T21:36:23.813Z"
   },
   {
    "duration": 195,
    "start_time": "2025-09-07T21:36:24.117Z"
   },
   {
    "duration": 116,
    "start_time": "2025-09-07T21:36:24.394Z"
   },
   {
    "duration": 174,
    "start_time": "2025-09-07T21:36:25.404Z"
   },
   {
    "duration": 388,
    "start_time": "2025-09-07T21:36:26.406Z"
   },
   {
    "duration": 186,
    "start_time": "2025-09-07T21:36:26.796Z"
   },
   {
    "duration": 15,
    "start_time": "2025-09-07T21:36:27.205Z"
   },
   {
    "duration": 30,
    "start_time": "2025-09-07T21:36:27.773Z"
   },
   {
    "duration": 383,
    "start_time": "2025-09-07T21:36:28.291Z"
   },
   {
    "duration": 359,
    "start_time": "2025-09-07T21:36:28.876Z"
   },
   {
    "duration": 437,
    "start_time": "2025-09-07T21:57:05.056Z"
   },
   {
    "duration": 433,
    "start_time": "2025-09-07T21:57:05.495Z"
   },
   {
    "duration": 575,
    "start_time": "2025-09-07T21:57:05.930Z"
   },
   {
    "duration": 3484,
    "start_time": "2025-09-07T21:57:06.507Z"
   },
   {
    "duration": 75,
    "start_time": "2025-09-07T21:57:09.994Z"
   },
   {
    "duration": 25,
    "start_time": "2025-09-07T21:57:10.071Z"
   },
   {
    "duration": 17,
    "start_time": "2025-09-07T21:57:10.098Z"
   },
   {
    "duration": 50,
    "start_time": "2025-09-07T21:57:10.116Z"
   },
   {
    "duration": 11,
    "start_time": "2025-09-07T21:57:10.168Z"
   },
   {
    "duration": 10,
    "start_time": "2025-09-07T21:57:10.182Z"
   },
   {
    "duration": 13,
    "start_time": "2025-09-07T21:57:10.193Z"
   },
   {
    "duration": 14,
    "start_time": "2025-09-07T21:57:10.207Z"
   },
   {
    "duration": 41,
    "start_time": "2025-09-07T21:57:10.223Z"
   },
   {
    "duration": 5,
    "start_time": "2025-09-07T21:57:10.266Z"
   },
   {
    "duration": 5,
    "start_time": "2025-09-07T21:57:10.272Z"
   },
   {
    "duration": 8,
    "start_time": "2025-09-07T21:57:10.279Z"
   },
   {
    "duration": 5,
    "start_time": "2025-09-07T21:57:10.289Z"
   },
   {
    "duration": 5,
    "start_time": "2025-09-07T21:57:10.295Z"
   },
   {
    "duration": 6,
    "start_time": "2025-09-07T21:57:10.302Z"
   },
   {
    "duration": 47,
    "start_time": "2025-09-07T21:57:10.310Z"
   },
   {
    "duration": 5,
    "start_time": "2025-09-07T21:57:10.359Z"
   },
   {
    "duration": 4,
    "start_time": "2025-09-07T21:57:10.366Z"
   },
   {
    "duration": 14,
    "start_time": "2025-09-07T21:57:10.372Z"
   },
   {
    "duration": 15,
    "start_time": "2025-09-07T21:57:10.388Z"
   },
   {
    "duration": 8,
    "start_time": "2025-09-07T21:57:10.405Z"
   },
   {
    "duration": 41,
    "start_time": "2025-09-07T21:57:10.414Z"
   },
   {
    "duration": 16,
    "start_time": "2025-09-07T21:57:10.457Z"
   },
   {
    "duration": 5,
    "start_time": "2025-09-07T21:57:10.476Z"
   },
   {
    "duration": 5,
    "start_time": "2025-09-07T21:57:10.483Z"
   },
   {
    "duration": 27,
    "start_time": "2025-09-07T21:57:10.490Z"
   },
   {
    "duration": 45,
    "start_time": "2025-09-07T21:57:10.519Z"
   },
   {
    "duration": 5,
    "start_time": "2025-09-07T21:57:10.566Z"
   },
   {
    "duration": 7,
    "start_time": "2025-09-07T21:57:10.573Z"
   },
   {
    "duration": 14,
    "start_time": "2025-09-07T21:57:10.581Z"
   },
   {
    "duration": 5,
    "start_time": "2025-09-07T21:57:10.596Z"
   },
   {
    "duration": 10,
    "start_time": "2025-09-07T21:57:10.603Z"
   },
   {
    "duration": 16,
    "start_time": "2025-09-07T21:57:10.652Z"
   },
   {
    "duration": 8,
    "start_time": "2025-09-07T21:57:10.669Z"
   },
   {
    "duration": 14,
    "start_time": "2025-09-07T21:57:10.679Z"
   },
   {
    "duration": 3,
    "start_time": "2025-09-07T21:57:10.695Z"
   },
   {
    "duration": 79,
    "start_time": "2025-09-07T21:57:10.700Z"
   },
   {
    "duration": 199,
    "start_time": "2025-09-07T21:57:10.780Z"
   },
   {
    "duration": 244,
    "start_time": "2025-09-07T21:57:10.981Z"
   },
   {
    "duration": 201,
    "start_time": "2025-09-07T21:57:11.226Z"
   },
   {
    "duration": 146,
    "start_time": "2025-09-07T21:57:11.429Z"
   },
   {
    "duration": 347,
    "start_time": "2025-09-07T21:57:11.577Z"
   },
   {
    "duration": 257,
    "start_time": "2025-09-07T21:57:11.926Z"
   },
   {
    "duration": 197,
    "start_time": "2025-09-07T21:57:12.184Z"
   },
   {
    "duration": 134,
    "start_time": "2025-09-07T21:57:12.382Z"
   },
   {
    "duration": 215,
    "start_time": "2025-09-07T21:57:12.518Z"
   },
   {
    "duration": 432,
    "start_time": "2025-09-07T21:57:12.735Z"
   },
   {
    "duration": 190,
    "start_time": "2025-09-07T21:57:13.168Z"
   },
   {
    "duration": 15,
    "start_time": "2025-09-07T21:57:13.359Z"
   },
   {
    "duration": 31,
    "start_time": "2025-09-07T21:57:13.376Z"
   },
   {
    "duration": 433,
    "start_time": "2025-09-07T21:57:13.409Z"
   },
   {
    "duration": 346,
    "start_time": "2025-09-07T21:57:13.851Z"
   },
   {
    "duration": 5,
    "start_time": "2025-09-07T22:39:13.604Z"
   },
   {
    "duration": 11,
    "start_time": "2025-09-07T22:49:11.300Z"
   },
   {
    "duration": 6,
    "start_time": "2025-09-07T22:50:56.502Z"
   },
   {
    "duration": 6,
    "start_time": "2025-09-07T22:52:03.221Z"
   },
   {
    "duration": 47,
    "start_time": "2025-09-10T11:04:29.664Z"
   },
   {
    "duration": 428,
    "start_time": "2025-09-10T11:04:44.335Z"
   },
   {
    "duration": 401,
    "start_time": "2025-09-10T11:04:44.765Z"
   },
   {
    "duration": 507,
    "start_time": "2025-09-10T11:04:45.169Z"
   },
   {
    "duration": 3186,
    "start_time": "2025-09-10T11:04:45.678Z"
   },
   {
    "duration": 68,
    "start_time": "2025-09-10T11:04:48.867Z"
   },
   {
    "duration": 25,
    "start_time": "2025-09-10T11:04:48.937Z"
   },
   {
    "duration": 15,
    "start_time": "2025-09-10T11:04:48.964Z"
   },
   {
    "duration": 69,
    "start_time": "2025-09-10T11:04:48.980Z"
   },
   {
    "duration": 12,
    "start_time": "2025-09-10T11:04:49.708Z"
   },
   {
    "duration": 10,
    "start_time": "2025-09-10T11:04:50.524Z"
   },
   {
    "duration": 11,
    "start_time": "2025-09-10T11:04:54.563Z"
   },
   {
    "duration": 14,
    "start_time": "2025-09-10T11:04:55.410Z"
   },
   {
    "duration": 14,
    "start_time": "2025-09-10T11:04:56.965Z"
   },
   {
    "duration": 5,
    "start_time": "2025-09-10T11:05:00.499Z"
   },
   {
    "duration": 4,
    "start_time": "2025-09-10T11:05:03.139Z"
   },
   {
    "duration": 16,
    "start_time": "2025-09-10T11:05:07.854Z"
   },
   {
    "duration": 14,
    "start_time": "2025-09-10T11:05:15.934Z"
   },
   {
    "duration": 19,
    "start_time": "2025-09-10T11:05:28.085Z"
   },
   {
    "duration": 18,
    "start_time": "2025-09-10T11:46:39.935Z"
   },
   {
    "duration": 15,
    "start_time": "2025-09-10T11:46:51.152Z"
   },
   {
    "duration": 13,
    "start_time": "2025-09-10T11:46:57.908Z"
   },
   {
    "duration": 20,
    "start_time": "2025-09-10T11:47:11.902Z"
   },
   {
    "duration": 44,
    "start_time": "2025-09-10T11:49:51.125Z"
   },
   {
    "duration": 5,
    "start_time": "2025-09-10T11:50:02.262Z"
   },
   {
    "duration": 33,
    "start_time": "2025-09-10T11:51:08.934Z"
   },
   {
    "duration": 34,
    "start_time": "2025-09-10T11:51:17.954Z"
   },
   {
    "duration": 45,
    "start_time": "2025-09-10T11:51:39.610Z"
   },
   {
    "duration": 5,
    "start_time": "2025-09-10T11:52:12.333Z"
   },
   {
    "duration": 37,
    "start_time": "2025-09-10T12:13:58.245Z"
   },
   {
    "duration": 4,
    "start_time": "2025-09-10T12:15:30.312Z"
   },
   {
    "duration": 64,
    "start_time": "2025-09-10T12:15:34.965Z"
   },
   {
    "duration": 130,
    "start_time": "2025-09-10T12:15:57.586Z"
   },
   {
    "duration": 6,
    "start_time": "2025-09-10T12:16:29.983Z"
   },
   {
    "duration": 6,
    "start_time": "2025-09-10T12:16:32.757Z"
   },
   {
    "duration": 5,
    "start_time": "2025-09-10T12:16:45.812Z"
   },
   {
    "duration": 20,
    "start_time": "2025-09-10T12:18:44.409Z"
   },
   {
    "duration": 16,
    "start_time": "2025-09-10T12:18:58.451Z"
   },
   {
    "duration": 7,
    "start_time": "2025-09-10T12:19:13.734Z"
   },
   {
    "duration": 4,
    "start_time": "2025-09-10T12:48:15.365Z"
   },
   {
    "duration": 184,
    "start_time": "2025-09-10T12:54:29.139Z"
   },
   {
    "duration": 7,
    "start_time": "2025-09-10T12:55:06.709Z"
   },
   {
    "duration": 11,
    "start_time": "2025-09-10T12:56:40.232Z"
   },
   {
    "duration": 9,
    "start_time": "2025-09-10T13:00:51.053Z"
   },
   {
    "duration": 222,
    "start_time": "2025-09-10T13:03:08.485Z"
   },
   {
    "duration": 206,
    "start_time": "2025-09-10T13:03:20.546Z"
   },
   {
    "duration": 201,
    "start_time": "2025-09-10T13:03:52.664Z"
   },
   {
    "duration": 215,
    "start_time": "2025-09-10T13:04:01.994Z"
   },
   {
    "duration": 11,
    "start_time": "2025-09-10T13:13:26.546Z"
   },
   {
    "duration": 14,
    "start_time": "2025-09-10T13:14:44.080Z"
   },
   {
    "duration": 12,
    "start_time": "2025-09-10T13:15:07.326Z"
   },
   {
    "duration": 171,
    "start_time": "2025-09-10T13:15:30.548Z"
   },
   {
    "duration": 148,
    "start_time": "2025-09-10T13:19:47.480Z"
   },
   {
    "duration": 250,
    "start_time": "2025-09-10T13:21:12.753Z"
   },
   {
    "duration": 170,
    "start_time": "2025-09-10T13:21:30.493Z"
   },
   {
    "duration": 184,
    "start_time": "2025-09-10T13:25:07.014Z"
   },
   {
    "duration": 186,
    "start_time": "2025-09-10T13:25:34.839Z"
   },
   {
    "duration": 146,
    "start_time": "2025-09-10T13:25:49.219Z"
   },
   {
    "duration": 146,
    "start_time": "2025-09-10T13:26:08.159Z"
   },
   {
    "duration": 142,
    "start_time": "2025-09-10T13:26:16.316Z"
   },
   {
    "duration": 81,
    "start_time": "2025-09-10T13:26:42.113Z"
   },
   {
    "duration": 139,
    "start_time": "2025-09-10T13:27:05.194Z"
   },
   {
    "duration": 85,
    "start_time": "2025-09-10T13:27:48.901Z"
   },
   {
    "duration": 80,
    "start_time": "2025-09-10T13:27:58.781Z"
   },
   {
    "duration": 25,
    "start_time": "2025-09-10T13:28:54.707Z"
   },
   {
    "duration": 8,
    "start_time": "2025-09-10T13:29:11.444Z"
   },
   {
    "duration": 29,
    "start_time": "2025-09-10T13:30:00.014Z"
   },
   {
    "duration": 26,
    "start_time": "2025-09-10T13:30:21.743Z"
   },
   {
    "duration": 30,
    "start_time": "2025-09-10T13:30:44.531Z"
   },
   {
    "duration": 14,
    "start_time": "2025-09-10T13:32:48.456Z"
   },
   {
    "duration": 139,
    "start_time": "2025-09-10T13:33:43.105Z"
   },
   {
    "duration": 1030,
    "start_time": "2025-09-10T13:33:53.648Z"
   },
   {
    "duration": 165,
    "start_time": "2025-09-10T13:35:45.420Z"
   },
   {
    "duration": 153,
    "start_time": "2025-09-10T13:35:59.973Z"
   },
   {
    "duration": 24,
    "start_time": "2025-09-10T13:41:25.680Z"
   },
   {
    "duration": 36,
    "start_time": "2025-09-10T13:41:38.716Z"
   },
   {
    "duration": 39,
    "start_time": "2025-09-10T13:42:04.194Z"
   },
   {
    "duration": 18,
    "start_time": "2025-09-10T13:42:31.173Z"
   },
   {
    "duration": 26,
    "start_time": "2025-09-10T13:42:51.587Z"
   },
   {
    "duration": 11964,
    "start_time": "2025-09-10T13:42:59.772Z"
   },
   {
    "duration": 12358,
    "start_time": "2025-09-10T13:43:26.689Z"
   },
   {
    "duration": 19,
    "start_time": "2025-09-10T13:47:17.197Z"
   },
   {
    "duration": 490,
    "start_time": "2025-09-10T13:47:20.287Z"
   },
   {
    "duration": 230,
    "start_time": "2025-09-10T13:49:05.679Z"
   },
   {
    "duration": 219,
    "start_time": "2025-09-10T13:49:26.151Z"
   },
   {
    "duration": 224,
    "start_time": "2025-09-10T13:49:41.808Z"
   },
   {
    "duration": 223,
    "start_time": "2025-09-10T13:49:55.062Z"
   },
   {
    "duration": 228,
    "start_time": "2025-09-10T13:50:27.353Z"
   },
   {
    "duration": 222,
    "start_time": "2025-09-10T13:50:39.104Z"
   },
   {
    "duration": 224,
    "start_time": "2025-09-10T13:52:10.017Z"
   },
   {
    "duration": 222,
    "start_time": "2025-09-10T13:52:26.003Z"
   },
   {
    "duration": 233,
    "start_time": "2025-09-10T13:52:52.627Z"
   },
   {
    "duration": 25,
    "start_time": "2025-09-10T13:53:10.368Z"
   },
   {
    "duration": 228,
    "start_time": "2025-09-10T13:53:19.881Z"
   },
   {
    "duration": 189,
    "start_time": "2025-09-10T14:00:39.125Z"
   },
   {
    "duration": 188,
    "start_time": "2025-09-10T14:01:34.039Z"
   },
   {
    "duration": 517,
    "start_time": "2025-09-10T14:01:44.395Z"
   },
   {
    "duration": 11,
    "start_time": "2025-09-10T14:03:35.243Z"
   },
   {
    "duration": 90,
    "start_time": "2025-09-10T14:03:44.096Z"
   },
   {
    "duration": 114,
    "start_time": "2025-09-10T14:04:11.342Z"
   },
   {
    "duration": 342,
    "start_time": "2025-09-10T14:04:40.084Z"
   },
   {
    "duration": 12,
    "start_time": "2025-09-10T14:32:58.894Z"
   },
   {
    "duration": 350,
    "start_time": "2025-09-10T14:38:37.846Z"
   },
   {
    "duration": 341,
    "start_time": "2025-09-10T14:45:37.332Z"
   },
   {
    "duration": 19,
    "start_time": "2025-09-10T14:49:05.885Z"
   },
   {
    "duration": 18,
    "start_time": "2025-09-10T14:49:18.661Z"
   },
   {
    "duration": 158,
    "start_time": "2025-09-10T14:49:31.026Z"
   },
   {
    "duration": 157,
    "start_time": "2025-09-10T14:49:49.722Z"
   },
   {
    "duration": 17740,
    "start_time": "2025-09-10T14:54:20.023Z"
   },
   {
    "duration": 12652,
    "start_time": "2025-09-10T14:55:20.514Z"
   },
   {
    "duration": 235,
    "start_time": "2025-09-10T14:59:03.858Z"
   },
   {
    "duration": 242,
    "start_time": "2025-09-10T15:00:40.565Z"
   },
   {
    "duration": 121,
    "start_time": "2025-09-10T15:06:51.034Z"
   },
   {
    "duration": 376,
    "start_time": "2025-09-10T19:57:43.069Z"
   },
   {
    "duration": 242,
    "start_time": "2025-09-10T19:57:43.447Z"
   },
   {
    "duration": 563,
    "start_time": "2025-09-10T19:57:43.690Z"
   },
   {
    "duration": 2493,
    "start_time": "2025-09-10T19:57:44.255Z"
   },
   {
    "duration": 56,
    "start_time": "2025-09-10T19:57:46.751Z"
   },
   {
    "duration": 71,
    "start_time": "2025-09-10T19:57:46.809Z"
   },
   {
    "duration": 25,
    "start_time": "2025-09-10T19:57:46.882Z"
   },
   {
    "duration": 17,
    "start_time": "2025-09-10T19:57:46.909Z"
   },
   {
    "duration": 21,
    "start_time": "2025-09-10T19:57:46.928Z"
   },
   {
    "duration": 16,
    "start_time": "2025-09-10T19:57:46.951Z"
   },
   {
    "duration": 63,
    "start_time": "2025-09-10T19:57:46.969Z"
   },
   {
    "duration": 12,
    "start_time": "2025-09-10T19:57:47.034Z"
   },
   {
    "duration": 16,
    "start_time": "2025-09-10T19:57:47.047Z"
   },
   {
    "duration": 16,
    "start_time": "2025-09-10T19:57:47.222Z"
   },
   {
    "duration": 6,
    "start_time": "2025-09-10T19:57:47.623Z"
   },
   {
    "duration": 4,
    "start_time": "2025-09-10T19:57:48.225Z"
   },
   {
    "duration": 21,
    "start_time": "2025-09-10T19:57:48.853Z"
   },
   {
    "duration": 25,
    "start_time": "2025-09-10T19:57:50.440Z"
   },
   {
    "duration": 114,
    "start_time": "2025-09-10T19:57:50.634Z"
   },
   {
    "duration": 45,
    "start_time": "2025-09-10T19:57:51.219Z"
   },
   {
    "duration": 10,
    "start_time": "2025-09-10T19:57:51.443Z"
   },
   {
    "duration": 83,
    "start_time": "2025-09-10T19:57:51.655Z"
   },
   {
    "duration": 22,
    "start_time": "2025-09-10T19:57:52.097Z"
   },
   {
    "duration": 7,
    "start_time": "2025-09-10T19:57:52.701Z"
   },
   {
    "duration": 6,
    "start_time": "2025-09-10T19:57:52.910Z"
   },
   {
    "duration": 10,
    "start_time": "2025-09-10T19:57:56.129Z"
   },
   {
    "duration": 191,
    "start_time": "2025-09-10T19:57:56.342Z"
   },
   {
    "duration": 10,
    "start_time": "2025-09-10T19:57:57.663Z"
   },
   {
    "duration": 214,
    "start_time": "2025-09-10T19:57:58.006Z"
   },
   {
    "duration": 13,
    "start_time": "2025-09-10T19:57:59.400Z"
   },
   {
    "duration": 185,
    "start_time": "2025-09-10T19:57:59.693Z"
   },
   {
    "duration": 137,
    "start_time": "2025-09-10T19:58:00.702Z"
   },
   {
    "duration": 203,
    "start_time": "2025-09-10T19:58:01.731Z"
   },
   {
    "duration": 156,
    "start_time": "2025-09-10T19:58:03.131Z"
   },
   {
    "duration": 99,
    "start_time": "2025-09-10T19:58:03.300Z"
   },
   {
    "duration": 283,
    "start_time": "2025-09-10T19:58:03.502Z"
   },
   {
    "duration": 35,
    "start_time": "2025-09-10T19:58:03.941Z"
   },
   {
    "duration": 10,
    "start_time": "2025-09-10T19:58:05.028Z"
   },
   {
    "duration": 33,
    "start_time": "2025-09-10T19:58:05.499Z"
   },
   {
    "duration": 180,
    "start_time": "2025-09-10T19:58:05.849Z"
   },
   {
    "duration": 1070,
    "start_time": "2025-09-10T19:58:07.023Z"
   },
   {
    "duration": 169,
    "start_time": "2025-09-10T19:58:08.096Z"
   },
   {
    "duration": 28,
    "start_time": "2025-09-10T19:58:13.119Z"
   },
   {
    "duration": 12593,
    "start_time": "2025-09-10T19:58:13.534Z"
   },
   {
    "duration": 13099,
    "start_time": "2025-09-10T19:58:26.130Z"
   },
   {
    "duration": 613,
    "start_time": "2025-09-10T19:58:39.235Z"
   },
   {
    "duration": 164,
    "start_time": "2025-09-10T19:58:40.172Z"
   },
   {
    "duration": 27,
    "start_time": "2025-09-10T20:00:13.580Z"
   },
   {
    "duration": 28,
    "start_time": "2025-09-10T20:00:51.797Z"
   },
   {
    "duration": 251,
    "start_time": "2025-09-10T20:00:54.844Z"
   },
   {
    "duration": 242,
    "start_time": "2025-09-10T20:00:57.302Z"
   },
   {
    "duration": 59,
    "start_time": "2025-09-10T21:25:16.388Z"
   },
   {
    "duration": 10,
    "start_time": "2025-09-10T21:30:56.191Z"
   },
   {
    "duration": 37,
    "start_time": "2025-09-10T21:31:08.410Z"
   },
   {
    "duration": 9,
    "start_time": "2025-09-10T21:31:12.958Z"
   },
   {
    "duration": 3,
    "start_time": "2025-09-10T21:31:30.863Z"
   },
   {
    "duration": 459,
    "start_time": "2025-09-10T23:04:57.732Z"
   },
   {
    "duration": 445,
    "start_time": "2025-09-10T23:04:58.193Z"
   },
   {
    "duration": 571,
    "start_time": "2025-09-10T23:04:58.640Z"
   },
   {
    "duration": 3661,
    "start_time": "2025-09-10T23:04:59.214Z"
   },
   {
    "duration": 78,
    "start_time": "2025-09-10T23:05:02.877Z"
   },
   {
    "duration": 72,
    "start_time": "2025-09-10T23:05:02.957Z"
   },
   {
    "duration": 26,
    "start_time": "2025-09-10T23:05:03.031Z"
   },
   {
    "duration": 44,
    "start_time": "2025-09-10T23:05:03.059Z"
   },
   {
    "duration": 30,
    "start_time": "2025-09-10T23:05:03.105Z"
   },
   {
    "duration": 43,
    "start_time": "2025-09-10T23:05:03.138Z"
   },
   {
    "duration": 30,
    "start_time": "2025-09-10T23:05:03.182Z"
   },
   {
    "duration": 21,
    "start_time": "2025-09-10T23:05:03.215Z"
   },
   {
    "duration": 30,
    "start_time": "2025-09-10T23:05:03.238Z"
   },
   {
    "duration": 94,
    "start_time": "2025-09-10T23:05:03.270Z"
   },
   {
    "duration": 55,
    "start_time": "2025-09-10T23:05:03.366Z"
   },
   {
    "duration": 15,
    "start_time": "2025-09-10T23:05:03.422Z"
   },
   {
    "duration": 48,
    "start_time": "2025-09-10T23:05:03.438Z"
   },
   {
    "duration": 24,
    "start_time": "2025-09-10T23:05:03.488Z"
   },
   {
    "duration": 70,
    "start_time": "2025-09-10T23:05:03.514Z"
   },
   {
    "duration": 39,
    "start_time": "2025-09-10T23:05:03.586Z"
   },
   {
    "duration": 133,
    "start_time": "2025-09-10T23:05:03.627Z"
   },
   {
    "duration": 23,
    "start_time": "2025-09-10T23:05:03.762Z"
   },
   {
    "duration": 7,
    "start_time": "2025-09-10T23:05:03.787Z"
   },
   {
    "duration": 9,
    "start_time": "2025-09-10T23:05:03.795Z"
   },
   {
    "duration": 11,
    "start_time": "2025-09-10T23:05:03.805Z"
   },
   {
    "duration": 247,
    "start_time": "2025-09-10T23:05:03.817Z"
   },
   {
    "duration": 11,
    "start_time": "2025-09-10T23:05:04.066Z"
   },
   {
    "duration": 242,
    "start_time": "2025-09-10T23:05:04.081Z"
   },
   {
    "duration": 14,
    "start_time": "2025-09-10T23:05:04.325Z"
   },
   {
    "duration": 216,
    "start_time": "2025-09-10T23:05:04.352Z"
   },
   {
    "duration": 158,
    "start_time": "2025-09-10T23:05:04.570Z"
   },
   {
    "duration": 203,
    "start_time": "2025-09-10T23:05:04.729Z"
   },
   {
    "duration": 198,
    "start_time": "2025-09-10T23:05:04.934Z"
   },
   {
    "duration": 118,
    "start_time": "2025-09-10T23:05:05.133Z"
   },
   {
    "duration": 302,
    "start_time": "2025-09-10T23:05:05.253Z"
   },
   {
    "duration": 38,
    "start_time": "2025-09-10T23:05:05.557Z"
   },
   {
    "duration": 9,
    "start_time": "2025-09-10T23:05:05.596Z"
   },
   {
    "duration": 58,
    "start_time": "2025-09-10T23:05:05.607Z"
   },
   {
    "duration": 199,
    "start_time": "2025-09-10T23:05:05.667Z"
   },
   {
    "duration": 1146,
    "start_time": "2025-09-10T23:05:05.868Z"
   },
   {
    "duration": 179,
    "start_time": "2025-09-10T23:05:07.015Z"
   },
   {
    "duration": 30,
    "start_time": "2025-09-10T23:05:07.195Z"
   },
   {
    "duration": 281,
    "start_time": "2025-09-10T23:05:07.227Z"
   },
   {
    "duration": 248,
    "start_time": "2025-09-10T23:05:07.510Z"
   },
   {
    "duration": 597,
    "start_time": "2025-09-10T23:05:07.760Z"
   },
   {
    "duration": 157,
    "start_time": "2025-09-10T23:05:08.359Z"
   },
   {
    "duration": 12,
    "start_time": "2025-09-10T23:05:08.518Z"
   },
   {
    "duration": 261,
    "start_time": "2025-09-10T23:05:08.531Z"
   },
   {
    "duration": 159,
    "start_time": "2025-09-10T23:08:10.224Z"
   },
   {
    "duration": 110,
    "start_time": "2025-09-10T23:10:15.119Z"
   },
   {
    "duration": 13,
    "start_time": "2025-09-10T23:10:30.371Z"
   },
   {
    "duration": 49,
    "start_time": "2025-09-11T07:01:58.034Z"
   },
   {
    "duration": 382,
    "start_time": "2025-09-11T07:02:11.675Z"
   },
   {
    "duration": 387,
    "start_time": "2025-09-11T07:02:12.059Z"
   },
   {
    "duration": 515,
    "start_time": "2025-09-11T07:02:12.448Z"
   },
   {
    "duration": 3367,
    "start_time": "2025-09-11T07:02:12.965Z"
   },
   {
    "duration": 86,
    "start_time": "2025-09-11T07:02:16.334Z"
   },
   {
    "duration": 69,
    "start_time": "2025-09-11T07:02:16.422Z"
   },
   {
    "duration": 24,
    "start_time": "2025-09-11T07:02:16.492Z"
   },
   {
    "duration": 15,
    "start_time": "2025-09-11T07:02:16.518Z"
   },
   {
    "duration": 15,
    "start_time": "2025-09-11T07:02:16.535Z"
   },
   {
    "duration": 11,
    "start_time": "2025-09-11T07:02:16.552Z"
   },
   {
    "duration": 9,
    "start_time": "2025-09-11T07:02:16.564Z"
   },
   {
    "duration": 13,
    "start_time": "2025-09-11T07:02:16.575Z"
   },
   {
    "duration": 13,
    "start_time": "2025-09-11T07:02:16.590Z"
   },
   {
    "duration": 16,
    "start_time": "2025-09-11T07:02:17.059Z"
   },
   {
    "duration": 11,
    "start_time": "2025-09-11T07:02:17.579Z"
   },
   {
    "duration": 4,
    "start_time": "2025-09-11T07:02:19.432Z"
   },
   {
    "duration": 22,
    "start_time": "2025-09-11T07:02:21.637Z"
   },
   {
    "duration": 62,
    "start_time": "2025-09-11T07:02:22.415Z"
   },
   {
    "duration": 23,
    "start_time": "2025-09-11T07:02:27.385Z"
   },
   {
    "duration": 50,
    "start_time": "2025-09-11T07:02:30.932Z"
   },
   {
    "duration": 3,
    "start_time": "2025-09-11T07:02:31.988Z"
   },
   {
    "duration": 83,
    "start_time": "2025-09-11T07:02:33.265Z"
   },
   {
    "duration": 22,
    "start_time": "2025-09-11T07:02:37.958Z"
   },
   {
    "duration": 7,
    "start_time": "2025-09-11T07:02:40.195Z"
   },
   {
    "duration": 13,
    "start_time": "2025-09-11T07:02:50.329Z"
   },
   {
    "duration": 5,
    "start_time": "2025-09-11T07:04:01.947Z"
   },
   {
    "duration": 9,
    "start_time": "2025-09-11T07:04:07.897Z"
   },
   {
    "duration": 191,
    "start_time": "2025-09-11T07:04:08.336Z"
   },
   {
    "duration": 10,
    "start_time": "2025-09-11T07:04:09.570Z"
   },
   {
    "duration": 204,
    "start_time": "2025-09-11T07:04:09.788Z"
   },
   {
    "duration": 12,
    "start_time": "2025-09-11T07:04:10.776Z"
   },
   {
    "duration": 179,
    "start_time": "2025-09-11T07:04:10.980Z"
   },
   {
    "duration": 124,
    "start_time": "2025-09-11T07:04:12.004Z"
   },
   {
    "duration": 185,
    "start_time": "2025-09-11T07:04:12.631Z"
   },
   {
    "duration": 220,
    "start_time": "2025-09-11T07:04:13.922Z"
   },
   {
    "duration": 100,
    "start_time": "2025-09-11T07:04:14.368Z"
   },
   {
    "duration": 197,
    "start_time": "2025-09-11T07:04:14.793Z"
   },
   {
    "duration": 34,
    "start_time": "2025-09-11T07:04:15.226Z"
   },
   {
    "duration": 9,
    "start_time": "2025-09-11T07:04:16.354Z"
   },
   {
    "duration": 31,
    "start_time": "2025-09-11T07:04:16.806Z"
   },
   {
    "duration": 169,
    "start_time": "2025-09-11T07:04:16.995Z"
   },
   {
    "duration": 1037,
    "start_time": "2025-09-11T07:04:18.130Z"
   },
   {
    "duration": 159,
    "start_time": "2025-09-11T07:04:19.169Z"
   },
   {
    "duration": 25,
    "start_time": "2025-09-11T07:04:20.320Z"
   },
   {
    "duration": 248,
    "start_time": "2025-09-11T07:04:20.752Z"
   },
   {
    "duration": 232,
    "start_time": "2025-09-11T07:04:21.184Z"
   },
   {
    "duration": 523,
    "start_time": "2025-09-11T07:04:22.472Z"
   },
   {
    "duration": 229,
    "start_time": "2025-09-11T07:04:22.997Z"
   },
   {
    "duration": 12,
    "start_time": "2025-09-11T07:04:23.378Z"
   },
   {
    "duration": 234,
    "start_time": "2025-09-11T07:04:23.819Z"
   },
   {
    "duration": 7,
    "start_time": "2025-09-11T07:06:28.083Z"
   },
   {
    "duration": 19,
    "start_time": "2025-09-11T07:06:45.450Z"
   },
   {
    "duration": 190,
    "start_time": "2025-09-11T07:09:19.195Z"
   },
   {
    "duration": 186,
    "start_time": "2025-09-11T07:10:16.453Z"
   },
   {
    "duration": 71,
    "start_time": "2025-09-11T07:11:25.324Z"
   },
   {
    "duration": 12,
    "start_time": "2025-09-11T07:11:48.676Z"
   },
   {
    "duration": 7,
    "start_time": "2025-09-11T07:12:15.839Z"
   },
   {
    "duration": 8,
    "start_time": "2025-09-11T07:12:38.526Z"
   },
   {
    "duration": 6,
    "start_time": "2025-09-11T07:12:49.076Z"
   },
   {
    "duration": 19,
    "start_time": "2025-09-11T07:16:05.180Z"
   },
   {
    "duration": 98,
    "start_time": "2025-09-11T07:16:40.005Z"
   },
   {
    "duration": 13,
    "start_time": "2025-09-11T07:16:59.644Z"
   },
   {
    "duration": 102,
    "start_time": "2025-09-11T07:17:01.631Z"
   },
   {
    "duration": 125,
    "start_time": "2025-09-11T07:18:17.848Z"
   },
   {
    "duration": 108,
    "start_time": "2025-09-11T07:18:32.370Z"
   },
   {
    "duration": 105,
    "start_time": "2025-09-11T07:18:58.913Z"
   },
   {
    "duration": 114,
    "start_time": "2025-09-11T07:19:34.613Z"
   },
   {
    "duration": 7,
    "start_time": "2025-09-11T07:23:02.529Z"
   },
   {
    "duration": 13,
    "start_time": "2025-09-11T07:23:07.292Z"
   },
   {
    "duration": 21,
    "start_time": "2025-09-11T07:24:17.196Z"
   },
   {
    "duration": 8,
    "start_time": "2025-09-11T07:24:20.916Z"
   },
   {
    "duration": 13,
    "start_time": "2025-09-11T07:24:34.481Z"
   },
   {
    "duration": 386,
    "start_time": "2025-09-11T18:07:04.312Z"
   },
   {
    "duration": 245,
    "start_time": "2025-09-11T18:07:04.700Z"
   },
   {
    "duration": 559,
    "start_time": "2025-09-11T18:07:04.946Z"
   },
   {
    "duration": 2520,
    "start_time": "2025-09-11T18:07:05.506Z"
   },
   {
    "duration": 65,
    "start_time": "2025-09-11T18:07:08.030Z"
   },
   {
    "duration": 63,
    "start_time": "2025-09-11T18:07:08.097Z"
   },
   {
    "duration": 25,
    "start_time": "2025-09-11T18:07:08.162Z"
   },
   {
    "duration": 16,
    "start_time": "2025-09-11T18:07:08.189Z"
   },
   {
    "duration": 99,
    "start_time": "2025-09-11T18:07:08.206Z"
   },
   {
    "duration": 13,
    "start_time": "2025-09-11T18:07:08.306Z"
   },
   {
    "duration": 11,
    "start_time": "2025-09-11T18:07:08.320Z"
   },
   {
    "duration": 13,
    "start_time": "2025-09-11T18:07:08.333Z"
   },
   {
    "duration": 15,
    "start_time": "2025-09-11T18:07:08.348Z"
   },
   {
    "duration": 19,
    "start_time": "2025-09-11T18:07:08.378Z"
   },
   {
    "duration": 38,
    "start_time": "2025-09-11T18:07:08.398Z"
   },
   {
    "duration": 12,
    "start_time": "2025-09-11T18:07:08.437Z"
   },
   {
    "duration": 36,
    "start_time": "2025-09-11T18:07:08.451Z"
   },
   {
    "duration": 63,
    "start_time": "2025-09-11T18:07:08.489Z"
   },
   {
    "duration": 39,
    "start_time": "2025-09-11T18:07:08.554Z"
   },
   {
    "duration": 46,
    "start_time": "2025-09-11T18:07:08.595Z"
   },
   {
    "duration": 3,
    "start_time": "2025-09-11T18:07:08.643Z"
   },
   {
    "duration": 106,
    "start_time": "2025-09-11T18:07:08.647Z"
   },
   {
    "duration": 31,
    "start_time": "2025-09-11T18:07:08.754Z"
   },
   {
    "duration": 7,
    "start_time": "2025-09-11T18:07:08.787Z"
   },
   {
    "duration": 14,
    "start_time": "2025-09-11T18:07:08.795Z"
   },
   {
    "duration": 5,
    "start_time": "2025-09-11T18:07:08.811Z"
   },
   {
    "duration": 21,
    "start_time": "2025-09-11T18:07:08.817Z"
   },
   {
    "duration": 217,
    "start_time": "2025-09-11T18:07:08.840Z"
   },
   {
    "duration": 10,
    "start_time": "2025-09-11T18:07:09.059Z"
   },
   {
    "duration": 227,
    "start_time": "2025-09-11T18:07:09.076Z"
   },
   {
    "duration": 12,
    "start_time": "2025-09-11T18:07:09.304Z"
   },
   {
    "duration": 200,
    "start_time": "2025-09-11T18:07:09.318Z"
   },
   {
    "duration": 147,
    "start_time": "2025-09-11T18:07:09.519Z"
   },
   {
    "duration": 198,
    "start_time": "2025-09-11T18:07:09.667Z"
   },
   {
    "duration": 167,
    "start_time": "2025-09-11T18:07:09.866Z"
   },
   {
    "duration": 199,
    "start_time": "2025-09-11T18:07:10.036Z"
   },
   {
    "duration": 195,
    "start_time": "2025-09-11T18:07:10.237Z"
   },
   {
    "duration": 49,
    "start_time": "2025-09-11T18:07:10.434Z"
   },
   {
    "duration": 8,
    "start_time": "2025-09-11T18:07:10.484Z"
   },
   {
    "duration": 40,
    "start_time": "2025-09-11T18:07:10.493Z"
   },
   {
    "duration": 190,
    "start_time": "2025-09-11T18:07:10.537Z"
   },
   {
    "duration": 1090,
    "start_time": "2025-09-11T18:07:10.730Z"
   },
   {
    "duration": 218,
    "start_time": "2025-09-11T18:07:11.822Z"
   },
   {
    "duration": 9,
    "start_time": "2025-09-11T18:07:12.043Z"
   },
   {
    "duration": 169,
    "start_time": "2025-09-11T18:07:12.054Z"
   },
   {
    "duration": 13,
    "start_time": "2025-09-11T18:07:12.226Z"
   },
   {
    "duration": 176,
    "start_time": "2025-09-11T18:07:12.241Z"
   },
   {
    "duration": 23,
    "start_time": "2025-09-11T18:07:12.419Z"
   },
   {
    "duration": 271,
    "start_time": "2025-09-11T18:07:12.444Z"
   },
   {
    "duration": 240,
    "start_time": "2025-09-11T18:07:12.716Z"
   },
   {
    "duration": 595,
    "start_time": "2025-09-11T18:07:12.958Z"
   },
   {
    "duration": 252,
    "start_time": "2025-09-11T18:07:13.554Z"
   },
   {
    "duration": 12,
    "start_time": "2025-09-11T18:07:13.808Z"
   },
   {
    "duration": 267,
    "start_time": "2025-09-11T18:07:13.821Z"
   },
   {
    "duration": 52,
    "start_time": "2025-09-12T07:00:02.466Z"
   },
   {
    "duration": 448,
    "start_time": "2025-09-12T07:00:14.303Z"
   },
   {
    "duration": 446,
    "start_time": "2025-09-12T07:00:14.753Z"
   },
   {
    "duration": 568,
    "start_time": "2025-09-12T07:00:15.202Z"
   },
   {
    "duration": 3452,
    "start_time": "2025-09-12T07:00:15.773Z"
   },
   {
    "duration": 70,
    "start_time": "2025-09-12T07:00:19.227Z"
   },
   {
    "duration": 61,
    "start_time": "2025-09-12T07:00:19.299Z"
   },
   {
    "duration": 25,
    "start_time": "2025-09-12T07:00:19.363Z"
   },
   {
    "duration": 16,
    "start_time": "2025-09-12T07:00:19.390Z"
   },
   {
    "duration": 16,
    "start_time": "2025-09-12T07:00:19.408Z"
   },
   {
    "duration": 12,
    "start_time": "2025-09-12T07:00:19.426Z"
   },
   {
    "duration": 20,
    "start_time": "2025-09-12T07:00:19.439Z"
   },
   {
    "duration": 15,
    "start_time": "2025-09-12T07:00:19.461Z"
   },
   {
    "duration": 37,
    "start_time": "2025-09-12T07:00:19.477Z"
   },
   {
    "duration": 16,
    "start_time": "2025-09-12T07:00:21.882Z"
   },
   {
    "duration": 6,
    "start_time": "2025-09-12T07:00:22.208Z"
   },
   {
    "duration": 4,
    "start_time": "2025-09-12T07:00:22.752Z"
   },
   {
    "duration": 23,
    "start_time": "2025-09-12T07:00:23.481Z"
   },
   {
    "duration": 67,
    "start_time": "2025-09-12T07:00:23.832Z"
   },
   {
    "duration": 23,
    "start_time": "2025-09-12T07:00:25.278Z"
   },
   {
    "duration": 48,
    "start_time": "2025-09-12T07:00:25.863Z"
   },
   {
    "duration": 4,
    "start_time": "2025-09-12T07:00:26.065Z"
   },
   {
    "duration": 93,
    "start_time": "2025-09-12T07:00:26.359Z"
   },
   {
    "duration": 277,
    "start_time": "2025-09-12T07:00:26.953Z"
   },
   {
    "duration": 4,
    "start_time": "2025-09-12T07:00:27.280Z"
   },
   {
    "duration": 12,
    "start_time": "2025-09-12T07:00:27.683Z"
   },
   {
    "duration": 5,
    "start_time": "2025-09-12T07:00:28.765Z"
   },
   {
    "duration": 10,
    "start_time": "2025-09-12T07:00:30.474Z"
   },
   {
    "duration": 196,
    "start_time": "2025-09-12T07:00:30.844Z"
   },
   {
    "duration": 10,
    "start_time": "2025-09-12T07:00:31.967Z"
   },
   {
    "duration": 215,
    "start_time": "2025-09-12T07:00:32.156Z"
   },
   {
    "duration": 12,
    "start_time": "2025-09-12T07:00:33.125Z"
   },
   {
    "duration": 196,
    "start_time": "2025-09-12T07:00:33.308Z"
   },
   {
    "duration": 142,
    "start_time": "2025-09-12T07:00:34.276Z"
   },
   {
    "duration": 195,
    "start_time": "2025-09-12T07:00:34.820Z"
   },
   {
    "duration": 248,
    "start_time": "2025-09-12T07:00:35.965Z"
   },
   {
    "duration": 95,
    "start_time": "2025-09-12T07:00:36.322Z"
   },
   {
    "duration": 206,
    "start_time": "2025-09-12T07:00:36.669Z"
   },
   {
    "duration": 38,
    "start_time": "2025-09-12T07:00:37.036Z"
   },
   {
    "duration": 9,
    "start_time": "2025-09-12T07:00:37.969Z"
   },
   {
    "duration": 33,
    "start_time": "2025-09-12T07:00:38.324Z"
   },
   {
    "duration": 188,
    "start_time": "2025-09-12T07:00:38.500Z"
   },
   {
    "duration": 18,
    "start_time": "2025-09-12T07:00:39.409Z"
   },
   {
    "duration": 13,
    "start_time": "2025-09-12T07:00:39.792Z"
   },
   {
    "duration": 8,
    "start_time": "2025-09-12T07:00:40.556Z"
   },
   {
    "duration": 160,
    "start_time": "2025-09-12T07:00:40.944Z"
   },
   {
    "duration": 15,
    "start_time": "2025-09-12T07:00:41.342Z"
   },
   {
    "duration": 119,
    "start_time": "2025-09-12T07:00:41.559Z"
   },
   {
    "duration": 26,
    "start_time": "2025-09-12T07:00:43.001Z"
   },
   {
    "duration": 246,
    "start_time": "2025-09-12T07:00:43.416Z"
   },
   {
    "duration": 236,
    "start_time": "2025-09-12T07:00:43.859Z"
   },
   {
    "duration": 665,
    "start_time": "2025-09-12T07:00:45.172Z"
   },
   {
    "duration": 153,
    "start_time": "2025-09-12T07:00:45.839Z"
   },
   {
    "duration": 12,
    "start_time": "2025-09-12T07:00:46.064Z"
   },
   {
    "duration": 342,
    "start_time": "2025-09-12T07:00:46.475Z"
   },
   {
    "duration": 277,
    "start_time": "2025-09-12T07:01:23.110Z"
   },
   {
    "duration": 10,
    "start_time": "2025-09-12T07:03:57.475Z"
   },
   {
    "duration": 7,
    "start_time": "2025-09-12T07:04:00.274Z"
   },
   {
    "duration": 13,
    "start_time": "2025-09-12T07:04:02.685Z"
   },
   {
    "duration": 409,
    "start_time": "2025-09-12T15:36:17.549Z"
   },
   {
    "duration": 262,
    "start_time": "2025-09-12T15:36:17.960Z"
   },
   {
    "duration": 503,
    "start_time": "2025-09-12T15:36:18.224Z"
   },
   {
    "duration": 2299,
    "start_time": "2025-09-12T15:36:18.729Z"
   },
   {
    "duration": 72,
    "start_time": "2025-09-12T15:36:21.030Z"
   },
   {
    "duration": 57,
    "start_time": "2025-09-12T15:36:21.104Z"
   },
   {
    "duration": 24,
    "start_time": "2025-09-12T15:36:21.163Z"
   },
   {
    "duration": 24,
    "start_time": "2025-09-12T15:36:21.189Z"
   },
   {
    "duration": 29,
    "start_time": "2025-09-12T15:36:21.214Z"
   },
   {
    "duration": 11,
    "start_time": "2025-09-12T15:36:21.245Z"
   },
   {
    "duration": 9,
    "start_time": "2025-09-12T15:36:21.257Z"
   },
   {
    "duration": 13,
    "start_time": "2025-09-12T15:36:21.267Z"
   },
   {
    "duration": 15,
    "start_time": "2025-09-12T15:36:21.282Z"
   },
   {
    "duration": 32,
    "start_time": "2025-09-12T15:36:21.299Z"
   },
   {
    "duration": 5,
    "start_time": "2025-09-12T15:36:21.333Z"
   },
   {
    "duration": 3,
    "start_time": "2025-09-12T15:36:21.340Z"
   },
   {
    "duration": 27,
    "start_time": "2025-09-12T15:36:21.345Z"
   },
   {
    "duration": 82,
    "start_time": "2025-09-12T15:36:21.374Z"
   },
   {
    "duration": 22,
    "start_time": "2025-09-12T15:36:21.457Z"
   },
   {
    "duration": 57,
    "start_time": "2025-09-12T15:36:21.480Z"
   },
   {
    "duration": 4,
    "start_time": "2025-09-12T15:36:21.538Z"
   },
   {
    "duration": 102,
    "start_time": "2025-09-12T15:36:21.543Z"
   },
   {
    "duration": 9,
    "start_time": "2025-09-12T15:36:21.647Z"
   },
   {
    "duration": 6,
    "start_time": "2025-09-12T15:36:21.658Z"
   },
   {
    "duration": 13,
    "start_time": "2025-09-12T15:36:21.665Z"
   },
   {
    "duration": 5,
    "start_time": "2025-09-12T15:36:21.679Z"
   },
   {
    "duration": 39,
    "start_time": "2025-09-12T15:36:21.685Z"
   },
   {
    "duration": 196,
    "start_time": "2025-09-12T15:36:21.728Z"
   },
   {
    "duration": 10,
    "start_time": "2025-09-12T15:36:21.926Z"
   },
   {
    "duration": 225,
    "start_time": "2025-09-12T15:36:21.938Z"
   },
   {
    "duration": 11,
    "start_time": "2025-09-12T15:36:22.165Z"
   },
   {
    "duration": 186,
    "start_time": "2025-09-12T15:36:22.177Z"
   },
   {
    "duration": 133,
    "start_time": "2025-09-12T15:36:22.365Z"
   },
   {
    "duration": 187,
    "start_time": "2025-09-12T15:36:22.499Z"
   },
   {
    "duration": 148,
    "start_time": "2025-09-12T15:36:22.688Z"
   },
   {
    "duration": 182,
    "start_time": "2025-09-12T15:36:22.838Z"
   },
   {
    "duration": 197,
    "start_time": "2025-09-12T15:36:23.022Z"
   },
   {
    "duration": 34,
    "start_time": "2025-09-12T15:36:23.220Z"
   },
   {
    "duration": 9,
    "start_time": "2025-09-12T15:36:23.255Z"
   },
   {
    "duration": 32,
    "start_time": "2025-09-12T15:36:23.265Z"
   },
   {
    "duration": 186,
    "start_time": "2025-09-12T15:36:23.320Z"
   },
   {
    "duration": 1041,
    "start_time": "2025-09-12T15:36:23.508Z"
   },
   {
    "duration": 209,
    "start_time": "2025-09-12T15:36:24.551Z"
   },
   {
    "duration": 8,
    "start_time": "2025-09-12T15:36:24.761Z"
   },
   {
    "duration": 175,
    "start_time": "2025-09-12T15:36:24.770Z"
   },
   {
    "duration": 14,
    "start_time": "2025-09-12T15:36:24.946Z"
   },
   {
    "duration": 130,
    "start_time": "2025-09-12T15:36:24.961Z"
   },
   {
    "duration": 33,
    "start_time": "2025-09-12T15:36:25.092Z"
   },
   {
    "duration": 231,
    "start_time": "2025-09-12T15:36:25.126Z"
   },
   {
    "duration": 222,
    "start_time": "2025-09-12T15:36:25.359Z"
   },
   {
    "duration": 552,
    "start_time": "2025-09-12T15:36:25.583Z"
   },
   {
    "duration": 225,
    "start_time": "2025-09-12T15:36:26.136Z"
   },
   {
    "duration": 11,
    "start_time": "2025-09-12T15:36:26.362Z"
   },
   {
    "duration": 243,
    "start_time": "2025-09-12T15:36:26.374Z"
   },
   {
    "duration": 449,
    "start_time": "2025-09-13T08:35:09.317Z"
   },
   {
    "duration": 312,
    "start_time": "2025-09-13T08:35:09.768Z"
   },
   {
    "duration": 521,
    "start_time": "2025-09-13T08:35:10.082Z"
   },
   {
    "duration": 3575,
    "start_time": "2025-09-13T08:35:10.605Z"
   },
   {
    "duration": 64,
    "start_time": "2025-09-13T08:35:14.182Z"
   },
   {
    "duration": 71,
    "start_time": "2025-09-13T08:35:14.248Z"
   },
   {
    "duration": 27,
    "start_time": "2025-09-13T08:35:14.321Z"
   },
   {
    "duration": 18,
    "start_time": "2025-09-13T08:35:14.350Z"
   },
   {
    "duration": 57,
    "start_time": "2025-09-13T08:35:14.370Z"
   },
   {
    "duration": 21,
    "start_time": "2025-09-13T08:35:14.429Z"
   },
   {
    "duration": 12,
    "start_time": "2025-09-13T08:35:14.452Z"
   },
   {
    "duration": 12,
    "start_time": "2025-09-13T08:35:15.298Z"
   },
   {
    "duration": 15,
    "start_time": "2025-09-13T08:35:15.469Z"
   },
   {
    "duration": 17,
    "start_time": "2025-09-13T08:35:16.821Z"
   },
   {
    "duration": 6,
    "start_time": "2025-09-13T08:35:17.855Z"
   },
   {
    "duration": 4,
    "start_time": "2025-09-13T08:35:20.817Z"
   },
   {
    "duration": 23,
    "start_time": "2025-09-13T08:35:22.822Z"
   },
   {
    "duration": 69,
    "start_time": "2025-09-13T08:35:24.325Z"
   },
   {
    "duration": 22,
    "start_time": "2025-09-13T08:35:30.061Z"
   },
   {
    "duration": 19,
    "start_time": "2025-09-13T08:35:42.461Z"
   },
   {
    "duration": 49,
    "start_time": "2025-09-17T12:35:09.631Z"
   },
   {
    "duration": 475,
    "start_time": "2025-09-19T06:20:49.498Z"
   },
   {
    "duration": 452,
    "start_time": "2025-09-19T06:20:49.974Z"
   },
   {
    "duration": 574,
    "start_time": "2025-09-19T06:20:50.428Z"
   },
   {
    "duration": 3489,
    "start_time": "2025-09-19T06:20:51.004Z"
   },
   {
    "duration": 63,
    "start_time": "2025-09-19T06:20:54.494Z"
   },
   {
    "duration": 71,
    "start_time": "2025-09-19T06:20:54.558Z"
   },
   {
    "duration": 28,
    "start_time": "2025-09-19T06:20:54.630Z"
   },
   {
    "duration": 20,
    "start_time": "2025-09-19T06:20:54.659Z"
   },
   {
    "duration": 16,
    "start_time": "2025-09-19T06:20:54.681Z"
   },
   {
    "duration": 86,
    "start_time": "2025-09-19T06:20:54.698Z"
   },
   {
    "duration": 9,
    "start_time": "2025-09-19T06:20:54.786Z"
   },
   {
    "duration": 24,
    "start_time": "2025-09-19T06:20:54.797Z"
   },
   {
    "duration": 22,
    "start_time": "2025-09-19T06:20:54.823Z"
   },
   {
    "duration": 16,
    "start_time": "2025-09-19T06:20:54.847Z"
   },
   {
    "duration": 26,
    "start_time": "2025-09-19T06:20:54.865Z"
   },
   {
    "duration": 56,
    "start_time": "2025-09-19T06:20:54.893Z"
   },
   {
    "duration": 23,
    "start_time": "2025-09-19T06:20:54.951Z"
   },
   {
    "duration": 79,
    "start_time": "2025-09-19T06:20:54.976Z"
   },
   {
    "duration": 3,
    "start_time": "2025-09-19T06:20:55.057Z"
   },
   {
    "duration": 169,
    "start_time": "2025-09-19T06:20:55.062Z"
   },
   {
    "duration": 18,
    "start_time": "2025-09-19T06:20:55.234Z"
   },
   {
    "duration": 9,
    "start_time": "2025-09-19T06:20:55.961Z"
   },
   {
    "duration": 219,
    "start_time": "2025-09-19T06:20:56.140Z"
   },
   {
    "duration": 9,
    "start_time": "2025-09-19T06:20:56.806Z"
   },
   {
    "duration": 228,
    "start_time": "2025-09-19T06:20:56.987Z"
   },
   {
    "duration": 12,
    "start_time": "2025-09-19T06:20:57.411Z"
   },
   {
    "duration": 208,
    "start_time": "2025-09-19T06:20:58.232Z"
   },
   {
    "duration": 142,
    "start_time": "2025-09-19T06:20:58.872Z"
   },
   {
    "duration": 210,
    "start_time": "2025-09-19T06:20:59.981Z"
   },
   {
    "duration": 169,
    "start_time": "2025-09-19T06:21:02.253Z"
   },
   {
    "duration": 110,
    "start_time": "2025-09-19T06:21:02.445Z"
   },
   {
    "duration": 311,
    "start_time": "2025-09-19T06:21:02.632Z"
   },
   {
    "duration": 36,
    "start_time": "2025-09-19T06:21:02.946Z"
   },
   {
    "duration": 13,
    "start_time": "2025-09-19T06:21:03.435Z"
   },
   {
    "duration": 37,
    "start_time": "2025-09-19T06:21:03.639Z"
   },
   {
    "duration": 207,
    "start_time": "2025-09-19T06:21:03.831Z"
   },
   {
    "duration": 1112,
    "start_time": "2025-09-19T06:21:04.447Z"
   },
   {
    "duration": 219,
    "start_time": "2025-09-19T06:21:05.561Z"
   },
   {
    "duration": 6,
    "start_time": "2025-09-19T06:21:05.782Z"
   },
   {
    "duration": 188,
    "start_time": "2025-09-19T06:21:05.790Z"
   },
   {
    "duration": 14,
    "start_time": "2025-09-19T06:21:05.979Z"
   },
   {
    "duration": 213,
    "start_time": "2025-09-19T06:21:05.995Z"
   },
   {
    "duration": 41,
    "start_time": "2025-09-19T06:21:06.210Z"
   },
   {
    "duration": 328,
    "start_time": "2025-09-19T06:21:06.271Z"
   },
   {
    "duration": 264,
    "start_time": "2025-09-19T06:21:06.601Z"
   },
   {
    "duration": 624,
    "start_time": "2025-09-19T06:21:07.016Z"
   },
   {
    "duration": 159,
    "start_time": "2025-09-19T06:21:07.644Z"
   },
   {
    "duration": 12,
    "start_time": "2025-09-19T06:21:07.805Z"
   },
   {
    "duration": 380,
    "start_time": "2025-09-19T06:21:07.819Z"
   }
  ],
  "colab": {
   "provenance": []
  },
  "kernelspec": {
   "display_name": "Python 3 (ipykernel)",
   "language": "python",
   "name": "python3"
  },
  "language_info": {
   "codemirror_mode": {
    "name": "ipython",
    "version": 3
   },
   "file_extension": ".py",
   "mimetype": "text/x-python",
   "name": "python",
   "nbconvert_exporter": "python",
   "pygments_lexer": "ipython3",
   "version": "3.9.5"
  },
  "toc": {
   "base_numbering": 1,
   "nav_menu": {},
   "number_sections": true,
   "sideBar": true,
   "skip_h1_title": true,
   "title_cell": "Table of Contents",
   "title_sidebar": "Contents",
   "toc_cell": false,
   "toc_position": {
    "height": "621.6px",
    "left": "51px",
    "top": "250.525px",
    "width": "280.568px"
   },
   "toc_section_display": true,
   "toc_window_display": true
  }
 },
 "nbformat": 4,
 "nbformat_minor": 5
}
