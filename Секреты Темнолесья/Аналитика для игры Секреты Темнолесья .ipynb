{
 "cells": [
  {
   "cell_type": "markdown",
   "id": "e06910dd",
   "metadata": {
    "id": "e06910dd"
   },
   "source": [
    "# Аналитика для команды игры \"Секреты Темнолесья\"\n",
    "\n",
    "- Автор: Потапов Роман\n",
    "- Дата: 14.08.2025"
   ]
  },
  {
   "cell_type": "markdown",
   "id": "4149134c",
   "metadata": {
    "id": "4149134c"
   },
   "source": [
    "### Цели и задачи проекта\n",
    "\n",
    "Цель проекта:\n",
    "Провести анализ исторических данных о продажах компьютерных игр за период с 2000 по 2013 год, чтобы изучить развитие игровой индустрии, выявить популярные платформы, жанры и региональные предпочтения игроков. Результаты анализа будут использованы для создания статьи, направленной на привлечение новой аудитории к игре «Секреты Темнолесья».\n",
    "\n",
    "Задачи проекта:\n",
    "\n",
    "    1.Загрузить и изучить предоставленные данные, проверить их корректность.\n",
    "\n",
    "    2.Провести предобработку данных: исправить типы, обработать пропуски, устранить дубликаты.\n",
    "\n",
    "    3.Отфильтровать данные за период с 2000 по 2013 год.\n",
    "\n",
    "    4.Категоризировать игры по оценкам пользователей и критиков.\n",
    "\n",
    "    5.Выделить топ-7 платформ по количеству выпущенных игр."
   ]
  },
  {
   "cell_type": "markdown",
   "id": "4fecaf95",
   "metadata": {
    "id": "4fecaf95"
   },
   "source": [
    "### Содержимое проекта\n",
    "\n",
    "#### Загрузка и первичный анализ данных\n",
    "\n",
    "    - Импорт библиотек.\n",
    "\n",
    "    - Загрузка данных из new_games.csv.\n",
    "\n",
    "    - Проверка структуры данных.\n",
    "\n",
    "#### Предобработка данных\n",
    "\n",
    "    - Приведение названий столбцов к snake_case.\n",
    "\n",
    "    - Проверка и исправление типов данных.\n",
    "\n",
    "    - Обработка пропущенных значений.\n",
    "\n",
    "    - Устранение дубликатов (явных и неявных).\n",
    "\n",
    "#### Фильтрация данных\n",
    "\n",
    "    - Отбор игр, выпущенных с 2000 по 2013 год.\n",
    "\n",
    "#### Категоризация данных\n",
    "\n",
    "    - Разделение игр по оценкам пользователей (User_Score):\n",
    "\n",
    "    - Высокая (8–10), Средняя (3–8), Низкая (0–3).\n",
    "\n",
    "    - Разделение игр по оценкам критиков (Critic_Score):\n",
    "\n",
    "    - Высокая (80–100), Средняя (30–80), Низкая (0–30).\n",
    "\n",
    "#### Анализ данных\n",
    "\n",
    "    - Топ-7 платформ по количеству выпущенных игр.\n",
    "\n",
    "    - Анализ продаж по жанрам и регионам.\n",
    "\n",
    "#### Выводы"
   ]
  },
  {
   "cell_type": "code",
   "execution_count": 1,
   "id": "ebb66dc5",
   "metadata": {
    "id": "ebb66dc5"
   },
   "outputs": [],
   "source": [
    "import pandas as pd\n",
    "import numpy as np"
   ]
  },
  {
   "cell_type": "code",
   "execution_count": 2,
   "id": "ce87c1db",
   "metadata": {
    "id": "ce87c1db"
   },
   "outputs": [],
   "source": [
    "df = pd.read_csv('/datasets/new_games.csv')"
   ]
  },
  {
   "cell_type": "code",
   "execution_count": 3,
   "id": "3937acf7",
   "metadata": {
    "id": "3937acf7"
   },
   "outputs": [
    {
     "name": "stdout",
     "output_type": "stream",
     "text": [
      "<class 'pandas.core.frame.DataFrame'>\n",
      "RangeIndex: 16956 entries, 0 to 16955\n",
      "Data columns (total 11 columns):\n",
      " #   Column           Non-Null Count  Dtype  \n",
      "---  ------           --------------  -----  \n",
      " 0   Name             16954 non-null  object \n",
      " 1   Platform         16956 non-null  object \n",
      " 2   Year of Release  16681 non-null  float64\n",
      " 3   Genre            16954 non-null  object \n",
      " 4   NA sales         16956 non-null  float64\n",
      " 5   EU sales         16956 non-null  object \n",
      " 6   JP sales         16956 non-null  object \n",
      " 7   Other sales      16956 non-null  float64\n",
      " 8   Critic Score     8242 non-null   float64\n",
      " 9   User Score       10152 non-null  object \n",
      " 10  Rating           10085 non-null  object \n",
      "dtypes: float64(4), object(7)\n",
      "memory usage: 1.4+ MB\n"
     ]
    }
   ],
   "source": [
    "df.info()"
   ]
  },
  {
   "cell_type": "code",
   "execution_count": 4,
   "id": "d7c8eb4b",
   "metadata": {
    "id": "d7c8eb4b"
   },
   "outputs": [
    {
     "data": {
      "text/plain": [
       "Name                  2\n",
       "Platform              0\n",
       "Year of Release     275\n",
       "Genre                 2\n",
       "NA sales              0\n",
       "EU sales              0\n",
       "JP sales              0\n",
       "Other sales           0\n",
       "Critic Score       8714\n",
       "User Score         6804\n",
       "Rating             6871\n",
       "dtype: int64"
      ]
     },
     "execution_count": 4,
     "metadata": {},
     "output_type": "execute_result"
    }
   ],
   "source": [
    "df.isna().sum()"
   ]
  },
  {
   "cell_type": "code",
   "execution_count": 5,
   "id": "fc561cac",
   "metadata": {
    "id": "fc561cac"
   },
   "outputs": [
    {
     "data": {
      "text/plain": [
       "Name               0.000118\n",
       "Platform           0.000000\n",
       "Year of Release    0.016218\n",
       "Genre              0.000118\n",
       "NA sales           0.000000\n",
       "EU sales           0.000000\n",
       "JP sales           0.000000\n",
       "Other sales        0.000000\n",
       "Critic Score       0.513918\n",
       "User Score         0.401274\n",
       "Rating             0.405225\n",
       "dtype: float64"
      ]
     },
     "execution_count": 5,
     "metadata": {},
     "output_type": "execute_result"
    }
   ],
   "source": [
    "df.isna().sum() / df.shape[0]"
   ]
  },
  {
   "cell_type": "markdown",
   "id": "300ec7ee",
   "metadata": {
    "id": "81651b8d"
   },
   "source": [
    "- Всего в датафрейме 16956 строк, все столбцы соответствуют своему описанию. \n",
    "- Пропуски встречаются и довольно часто, наибольшее количество в стоблце \"Critic Score\" - 8714, что более 50%. В остальных столбцах также количество пропусков значительно: \"User Score\" - 6 804 или 40%, \"Rating\" - 6 871 или 41%. В столбцах \"Name\" и \"Year of Release\" количество пропусков менее значительно: 2 и 275 cоответственно.\n",
    "- Не во всех столбцах используются корректные типы данных: так, в столбце \"Year of Release\" тип данных нужно заменить на int64 для последующей корректной фильтрации данных в промежутке между 2000 и 2013 гг. включительно. Также столбцы \"EU Sales\", \"JP Sales\" по аналогии со столбцом \"Na sales\" нужно привести к типу данных float64, так как во всех трех столбцах содержаться данные о продажах в разных регионах. Столбец \"User Score\" требуется привести к типу float64 по аналогии со столбцом \"Critic Score\", так как в обоих столбцах содержаться данные об оценках пользователей и критиков.\n",
    "- Все столбцы требуется привести к виду snake case"
   ]
  },
  {
   "cell_type": "markdown",
   "id": "774bf76e",
   "metadata": {
    "id": "774bf76e"
   },
   "source": [
    "---\n",
    "\n",
    "## 2.  Проверка ошибок в данных и их предобработка\n"
   ]
  },
  {
   "cell_type": "code",
   "execution_count": 6,
   "id": "b9276a2b",
   "metadata": {
    "id": "b9276a2b"
   },
   "outputs": [
    {
     "data": {
      "text/plain": [
       "Index(['Name', 'Platform', 'Year of Release', 'Genre', 'NA sales', 'EU sales',\n",
       "       'JP sales', 'Other sales', 'Critic Score', 'User Score', 'Rating'],\n",
       "      dtype='object')"
      ]
     },
     "execution_count": 6,
     "metadata": {},
     "output_type": "execute_result"
    }
   ],
   "source": [
    "df.columns"
   ]
  },
  {
   "cell_type": "code",
   "execution_count": 7,
   "id": "d554563c",
   "metadata": {
    "id": "d554563c"
   },
   "outputs": [],
   "source": [
    "df.columns = df.columns.str.lower().str.replace(' ', '_')"
   ]
  },
  {
   "cell_type": "markdown",
   "id": "41bc6bf8",
   "metadata": {
    "id": "41bc6bf8"
   },
   "source": [
    "### 2.2. Типы данных"
   ]
  },
  {
   "cell_type": "markdown",
   "id": "00964ed5",
   "metadata": {
    "id": "8adaac81"
   },
   "source": [
    "Некорректные типы данных в столбцах могли появиться вследствие некорректного автоматического определения типа данных столбцов pandas"
   ]
  },
  {
   "cell_type": "code",
   "execution_count": 8,
   "id": "bd5dac9c",
   "metadata": {},
   "outputs": [],
   "source": [
    "df = df.dropna(subset = ['name', 'year_of_release', 'eu_sales', 'jp_sales'])"
   ]
  },
  {
   "cell_type": "code",
   "execution_count": 9,
   "id": "e8412c01",
   "metadata": {
    "id": "e8412c01",
    "scrolled": true
   },
   "outputs": [],
   "source": [
    "df['year_of_release'] = df['year_of_release'].astype('int64')"
   ]
  },
  {
   "cell_type": "code",
   "execution_count": 9,
   "id": "9c26fd2e",
   "metadata": {},
   "outputs": [
    {
     "data": {
      "text/plain": [
       "0        2006.0\n",
       "1        1985.0\n",
       "2        2008.0\n",
       "3        2009.0\n",
       "4        1996.0\n",
       "          ...  \n",
       "16951    2016.0\n",
       "16952    2006.0\n",
       "16953    2016.0\n",
       "16954    2003.0\n",
       "16955    2016.0\n",
       "Name: year_of_release, Length: 16956, dtype: float64"
      ]
     },
     "execution_count": 9,
     "metadata": {},
     "output_type": "execute_result"
    }
   ],
   "source": [
    "df['year_of_release']"
   ]
  },
  {
   "cell_type": "code",
   "execution_count": 10,
   "id": "2a153b1d",
   "metadata": {},
   "outputs": [],
   "source": [
    "df[['eu_sales', 'jp_sales']] = df[['eu_sales', 'jp_sales']].replace('unknown', np.nan)"
   ]
  },
  {
   "cell_type": "code",
   "execution_count": 11,
   "id": "29cfffa9",
   "metadata": {},
   "outputs": [],
   "source": [
    "df[['eu_sales', 'jp_sales']] = df[['eu_sales', 'jp_sales']].astype('float64')"
   ]
  },
  {
   "cell_type": "code",
   "execution_count": 12,
   "id": "5033ee32",
   "metadata": {
    "id": "5033ee32"
   },
   "outputs": [],
   "source": [
    "df['user_score'] = df['user_score'].replace('tbd', np.nan)"
   ]
  },
  {
   "cell_type": "code",
   "execution_count": 13,
   "id": "3a26fb26",
   "metadata": {
    "id": "3a26fb26"
   },
   "outputs": [],
   "source": [
    "df['user_score'] = df['user_score'].astype('float64')"
   ]
  },
  {
   "cell_type": "markdown",
   "id": "b39893cb",
   "metadata": {
    "id": "b39893cb"
   },
   "source": [
    "### 2.3. Наличие пропусков в данных\n"
   ]
  },
  {
   "cell_type": "code",
   "execution_count": 14,
   "id": "0f1c91a8",
   "metadata": {
    "id": "0f1c91a8"
   },
   "outputs": [
    {
     "data": {
      "text/plain": [
       "name                  2\n",
       "platform              0\n",
       "year_of_release     275\n",
       "genre                 2\n",
       "na_sales              0\n",
       "eu_sales              6\n",
       "jp_sales              4\n",
       "other_sales           0\n",
       "critic_score       8714\n",
       "user_score         9268\n",
       "rating             6871\n",
       "dtype: int64"
      ]
     },
     "execution_count": 14,
     "metadata": {},
     "output_type": "execute_result"
    }
   ],
   "source": [
    "df.isna().sum()"
   ]
  },
  {
   "cell_type": "code",
   "execution_count": 15,
   "id": "86cd1cc1",
   "metadata": {
    "id": "86cd1cc1"
   },
   "outputs": [
    {
     "data": {
      "text/plain": [
       "name               0.000118\n",
       "platform           0.000000\n",
       "year_of_release    0.016218\n",
       "genre              0.000118\n",
       "na_sales           0.000000\n",
       "eu_sales           0.000354\n",
       "jp_sales           0.000236\n",
       "other_sales        0.000000\n",
       "critic_score       0.513918\n",
       "user_score         0.546591\n",
       "rating             0.405225\n",
       "dtype: float64"
      ]
     },
     "execution_count": 15,
     "metadata": {},
     "output_type": "execute_result"
    }
   ],
   "source": [
    "df.isna().sum() / df.shape[0]"
   ]
  },
  {
   "cell_type": "markdown",
   "id": "fcc1a343",
   "metadata": {
    "id": "bd69e642"
   },
   "source": [
    "- Пропуски в столбце \"name\" скорее всего, типа MCAR, так как их количество незначительно(менее одного процента), то их можно удалить\n",
    "- Пропуски в столбце 'year_of_release' также типа MCAR, и так как их количество менее 2 процентов, можно их спокойно удалить\n",
    "- Пропуски в столбце \"critic_score\" составлют значительную часть от всех значений столбца(более 50 процентов). Установить корреляцию между пропусками в этом столбце и данными других столбцов не удалось, поэтому заменим пропуски на значение-индикатор -1, так же поступим и со столбцом \"user_score\".\n",
    "- Столбцы \"genre\", \"rating\" не будут использоваться в анализе, поэтому с пропусками в этих столбцах можно ничего не делать.\n",
    "- Столбцы \"eu_sales\", \"jp_sales\" содержат незначительное количество пропусков, поэтому их можно удалить"
   ]
  },
  {
   "cell_type": "code",
   "execution_count": 16,
   "id": "154be65d",
   "metadata": {
    "id": "154be65d"
   },
   "outputs": [],
   "source": [
    "df = df.dropna(subset = ['name', 'year_of_release', 'eu_sales', 'jp_sales'])"
   ]
  },
  {
   "cell_type": "code",
   "execution_count": 17,
   "id": "3f42817b",
   "metadata": {
    "id": "3f42817b"
   },
   "outputs": [],
   "source": [
    "df = df.copy()\n",
    "df['critic_score'] = df['critic_score'].fillna(-1)"
   ]
  },
  {
   "cell_type": "code",
   "execution_count": 18,
   "id": "2784c760",
   "metadata": {
    "id": "2784c760"
   },
   "outputs": [],
   "source": [
    "df = df.copy()\n",
    "df['user_score'] = df['user_score'].fillna(-1)"
   ]
  },
  {
   "cell_type": "markdown",
   "id": "a63363fd",
   "metadata": {
    "id": "a63363fd"
   },
   "source": [
    "### 2.4. Явные и неявные дубликаты в данных"
   ]
  },
  {
   "cell_type": "code",
   "execution_count": null,
   "id": "491c9c39",
   "metadata": {
    "id": "491c9c39",
    "scrolled": true
   },
   "outputs": [],
   "source": [
    "for column in ['name', 'genre', 'platform', 'critic_score', 'user_score', 'year_of_release']:\n",
    "    print(df[column].unique())"
   ]
  },
  {
   "cell_type": "code",
   "execution_count": null,
   "id": "f1627198",
   "metadata": {
    "id": "f1627198"
   },
   "outputs": [],
   "source": [
    "df['name'] = df['name'].str.lower()"
   ]
  },
  {
   "cell_type": "code",
   "execution_count": null,
   "id": "a0cac80c",
   "metadata": {
    "id": "a0cac80c"
   },
   "outputs": [],
   "source": [
    "df['genre'] = df['genre'].str.lower()"
   ]
  },
  {
   "cell_type": "code",
   "execution_count": null,
   "id": "fc5c91b5",
   "metadata": {
    "id": "fc5c91b5"
   },
   "outputs": [],
   "source": [
    "df.duplicated(subset = None).sum()"
   ]
  },
  {
   "cell_type": "code",
   "execution_count": null,
   "id": "2f61e076",
   "metadata": {
    "id": "2f61e076"
   },
   "outputs": [],
   "source": [
    "df.duplicated(subset = None).sum() / df.shape[0]"
   ]
  },
  {
   "cell_type": "code",
   "execution_count": null,
   "id": "29e57705",
   "metadata": {
    "id": "29e57705"
   },
   "outputs": [],
   "source": [
    "df.drop_duplicates(subset = None, inplace = True)"
   ]
  },
  {
   "cell_type": "code",
   "execution_count": null,
   "id": "76cf1ec7",
   "metadata": {},
   "outputs": [],
   "source": [
    "df.duplicated(subset = None).sum()"
   ]
  },
  {
   "cell_type": "markdown",
   "id": "f163ef97",
   "metadata": {
    "id": "8548f894"
   },
   "source": [
    "Для поиска неявных дубликатов мы привели все значения в столбцах \"name\", \"genre\" к нижнему регистру, а затем удалили все повторяющиеся строки"
   ]
  },
  {
   "cell_type": "markdown",
   "id": "26b70817",
   "metadata": {
    "id": "f9d8ee19"
   },
   "source": [
    "После предобработки данных имеем следующую картину:\n",
    "\n",
    "    - Количество строк до обработки: 16956\n",
    "    \n",
    "    - Количество строк после обработки: 16434\n",
    "    \n",
    "    - Количество удаленных строк: 522, что составляет 3% от общего числа строк"
   ]
  },
  {
   "cell_type": "markdown",
   "id": "47613d75",
   "metadata": {
    "id": "47613d75"
   },
   "source": [
    "- После проведения предобработки данных напишите общий промежуточный вывод."
   ]
  },
  {
   "cell_type": "markdown",
   "id": "e57cb025",
   "metadata": {
    "id": "5166fdf8"
   },
   "source": [
    " Загрузили и изучили предоставленные данные, проверили их корректность.\n",
    "\n",
    " Провели предобработку данных: исправили типы, обработали пропуски, устранили дубликаты."
   ]
  },
  {
   "cell_type": "markdown",
   "id": "613f0eb0",
   "metadata": {
    "id": "613f0eb0"
   },
   "source": [
    "---\n",
    "\n",
    "## 3. Фильтрация данных\n",
    "Фильтруем данные за период с 2000 по 2013 год."
   ]
  },
  {
   "cell_type": "code",
   "execution_count": null,
   "id": "2344916d",
   "metadata": {
    "id": "2344916d"
   },
   "outputs": [],
   "source": [
    "df_actual = df[(df['year_of_release'] >= 2000) & (df['year_of_release'] <= 2013)]"
   ]
  },
  {
   "cell_type": "markdown",
   "id": "a6f10b01",
   "metadata": {
    "id": "a6f10b01"
   },
   "source": [
    "---\n",
    "\n",
    "## 4. Категоризация данных\n",
    "   Категоризируем игры по оценкам пользователей и критиков."
   ]
  },
  {
   "cell_type": "code",
   "execution_count": null,
   "id": "3db87229",
   "metadata": {
    "id": "3db87229"
   },
   "outputs": [],
   "source": [
    "def users_grade(score):\n",
    "    if 8 <= score <= 10:\n",
    "        return 'Высокая оценка'\n",
    "    elif 3 <= score < 8:\n",
    "        return 'Средняя оценка'\n",
    "    else:\n",
    "        return 'Низкая оценка'\n",
    "    "
   ]
  },
  {
   "cell_type": "code",
   "execution_count": null,
   "id": "9b0ca0f2",
   "metadata": {
    "id": "9b0ca0f2"
   },
   "outputs": [],
   "source": [
    "df_actual = df_actual.copy()\n",
    "df_actual['user_grade'] = df_actual['user_score'].apply(users_grade)"
   ]
  },
  {
   "cell_type": "code",
   "execution_count": null,
   "id": "e3f7acb0",
   "metadata": {
    "id": "e3f7acb0"
   },
   "outputs": [],
   "source": [
    "def critics_grade(score):\n",
    "    if 80 <= score <= 100:\n",
    "        return 'Высокая оценка'\n",
    "    elif 30 <= score < 80:\n",
    "        return 'Средняя оценка'\n",
    "    else:\n",
    "        return 'Низкая оценка'"
   ]
  },
  {
   "cell_type": "code",
   "execution_count": null,
   "id": "548fde17",
   "metadata": {
    "id": "548fde17"
   },
   "outputs": [],
   "source": [
    "df_actual = df_actual.copy()\n",
    "df_actual['critic_grade'] = df_actual['critic_score'].apply(critics_grade)"
   ]
  },
  {
   "cell_type": "code",
   "execution_count": null,
   "id": "HW0Nsp-4UMSL",
   "metadata": {
    "id": "HW0Nsp-4UMSL"
   },
   "outputs": [],
   "source": [
    "grouped_user_grade_count = df_actual.groupby('user_grade')['name'].count()"
   ]
  },
  {
   "cell_type": "code",
   "execution_count": null,
   "id": "x2ne0HIpUMMD",
   "metadata": {
    "id": "x2ne0HIpUMMD"
   },
   "outputs": [],
   "source": [
    "grouped_critic_grade_count = df_actual.groupby('critic_grade')['name'].count()\n",
    "display(grouped_critic_grade_count)"
   ]
  },
  {
   "cell_type": "markdown",
   "id": "6a98444c",
   "metadata": {
    "id": "6a98444c"
   },
   "source": [
    "- Выделяем топ-7 платформ по количеству игр, выпущенных за весь актуальный период."
   ]
  },
  {
   "cell_type": "code",
   "execution_count": null,
   "id": "003caa2c",
   "metadata": {
    "id": "003caa2c",
    "scrolled": true
   },
   "outputs": [],
   "source": [
    "top_platform = df_actual.groupby('platform')['name'].count().sort_values(ascending=False).head(7)\n",
    "display(top_platform)"
   ]
  },
  {
   "cell_type": "markdown",
   "id": "c0158881",
   "metadata": {
    "id": "c0158881"
   },
   "source": [
    "---\n",
    "\n",
    "## 5. Итоговый вывод"
   ]
  },
  {
   "cell_type": "markdown",
   "id": "31be5e76",
   "metadata": {
    "id": "20175f5b"
   },
   "source": [
    "Во время выполнения проекта была проделана следующая работа:\n",
    "\n",
    "    - Загрузили и изучили предоставленные данные, проверили их корректность.\n",
    "\n",
    "    - Провели предобработку данных: исправили типы, обработали пропуски, устранили дубликаты.\n",
    "\n",
    "    - Отфильтровали данные за период с 2000 по 2013 год.\n",
    "\n",
    "    - Категоризировали игры по оценкам пользователей и критиков.\n",
    "\n",
    "    - Выделили топ-7 платформ по количеству выпущенных игр."
   ]
  },
  {
   "cell_type": "markdown",
   "id": "d30ad3ec",
   "metadata": {
    "id": "0c1afc40"
   },
   "source": [
    "Во время выполнения проекта также были добавлены следующие столбцы в исходный датафрейм:\n",
    "\n",
    "    - Столбец 'user_grade', в котором каждой игре присвоена своя категория(\"Высокая оценка\", \"Средння оценка\", \"Низкая \n",
    "    оценка\") в зависимости от оценок игроков\n",
    "    \n",
    "    - Столбец 'critic_grade', в котором каждой игре присвоена своя категория(\"Высокая оценка\", \"Средння оценка\", \"Низкая\n",
    "    оценка\") в зависимости от оценок критиков\n",
    "\n",
    "Также, исходя из требований заказчика, датафрейм был приведен к требуемому срезу, содержащему только игры, выпущенные в промежутке между 2000 и 2013 гг. включительно."
   ]
  }
 ],
 "metadata": {
  "ExecuteTimeLog": [
   {
    "duration": 426,
    "start_time": "2025-08-14T15:45:04.936Z"
   },
   {
    "duration": 56,
    "start_time": "2025-08-14T15:45:33.988Z"
   },
   {
    "duration": 44,
    "start_time": "2025-08-14T15:45:37.823Z"
   },
   {
    "duration": 17,
    "start_time": "2025-08-14T15:45:48.743Z"
   },
   {
    "duration": 17,
    "start_time": "2025-08-14T15:46:12.107Z"
   },
   {
    "duration": 389,
    "start_time": "2025-08-15T15:08:12.524Z"
   },
   {
    "duration": 48,
    "start_time": "2025-08-15T15:08:13.336Z"
   },
   {
    "duration": 18,
    "start_time": "2025-08-15T15:08:14.383Z"
   },
   {
    "duration": 17,
    "start_time": "2025-08-15T15:08:15.096Z"
   },
   {
    "duration": 14,
    "start_time": "2025-08-15T15:08:16.996Z"
   },
   {
    "duration": 5,
    "start_time": "2025-08-15T15:08:22.756Z"
   },
   {
    "duration": 5,
    "start_time": "2025-08-15T15:08:23.379Z"
   },
   {
    "duration": 76,
    "start_time": "2025-08-15T15:08:28.195Z"
   },
   {
    "duration": 11,
    "start_time": "2025-08-15T15:08:28.847Z"
   },
   {
    "duration": 6,
    "start_time": "2025-08-15T15:08:33.404Z"
   },
   {
    "duration": 7,
    "start_time": "2025-08-15T15:08:34.147Z"
   },
   {
    "duration": 10,
    "start_time": "2025-08-15T15:08:34.789Z"
   },
   {
    "duration": 5,
    "start_time": "2025-08-15T15:08:39.272Z"
   },
   {
    "duration": 5,
    "start_time": "2025-08-15T15:08:40.454Z"
   },
   {
    "duration": 12,
    "start_time": "2025-08-15T15:08:41.791Z"
   },
   {
    "duration": 17,
    "start_time": "2025-08-15T15:08:42.242Z"
   },
   {
    "duration": 10,
    "start_time": "2025-08-15T15:08:45.075Z"
   },
   {
    "duration": 5,
    "start_time": "2025-08-15T15:08:45.673Z"
   },
   {
    "duration": 4,
    "start_time": "2025-08-15T15:08:46.246Z"
   },
   {
    "duration": 12,
    "start_time": "2025-08-15T15:08:47.394Z"
   },
   {
    "duration": 11,
    "start_time": "2025-08-15T15:08:47.967Z"
   },
   {
    "duration": 8,
    "start_time": "2025-08-15T15:08:48.726Z"
   },
   {
    "duration": 17,
    "start_time": "2025-08-15T15:08:49.966Z"
   },
   {
    "duration": 15,
    "start_time": "2025-08-15T15:08:50.539Z"
   },
   {
    "duration": 15,
    "start_time": "2025-08-15T15:08:51.141Z"
   },
   {
    "duration": 18,
    "start_time": "2025-08-15T15:08:51.751Z"
   },
   {
    "duration": 6,
    "start_time": "2025-08-15T15:08:57.519Z"
   },
   {
    "duration": 4,
    "start_time": "2025-08-15T15:08:58.612Z"
   },
   {
    "duration": 10,
    "start_time": "2025-08-15T15:08:59.250Z"
   },
   {
    "duration": 3,
    "start_time": "2025-08-15T15:09:00.447Z"
   },
   {
    "duration": 9,
    "start_time": "2025-08-15T15:09:01.127Z"
   },
   {
    "duration": 7,
    "start_time": "2025-08-15T15:09:02.248Z"
   },
   {
    "duration": 7,
    "start_time": "2025-08-15T15:09:02.869Z"
   },
   {
    "duration": 12,
    "start_time": "2025-08-15T15:09:04.096Z"
   },
   {
    "duration": 9,
    "start_time": "2025-08-15T15:09:19.625Z"
   },
   {
    "duration": 4,
    "start_time": "2025-08-15T15:09:31.834Z"
   },
   {
    "duration": 10,
    "start_time": "2025-08-15T15:09:32.820Z"
   },
   {
    "duration": 6,
    "start_time": "2025-08-15T15:09:33.774Z"
   },
   {
    "duration": 3,
    "start_time": "2025-08-15T16:34:49.045Z"
   },
   {
    "duration": 58,
    "start_time": "2025-08-15T16:34:49.815Z"
   },
   {
    "duration": 21,
    "start_time": "2025-08-15T16:34:50.168Z"
   },
   {
    "duration": 12,
    "start_time": "2025-08-15T16:34:57.492Z"
   },
   {
    "duration": 13,
    "start_time": "2025-08-15T16:34:58.335Z"
   },
   {
    "duration": 5,
    "start_time": "2025-08-15T16:35:00.913Z"
   },
   {
    "duration": 4,
    "start_time": "2025-08-15T16:35:01.110Z"
   },
   {
    "duration": 13,
    "start_time": "2025-08-15T16:35:01.878Z"
   },
   {
    "duration": 6,
    "start_time": "2025-08-15T16:35:02.044Z"
   },
   {
    "duration": 7,
    "start_time": "2025-08-15T16:35:02.264Z"
   },
   {
    "duration": 10,
    "start_time": "2025-08-15T16:35:02.498Z"
   },
   {
    "duration": 5,
    "start_time": "2025-08-15T16:35:02.926Z"
   },
   {
    "duration": 5,
    "start_time": "2025-08-15T16:35:03.114Z"
   },
   {
    "duration": 10,
    "start_time": "2025-08-15T16:35:03.789Z"
   },
   {
    "duration": 11,
    "start_time": "2025-08-15T16:35:03.974Z"
   },
   {
    "duration": 9,
    "start_time": "2025-08-15T16:35:05.714Z"
   },
   {
    "duration": 4,
    "start_time": "2025-08-15T16:35:05.866Z"
   },
   {
    "duration": 5,
    "start_time": "2025-08-15T16:35:06.097Z"
   },
   {
    "duration": 11,
    "start_time": "2025-08-15T16:35:07.461Z"
   },
   {
    "duration": 11,
    "start_time": "2025-08-15T16:35:07.888Z"
   },
   {
    "duration": 8,
    "start_time": "2025-08-15T16:35:08.538Z"
   },
   {
    "duration": 16,
    "start_time": "2025-08-15T16:35:10.203Z"
   },
   {
    "duration": 17,
    "start_time": "2025-08-15T16:35:10.384Z"
   },
   {
    "duration": 16,
    "start_time": "2025-08-15T16:35:10.609Z"
   },
   {
    "duration": 18,
    "start_time": "2025-08-15T16:35:11.597Z"
   },
   {
    "duration": 16,
    "start_time": "2025-08-15T16:35:15.252Z"
   },
   {
    "duration": 4,
    "start_time": "2025-08-15T16:36:33.493Z"
   },
   {
    "duration": 4,
    "start_time": "2025-08-15T16:36:52.105Z"
   },
   {
    "duration": 447,
    "start_time": "2025-08-15T20:29:44.726Z"
   },
   {
    "duration": 52,
    "start_time": "2025-08-15T20:29:45.176Z"
   },
   {
    "duration": 19,
    "start_time": "2025-08-15T20:29:45.230Z"
   },
   {
    "duration": 35,
    "start_time": "2025-08-15T20:29:45.251Z"
   },
   {
    "duration": 67,
    "start_time": "2025-08-15T20:29:45.288Z"
   },
   {
    "duration": 47,
    "start_time": "2025-08-15T20:29:45.356Z"
   },
   {
    "duration": 35,
    "start_time": "2025-08-15T20:29:45.405Z"
   },
   {
    "duration": 94,
    "start_time": "2025-08-15T20:29:45.441Z"
   },
   {
    "duration": 0,
    "start_time": "2025-08-15T20:29:45.538Z"
   },
   {
    "duration": 0,
    "start_time": "2025-08-15T20:29:45.539Z"
   },
   {
    "duration": 0,
    "start_time": "2025-08-15T20:29:45.540Z"
   },
   {
    "duration": 0,
    "start_time": "2025-08-15T20:29:45.541Z"
   },
   {
    "duration": 0,
    "start_time": "2025-08-15T20:29:45.543Z"
   },
   {
    "duration": 0,
    "start_time": "2025-08-15T20:29:45.543Z"
   },
   {
    "duration": 0,
    "start_time": "2025-08-15T20:29:45.545Z"
   },
   {
    "duration": 0,
    "start_time": "2025-08-15T20:29:45.546Z"
   },
   {
    "duration": 1,
    "start_time": "2025-08-15T20:29:45.546Z"
   },
   {
    "duration": 0,
    "start_time": "2025-08-15T20:29:45.549Z"
   },
   {
    "duration": 0,
    "start_time": "2025-08-15T20:29:45.550Z"
   },
   {
    "duration": 0,
    "start_time": "2025-08-15T20:29:45.551Z"
   },
   {
    "duration": 0,
    "start_time": "2025-08-15T20:29:45.553Z"
   },
   {
    "duration": 0,
    "start_time": "2025-08-15T20:29:45.554Z"
   },
   {
    "duration": 0,
    "start_time": "2025-08-15T20:29:45.555Z"
   },
   {
    "duration": 0,
    "start_time": "2025-08-15T20:29:45.556Z"
   },
   {
    "duration": 0,
    "start_time": "2025-08-15T20:29:45.559Z"
   },
   {
    "duration": 0,
    "start_time": "2025-08-15T20:29:45.560Z"
   },
   {
    "duration": 0,
    "start_time": "2025-08-15T20:29:45.561Z"
   },
   {
    "duration": 0,
    "start_time": "2025-08-15T20:29:45.562Z"
   },
   {
    "duration": 0,
    "start_time": "2025-08-15T20:29:45.563Z"
   },
   {
    "duration": 0,
    "start_time": "2025-08-15T20:29:45.564Z"
   },
   {
    "duration": 0,
    "start_time": "2025-08-15T20:29:45.565Z"
   },
   {
    "duration": 0,
    "start_time": "2025-08-15T20:29:45.566Z"
   },
   {
    "duration": 0,
    "start_time": "2025-08-15T20:29:45.567Z"
   },
   {
    "duration": 443,
    "start_time": "2025-08-16T07:37:07.084Z"
   },
   {
    "duration": 60,
    "start_time": "2025-08-16T07:37:07.529Z"
   },
   {
    "duration": 20,
    "start_time": "2025-08-16T07:37:07.806Z"
   },
   {
    "duration": 19,
    "start_time": "2025-08-16T07:37:07.991Z"
   },
   {
    "duration": 16,
    "start_time": "2025-08-16T07:37:08.174Z"
   },
   {
    "duration": 5,
    "start_time": "2025-08-16T07:37:09.076Z"
   },
   {
    "duration": 4,
    "start_time": "2025-08-16T07:37:09.277Z"
   },
   {
    "duration": 76,
    "start_time": "2025-08-16T07:37:10.794Z"
   },
   {
    "duration": 7,
    "start_time": "2025-08-16T07:37:11.446Z"
   },
   {
    "duration": 7,
    "start_time": "2025-08-16T07:37:11.647Z"
   },
   {
    "duration": 11,
    "start_time": "2025-08-16T07:37:11.841Z"
   },
   {
    "duration": 5,
    "start_time": "2025-08-16T07:37:12.256Z"
   },
   {
    "duration": 6,
    "start_time": "2025-08-16T07:37:12.455Z"
   },
   {
    "duration": 12,
    "start_time": "2025-08-16T07:37:13.009Z"
   },
   {
    "duration": 12,
    "start_time": "2025-08-16T07:37:13.195Z"
   },
   {
    "duration": 12,
    "start_time": "2025-08-16T07:37:14.141Z"
   },
   {
    "duration": 5,
    "start_time": "2025-08-16T07:37:14.335Z"
   },
   {
    "duration": 5,
    "start_time": "2025-08-16T07:37:14.539Z"
   },
   {
    "duration": 6,
    "start_time": "2025-08-16T07:37:21.421Z"
   },
   {
    "duration": 10,
    "start_time": "2025-08-16T07:46:33.820Z"
   },
   {
    "duration": 4,
    "start_time": "2025-08-16T07:46:34.660Z"
   },
   {
    "duration": 398,
    "start_time": "2025-08-16T13:28:21.880Z"
   },
   {
    "duration": 57,
    "start_time": "2025-08-16T13:28:22.280Z"
   },
   {
    "duration": 18,
    "start_time": "2025-08-16T13:28:22.625Z"
   },
   {
    "duration": 16,
    "start_time": "2025-08-16T13:28:22.794Z"
   },
   {
    "duration": 13,
    "start_time": "2025-08-16T13:28:22.960Z"
   },
   {
    "duration": 4,
    "start_time": "2025-08-16T13:28:23.906Z"
   },
   {
    "duration": 4,
    "start_time": "2025-08-16T13:28:24.116Z"
   },
   {
    "duration": 11,
    "start_time": "2025-08-16T13:28:24.984Z"
   },
   {
    "duration": 4,
    "start_time": "2025-08-16T13:28:25.238Z"
   }
  ],
  "colab": {
   "provenance": []
  },
  "kernelspec": {
   "display_name": "Python 3 (ipykernel)",
   "language": "python",
   "name": "python3"
  },
  "language_info": {
   "codemirror_mode": {
    "name": "ipython",
    "version": 3
   },
   "file_extension": ".py",
   "mimetype": "text/x-python",
   "name": "python",
   "nbconvert_exporter": "python",
   "pygments_lexer": "ipython3",
   "version": "3.9.5"
  },
  "toc": {
   "base_numbering": 1,
   "nav_menu": {},
   "number_sections": true,
   "sideBar": true,
   "skip_h1_title": true,
   "title_cell": "Table of Contents",
   "title_sidebar": "Contents",
   "toc_cell": false,
   "toc_position": {},
   "toc_section_display": true,
   "toc_window_display": false
  }
 },
 "nbformat": 4,
 "nbformat_minor": 5
}
